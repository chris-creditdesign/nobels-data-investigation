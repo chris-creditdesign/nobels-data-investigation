{
 "cells": [
  {
   "cell_type": "code",
   "execution_count": 1,
   "metadata": {},
   "outputs": [],
   "source": [
    "import json\n",
    "import pandas as pd\n",
    "import matplotlib.pyplot as plt"
   ]
  },
  {
   "cell_type": "code",
   "execution_count": 2,
   "metadata": {},
   "outputs": [],
   "source": [
    "file_path = \"data/laureates-1000.json\"\n",
    "\n",
    "with open(file_path, 'r') as file:\n",
    "    data = json.load(file)\n",
    "\n",
    "laureates = data['laureates']"
   ]
  },
  {
   "cell_type": "code",
   "execution_count": 3,
   "metadata": {},
   "outputs": [
    {
     "data": {
      "text/plain": [
       "{'id': '102',\n",
       " 'knownName': {'en': 'Aage N. Bohr', 'se': 'Aage N. Bohr'},\n",
       " 'givenName': {'en': 'Aage N.', 'se': 'Aage N.'},\n",
       " 'familyName': {'en': 'Bohr', 'se': 'Bohr'},\n",
       " 'fullName': {'en': 'Aage Niels Bohr', 'se': 'Aage Niels Bohr'},\n",
       " 'fileName': 'bohr',\n",
       " 'gender': 'male',\n",
       " 'birth': {'date': '1922-06-19',\n",
       "  'place': {'city': {'en': 'Copenhagen', 'no': 'København', 'se': 'Köpenhamn'},\n",
       "   'country': {'en': 'Denmark', 'no': 'Danmark', 'se': 'Danmark'},\n",
       "   'cityNow': {'en': 'Copenhagen',\n",
       "    'no': 'København',\n",
       "    'se': 'Köpenhamn',\n",
       "    'sameAs': ['https://www.wikidata.org/wiki/Q1748',\n",
       "     'https://www.wikipedia.org/wiki/Copenhagen'],\n",
       "    'latitude': '55.678127',\n",
       "    'longitude': '12.572532'},\n",
       "   'countryNow': {'en': 'Denmark',\n",
       "    'no': 'Danmark',\n",
       "    'se': 'Danmark',\n",
       "    'sameAs': ['https://www.wikidata.org/wiki/Q35'],\n",
       "    'latitude': '56.000000',\n",
       "    'longitude': '10.000000'},\n",
       "   'continent': {'en': 'Europe', 'no': 'Europa', 'se': 'Europa'},\n",
       "   'locationString': {'en': 'Copenhagen, Denmark',\n",
       "    'no': 'København, Danmark',\n",
       "    'se': 'Köpenhamn, Danmark'}}},\n",
       " 'death': {'date': '2009-09-08',\n",
       "  'place': {'city': {'en': 'Copenhagen', 'no': 'København', 'se': 'Köpenhamn'},\n",
       "   'country': {'en': 'Denmark',\n",
       "    'no': 'Danmark',\n",
       "    'se': 'Danmark',\n",
       "    'sameAs': 'https://www.wikidata.org/wiki/Q35'},\n",
       "   'cityNow': {'en': 'Copenhagen',\n",
       "    'no': 'København',\n",
       "    'se': 'Köpenhamn',\n",
       "    'sameAs': ['https://www.wikidata.org/wiki/Q1748',\n",
       "     'https://www.wikipedia.org/wiki/Copenhagen'],\n",
       "    'latitude': '55.678127',\n",
       "    'longitude': '12.572532'},\n",
       "   'countryNow': {'en': 'Denmark',\n",
       "    'no': 'Danmark',\n",
       "    'se': 'Danmark',\n",
       "    'sameAs': ['https://www.wikidata.org/wiki/Q35'],\n",
       "    'latitude': '56.000000',\n",
       "    'longitude': '10.000000'},\n",
       "   'continent': {'en': 'Europe', 'no': 'Europa', 'se': 'Europa'},\n",
       "   'locationString': {'en': 'Copenhagen, Denmark',\n",
       "    'no': 'København, Danmark',\n",
       "    'se': 'Köpenhamn, Danmark'}}},\n",
       " 'wikipedia': {'slug': 'Aage_Bohr',\n",
       "  'english': 'https://en.wikipedia.org/wiki/Aage_Bohr'},\n",
       " 'wikidata': {'id': 'Q103854', 'url': 'https://www.wikidata.org/wiki/Q103854'},\n",
       " 'sameAs': ['https://www.wikidata.org/wiki/Q103854',\n",
       "  'https://en.wikipedia.org/wiki/Aage_Bohr'],\n",
       " 'links': [{'rel': 'laureate',\n",
       "   'href': 'https://api.nobelprize.org/2/laureate/102',\n",
       "   'action': 'GET',\n",
       "   'types': 'application/json'},\n",
       "  {'rel': 'external',\n",
       "   'href': 'https://www.nobelprize.org/laureate/102',\n",
       "   'title': 'Aage N. Bohr - Facts',\n",
       "   'action': 'GET',\n",
       "   'types': 'text/html',\n",
       "   'class': ['laureate facts']}],\n",
       " 'nobelPrizes': [{'awardYear': '1975',\n",
       "   'category': {'en': 'Physics', 'no': 'Fysikk', 'se': 'Fysik'},\n",
       "   'categoryFullName': {'en': 'The Nobel Prize in Physics',\n",
       "    'no': 'Nobelprisen i fysikk',\n",
       "    'se': 'Nobelpriset i fysik'},\n",
       "   'sortOrder': '1',\n",
       "   'portion': '1/3',\n",
       "   'dateAwarded': '1975-10-17',\n",
       "   'prizeStatus': 'received',\n",
       "   'motivation': {'en': 'for the discovery of the connection between collective motion and particle motion in atomic nuclei and the development of the theory of the structure of the atomic nucleus based on this connection',\n",
       "    'se': 'för upptäckten av sambandet mellan kollektiva rörelser och partikelrörelser i atomkärnor, samt den därpå baserade utvecklingen av teorien för atomkärnans struktur'},\n",
       "   'prizeAmount': 630000,\n",
       "   'prizeAmountAdjusted': 3856254,\n",
       "   'affiliations': [{'name': {'en': 'Niels Bohr Institute',\n",
       "      'no': 'Niels Bohr Institute',\n",
       "      'se': 'Niels Bohr Institute'},\n",
       "     'nameNow': {'en': 'Niels Bohr Institute'},\n",
       "     'city': {'en': 'Copenhagen', 'no': 'København', 'se': 'Köpenhamn'},\n",
       "     'country': {'en': 'Denmark', 'no': 'Danmark', 'se': 'Danmark'},\n",
       "     'cityNow': {'en': 'Copenhagen',\n",
       "      'no': 'København',\n",
       "      'se': 'Köpenhamn',\n",
       "      'sameAs': ['https://www.wikidata.org/wiki/Q1748',\n",
       "       'https://www.wikipedia.org/wiki/Copenhagen'],\n",
       "      'latitude': '55.678127',\n",
       "      'longitude': '12.572532'},\n",
       "     'countryNow': {'en': 'Denmark',\n",
       "      'no': 'Danmark',\n",
       "      'se': 'Danmark',\n",
       "      'sameAs': ['https://www.wikidata.org/wiki/Q35'],\n",
       "      'latitude': '56.000000',\n",
       "      'longitude': '10.000000'},\n",
       "     'continent': {'en': 'Europe'},\n",
       "     'locationString': {'en': 'Copenhagen, Denmark',\n",
       "      'no': 'København, Danmark',\n",
       "      'se': 'Köpenhamn, Danmark'}}],\n",
       "   'links': [{'rel': 'nobelPrize',\n",
       "     'href': 'https://api.nobelprize.org/2/nobelPrize/phy/1975',\n",
       "     'action': 'GET',\n",
       "     'types': 'application/json'},\n",
       "    {'rel': 'external',\n",
       "     'href': 'https://www.nobelprize.org/prizes/physics/1975/bohr/facts/',\n",
       "     'title': 'Aage N. Bohr - Facts',\n",
       "     'action': 'GET',\n",
       "     'types': 'text/html',\n",
       "     'class': ['laureate facts']},\n",
       "    {'rel': 'external',\n",
       "     'href': 'https://www.nobelprize.org/prizes/physics/1975/summary/',\n",
       "     'title': 'The Nobel Prize in Physics 1975',\n",
       "     'action': 'GET',\n",
       "     'types': 'text/html',\n",
       "     'class': ['prize summary']}]}]}"
      ]
     },
     "execution_count": 3,
     "metadata": {},
     "output_type": "execute_result"
    }
   ],
   "source": [
    "laureates[1:2][0]"
   ]
  },
  {
   "cell_type": "code",
   "execution_count": 4,
   "metadata": {},
   "outputs": [],
   "source": [
    "age_data = []\n",
    "\n",
    "for laureate in laureates:\n",
    "    birth_date = laureate.get('birth', {}).get('date')\n",
    "    if not birth_date or birth_date.startswith('0000'):  # Skip entries with missing or invalid birth dates\n",
    "        continue\n",
    "    \n",
    "    for prize in laureate.get('nobelPrizes', []):\n",
    "        award_year = prize.get('awardYear')\n",
    "        if award_year and birth_date:\n",
    "            birth_year = birth_date.split('-')[0]\n",
    "            if birth_year != \"0000\" and award_year.isdigit() and birth_year.isdigit():\n",
    "                age_at_award = int(award_year) - int(birth_year)\n",
    "                age_data.append({\n",
    "                    'name': laureate.get('knownName', {}).get('en', 'Unknown'),\n",
    "                    'birth_date': birth_date,\n",
    "                    'award_year': award_year,\n",
    "                    'age_at_award': age_at_award\n",
    "                })"
   ]
  },
  {
   "cell_type": "code",
   "execution_count": 6,
   "metadata": {},
   "outputs": [],
   "source": [
    "# Convert the age data into a DataFrame\n",
    "df_age_data = pd.DataFrame(age_data)"
   ]
  },
  {
   "cell_type": "code",
   "execution_count": 28,
   "metadata": {},
   "outputs": [
    {
     "data": {
      "text/html": [
       "<div>\n",
       "<style scoped>\n",
       "    .dataframe tbody tr th:only-of-type {\n",
       "        vertical-align: middle;\n",
       "    }\n",
       "\n",
       "    .dataframe tbody tr th {\n",
       "        vertical-align: top;\n",
       "    }\n",
       "\n",
       "    .dataframe thead th {\n",
       "        text-align: right;\n",
       "    }\n",
       "</style>\n",
       "<table border=\"1\" class=\"dataframe\">\n",
       "  <thead>\n",
       "    <tr style=\"text-align: right;\">\n",
       "      <th></th>\n",
       "      <th>name</th>\n",
       "      <th>birth_date</th>\n",
       "      <th>award_year</th>\n",
       "      <th>age_at_award</th>\n",
       "    </tr>\n",
       "  </thead>\n",
       "  <tbody>\n",
       "    <tr>\n",
       "      <th>0</th>\n",
       "      <td>A. Michael Spence</td>\n",
       "      <td>1943-00-00</td>\n",
       "      <td>2001</td>\n",
       "      <td>58</td>\n",
       "    </tr>\n",
       "    <tr>\n",
       "      <th>1</th>\n",
       "      <td>Aage N. Bohr</td>\n",
       "      <td>1922-06-19</td>\n",
       "      <td>1975</td>\n",
       "      <td>53</td>\n",
       "    </tr>\n",
       "    <tr>\n",
       "      <th>2</th>\n",
       "      <td>Aaron Ciechanover</td>\n",
       "      <td>1947-10-01</td>\n",
       "      <td>2004</td>\n",
       "      <td>57</td>\n",
       "    </tr>\n",
       "    <tr>\n",
       "      <th>3</th>\n",
       "      <td>Aaron Klug</td>\n",
       "      <td>1926-08-11</td>\n",
       "      <td>1982</td>\n",
       "      <td>56</td>\n",
       "    </tr>\n",
       "    <tr>\n",
       "      <th>4</th>\n",
       "      <td>Abdulrazak Gurnah</td>\n",
       "      <td>1948-00-00</td>\n",
       "      <td>2021</td>\n",
       "      <td>73</td>\n",
       "    </tr>\n",
       "  </tbody>\n",
       "</table>\n",
       "</div>"
      ],
      "text/plain": [
       "                name  birth_date award_year  age_at_award\n",
       "0  A. Michael Spence  1943-00-00       2001            58\n",
       "1       Aage N. Bohr  1922-06-19       1975            53\n",
       "2  Aaron Ciechanover  1947-10-01       2004            57\n",
       "3         Aaron Klug  1926-08-11       1982            56\n",
       "4  Abdulrazak Gurnah  1948-00-00       2021            73"
      ]
     },
     "execution_count": 28,
     "metadata": {},
     "output_type": "execute_result"
    }
   ],
   "source": [
    "df_age_data.head()"
   ]
  },
  {
   "cell_type": "code",
   "execution_count": 8,
   "metadata": {},
   "outputs": [],
   "source": [
    "age_count = df_age_data['age_at_award'].value_counts().sort_index()"
   ]
  },
  {
   "cell_type": "code",
   "execution_count": 11,
   "metadata": {},
   "outputs": [
    {
     "data": {
      "text/plain": [
       "age_at_award\n",
       "17    1\n",
       "25    2\n",
       "31    4\n",
       "32    4\n",
       "33    4\n",
       "Name: count, dtype: int64"
      ]
     },
     "execution_count": 11,
     "metadata": {},
     "output_type": "execute_result"
    }
   ],
   "source": [
    "age_count.head()"
   ]
  },
  {
   "cell_type": "code",
   "execution_count": 12,
   "metadata": {},
   "outputs": [
    {
     "data": {
      "text/plain": [
       "age_at_award\n",
       "88    2\n",
       "89    2\n",
       "90    3\n",
       "96    1\n",
       "97    1\n",
       "Name: count, dtype: int64"
      ]
     },
     "execution_count": 12,
     "metadata": {},
     "output_type": "execute_result"
    }
   ],
   "source": [
    "age_count.tail()"
   ]
  },
  {
   "cell_type": "code",
   "execution_count": 13,
   "metadata": {},
   "outputs": [],
   "source": [
    "age_count.to_csv('data/age_count.csv')"
   ]
  },
  {
   "cell_type": "code",
   "execution_count": 27,
   "metadata": {},
   "outputs": [
    {
     "data": {
      "image/png": "[encoded data removed]",
      "text/plain": [
       "<Figure size 1000x600 with 1 Axes>"
      ]
     },
     "metadata": {},
     "output_type": "display_data"
    }
   ],
   "source": [
    "plt.figure(figsize=(10, 6))\n",
    "plt.bar(age_count.index, age_count.values)\n",
    "plt.xlabel('Age at Award')\n",
    "plt.ylabel('Count')\n",
    "plt.title('Age at which Nobel Prizes were awarded')\n",
    "plt.xlim(10, 100)\n",
    "plt.show()"
   ]
  },
  {
   "cell_type": "code",
   "execution_count": 23,
   "metadata": {},
   "outputs": [
    {
     "data": {
      "text/plain": [
       "count    970.000000\n",
       "mean      60.256701\n",
       "std       12.634624\n",
       "min       17.000000\n",
       "25%       51.000000\n",
       "50%       60.500000\n",
       "75%       69.000000\n",
       "max       97.000000\n",
       "Name: age_at_award, dtype: float64"
      ]
     },
     "execution_count": 23,
     "metadata": {},
     "output_type": "execute_result"
    }
   ],
   "source": [
    "df_age_data['age_at_award'].describe()"
   ]
  },
  {
   "cell_type": "code",
   "execution_count": 25,
   "metadata": {},
   "outputs": [
    {
     "data": {
      "text/plain": [
       "0    56\n",
       "Name: age_at_award, dtype: int64"
      ]
     },
     "execution_count": 25,
     "metadata": {},
     "output_type": "execute_result"
    }
   ],
   "source": [
    "df_age_data['age_at_award'].mode()"
   ]
  },
  {
   "cell_type": "code",
   "execution_count": 26,
   "metadata": {},
   "outputs": [
    {
     "data": {
      "text/plain": [
       "33"
      ]
     },
     "execution_count": 26,
     "metadata": {},
     "output_type": "execute_result"
    }
   ],
   "source": [
    "# The average age is 60, how many people were awarded at that age?\n",
    "age_count.loc[60]"
   ]
  },
  {
   "cell_type": "code",
   "execution_count": 32,
   "metadata": {},
   "outputs": [
    {
     "data": {
      "text/html": [
       "<div>\n",
       "<style scoped>\n",
       "    .dataframe tbody tr th:only-of-type {\n",
       "        vertical-align: middle;\n",
       "    }\n",
       "\n",
       "    .dataframe tbody tr th {\n",
       "        vertical-align: top;\n",
       "    }\n",
       "\n",
       "    .dataframe thead th {\n",
       "        text-align: right;\n",
       "    }\n",
       "</style>\n",
       "<table border=\"1\" class=\"dataframe\">\n",
       "  <thead>\n",
       "    <tr style=\"text-align: right;\">\n",
       "      <th></th>\n",
       "      <th>name</th>\n",
       "      <th>birth_date</th>\n",
       "      <th>award_year</th>\n",
       "      <th>age_at_award</th>\n",
       "    </tr>\n",
       "  </thead>\n",
       "  <tbody>\n",
       "    <tr>\n",
       "      <th>469</th>\n",
       "      <td>John B. Goodenough</td>\n",
       "      <td>1922-07-25</td>\n",
       "      <td>2019</td>\n",
       "      <td>97</td>\n",
       "    </tr>\n",
       "    <tr>\n",
       "      <th>75</th>\n",
       "      <td>Arthur Ashkin</td>\n",
       "      <td>1922-09-02</td>\n",
       "      <td>2018</td>\n",
       "      <td>96</td>\n",
       "    </tr>\n",
       "    <tr>\n",
       "      <th>535</th>\n",
       "      <td>Klaus Hasselmann</td>\n",
       "      <td>1931-10-25</td>\n",
       "      <td>2021</td>\n",
       "      <td>90</td>\n",
       "    </tr>\n",
       "    <tr>\n",
       "      <th>871</th>\n",
       "      <td>Syukuro Manabe</td>\n",
       "      <td>1931-09-21</td>\n",
       "      <td>2021</td>\n",
       "      <td>90</td>\n",
       "    </tr>\n",
       "    <tr>\n",
       "      <th>557</th>\n",
       "      <td>Leonid Hurwicz</td>\n",
       "      <td>1917-08-21</td>\n",
       "      <td>2007</td>\n",
       "      <td>90</td>\n",
       "    </tr>\n",
       "  </tbody>\n",
       "</table>\n",
       "</div>"
      ],
      "text/plain": [
       "                   name  birth_date award_year  age_at_award\n",
       "469  John B. Goodenough  1922-07-25       2019            97\n",
       "75        Arthur Ashkin  1922-09-02       2018            96\n",
       "535    Klaus Hasselmann  1931-10-25       2021            90\n",
       "871      Syukuro Manabe  1931-09-21       2021            90\n",
       "557      Leonid Hurwicz  1917-08-21       2007            90"
      ]
     },
     "execution_count": 32,
     "metadata": {},
     "output_type": "execute_result"
    }
   ],
   "source": [
    "df_age_data.sort_values('age_at_award', ascending=False).head()"
   ]
  },
  {
   "cell_type": "code",
   "execution_count": 33,
   "metadata": {},
   "outputs": [
    {
     "data": {
      "text/html": [
       "<div>\n",
       "<style scoped>\n",
       "    .dataframe tbody tr th:only-of-type {\n",
       "        vertical-align: middle;\n",
       "    }\n",
       "\n",
       "    .dataframe tbody tr th {\n",
       "        vertical-align: top;\n",
       "    }\n",
       "\n",
       "    .dataframe thead th {\n",
       "        text-align: right;\n",
       "    }\n",
       "</style>\n",
       "<table border=\"1\" class=\"dataframe\">\n",
       "  <thead>\n",
       "    <tr style=\"text-align: right;\">\n",
       "      <th></th>\n",
       "      <th>name</th>\n",
       "      <th>birth_date</th>\n",
       "      <th>award_year</th>\n",
       "      <th>age_at_award</th>\n",
       "    </tr>\n",
       "  </thead>\n",
       "  <tbody>\n",
       "    <tr>\n",
       "      <th>122</th>\n",
       "      <td>Carl D. Anderson</td>\n",
       "      <td>1905-09-03</td>\n",
       "      <td>1936</td>\n",
       "      <td>31</td>\n",
       "    </tr>\n",
       "    <tr>\n",
       "      <th>902</th>\n",
       "      <td>Tsung-Dao Lee</td>\n",
       "      <td>1926-11-24</td>\n",
       "      <td>1957</td>\n",
       "      <td>31</td>\n",
       "    </tr>\n",
       "    <tr>\n",
       "      <th>639</th>\n",
       "      <td>Nadia Murad</td>\n",
       "      <td>1993-00-00</td>\n",
       "      <td>2018</td>\n",
       "      <td>25</td>\n",
       "    </tr>\n",
       "    <tr>\n",
       "      <th>547</th>\n",
       "      <td>Lawrence Bragg</td>\n",
       "      <td>1890-03-31</td>\n",
       "      <td>1915</td>\n",
       "      <td>25</td>\n",
       "    </tr>\n",
       "    <tr>\n",
       "      <th>585</th>\n",
       "      <td>Malala Yousafzai</td>\n",
       "      <td>1997-07-12</td>\n",
       "      <td>2014</td>\n",
       "      <td>17</td>\n",
       "    </tr>\n",
       "  </tbody>\n",
       "</table>\n",
       "</div>"
      ],
      "text/plain": [
       "                 name  birth_date award_year  age_at_award\n",
       "122  Carl D. Anderson  1905-09-03       1936            31\n",
       "902     Tsung-Dao Lee  1926-11-24       1957            31\n",
       "639       Nadia Murad  1993-00-00       2018            25\n",
       "547    Lawrence Bragg  1890-03-31       1915            25\n",
       "585  Malala Yousafzai  1997-07-12       2014            17"
      ]
     },
     "execution_count": 33,
     "metadata": {},
     "output_type": "execute_result"
    }
   ],
   "source": [
    "df_age_data.sort_values('age_at_award', ascending=False).tail()"
   ]
  },
  {
   "cell_type": "code",
   "execution_count": null,
   "metadata": {},
   "outputs": [],
   "source": []
  }
 ],
 "metadata": {
  "kernelspec": {
   "display_name": "nobels-environment",
   "language": "python",
   "name": "python3"
  },
  "language_info": {
   "codemirror_mode": {
    "name": "ipython",
    "version": 3
   },
   "file_extension": ".py",
   "mimetype": "text/x-python",
   "name": "python",
   "nbconvert_exporter": "python",
   "pygments_lexer": "ipython3",
   "version": "3.12.3"
  }
 },
 "nbformat": 4,
 "nbformat_minor": 2
}
