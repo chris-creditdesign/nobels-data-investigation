{
 "cells": [
  {
   "cell_type": "code",
   "execution_count": 4,
   "metadata": {},
   "outputs": [],
   "source": [
    "import json\n",
    "import pandas as pd\n",
    "import matplotlib.pyplot as plt"
   ]
  },
  {
   "cell_type": "code",
   "execution_count": 5,
   "metadata": {},
   "outputs": [],
   "source": [
    "file_path = \"data/laureates-1000.json\"\n",
    "\n",
    "with open(file_path, 'r') as file:\n",
    "    data = json.load(file)\n",
    "\n",
    "laureates = data['laureates']"
   ]
  },
  {
   "cell_type": "code",
   "execution_count": 10,
   "metadata": {},
   "outputs": [],
   "source": [
    "age_data = []\n",
    "\n",
    "for laureate in laureates:\n",
    "    birth_date = laureate.get('birth', {}).get('date')\n",
    "    if not birth_date or birth_date.startswith('0000'):  # Skip entries with missing or invalid birth dates\n",
    "        continue\n",
    "    \n",
    "    for prize in laureate.get('nobelPrizes', []):\n",
    "        award_year = prize.get('awardYear')\n",
    "        category = prize.get('category', {}).get('en')\n",
    "        if category in ['Literature', 'Peace']:  # Exclude 'Literature' and 'Peace'\n",
    "            continue\n",
    "        if award_year and birth_date:\n",
    "            birth_year = birth_date.split('-')[0]\n",
    "            if birth_year != \"0000\" and award_year.isdigit() and birth_year.isdigit():\n",
    "                age_at_award = int(award_year) - int(birth_year)\n",
    "                age_data.append({\n",
    "                    'name': laureate.get('knownName', {}).get('en', 'Unknown'),\n",
    "                    'birth_date': birth_date,\n",
    "                    'award_year': award_year,\n",
    "                    'age_at_award': age_at_award\n",
    "                })"
   ]
  },
  {
   "cell_type": "code",
   "execution_count": 12,
   "metadata": {},
   "outputs": [],
   "source": [
    "# Convert the age data into a DataFrame\n",
    "df_age_data = pd.DataFrame(age_data)"
   ]
  },
  {
   "cell_type": "code",
   "execution_count": 13,
   "metadata": {},
   "outputs": [
    {
     "data": {
      "text/html": [
       "<div>\n",
       "<style scoped>\n",
       "    .dataframe tbody tr th:only-of-type {\n",
       "        vertical-align: middle;\n",
       "    }\n",
       "\n",
       "    .dataframe tbody tr th {\n",
       "        vertical-align: top;\n",
       "    }\n",
       "\n",
       "    .dataframe thead th {\n",
       "        text-align: right;\n",
       "    }\n",
       "</style>\n",
       "<table border=\"1\" class=\"dataframe\">\n",
       "  <thead>\n",
       "    <tr style=\"text-align: right;\">\n",
       "      <th></th>\n",
       "      <th>name</th>\n",
       "      <th>birth_date</th>\n",
       "      <th>award_year</th>\n",
       "      <th>age_at_award</th>\n",
       "    </tr>\n",
       "  </thead>\n",
       "  <tbody>\n",
       "    <tr>\n",
       "      <th>0</th>\n",
       "      <td>A. Michael Spence</td>\n",
       "      <td>1943-00-00</td>\n",
       "      <td>2001</td>\n",
       "      <td>58</td>\n",
       "    </tr>\n",
       "    <tr>\n",
       "      <th>1</th>\n",
       "      <td>Aage N. Bohr</td>\n",
       "      <td>1922-06-19</td>\n",
       "      <td>1975</td>\n",
       "      <td>53</td>\n",
       "    </tr>\n",
       "    <tr>\n",
       "      <th>2</th>\n",
       "      <td>Aaron Ciechanover</td>\n",
       "      <td>1947-10-01</td>\n",
       "      <td>2004</td>\n",
       "      <td>57</td>\n",
       "    </tr>\n",
       "    <tr>\n",
       "      <th>3</th>\n",
       "      <td>Aaron Klug</td>\n",
       "      <td>1926-08-11</td>\n",
       "      <td>1982</td>\n",
       "      <td>56</td>\n",
       "    </tr>\n",
       "    <tr>\n",
       "      <th>4</th>\n",
       "      <td>Abdus Salam</td>\n",
       "      <td>1926-01-29</td>\n",
       "      <td>1979</td>\n",
       "      <td>53</td>\n",
       "    </tr>\n",
       "  </tbody>\n",
       "</table>\n",
       "</div>"
      ],
      "text/plain": [
       "                name  birth_date award_year  age_at_award\n",
       "0  A. Michael Spence  1943-00-00       2001            58\n",
       "1       Aage N. Bohr  1922-06-19       1975            53\n",
       "2  Aaron Ciechanover  1947-10-01       2004            57\n",
       "3         Aaron Klug  1926-08-11       1982            56\n",
       "4        Abdus Salam  1926-01-29       1979            53"
      ]
     },
     "execution_count": 13,
     "metadata": {},
     "output_type": "execute_result"
    }
   ],
   "source": [
    "df_age_data.head()"
   ]
  },
  {
   "cell_type": "code",
   "execution_count": 14,
   "metadata": {},
   "outputs": [],
   "source": [
    "age_count = df_age_data['age_at_award'].value_counts().sort_index()"
   ]
  },
  {
   "cell_type": "code",
   "execution_count": 15,
   "metadata": {},
   "outputs": [
    {
     "data": {
      "text/plain": [
       "age_at_award\n",
       "25    1\n",
       "31    4\n",
       "32    2\n",
       "33    2\n",
       "34    2\n",
       "Name: count, dtype: int64"
      ]
     },
     "execution_count": 15,
     "metadata": {},
     "output_type": "execute_result"
    }
   ],
   "source": [
    "age_count.head()"
   ]
  },
  {
   "cell_type": "code",
   "execution_count": 16,
   "metadata": {},
   "outputs": [
    {
     "data": {
      "text/plain": [
       "age_at_award\n",
       "88    1\n",
       "89    2\n",
       "90    3\n",
       "96    1\n",
       "97    1\n",
       "Name: count, dtype: int64"
      ]
     },
     "execution_count": 16,
     "metadata": {},
     "output_type": "execute_result"
    }
   ],
   "source": [
    "age_count.tail()"
   ]
  },
  {
   "cell_type": "code",
   "execution_count": 17,
   "metadata": {},
   "outputs": [],
   "source": [
    "age_count.to_csv('data/age_count.csv')"
   ]
  },
  {
   "cell_type": "code",
   "execution_count": 25,
   "metadata": {},
   "outputs": [
    {
     "data": {
      "image/png": "[encoded data removed]",
      "text/plain": [
       "<Figure size 1000x600 with 1 Axes>"
      ]
     },
     "metadata": {},
     "output_type": "display_data"
    }
   ],
   "source": [
    "plt.figure(figsize=(10, 6))\n",
    "plt.bar(age_count.index, age_count.values)\n",
    "plt.xlabel('Age at Award')\n",
    "plt.ylabel('Count')\n",
    "plt.title('Age at which Nobel Prizes were awarded')\n",
    "plt.xlim(20, 100)\n",
    "plt.show()"
   ]
  },
  {
   "cell_type": "code",
   "execution_count": 20,
   "metadata": {},
   "outputs": [
    {
     "data": {
      "text/plain": [
       "count    739.000000\n",
       "mean      59.410014\n",
       "std       12.743177\n",
       "min       25.000000\n",
       "25%       50.000000\n",
       "50%       59.000000\n",
       "75%       68.000000\n",
       "max       97.000000\n",
       "Name: age_at_award, dtype: float64"
      ]
     },
     "execution_count": 20,
     "metadata": {},
     "output_type": "execute_result"
    }
   ],
   "source": [
    "df_age_data['age_at_award'].describe()"
   ]
  },
  {
   "cell_type": "code",
   "execution_count": 21,
   "metadata": {},
   "outputs": [
    {
     "data": {
      "text/plain": [
       "0    61\n",
       "Name: age_at_award, dtype: int64"
      ]
     },
     "execution_count": 21,
     "metadata": {},
     "output_type": "execute_result"
    }
   ],
   "source": [
    "df_age_data['age_at_award'].mode()"
   ]
  },
  {
   "cell_type": "code",
   "execution_count": 22,
   "metadata": {},
   "outputs": [
    {
     "data": {
      "text/plain": [
       "20"
      ]
     },
     "execution_count": 22,
     "metadata": {},
     "output_type": "execute_result"
    }
   ],
   "source": [
    "# The average age is 60, how many people were awarded at that age?\n",
    "age_count.loc[60]"
   ]
  },
  {
   "cell_type": "code",
   "execution_count": 23,
   "metadata": {},
   "outputs": [
    {
     "data": {
      "text/html": [
       "<div>\n",
       "<style scoped>\n",
       "    .dataframe tbody tr th:only-of-type {\n",
       "        vertical-align: middle;\n",
       "    }\n",
       "\n",
       "    .dataframe tbody tr th {\n",
       "        vertical-align: top;\n",
       "    }\n",
       "\n",
       "    .dataframe thead th {\n",
       "        text-align: right;\n",
       "    }\n",
       "</style>\n",
       "<table border=\"1\" class=\"dataframe\">\n",
       "  <thead>\n",
       "    <tr style=\"text-align: right;\">\n",
       "      <th></th>\n",
       "      <th>name</th>\n",
       "      <th>birth_date</th>\n",
       "      <th>award_year</th>\n",
       "      <th>age_at_award</th>\n",
       "    </tr>\n",
       "  </thead>\n",
       "  <tbody>\n",
       "    <tr>\n",
       "      <th>360</th>\n",
       "      <td>John B. Goodenough</td>\n",
       "      <td>1922-07-25</td>\n",
       "      <td>2019</td>\n",
       "      <td>97</td>\n",
       "    </tr>\n",
       "    <tr>\n",
       "      <th>55</th>\n",
       "      <td>Arthur Ashkin</td>\n",
       "      <td>1922-09-02</td>\n",
       "      <td>2018</td>\n",
       "      <td>96</td>\n",
       "    </tr>\n",
       "    <tr>\n",
       "      <th>408</th>\n",
       "      <td>Klaus Hasselmann</td>\n",
       "      <td>1931-10-25</td>\n",
       "      <td>2021</td>\n",
       "      <td>90</td>\n",
       "    </tr>\n",
       "    <tr>\n",
       "      <th>424</th>\n",
       "      <td>Leonid Hurwicz</td>\n",
       "      <td>1917-08-21</td>\n",
       "      <td>2007</td>\n",
       "      <td>90</td>\n",
       "    </tr>\n",
       "    <tr>\n",
       "      <th>665</th>\n",
       "      <td>Syukuro Manabe</td>\n",
       "      <td>1931-09-21</td>\n",
       "      <td>2021</td>\n",
       "      <td>90</td>\n",
       "    </tr>\n",
       "  </tbody>\n",
       "</table>\n",
       "</div>"
      ],
      "text/plain": [
       "                   name  birth_date award_year  age_at_award\n",
       "360  John B. Goodenough  1922-07-25       2019            97\n",
       "55        Arthur Ashkin  1922-09-02       2018            96\n",
       "408    Klaus Hasselmann  1931-10-25       2021            90\n",
       "424      Leonid Hurwicz  1917-08-21       2007            90\n",
       "665      Syukuro Manabe  1931-09-21       2021            90"
      ]
     },
     "execution_count": 23,
     "metadata": {},
     "output_type": "execute_result"
    }
   ],
   "source": [
    "df_age_data.sort_values('age_at_award', ascending=False).head()"
   ]
  },
  {
   "cell_type": "code",
   "execution_count": 24,
   "metadata": {},
   "outputs": [
    {
     "data": {
      "text/html": [
       "<div>\n",
       "<style scoped>\n",
       "    .dataframe tbody tr th:only-of-type {\n",
       "        vertical-align: middle;\n",
       "    }\n",
       "\n",
       "    .dataframe tbody tr th {\n",
       "        vertical-align: top;\n",
       "    }\n",
       "\n",
       "    .dataframe thead th {\n",
       "        text-align: right;\n",
       "    }\n",
       "</style>\n",
       "<table border=\"1\" class=\"dataframe\">\n",
       "  <thead>\n",
       "    <tr style=\"text-align: right;\">\n",
       "      <th></th>\n",
       "      <th>name</th>\n",
       "      <th>birth_date</th>\n",
       "      <th>award_year</th>\n",
       "      <th>age_at_award</th>\n",
       "    </tr>\n",
       "  </thead>\n",
       "  <tbody>\n",
       "    <tr>\n",
       "      <th>708</th>\n",
       "      <td>Werner Heisenberg</td>\n",
       "      <td>1901-12-05</td>\n",
       "      <td>1932</td>\n",
       "      <td>31</td>\n",
       "    </tr>\n",
       "    <tr>\n",
       "      <th>687</th>\n",
       "      <td>Tsung-Dao Lee</td>\n",
       "      <td>1926-11-24</td>\n",
       "      <td>1957</td>\n",
       "      <td>31</td>\n",
       "    </tr>\n",
       "    <tr>\n",
       "      <th>91</th>\n",
       "      <td>Carl D. Anderson</td>\n",
       "      <td>1905-09-03</td>\n",
       "      <td>1936</td>\n",
       "      <td>31</td>\n",
       "    </tr>\n",
       "    <tr>\n",
       "      <th>507</th>\n",
       "      <td>Paul A.M. Dirac</td>\n",
       "      <td>1902-08-08</td>\n",
       "      <td>1933</td>\n",
       "      <td>31</td>\n",
       "    </tr>\n",
       "    <tr>\n",
       "      <th>418</th>\n",
       "      <td>Lawrence Bragg</td>\n",
       "      <td>1890-03-31</td>\n",
       "      <td>1915</td>\n",
       "      <td>25</td>\n",
       "    </tr>\n",
       "  </tbody>\n",
       "</table>\n",
       "</div>"
      ],
      "text/plain": [
       "                  name  birth_date award_year  age_at_award\n",
       "708  Werner Heisenberg  1901-12-05       1932            31\n",
       "687      Tsung-Dao Lee  1926-11-24       1957            31\n",
       "91    Carl D. Anderson  1905-09-03       1936            31\n",
       "507    Paul A.M. Dirac  1902-08-08       1933            31\n",
       "418     Lawrence Bragg  1890-03-31       1915            25"
      ]
     },
     "execution_count": 24,
     "metadata": {},
     "output_type": "execute_result"
    }
   ],
   "source": [
    "df_age_data.sort_values('age_at_award', ascending=False).tail()"
   ]
  },
  {
   "cell_type": "code",
   "execution_count": null,
   "metadata": {},
   "outputs": [],
   "source": []
  }
 ],
 "metadata": {
  "kernelspec": {
   "display_name": "nobels-environment",
   "language": "python",
   "name": "python3"
  },
  "language_info": {
   "codemirror_mode": {
    "name": "ipython",
    "version": 3
   },
   "file_extension": ".py",
   "mimetype": "text/x-python",
   "name": "python",
   "nbconvert_exporter": "python",
   "pygments_lexer": "ipython3",
   "version": "3.12.3"
  }
 },
 "nbformat": 4,
 "nbformat_minor": 2
}
