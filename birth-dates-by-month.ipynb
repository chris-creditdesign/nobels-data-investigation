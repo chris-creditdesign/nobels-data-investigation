{
 "cells": [
  {
   "cell_type": "code",
   "execution_count": 1,
   "metadata": {},
   "outputs": [],
   "source": [
    "import json\n",
    "import pandas as pd\n",
    "import matplotlib.pyplot as plt\n",
    "import numpy as np"
   ]
  },
  {
   "cell_type": "code",
   "execution_count": 2,
   "metadata": {},
   "outputs": [],
   "source": [
    "# Define the list of complete months\n",
    "months = [\"January\", \"February\", \"March\", \"April\", \"May\", \"June\", \"July\", \"August\", \"September\", \"October\", \"November\", \"December\"]"
   ]
  },
  {
   "cell_type": "code",
   "execution_count": 3,
   "metadata": {},
   "outputs": [],
   "source": [
    "file_path = \"data/laureates-1000.json\"\n",
    "\n",
    "with open(file_path, 'r') as file:\n",
    "    data = json.load(file)\n",
    "\n",
    "laureates = data['laureates']"
   ]
  },
  {
   "cell_type": "code",
   "execution_count": 8,
   "metadata": {},
   "outputs": [],
   "source": [
    "# Correcting extraction of names and birth dates\n",
    "birth_data = []\n",
    "\n",
    "for laureate in laureates:\n",
    "    for prize in laureate.get('nobelPrizes', []):\n",
    "        category = prize.get('category', {}).get('en')\n",
    "    if category in ['Literature', 'Peace']:  # Exclude 'Literature' and 'Peace'\n",
    "        continue\n",
    "    birth_date = laureate.get('birth', {}).get('date')\n",
    "    if birth_date:\n",
    "        birth_data.append({'birth_date': birth_date})\n",
    "\n",
    "# Convert to DataFrame\n",
    "birth_df = pd.DataFrame(birth_data)"
   ]
  },
  {
   "cell_type": "code",
   "execution_count": 9,
   "metadata": {},
   "outputs": [
    {
     "data": {
      "text/plain": [
       "734"
      ]
     },
     "execution_count": 9,
     "metadata": {},
     "output_type": "execute_result"
    }
   ],
   "source": [
    "len(birth_data)"
   ]
  },
  {
   "cell_type": "code",
   "execution_count": 10,
   "metadata": {},
   "outputs": [
    {
     "data": {
      "text/html": [
       "<div>\n",
       "<style scoped>\n",
       "    .dataframe tbody tr th:only-of-type {\n",
       "        vertical-align: middle;\n",
       "    }\n",
       "\n",
       "    .dataframe tbody tr th {\n",
       "        vertical-align: top;\n",
       "    }\n",
       "\n",
       "    .dataframe thead th {\n",
       "        text-align: right;\n",
       "    }\n",
       "</style>\n",
       "<table border=\"1\" class=\"dataframe\">\n",
       "  <thead>\n",
       "    <tr style=\"text-align: right;\">\n",
       "      <th></th>\n",
       "      <th>birth_date</th>\n",
       "    </tr>\n",
       "  </thead>\n",
       "  <tbody>\n",
       "    <tr>\n",
       "      <th>0</th>\n",
       "      <td>1943-00-00</td>\n",
       "    </tr>\n",
       "    <tr>\n",
       "      <th>1</th>\n",
       "      <td>1922-06-19</td>\n",
       "    </tr>\n",
       "    <tr>\n",
       "      <th>2</th>\n",
       "      <td>1947-10-01</td>\n",
       "    </tr>\n",
       "    <tr>\n",
       "      <th>3</th>\n",
       "      <td>1926-08-11</td>\n",
       "    </tr>\n",
       "    <tr>\n",
       "      <th>4</th>\n",
       "      <td>1926-01-29</td>\n",
       "    </tr>\n",
       "  </tbody>\n",
       "</table>\n",
       "</div>"
      ],
      "text/plain": [
       "   birth_date\n",
       "0  1943-00-00\n",
       "1  1922-06-19\n",
       "2  1947-10-01\n",
       "3  1926-08-11\n",
       "4  1926-01-29"
      ]
     },
     "execution_count": 10,
     "metadata": {},
     "output_type": "execute_result"
    }
   ],
   "source": [
    "birth_df.head()"
   ]
  },
  {
   "cell_type": "code",
   "execution_count": 11,
   "metadata": {},
   "outputs": [],
   "source": [
    "# Extract birth months from the birth dates\n",
    "birth_df['birth_month'] = pd.to_datetime(birth_df['birth_date'], format='%Y-%m-%d', errors='coerce').dt.month_name()\n",
    "birth_df['birth_number'] = pd.to_datetime(birth_df['birth_date'], format='%Y-%m-%d', errors='coerce').dt.month"
   ]
  },
  {
   "cell_type": "code",
   "execution_count": 12,
   "metadata": {},
   "outputs": [
    {
     "data": {
      "text/html": [
       "<div>\n",
       "<style scoped>\n",
       "    .dataframe tbody tr th:only-of-type {\n",
       "        vertical-align: middle;\n",
       "    }\n",
       "\n",
       "    .dataframe tbody tr th {\n",
       "        vertical-align: top;\n",
       "    }\n",
       "\n",
       "    .dataframe thead th {\n",
       "        text-align: right;\n",
       "    }\n",
       "</style>\n",
       "<table border=\"1\" class=\"dataframe\">\n",
       "  <thead>\n",
       "    <tr style=\"text-align: right;\">\n",
       "      <th></th>\n",
       "      <th>birth_date</th>\n",
       "      <th>birth_month</th>\n",
       "      <th>birth_number</th>\n",
       "    </tr>\n",
       "  </thead>\n",
       "  <tbody>\n",
       "    <tr>\n",
       "      <th>0</th>\n",
       "      <td>1943-00-00</td>\n",
       "      <td>NaN</td>\n",
       "      <td>NaN</td>\n",
       "    </tr>\n",
       "    <tr>\n",
       "      <th>1</th>\n",
       "      <td>1922-06-19</td>\n",
       "      <td>June</td>\n",
       "      <td>6.0</td>\n",
       "    </tr>\n",
       "    <tr>\n",
       "      <th>2</th>\n",
       "      <td>1947-10-01</td>\n",
       "      <td>October</td>\n",
       "      <td>10.0</td>\n",
       "    </tr>\n",
       "    <tr>\n",
       "      <th>3</th>\n",
       "      <td>1926-08-11</td>\n",
       "      <td>August</td>\n",
       "      <td>8.0</td>\n",
       "    </tr>\n",
       "    <tr>\n",
       "      <th>4</th>\n",
       "      <td>1926-01-29</td>\n",
       "      <td>January</td>\n",
       "      <td>1.0</td>\n",
       "    </tr>\n",
       "  </tbody>\n",
       "</table>\n",
       "</div>"
      ],
      "text/plain": [
       "   birth_date birth_month  birth_number\n",
       "0  1943-00-00         NaN           NaN\n",
       "1  1922-06-19        June           6.0\n",
       "2  1947-10-01     October          10.0\n",
       "3  1926-08-11      August           8.0\n",
       "4  1926-01-29     January           1.0"
      ]
     },
     "execution_count": 12,
     "metadata": {},
     "output_type": "execute_result"
    }
   ],
   "source": [
    "birth_df.head()"
   ]
  },
  {
   "cell_type": "code",
   "execution_count": 13,
   "metadata": {},
   "outputs": [],
   "source": [
    "birth_df.dropna(inplace=True)"
   ]
  },
  {
   "cell_type": "code",
   "execution_count": 14,
   "metadata": {},
   "outputs": [
    {
     "data": {
      "text/html": [
       "<div>\n",
       "<style scoped>\n",
       "    .dataframe tbody tr th:only-of-type {\n",
       "        vertical-align: middle;\n",
       "    }\n",
       "\n",
       "    .dataframe tbody tr th {\n",
       "        vertical-align: top;\n",
       "    }\n",
       "\n",
       "    .dataframe thead th {\n",
       "        text-align: right;\n",
       "    }\n",
       "</style>\n",
       "<table border=\"1\" class=\"dataframe\">\n",
       "  <thead>\n",
       "    <tr style=\"text-align: right;\">\n",
       "      <th></th>\n",
       "      <th>birth_date</th>\n",
       "      <th>birth_month</th>\n",
       "      <th>birth_number</th>\n",
       "    </tr>\n",
       "  </thead>\n",
       "  <tbody>\n",
       "    <tr>\n",
       "      <th>1</th>\n",
       "      <td>1922-06-19</td>\n",
       "      <td>June</td>\n",
       "      <td>6.0</td>\n",
       "    </tr>\n",
       "    <tr>\n",
       "      <th>2</th>\n",
       "      <td>1947-10-01</td>\n",
       "      <td>October</td>\n",
       "      <td>10.0</td>\n",
       "    </tr>\n",
       "    <tr>\n",
       "      <th>3</th>\n",
       "      <td>1926-08-11</td>\n",
       "      <td>August</td>\n",
       "      <td>8.0</td>\n",
       "    </tr>\n",
       "    <tr>\n",
       "      <th>4</th>\n",
       "      <td>1926-01-29</td>\n",
       "      <td>January</td>\n",
       "      <td>1.0</td>\n",
       "    </tr>\n",
       "    <tr>\n",
       "      <th>5</th>\n",
       "      <td>1961-02-21</td>\n",
       "      <td>February</td>\n",
       "      <td>2.0</td>\n",
       "    </tr>\n",
       "  </tbody>\n",
       "</table>\n",
       "</div>"
      ],
      "text/plain": [
       "   birth_date birth_month  birth_number\n",
       "1  1922-06-19        June           6.0\n",
       "2  1947-10-01     October          10.0\n",
       "3  1926-08-11      August           8.0\n",
       "4  1926-01-29     January           1.0\n",
       "5  1961-02-21    February           2.0"
      ]
     },
     "execution_count": 14,
     "metadata": {},
     "output_type": "execute_result"
    }
   ],
   "source": [
    "birth_df.head()"
   ]
  },
  {
   "cell_type": "code",
   "execution_count": 15,
   "metadata": {},
   "outputs": [],
   "source": [
    "# Group by birth month and count the occurrences\n",
    "birth_month_distribution = birth_df['birth_number'].value_counts()"
   ]
  },
  {
   "cell_type": "code",
   "execution_count": 16,
   "metadata": {},
   "outputs": [],
   "source": [
    "birth_month_distribution.sort_index(inplace=True)"
   ]
  },
  {
   "cell_type": "code",
   "execution_count": 17,
   "metadata": {},
   "outputs": [
    {
     "data": {
      "text/plain": [
       "birth_number\n",
       "1.0     55\n",
       "2.0     47\n",
       "3.0     58\n",
       "4.0     57\n",
       "5.0     62\n",
       "6.0     74\n",
       "7.0     57\n",
       "8.0     66\n",
       "9.0     72\n",
       "10.0    62\n",
       "11.0    52\n",
       "12.0    60\n",
       "Name: count, dtype: int64"
      ]
     },
     "execution_count": 17,
     "metadata": {},
     "output_type": "execute_result"
    }
   ],
   "source": [
    "birth_month_distribution"
   ]
  },
  {
   "cell_type": "code",
   "execution_count": 18,
   "metadata": {},
   "outputs": [
    {
     "data": {
      "image/png": "[encoded data removed]",
      "text/plain": [
       "<Figure size 1000x600 with 1 Axes>"
      ]
     },
     "metadata": {},
     "output_type": "display_data"
    }
   ],
   "source": [
    "# Plot the birth month distribution\n",
    "plt.figure(figsize=(10, 6))\n",
    "birth_month_distribution.plot(kind='bar')\n",
    "plt.title('Distribution of Birth Months of Nobel Prize Winners')\n",
    "plt.xlabel('Month')\n",
    "plt.ylabel('Number of Laureates')\n",
    "plt.xticks(ticks=range(12), labels=months, rotation=45)\n",
    "plt.tight_layout()\n",
    "\n",
    "# Display the plot\n",
    "plt.show()\n"
   ]
  },
  {
   "cell_type": "code",
   "execution_count": 19,
   "metadata": {},
   "outputs": [],
   "source": [
    "# Total Laureates births \n",
    "total_laureates = birth_month_distribution.sum()"
   ]
  },
  {
   "cell_type": "code",
   "execution_count": 20,
   "metadata": {},
   "outputs": [
    {
     "data": {
      "text/plain": [
       "722"
      ]
     },
     "execution_count": 20,
     "metadata": {},
     "output_type": "execute_result"
    }
   ],
   "source": [
    "total_laureates"
   ]
  },
  {
   "cell_type": "code",
   "execution_count": 21,
   "metadata": {},
   "outputs": [],
   "source": [
    "birth_month_distribution_df = pd.DataFrame(birth_month_distribution)"
   ]
  },
  {
   "cell_type": "code",
   "execution_count": 22,
   "metadata": {},
   "outputs": [
    {
     "data": {
      "text/html": [
       "<div>\n",
       "<style scoped>\n",
       "    .dataframe tbody tr th:only-of-type {\n",
       "        vertical-align: middle;\n",
       "    }\n",
       "\n",
       "    .dataframe tbody tr th {\n",
       "        vertical-align: top;\n",
       "    }\n",
       "\n",
       "    .dataframe thead th {\n",
       "        text-align: right;\n",
       "    }\n",
       "</style>\n",
       "<table border=\"1\" class=\"dataframe\">\n",
       "  <thead>\n",
       "    <tr style=\"text-align: right;\">\n",
       "      <th></th>\n",
       "      <th>count</th>\n",
       "    </tr>\n",
       "    <tr>\n",
       "      <th>birth_number</th>\n",
       "      <th></th>\n",
       "    </tr>\n",
       "  </thead>\n",
       "  <tbody>\n",
       "    <tr>\n",
       "      <th>1.0</th>\n",
       "      <td>55</td>\n",
       "    </tr>\n",
       "    <tr>\n",
       "      <th>2.0</th>\n",
       "      <td>47</td>\n",
       "    </tr>\n",
       "    <tr>\n",
       "      <th>3.0</th>\n",
       "      <td>58</td>\n",
       "    </tr>\n",
       "    <tr>\n",
       "      <th>4.0</th>\n",
       "      <td>57</td>\n",
       "    </tr>\n",
       "    <tr>\n",
       "      <th>5.0</th>\n",
       "      <td>62</td>\n",
       "    </tr>\n",
       "  </tbody>\n",
       "</table>\n",
       "</div>"
      ],
      "text/plain": [
       "              count\n",
       "birth_number       \n",
       "1.0              55\n",
       "2.0              47\n",
       "3.0              58\n",
       "4.0              57\n",
       "5.0              62"
      ]
     },
     "execution_count": 22,
     "metadata": {},
     "output_type": "execute_result"
    }
   ],
   "source": [
    "birth_month_distribution_df.head()"
   ]
  },
  {
   "cell_type": "code",
   "execution_count": 23,
   "metadata": {},
   "outputs": [],
   "source": [
    "# Calculate the relative frequency of Nobel Laureates for each month\n",
    "birth_month_distribution_df['percent'] = birth_month_distribution_df['count'] / total_laureates"
   ]
  },
  {
   "cell_type": "code",
   "execution_count": 24,
   "metadata": {},
   "outputs": [
    {
     "data": {
      "text/html": [
       "<div>\n",
       "<style scoped>\n",
       "    .dataframe tbody tr th:only-of-type {\n",
       "        vertical-align: middle;\n",
       "    }\n",
       "\n",
       "    .dataframe tbody tr th {\n",
       "        vertical-align: top;\n",
       "    }\n",
       "\n",
       "    .dataframe thead th {\n",
       "        text-align: right;\n",
       "    }\n",
       "</style>\n",
       "<table border=\"1\" class=\"dataframe\">\n",
       "  <thead>\n",
       "    <tr style=\"text-align: right;\">\n",
       "      <th></th>\n",
       "      <th>count</th>\n",
       "      <th>percent</th>\n",
       "    </tr>\n",
       "    <tr>\n",
       "      <th>birth_number</th>\n",
       "      <th></th>\n",
       "      <th></th>\n",
       "    </tr>\n",
       "  </thead>\n",
       "  <tbody>\n",
       "    <tr>\n",
       "      <th>1.0</th>\n",
       "      <td>55</td>\n",
       "      <td>0.076177</td>\n",
       "    </tr>\n",
       "    <tr>\n",
       "      <th>2.0</th>\n",
       "      <td>47</td>\n",
       "      <td>0.065097</td>\n",
       "    </tr>\n",
       "    <tr>\n",
       "      <th>3.0</th>\n",
       "      <td>58</td>\n",
       "      <td>0.080332</td>\n",
       "    </tr>\n",
       "    <tr>\n",
       "      <th>4.0</th>\n",
       "      <td>57</td>\n",
       "      <td>0.078947</td>\n",
       "    </tr>\n",
       "    <tr>\n",
       "      <th>5.0</th>\n",
       "      <td>62</td>\n",
       "      <td>0.085873</td>\n",
       "    </tr>\n",
       "    <tr>\n",
       "      <th>6.0</th>\n",
       "      <td>74</td>\n",
       "      <td>0.102493</td>\n",
       "    </tr>\n",
       "    <tr>\n",
       "      <th>7.0</th>\n",
       "      <td>57</td>\n",
       "      <td>0.078947</td>\n",
       "    </tr>\n",
       "    <tr>\n",
       "      <th>8.0</th>\n",
       "      <td>66</td>\n",
       "      <td>0.091413</td>\n",
       "    </tr>\n",
       "    <tr>\n",
       "      <th>9.0</th>\n",
       "      <td>72</td>\n",
       "      <td>0.099723</td>\n",
       "    </tr>\n",
       "    <tr>\n",
       "      <th>10.0</th>\n",
       "      <td>62</td>\n",
       "      <td>0.085873</td>\n",
       "    </tr>\n",
       "    <tr>\n",
       "      <th>11.0</th>\n",
       "      <td>52</td>\n",
       "      <td>0.072022</td>\n",
       "    </tr>\n",
       "    <tr>\n",
       "      <th>12.0</th>\n",
       "      <td>60</td>\n",
       "      <td>0.083102</td>\n",
       "    </tr>\n",
       "  </tbody>\n",
       "</table>\n",
       "</div>"
      ],
      "text/plain": [
       "              count   percent\n",
       "birth_number                 \n",
       "1.0              55  0.076177\n",
       "2.0              47  0.065097\n",
       "3.0              58  0.080332\n",
       "4.0              57  0.078947\n",
       "5.0              62  0.085873\n",
       "6.0              74  0.102493\n",
       "7.0              57  0.078947\n",
       "8.0              66  0.091413\n",
       "9.0              72  0.099723\n",
       "10.0             62  0.085873\n",
       "11.0             52  0.072022\n",
       "12.0             60  0.083102"
      ]
     },
     "execution_count": 24,
     "metadata": {},
     "output_type": "execute_result"
    }
   ],
   "source": [
    "birth_month_distribution_df"
   ]
  },
  {
   "cell_type": "code",
   "execution_count": 25,
   "metadata": {},
   "outputs": [],
   "source": [
    "# Load in the UN live births data\n",
    "un_file_path = \"data/UNdata_Export_20240605_144312361.csv\"\n",
    "un_data = pd.read_csv(un_file_path)"
   ]
  },
  {
   "cell_type": "code",
   "execution_count": 26,
   "metadata": {},
   "outputs": [
    {
     "data": {
      "text/html": [
       "<div>\n",
       "<style scoped>\n",
       "    .dataframe tbody tr th:only-of-type {\n",
       "        vertical-align: middle;\n",
       "    }\n",
       "\n",
       "    .dataframe tbody tr th {\n",
       "        vertical-align: top;\n",
       "    }\n",
       "\n",
       "    .dataframe thead th {\n",
       "        text-align: right;\n",
       "    }\n",
       "</style>\n",
       "<table border=\"1\" class=\"dataframe\">\n",
       "  <thead>\n",
       "    <tr style=\"text-align: right;\">\n",
       "      <th></th>\n",
       "      <th>Country or Area</th>\n",
       "      <th>Year</th>\n",
       "      <th>Area</th>\n",
       "      <th>Month</th>\n",
       "      <th>Record Type</th>\n",
       "      <th>Reliability</th>\n",
       "      <th>Source Year</th>\n",
       "      <th>Value</th>\n",
       "      <th>Value Footnotes</th>\n",
       "    </tr>\n",
       "  </thead>\n",
       "  <tbody>\n",
       "    <tr>\n",
       "      <th>0</th>\n",
       "      <td>Åland Islands</td>\n",
       "      <td>2023</td>\n",
       "      <td>Total</td>\n",
       "      <td>Total</td>\n",
       "      <td>Data tabulated by year of occurrence</td>\n",
       "      <td>Provisional figure</td>\n",
       "      <td>2024.0</td>\n",
       "      <td>269.0</td>\n",
       "      <td>NaN</td>\n",
       "    </tr>\n",
       "    <tr>\n",
       "      <th>1</th>\n",
       "      <td>Åland Islands</td>\n",
       "      <td>2023</td>\n",
       "      <td>Total</td>\n",
       "      <td>January - March</td>\n",
       "      <td>Data tabulated by year of occurrence</td>\n",
       "      <td>Provisional figure</td>\n",
       "      <td>2023.0</td>\n",
       "      <td>64.0</td>\n",
       "      <td>NaN</td>\n",
       "    </tr>\n",
       "    <tr>\n",
       "      <th>2</th>\n",
       "      <td>Åland Islands</td>\n",
       "      <td>2023</td>\n",
       "      <td>Total</td>\n",
       "      <td>April - June</td>\n",
       "      <td>Data tabulated by year of occurrence</td>\n",
       "      <td>Provisional figure</td>\n",
       "      <td>2023.0</td>\n",
       "      <td>75.0</td>\n",
       "      <td>NaN</td>\n",
       "    </tr>\n",
       "    <tr>\n",
       "      <th>3</th>\n",
       "      <td>Åland Islands</td>\n",
       "      <td>2023</td>\n",
       "      <td>Total</td>\n",
       "      <td>July - September</td>\n",
       "      <td>Data tabulated by year of occurrence</td>\n",
       "      <td>Provisional figure</td>\n",
       "      <td>2024.0</td>\n",
       "      <td>62.0</td>\n",
       "      <td>NaN</td>\n",
       "    </tr>\n",
       "    <tr>\n",
       "      <th>4</th>\n",
       "      <td>Åland Islands</td>\n",
       "      <td>2023</td>\n",
       "      <td>Total</td>\n",
       "      <td>October - December</td>\n",
       "      <td>Data tabulated by year of occurrence</td>\n",
       "      <td>Provisional figure</td>\n",
       "      <td>2024.0</td>\n",
       "      <td>68.0</td>\n",
       "      <td>NaN</td>\n",
       "    </tr>\n",
       "  </tbody>\n",
       "</table>\n",
       "</div>"
      ],
      "text/plain": [
       "  Country or Area  Year   Area               Month  \\\n",
       "0   Åland Islands  2023  Total               Total   \n",
       "1   Åland Islands  2023  Total     January - March   \n",
       "2   Åland Islands  2023  Total        April - June   \n",
       "3   Åland Islands  2023  Total    July - September   \n",
       "4   Åland Islands  2023  Total  October - December   \n",
       "\n",
       "                            Record Type         Reliability  Source Year  \\\n",
       "0  Data tabulated by year of occurrence  Provisional figure       2024.0   \n",
       "1  Data tabulated by year of occurrence  Provisional figure       2023.0   \n",
       "2  Data tabulated by year of occurrence  Provisional figure       2023.0   \n",
       "3  Data tabulated by year of occurrence  Provisional figure       2024.0   \n",
       "4  Data tabulated by year of occurrence  Provisional figure       2024.0   \n",
       "\n",
       "   Value Value Footnotes  \n",
       "0  269.0             NaN  \n",
       "1   64.0             NaN  \n",
       "2   75.0             NaN  \n",
       "3   62.0             NaN  \n",
       "4   68.0             NaN  "
      ]
     },
     "execution_count": 26,
     "metadata": {},
     "output_type": "execute_result"
    }
   ],
   "source": [
    "un_data.head()"
   ]
  },
  {
   "cell_type": "code",
   "execution_count": 27,
   "metadata": {},
   "outputs": [],
   "source": [
    "# Drop rows where the 'Reliability' value is 'Provisional figure'\n",
    "un_data_reliability = un_data[un_data['Reliability'] != 'Provisional figure']"
   ]
  },
  {
   "cell_type": "code",
   "execution_count": 28,
   "metadata": {},
   "outputs": [],
   "source": [
    "un_data_dropna = un_data_reliability.dropna()"
   ]
  },
  {
   "cell_type": "code",
   "execution_count": 29,
   "metadata": {},
   "outputs": [
    {
     "data": {
      "text/html": [
       "<div>\n",
       "<style scoped>\n",
       "    .dataframe tbody tr th:only-of-type {\n",
       "        vertical-align: middle;\n",
       "    }\n",
       "\n",
       "    .dataframe tbody tr th {\n",
       "        vertical-align: top;\n",
       "    }\n",
       "\n",
       "    .dataframe thead th {\n",
       "        text-align: right;\n",
       "    }\n",
       "</style>\n",
       "<table border=\"1\" class=\"dataframe\">\n",
       "  <thead>\n",
       "    <tr style=\"text-align: right;\">\n",
       "      <th></th>\n",
       "      <th>Country or Area</th>\n",
       "      <th>Year</th>\n",
       "      <th>Area</th>\n",
       "      <th>Month</th>\n",
       "      <th>Record Type</th>\n",
       "      <th>Reliability</th>\n",
       "      <th>Source Year</th>\n",
       "      <th>Value</th>\n",
       "      <th>Value Footnotes</th>\n",
       "    </tr>\n",
       "  </thead>\n",
       "  <tbody>\n",
       "    <tr>\n",
       "      <th>56648</th>\n",
       "      <td>Venezuela (Bolivarian Republic of)</td>\n",
       "      <td>1972</td>\n",
       "      <td>Total</td>\n",
       "      <td>August</td>\n",
       "      <td>Data tabulated by year of occurrence</td>\n",
       "      <td>Final figure, complete</td>\n",
       "      <td>1976.0</td>\n",
       "      <td>36078.0</td>\n",
       "      <td>66</td>\n",
       "    </tr>\n",
       "    <tr>\n",
       "      <th>56649</th>\n",
       "      <td>Venezuela (Bolivarian Republic of)</td>\n",
       "      <td>1972</td>\n",
       "      <td>Total</td>\n",
       "      <td>September</td>\n",
       "      <td>Data tabulated by year of occurrence</td>\n",
       "      <td>Final figure, complete</td>\n",
       "      <td>1976.0</td>\n",
       "      <td>32459.0</td>\n",
       "      <td>66</td>\n",
       "    </tr>\n",
       "    <tr>\n",
       "      <th>56650</th>\n",
       "      <td>Venezuela (Bolivarian Republic of)</td>\n",
       "      <td>1972</td>\n",
       "      <td>Total</td>\n",
       "      <td>October</td>\n",
       "      <td>Data tabulated by year of occurrence</td>\n",
       "      <td>Final figure, complete</td>\n",
       "      <td>1976.0</td>\n",
       "      <td>35040.0</td>\n",
       "      <td>66</td>\n",
       "    </tr>\n",
       "    <tr>\n",
       "      <th>56651</th>\n",
       "      <td>Venezuela (Bolivarian Republic of)</td>\n",
       "      <td>1972</td>\n",
       "      <td>Total</td>\n",
       "      <td>November</td>\n",
       "      <td>Data tabulated by year of occurrence</td>\n",
       "      <td>Final figure, complete</td>\n",
       "      <td>1976.0</td>\n",
       "      <td>36297.0</td>\n",
       "      <td>66</td>\n",
       "    </tr>\n",
       "    <tr>\n",
       "      <th>56652</th>\n",
       "      <td>Venezuela (Bolivarian Republic of)</td>\n",
       "      <td>1972</td>\n",
       "      <td>Total</td>\n",
       "      <td>December</td>\n",
       "      <td>Data tabulated by year of occurrence</td>\n",
       "      <td>Final figure, complete</td>\n",
       "      <td>1976.0</td>\n",
       "      <td>35102.0</td>\n",
       "      <td>66</td>\n",
       "    </tr>\n",
       "  </tbody>\n",
       "</table>\n",
       "</div>"
      ],
      "text/plain": [
       "                          Country or Area  Year   Area      Month  \\\n",
       "56648  Venezuela (Bolivarian Republic of)  1972  Total     August   \n",
       "56649  Venezuela (Bolivarian Republic of)  1972  Total  September   \n",
       "56650  Venezuela (Bolivarian Republic of)  1972  Total    October   \n",
       "56651  Venezuela (Bolivarian Republic of)  1972  Total   November   \n",
       "56652  Venezuela (Bolivarian Republic of)  1972  Total   December   \n",
       "\n",
       "                                Record Type             Reliability  \\\n",
       "56648  Data tabulated by year of occurrence  Final figure, complete   \n",
       "56649  Data tabulated by year of occurrence  Final figure, complete   \n",
       "56650  Data tabulated by year of occurrence  Final figure, complete   \n",
       "56651  Data tabulated by year of occurrence  Final figure, complete   \n",
       "56652  Data tabulated by year of occurrence  Final figure, complete   \n",
       "\n",
       "       Source Year    Value Value Footnotes  \n",
       "56648       1976.0  36078.0              66  \n",
       "56649       1976.0  32459.0              66  \n",
       "56650       1976.0  35040.0              66  \n",
       "56651       1976.0  36297.0              66  \n",
       "56652       1976.0  35102.0              66  "
      ]
     },
     "execution_count": 29,
     "metadata": {},
     "output_type": "execute_result"
    }
   ],
   "source": [
    "un_data_dropna.tail()"
   ]
  },
  {
   "cell_type": "code",
   "execution_count": 30,
   "metadata": {},
   "outputs": [],
   "source": [
    "# Drop rows with incomplete months \n",
    "un_data_complete_months = un_data_dropna[un_data_dropna['Month'].isin(months)]"
   ]
  },
  {
   "cell_type": "code",
   "execution_count": 31,
   "metadata": {},
   "outputs": [
    {
     "data": {
      "text/html": [
       "<div>\n",
       "<style scoped>\n",
       "    .dataframe tbody tr th:only-of-type {\n",
       "        vertical-align: middle;\n",
       "    }\n",
       "\n",
       "    .dataframe tbody tr th {\n",
       "        vertical-align: top;\n",
       "    }\n",
       "\n",
       "    .dataframe thead th {\n",
       "        text-align: right;\n",
       "    }\n",
       "</style>\n",
       "<table border=\"1\" class=\"dataframe\">\n",
       "  <thead>\n",
       "    <tr style=\"text-align: right;\">\n",
       "      <th></th>\n",
       "      <th>Country or Area</th>\n",
       "      <th>Year</th>\n",
       "      <th>Area</th>\n",
       "      <th>Month</th>\n",
       "      <th>Record Type</th>\n",
       "      <th>Reliability</th>\n",
       "      <th>Source Year</th>\n",
       "      <th>Value</th>\n",
       "      <th>Value Footnotes</th>\n",
       "    </tr>\n",
       "  </thead>\n",
       "  <tbody>\n",
       "    <tr>\n",
       "      <th>56648</th>\n",
       "      <td>Venezuela (Bolivarian Republic of)</td>\n",
       "      <td>1972</td>\n",
       "      <td>Total</td>\n",
       "      <td>August</td>\n",
       "      <td>Data tabulated by year of occurrence</td>\n",
       "      <td>Final figure, complete</td>\n",
       "      <td>1976.0</td>\n",
       "      <td>36078.0</td>\n",
       "      <td>66</td>\n",
       "    </tr>\n",
       "    <tr>\n",
       "      <th>56649</th>\n",
       "      <td>Venezuela (Bolivarian Republic of)</td>\n",
       "      <td>1972</td>\n",
       "      <td>Total</td>\n",
       "      <td>September</td>\n",
       "      <td>Data tabulated by year of occurrence</td>\n",
       "      <td>Final figure, complete</td>\n",
       "      <td>1976.0</td>\n",
       "      <td>32459.0</td>\n",
       "      <td>66</td>\n",
       "    </tr>\n",
       "    <tr>\n",
       "      <th>56650</th>\n",
       "      <td>Venezuela (Bolivarian Republic of)</td>\n",
       "      <td>1972</td>\n",
       "      <td>Total</td>\n",
       "      <td>October</td>\n",
       "      <td>Data tabulated by year of occurrence</td>\n",
       "      <td>Final figure, complete</td>\n",
       "      <td>1976.0</td>\n",
       "      <td>35040.0</td>\n",
       "      <td>66</td>\n",
       "    </tr>\n",
       "    <tr>\n",
       "      <th>56651</th>\n",
       "      <td>Venezuela (Bolivarian Republic of)</td>\n",
       "      <td>1972</td>\n",
       "      <td>Total</td>\n",
       "      <td>November</td>\n",
       "      <td>Data tabulated by year of occurrence</td>\n",
       "      <td>Final figure, complete</td>\n",
       "      <td>1976.0</td>\n",
       "      <td>36297.0</td>\n",
       "      <td>66</td>\n",
       "    </tr>\n",
       "    <tr>\n",
       "      <th>56652</th>\n",
       "      <td>Venezuela (Bolivarian Republic of)</td>\n",
       "      <td>1972</td>\n",
       "      <td>Total</td>\n",
       "      <td>December</td>\n",
       "      <td>Data tabulated by year of occurrence</td>\n",
       "      <td>Final figure, complete</td>\n",
       "      <td>1976.0</td>\n",
       "      <td>35102.0</td>\n",
       "      <td>66</td>\n",
       "    </tr>\n",
       "  </tbody>\n",
       "</table>\n",
       "</div>"
      ],
      "text/plain": [
       "                          Country or Area  Year   Area      Month  \\\n",
       "56648  Venezuela (Bolivarian Republic of)  1972  Total     August   \n",
       "56649  Venezuela (Bolivarian Republic of)  1972  Total  September   \n",
       "56650  Venezuela (Bolivarian Republic of)  1972  Total    October   \n",
       "56651  Venezuela (Bolivarian Republic of)  1972  Total   November   \n",
       "56652  Venezuela (Bolivarian Republic of)  1972  Total   December   \n",
       "\n",
       "                                Record Type             Reliability  \\\n",
       "56648  Data tabulated by year of occurrence  Final figure, complete   \n",
       "56649  Data tabulated by year of occurrence  Final figure, complete   \n",
       "56650  Data tabulated by year of occurrence  Final figure, complete   \n",
       "56651  Data tabulated by year of occurrence  Final figure, complete   \n",
       "56652  Data tabulated by year of occurrence  Final figure, complete   \n",
       "\n",
       "       Source Year    Value Value Footnotes  \n",
       "56648       1976.0  36078.0              66  \n",
       "56649       1976.0  32459.0              66  \n",
       "56650       1976.0  35040.0              66  \n",
       "56651       1976.0  36297.0              66  \n",
       "56652       1976.0  35102.0              66  "
      ]
     },
     "execution_count": 31,
     "metadata": {},
     "output_type": "execute_result"
    }
   ],
   "source": [
    "un_data_complete_months.tail()"
   ]
  },
  {
   "cell_type": "code",
   "execution_count": 32,
   "metadata": {},
   "outputs": [],
   "source": [
    "# Calculate the total number of births for each month\n",
    "monthly_totals = un_data_complete_months.groupby('Month')['Value'].sum().reset_index()"
   ]
  },
  {
   "cell_type": "code",
   "execution_count": 33,
   "metadata": {},
   "outputs": [],
   "source": [
    "# Add a new column 'month_number' to 'monthly_totals'\n",
    "monthly_totals['month_number'] = monthly_totals['Month'].apply(lambda x: months.index(x) + 1)"
   ]
  },
  {
   "cell_type": "code",
   "execution_count": 34,
   "metadata": {},
   "outputs": [],
   "source": [
    "monthly_totals.sort_values('month_number', inplace=True)"
   ]
  },
  {
   "cell_type": "code",
   "execution_count": 35,
   "metadata": {},
   "outputs": [
    {
     "data": {
      "text/html": [
       "<div>\n",
       "<style scoped>\n",
       "    .dataframe tbody tr th:only-of-type {\n",
       "        vertical-align: middle;\n",
       "    }\n",
       "\n",
       "    .dataframe tbody tr th {\n",
       "        vertical-align: top;\n",
       "    }\n",
       "\n",
       "    .dataframe thead th {\n",
       "        text-align: right;\n",
       "    }\n",
       "</style>\n",
       "<table border=\"1\" class=\"dataframe\">\n",
       "  <thead>\n",
       "    <tr style=\"text-align: right;\">\n",
       "      <th></th>\n",
       "      <th>Month</th>\n",
       "      <th>Value</th>\n",
       "      <th>month_number</th>\n",
       "    </tr>\n",
       "  </thead>\n",
       "  <tbody>\n",
       "    <tr>\n",
       "      <th>4</th>\n",
       "      <td>January</td>\n",
       "      <td>2.099304e+07</td>\n",
       "      <td>1</td>\n",
       "    </tr>\n",
       "    <tr>\n",
       "      <th>3</th>\n",
       "      <td>February</td>\n",
       "      <td>1.903893e+07</td>\n",
       "      <td>2</td>\n",
       "    </tr>\n",
       "    <tr>\n",
       "      <th>7</th>\n",
       "      <td>March</td>\n",
       "      <td>2.052516e+07</td>\n",
       "      <td>3</td>\n",
       "    </tr>\n",
       "    <tr>\n",
       "      <th>0</th>\n",
       "      <td>April</td>\n",
       "      <td>1.997737e+07</td>\n",
       "      <td>4</td>\n",
       "    </tr>\n",
       "    <tr>\n",
       "      <th>8</th>\n",
       "      <td>May</td>\n",
       "      <td>2.063517e+07</td>\n",
       "      <td>5</td>\n",
       "    </tr>\n",
       "  </tbody>\n",
       "</table>\n",
       "</div>"
      ],
      "text/plain": [
       "      Month         Value  month_number\n",
       "4   January  2.099304e+07             1\n",
       "3  February  1.903893e+07             2\n",
       "7     March  2.052516e+07             3\n",
       "0     April  1.997737e+07             4\n",
       "8       May  2.063517e+07             5"
      ]
     },
     "execution_count": 35,
     "metadata": {},
     "output_type": "execute_result"
    }
   ],
   "source": [
    "monthly_totals.head()"
   ]
  },
  {
   "cell_type": "code",
   "execution_count": 36,
   "metadata": {},
   "outputs": [
    {
     "data": {
      "image/png": "[encoded data removed]",
      "text/plain": [
       "<Figure size 1000x600 with 1 Axes>"
      ]
     },
     "metadata": {},
     "output_type": "display_data"
    }
   ],
   "source": [
    "# Plot the birth month distribution\n",
    "plt.figure(figsize=(10, 6))\n",
    "monthly_totals[\"Value\"].plot(kind='bar')\n",
    "plt.title('Distribution of Birth Months of global population')\n",
    "plt.xlabel('Month')\n",
    "plt.ylabel('Number of people')\n",
    "plt.xticks(ticks=range(12), labels=months, rotation=45)\n",
    "plt.tight_layout()\n",
    "\n",
    "# Display the plot\n",
    "plt.show()"
   ]
  },
  {
   "cell_type": "code",
   "execution_count": 37,
   "metadata": {},
   "outputs": [],
   "source": [
    "# Total Laureates births \n",
    "total_world = monthly_totals['Value'].sum()"
   ]
  },
  {
   "cell_type": "code",
   "execution_count": 38,
   "metadata": {},
   "outputs": [
    {
     "data": {
      "text/plain": [
       "249244930.64929727"
      ]
     },
     "execution_count": 38,
     "metadata": {},
     "output_type": "execute_result"
    }
   ],
   "source": [
    "total_world"
   ]
  },
  {
   "cell_type": "code",
   "execution_count": 39,
   "metadata": {},
   "outputs": [],
   "source": [
    "monthly_totals['percent'] = monthly_totals['Value'] / total_world"
   ]
  },
  {
   "cell_type": "code",
   "execution_count": 40,
   "metadata": {},
   "outputs": [
    {
     "data": {
      "text/html": [
       "<div>\n",
       "<style scoped>\n",
       "    .dataframe tbody tr th:only-of-type {\n",
       "        vertical-align: middle;\n",
       "    }\n",
       "\n",
       "    .dataframe tbody tr th {\n",
       "        vertical-align: top;\n",
       "    }\n",
       "\n",
       "    .dataframe thead th {\n",
       "        text-align: right;\n",
       "    }\n",
       "</style>\n",
       "<table border=\"1\" class=\"dataframe\">\n",
       "  <thead>\n",
       "    <tr style=\"text-align: right;\">\n",
       "      <th></th>\n",
       "      <th>Month</th>\n",
       "      <th>Value</th>\n",
       "      <th>month_number</th>\n",
       "      <th>percent</th>\n",
       "    </tr>\n",
       "  </thead>\n",
       "  <tbody>\n",
       "    <tr>\n",
       "      <th>4</th>\n",
       "      <td>January</td>\n",
       "      <td>2.099304e+07</td>\n",
       "      <td>1</td>\n",
       "      <td>0.084227</td>\n",
       "    </tr>\n",
       "    <tr>\n",
       "      <th>3</th>\n",
       "      <td>February</td>\n",
       "      <td>1.903893e+07</td>\n",
       "      <td>2</td>\n",
       "      <td>0.076386</td>\n",
       "    </tr>\n",
       "    <tr>\n",
       "      <th>7</th>\n",
       "      <td>March</td>\n",
       "      <td>2.052516e+07</td>\n",
       "      <td>3</td>\n",
       "      <td>0.082349</td>\n",
       "    </tr>\n",
       "    <tr>\n",
       "      <th>0</th>\n",
       "      <td>April</td>\n",
       "      <td>1.997737e+07</td>\n",
       "      <td>4</td>\n",
       "      <td>0.080152</td>\n",
       "    </tr>\n",
       "    <tr>\n",
       "      <th>8</th>\n",
       "      <td>May</td>\n",
       "      <td>2.063517e+07</td>\n",
       "      <td>5</td>\n",
       "      <td>0.082791</td>\n",
       "    </tr>\n",
       "    <tr>\n",
       "      <th>6</th>\n",
       "      <td>June</td>\n",
       "      <td>2.037230e+07</td>\n",
       "      <td>6</td>\n",
       "      <td>0.081736</td>\n",
       "    </tr>\n",
       "    <tr>\n",
       "      <th>5</th>\n",
       "      <td>July</td>\n",
       "      <td>2.176467e+07</td>\n",
       "      <td>7</td>\n",
       "      <td>0.087322</td>\n",
       "    </tr>\n",
       "    <tr>\n",
       "      <th>1</th>\n",
       "      <td>August</td>\n",
       "      <td>2.193480e+07</td>\n",
       "      <td>8</td>\n",
       "      <td>0.088005</td>\n",
       "    </tr>\n",
       "    <tr>\n",
       "      <th>11</th>\n",
       "      <td>September</td>\n",
       "      <td>2.176035e+07</td>\n",
       "      <td>9</td>\n",
       "      <td>0.087305</td>\n",
       "    </tr>\n",
       "    <tr>\n",
       "      <th>10</th>\n",
       "      <td>October</td>\n",
       "      <td>2.166608e+07</td>\n",
       "      <td>10</td>\n",
       "      <td>0.086927</td>\n",
       "    </tr>\n",
       "    <tr>\n",
       "      <th>9</th>\n",
       "      <td>November</td>\n",
       "      <td>2.023713e+07</td>\n",
       "      <td>11</td>\n",
       "      <td>0.081194</td>\n",
       "    </tr>\n",
       "    <tr>\n",
       "      <th>2</th>\n",
       "      <td>December</td>\n",
       "      <td>2.033994e+07</td>\n",
       "      <td>12</td>\n",
       "      <td>0.081606</td>\n",
       "    </tr>\n",
       "  </tbody>\n",
       "</table>\n",
       "</div>"
      ],
      "text/plain": [
       "        Month         Value  month_number   percent\n",
       "4     January  2.099304e+07             1  0.084227\n",
       "3    February  1.903893e+07             2  0.076386\n",
       "7       March  2.052516e+07             3  0.082349\n",
       "0       April  1.997737e+07             4  0.080152\n",
       "8         May  2.063517e+07             5  0.082791\n",
       "6        June  2.037230e+07             6  0.081736\n",
       "5        July  2.176467e+07             7  0.087322\n",
       "1      August  2.193480e+07             8  0.088005\n",
       "11  September  2.176035e+07             9  0.087305\n",
       "10    October  2.166608e+07            10  0.086927\n",
       "9    November  2.023713e+07            11  0.081194\n",
       "2    December  2.033994e+07            12  0.081606"
      ]
     },
     "execution_count": 40,
     "metadata": {},
     "output_type": "execute_result"
    }
   ],
   "source": [
    "monthly_totals.head(12)"
   ]
  },
  {
   "cell_type": "code",
   "execution_count": 41,
   "metadata": {},
   "outputs": [],
   "source": [
    "nobels_totals = birth_month_distribution_df.reset_index()"
   ]
  },
  {
   "cell_type": "code",
   "execution_count": 42,
   "metadata": {},
   "outputs": [],
   "source": [
    "nobels_totals.columns = ['month_number', 'count', 'nobel_percent']"
   ]
  },
  {
   "cell_type": "code",
   "execution_count": 43,
   "metadata": {},
   "outputs": [
    {
     "data": {
      "text/html": [
       "<div>\n",
       "<style scoped>\n",
       "    .dataframe tbody tr th:only-of-type {\n",
       "        vertical-align: middle;\n",
       "    }\n",
       "\n",
       "    .dataframe tbody tr th {\n",
       "        vertical-align: top;\n",
       "    }\n",
       "\n",
       "    .dataframe thead th {\n",
       "        text-align: right;\n",
       "    }\n",
       "</style>\n",
       "<table border=\"1\" class=\"dataframe\">\n",
       "  <thead>\n",
       "    <tr style=\"text-align: right;\">\n",
       "      <th></th>\n",
       "      <th>month_number</th>\n",
       "      <th>count</th>\n",
       "      <th>nobel_percent</th>\n",
       "    </tr>\n",
       "  </thead>\n",
       "  <tbody>\n",
       "    <tr>\n",
       "      <th>0</th>\n",
       "      <td>1.0</td>\n",
       "      <td>55</td>\n",
       "      <td>0.076177</td>\n",
       "    </tr>\n",
       "    <tr>\n",
       "      <th>1</th>\n",
       "      <td>2.0</td>\n",
       "      <td>47</td>\n",
       "      <td>0.065097</td>\n",
       "    </tr>\n",
       "    <tr>\n",
       "      <th>2</th>\n",
       "      <td>3.0</td>\n",
       "      <td>58</td>\n",
       "      <td>0.080332</td>\n",
       "    </tr>\n",
       "    <tr>\n",
       "      <th>3</th>\n",
       "      <td>4.0</td>\n",
       "      <td>57</td>\n",
       "      <td>0.078947</td>\n",
       "    </tr>\n",
       "    <tr>\n",
       "      <th>4</th>\n",
       "      <td>5.0</td>\n",
       "      <td>62</td>\n",
       "      <td>0.085873</td>\n",
       "    </tr>\n",
       "  </tbody>\n",
       "</table>\n",
       "</div>"
      ],
      "text/plain": [
       "   month_number  count  nobel_percent\n",
       "0           1.0     55       0.076177\n",
       "1           2.0     47       0.065097\n",
       "2           3.0     58       0.080332\n",
       "3           4.0     57       0.078947\n",
       "4           5.0     62       0.085873"
      ]
     },
     "execution_count": 43,
     "metadata": {},
     "output_type": "execute_result"
    }
   ],
   "source": [
    "nobels_totals.head()"
   ]
  },
  {
   "cell_type": "code",
   "execution_count": 44,
   "metadata": {},
   "outputs": [],
   "source": [
    "combined_df = pd.merge(monthly_totals, nobels_totals, on='month_number')"
   ]
  },
  {
   "cell_type": "code",
   "execution_count": 45,
   "metadata": {},
   "outputs": [
    {
     "data": {
      "text/html": [
       "<div>\n",
       "<style scoped>\n",
       "    .dataframe tbody tr th:only-of-type {\n",
       "        vertical-align: middle;\n",
       "    }\n",
       "\n",
       "    .dataframe tbody tr th {\n",
       "        vertical-align: top;\n",
       "    }\n",
       "\n",
       "    .dataframe thead th {\n",
       "        text-align: right;\n",
       "    }\n",
       "</style>\n",
       "<table border=\"1\" class=\"dataframe\">\n",
       "  <thead>\n",
       "    <tr style=\"text-align: right;\">\n",
       "      <th></th>\n",
       "      <th>Month</th>\n",
       "      <th>Value</th>\n",
       "      <th>month_number</th>\n",
       "      <th>percent</th>\n",
       "      <th>count</th>\n",
       "      <th>nobel_percent</th>\n",
       "    </tr>\n",
       "  </thead>\n",
       "  <tbody>\n",
       "    <tr>\n",
       "      <th>0</th>\n",
       "      <td>January</td>\n",
       "      <td>2.099304e+07</td>\n",
       "      <td>1</td>\n",
       "      <td>0.084227</td>\n",
       "      <td>55</td>\n",
       "      <td>0.076177</td>\n",
       "    </tr>\n",
       "    <tr>\n",
       "      <th>1</th>\n",
       "      <td>February</td>\n",
       "      <td>1.903893e+07</td>\n",
       "      <td>2</td>\n",
       "      <td>0.076386</td>\n",
       "      <td>47</td>\n",
       "      <td>0.065097</td>\n",
       "    </tr>\n",
       "    <tr>\n",
       "      <th>2</th>\n",
       "      <td>March</td>\n",
       "      <td>2.052516e+07</td>\n",
       "      <td>3</td>\n",
       "      <td>0.082349</td>\n",
       "      <td>58</td>\n",
       "      <td>0.080332</td>\n",
       "    </tr>\n",
       "    <tr>\n",
       "      <th>3</th>\n",
       "      <td>April</td>\n",
       "      <td>1.997737e+07</td>\n",
       "      <td>4</td>\n",
       "      <td>0.080152</td>\n",
       "      <td>57</td>\n",
       "      <td>0.078947</td>\n",
       "    </tr>\n",
       "    <tr>\n",
       "      <th>4</th>\n",
       "      <td>May</td>\n",
       "      <td>2.063517e+07</td>\n",
       "      <td>5</td>\n",
       "      <td>0.082791</td>\n",
       "      <td>62</td>\n",
       "      <td>0.085873</td>\n",
       "    </tr>\n",
       "  </tbody>\n",
       "</table>\n",
       "</div>"
      ],
      "text/plain": [
       "      Month         Value  month_number   percent  count  nobel_percent\n",
       "0   January  2.099304e+07             1  0.084227     55       0.076177\n",
       "1  February  1.903893e+07             2  0.076386     47       0.065097\n",
       "2     March  2.052516e+07             3  0.082349     58       0.080332\n",
       "3     April  1.997737e+07             4  0.080152     57       0.078947\n",
       "4       May  2.063517e+07             5  0.082791     62       0.085873"
      ]
     },
     "execution_count": 45,
     "metadata": {},
     "output_type": "execute_result"
    }
   ],
   "source": [
    "combined_df.head()"
   ]
  },
  {
   "cell_type": "code",
   "execution_count": 46,
   "metadata": {},
   "outputs": [],
   "source": [
    "combined_df['normalised'] = combined_df['nobel_percent'] / combined_df['percent']"
   ]
  },
  {
   "cell_type": "code",
   "execution_count": 47,
   "metadata": {},
   "outputs": [
    {
     "data": {
      "text/html": [
       "<div>\n",
       "<style scoped>\n",
       "    .dataframe tbody tr th:only-of-type {\n",
       "        vertical-align: middle;\n",
       "    }\n",
       "\n",
       "    .dataframe tbody tr th {\n",
       "        vertical-align: top;\n",
       "    }\n",
       "\n",
       "    .dataframe thead th {\n",
       "        text-align: right;\n",
       "    }\n",
       "</style>\n",
       "<table border=\"1\" class=\"dataframe\">\n",
       "  <thead>\n",
       "    <tr style=\"text-align: right;\">\n",
       "      <th></th>\n",
       "      <th>Month</th>\n",
       "      <th>Value</th>\n",
       "      <th>month_number</th>\n",
       "      <th>percent</th>\n",
       "      <th>count</th>\n",
       "      <th>nobel_percent</th>\n",
       "      <th>normalised</th>\n",
       "    </tr>\n",
       "  </thead>\n",
       "  <tbody>\n",
       "    <tr>\n",
       "      <th>0</th>\n",
       "      <td>January</td>\n",
       "      <td>2.099304e+07</td>\n",
       "      <td>1</td>\n",
       "      <td>0.084227</td>\n",
       "      <td>55</td>\n",
       "      <td>0.076177</td>\n",
       "      <td>0.904433</td>\n",
       "    </tr>\n",
       "    <tr>\n",
       "      <th>1</th>\n",
       "      <td>February</td>\n",
       "      <td>1.903893e+07</td>\n",
       "      <td>2</td>\n",
       "      <td>0.076386</td>\n",
       "      <td>47</td>\n",
       "      <td>0.065097</td>\n",
       "      <td>0.852206</td>\n",
       "    </tr>\n",
       "    <tr>\n",
       "      <th>2</th>\n",
       "      <td>March</td>\n",
       "      <td>2.052516e+07</td>\n",
       "      <td>3</td>\n",
       "      <td>0.082349</td>\n",
       "      <td>58</td>\n",
       "      <td>0.080332</td>\n",
       "      <td>0.975508</td>\n",
       "    </tr>\n",
       "    <tr>\n",
       "      <th>3</th>\n",
       "      <td>April</td>\n",
       "      <td>1.997737e+07</td>\n",
       "      <td>4</td>\n",
       "      <td>0.080152</td>\n",
       "      <td>57</td>\n",
       "      <td>0.078947</td>\n",
       "      <td>0.984976</td>\n",
       "    </tr>\n",
       "    <tr>\n",
       "      <th>4</th>\n",
       "      <td>May</td>\n",
       "      <td>2.063517e+07</td>\n",
       "      <td>5</td>\n",
       "      <td>0.082791</td>\n",
       "      <td>62</td>\n",
       "      <td>0.085873</td>\n",
       "      <td>1.037224</td>\n",
       "    </tr>\n",
       "    <tr>\n",
       "      <th>5</th>\n",
       "      <td>June</td>\n",
       "      <td>2.037230e+07</td>\n",
       "      <td>6</td>\n",
       "      <td>0.081736</td>\n",
       "      <td>74</td>\n",
       "      <td>0.102493</td>\n",
       "      <td>1.253952</td>\n",
       "    </tr>\n",
       "    <tr>\n",
       "      <th>6</th>\n",
       "      <td>July</td>\n",
       "      <td>2.176467e+07</td>\n",
       "      <td>7</td>\n",
       "      <td>0.087322</td>\n",
       "      <td>57</td>\n",
       "      <td>0.078947</td>\n",
       "      <td>0.904090</td>\n",
       "    </tr>\n",
       "    <tr>\n",
       "      <th>7</th>\n",
       "      <td>August</td>\n",
       "      <td>2.193480e+07</td>\n",
       "      <td>8</td>\n",
       "      <td>0.088005</td>\n",
       "      <td>66</td>\n",
       "      <td>0.091413</td>\n",
       "      <td>1.038722</td>\n",
       "    </tr>\n",
       "    <tr>\n",
       "      <th>8</th>\n",
       "      <td>September</td>\n",
       "      <td>2.176035e+07</td>\n",
       "      <td>9</td>\n",
       "      <td>0.087305</td>\n",
       "      <td>72</td>\n",
       "      <td>0.099723</td>\n",
       "      <td>1.142236</td>\n",
       "    </tr>\n",
       "    <tr>\n",
       "      <th>9</th>\n",
       "      <td>October</td>\n",
       "      <td>2.166608e+07</td>\n",
       "      <td>10</td>\n",
       "      <td>0.086927</td>\n",
       "      <td>62</td>\n",
       "      <td>0.085873</td>\n",
       "      <td>0.987871</td>\n",
       "    </tr>\n",
       "    <tr>\n",
       "      <th>10</th>\n",
       "      <td>November</td>\n",
       "      <td>2.023713e+07</td>\n",
       "      <td>11</td>\n",
       "      <td>0.081194</td>\n",
       "      <td>52</td>\n",
       "      <td>0.072022</td>\n",
       "      <td>0.887041</td>\n",
       "    </tr>\n",
       "    <tr>\n",
       "      <th>11</th>\n",
       "      <td>December</td>\n",
       "      <td>2.033994e+07</td>\n",
       "      <td>12</td>\n",
       "      <td>0.081606</td>\n",
       "      <td>60</td>\n",
       "      <td>0.083102</td>\n",
       "      <td>1.018335</td>\n",
       "    </tr>\n",
       "  </tbody>\n",
       "</table>\n",
       "</div>"
      ],
      "text/plain": [
       "        Month         Value  month_number   percent  count  nobel_percent  \\\n",
       "0     January  2.099304e+07             1  0.084227     55       0.076177   \n",
       "1    February  1.903893e+07             2  0.076386     47       0.065097   \n",
       "2       March  2.052516e+07             3  0.082349     58       0.080332   \n",
       "3       April  1.997737e+07             4  0.080152     57       0.078947   \n",
       "4         May  2.063517e+07             5  0.082791     62       0.085873   \n",
       "5        June  2.037230e+07             6  0.081736     74       0.102493   \n",
       "6        July  2.176467e+07             7  0.087322     57       0.078947   \n",
       "7      August  2.193480e+07             8  0.088005     66       0.091413   \n",
       "8   September  2.176035e+07             9  0.087305     72       0.099723   \n",
       "9     October  2.166608e+07            10  0.086927     62       0.085873   \n",
       "10   November  2.023713e+07            11  0.081194     52       0.072022   \n",
       "11   December  2.033994e+07            12  0.081606     60       0.083102   \n",
       "\n",
       "    normalised  \n",
       "0     0.904433  \n",
       "1     0.852206  \n",
       "2     0.975508  \n",
       "3     0.984976  \n",
       "4     1.037224  \n",
       "5     1.253952  \n",
       "6     0.904090  \n",
       "7     1.038722  \n",
       "8     1.142236  \n",
       "9     0.987871  \n",
       "10    0.887041  \n",
       "11    1.018335  "
      ]
     },
     "execution_count": 47,
     "metadata": {},
     "output_type": "execute_result"
    }
   ],
   "source": [
    "combined_df.head(12)"
   ]
  },
  {
   "cell_type": "code",
   "execution_count": 48,
   "metadata": {},
   "outputs": [
    {
     "data": {
      "image/png": "[encoded data removed]",
      "text/plain": [
       "<Figure size 1000x600 with 1 Axes>"
      ]
     },
     "metadata": {},
     "output_type": "display_data"
    }
   ],
   "source": [
    "# Plot the normalised month distribution\n",
    "plt.figure(figsize=(10, 6))\n",
    "combined_df[\"normalised\"].plot(kind='bar')\n",
    "plt.title('Normalised distribution of Birth Months of nobel prize winners and global population')\n",
    "plt.xlabel('Month')\n",
    "# plt.ylabel('Number of people')\n",
    "plt.xticks(ticks=range(12), labels=months, rotation=45)\n",
    "plt.grid(axis='y')\n",
    "plt.tight_layout()\n",
    "\n",
    "# Display the plot\n",
    "plt.show()"
   ]
  },
  {
   "cell_type": "code",
   "execution_count": 53,
   "metadata": {},
   "outputs": [],
   "source": [
    "import scipy.stats as stats\n",
    "import numpy as np"
   ]
  },
  {
   "cell_type": "code",
   "execution_count": 55,
   "metadata": {},
   "outputs": [],
   "source": [
    "normalized_value = combined_df.loc[5]['normalised']\n",
    "total_nobel_prize_winners = combined_df.loc[5]['count']\n",
    "general_population_proportion_june = combined_df.loc[5]['percent']"
   ]
  },
  {
   "cell_type": "code",
   "execution_count": 58,
   "metadata": {},
   "outputs": [
    {
     "name": "stdout",
     "output_type": "stream",
     "text": [
      "Proportion of Nobel Prize winners born in June: 0.10\n"
     ]
    }
   ],
   "source": [
    "# Calculating the proportion of Nobel Prize winners born in June\n",
    "proportion_nobel_june = normalized_value * general_population_proportion_june\n",
    "print(f\"Proportion of Nobel Prize winners born in June: {proportion_nobel_june:.2f}\")"
   ]
  },
  {
   "cell_type": "code",
   "execution_count": 59,
   "metadata": {},
   "outputs": [
    {
     "name": "stdout",
     "output_type": "stream",
     "text": [
      "Standard Error: 0.0318\n"
     ]
    }
   ],
   "source": [
    "# Calculating the Standard Error\n",
    "standard_error = np.sqrt((general_population_proportion_june * (1 - general_population_proportion_june)) / total_nobel_prize_winners)\n",
    "print(f\"Standard Error: {standard_error:.4f}\")"
   ]
  },
  {
   "cell_type": "code",
   "execution_count": 60,
   "metadata": {},
   "outputs": [
    {
     "name": "stdout",
     "output_type": "stream",
     "text": [
      "Z-score: 0.65\n"
     ]
    }
   ],
   "source": [
    "# Calculating the Z-score\n",
    "z_score = (proportion_nobel_june - general_population_proportion_june) / standard_error\n",
    "print(f\"Z-score: {z_score:.2f}\")"
   ]
  },
  {
   "cell_type": "code",
   "execution_count": 61,
   "metadata": {},
   "outputs": [
    {
     "name": "stdout",
     "output_type": "stream",
     "text": [
      "P-value: 0.5146\n"
     ]
    }
   ],
   "source": [
    "# Calculating the P-value for a two-tailed test\n",
    "p_value = 2 * (1 - stats.norm.cdf(np.abs(z_score)))\n",
    "print(f\"P-value: {p_value:.4f}\")"
   ]
  },
  {
   "cell_type": "markdown",
   "metadata": {},
   "source": [
    "## Interpretation (from chatGPT)\n",
    "\n",
    "With a p-value of approximately 0.5146, we see that the observed difference in the proportion of Nobel Prize winners born in June is not statistically significant at the 0.05 level. This means there is no significant evidence to suggest that the proportion of Nobel Prize winners born in June is different from the proportion of the general population born in June."
   ]
  },
  {
   "cell_type": "markdown",
   "metadata": {},
   "source": []
  },
  {
   "cell_type": "code",
   "execution_count": null,
   "metadata": {},
   "outputs": [],
   "source": []
  }
 ],
 "metadata": {
  "kernelspec": {
   "display_name": "nobels-environment",
   "language": "python",
   "name": "python3"
  },
  "language_info": {
   "codemirror_mode": {
    "name": "ipython",
    "version": 3
   },
   "file_extension": ".py",
   "mimetype": "text/x-python",
   "name": "python",
   "nbconvert_exporter": "python",
   "pygments_lexer": "ipython3",
   "version": "3.12.3"
  }
 },
 "nbformat": 4,
 "nbformat_minor": 2
}
