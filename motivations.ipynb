{
 "cells": [
  {
   "cell_type": "code",
   "execution_count": 1,
   "metadata": {},
   "outputs": [],
   "source": [
    "import json\n",
    "import pandas as pd"
   ]
  },
  {
   "cell_type": "code",
   "execution_count": 2,
   "metadata": {},
   "outputs": [],
   "source": [
    "file_path = \"data/prizes-1000.json\"\n",
    "\n",
    "with open(file_path, 'r') as file:\n",
    "    data = json.load(file)"
   ]
  },
  {
   "cell_type": "code",
   "execution_count": 5,
   "metadata": {},
   "outputs": [
    {
     "data": {
      "text/plain": [
       "dict_keys(['nobelPrizes', 'meta', 'links'])"
      ]
     },
     "execution_count": 5,
     "metadata": {},
     "output_type": "execute_result"
    }
   ],
   "source": [
    "data.keys()"
   ]
  },
  {
   "cell_type": "code",
   "execution_count": 6,
   "metadata": {},
   "outputs": [
    {
     "data": {
      "text/plain": [
       "{'awardYear': '1901',\n",
       " 'category': {'en': 'Chemistry', 'no': 'Kjemi', 'se': 'Kemi'},\n",
       " 'categoryFullName': {'en': 'The Nobel Prize in Chemistry',\n",
       "  'no': 'Nobelprisen i kjemi',\n",
       "  'se': 'Nobelpriset i kemi'},\n",
       " 'dateAwarded': '1901-11-12',\n",
       " 'prizeAmount': 150782,\n",
       " 'prizeAmountAdjusted': 10531894,\n",
       " 'links': [{'rel': 'nobelPrize',\n",
       "   'href': 'https://api.nobelprize.org/2/nobelPrize/che/1901',\n",
       "   'action': 'GET',\n",
       "   'types': 'application/json'}],\n",
       " 'laureates': [{'id': '160',\n",
       "   'knownName': {'en': \"Jacobus H. van 't Hoff\"},\n",
       "   'fullName': {'en': \"Jacobus Henricus van 't Hoff\"},\n",
       "   'portion': '1',\n",
       "   'sortOrder': '1',\n",
       "   'motivation': {'en': 'in recognition of the extraordinary services he has rendered by the discovery of the laws of chemical dynamics and osmotic pressure in solutions',\n",
       "    'se': 'såsom ett erkännande av den utomordentliga förtjänst han inlagt genom upptäckten av lagarna för den kemiska dynamiken och för det osmotiska trycket i lösningar'},\n",
       "   'links': [{'rel': 'laureate',\n",
       "     'href': 'https://api.nobelprize.org/2/laureate/160',\n",
       "     'action': 'GET',\n",
       "     'types': 'application/json'}]}]}"
      ]
     },
     "execution_count": 6,
     "metadata": {},
     "output_type": "execute_result"
    }
   ],
   "source": [
    "data['nobelPrizes'][0]"
   ]
  },
  {
   "cell_type": "code",
   "execution_count": 20,
   "metadata": {},
   "outputs": [],
   "source": [
    "physics_data = []\n",
    "\n",
    "for prize in data['nobelPrizes']:\n",
    "    category = prize.get('category', {}).get('en')\n",
    "    if category != 'Physics':\n",
    "        continue\n",
    "    laureates = prize.get('laureates')\n",
    "    if laureates is None:\n",
    "        continue\n",
    "    motivation = laureates[0].get('motivation', {}).get('en')\n",
    "\n",
    "    physics_data.append({\n",
    "        'category': category,\n",
    "        'year': prize.get('awardYear'),\n",
    "        'laureates': len(prize.get('laureates')),\n",
    "        'motivation': motivation\n",
    "    })"
   ]
  },
  {
   "cell_type": "code",
   "execution_count": 29,
   "metadata": {},
   "outputs": [],
   "source": [
    "def get_category_data(data, category_name):\n",
    "    category_data = []\n",
    "\n",
    "    for prize in data['nobelPrizes']:\n",
    "        category = prize.get('category', {}).get('en')\n",
    "        if category != category_name:\n",
    "            continue\n",
    "        laureates = prize.get('laureates')\n",
    "        if laureates is None:\n",
    "            continue\n",
    "        motivation = laureates[0].get('motivation', {}).get('en')\n",
    "\n",
    "        category_data.append({\n",
    "            'year': prize.get('awardYear'),\n",
    "            'number-of-laureates': len(prize.get('laureates')),\n",
    "            'motivation': motivation\n",
    "        })\n",
    "    \n",
    "    df = pd.DataFrame(category_data)\n",
    "\n",
    "    df.sort_values('year', inplace=True)\n",
    "\n",
    "    return df"
   ]
  },
  {
   "cell_type": "code",
   "execution_count": 30,
   "metadata": {},
   "outputs": [],
   "source": [
    "physics_df = get_category_data(data, 'Physics')"
   ]
  },
  {
   "cell_type": "code",
   "execution_count": 31,
   "metadata": {},
   "outputs": [
    {
     "data": {
      "text/html": [
       "<div>\n",
       "<style scoped>\n",
       "    .dataframe tbody tr th:only-of-type {\n",
       "        vertical-align: middle;\n",
       "    }\n",
       "\n",
       "    .dataframe tbody tr th {\n",
       "        vertical-align: top;\n",
       "    }\n",
       "\n",
       "    .dataframe thead th {\n",
       "        text-align: right;\n",
       "    }\n",
       "</style>\n",
       "<table border=\"1\" class=\"dataframe\">\n",
       "  <thead>\n",
       "    <tr style=\"text-align: right;\">\n",
       "      <th></th>\n",
       "      <th>year</th>\n",
       "      <th>number-of-laureates</th>\n",
       "      <th>motivation</th>\n",
       "    </tr>\n",
       "  </thead>\n",
       "  <tbody>\n",
       "    <tr>\n",
       "      <th>0</th>\n",
       "      <td>1901</td>\n",
       "      <td>1</td>\n",
       "      <td>in recognition of the extraordinary services h...</td>\n",
       "    </tr>\n",
       "    <tr>\n",
       "      <th>1</th>\n",
       "      <td>1902</td>\n",
       "      <td>2</td>\n",
       "      <td>in recognition of the extraordinary service th...</td>\n",
       "    </tr>\n",
       "    <tr>\n",
       "      <th>2</th>\n",
       "      <td>1903</td>\n",
       "      <td>3</td>\n",
       "      <td>in recognition of the extraordinary services h...</td>\n",
       "    </tr>\n",
       "    <tr>\n",
       "      <th>3</th>\n",
       "      <td>1904</td>\n",
       "      <td>1</td>\n",
       "      <td>for his investigations of the densities of the...</td>\n",
       "    </tr>\n",
       "    <tr>\n",
       "      <th>4</th>\n",
       "      <td>1905</td>\n",
       "      <td>1</td>\n",
       "      <td>for his work on cathode rays</td>\n",
       "    </tr>\n",
       "  </tbody>\n",
       "</table>\n",
       "</div>"
      ],
      "text/plain": [
       "   year  number-of-laureates  \\\n",
       "0  1901                    1   \n",
       "1  1902                    2   \n",
       "2  1903                    3   \n",
       "3  1904                    1   \n",
       "4  1905                    1   \n",
       "\n",
       "                                          motivation  \n",
       "0  in recognition of the extraordinary services h...  \n",
       "1  in recognition of the extraordinary service th...  \n",
       "2  in recognition of the extraordinary services h...  \n",
       "3  for his investigations of the densities of the...  \n",
       "4                       for his work on cathode rays  "
      ]
     },
     "execution_count": 31,
     "metadata": {},
     "output_type": "execute_result"
    }
   ],
   "source": [
    "physics_df.head()"
   ]
  },
  {
   "cell_type": "code",
   "execution_count": 32,
   "metadata": {},
   "outputs": [],
   "source": [
    "physics_df.to_csv('data/physics-motivations.csv', index=False)"
   ]
  },
  {
   "cell_type": "code",
   "execution_count": 33,
   "metadata": {},
   "outputs": [],
   "source": [
    "chemistry_df = get_category_data(data, 'Chemistry')"
   ]
  },
  {
   "cell_type": "code",
   "execution_count": 34,
   "metadata": {},
   "outputs": [
    {
     "data": {
      "text/html": [
       "<div>\n",
       "<style scoped>\n",
       "    .dataframe tbody tr th:only-of-type {\n",
       "        vertical-align: middle;\n",
       "    }\n",
       "\n",
       "    .dataframe tbody tr th {\n",
       "        vertical-align: top;\n",
       "    }\n",
       "\n",
       "    .dataframe thead th {\n",
       "        text-align: right;\n",
       "    }\n",
       "</style>\n",
       "<table border=\"1\" class=\"dataframe\">\n",
       "  <thead>\n",
       "    <tr style=\"text-align: right;\">\n",
       "      <th></th>\n",
       "      <th>year</th>\n",
       "      <th>number-of-laureates</th>\n",
       "      <th>motivation</th>\n",
       "    </tr>\n",
       "  </thead>\n",
       "  <tbody>\n",
       "    <tr>\n",
       "      <th>0</th>\n",
       "      <td>1901</td>\n",
       "      <td>1</td>\n",
       "      <td>in recognition of the extraordinary services h...</td>\n",
       "    </tr>\n",
       "    <tr>\n",
       "      <th>1</th>\n",
       "      <td>1902</td>\n",
       "      <td>1</td>\n",
       "      <td>in recognition of the extraordinary services h...</td>\n",
       "    </tr>\n",
       "    <tr>\n",
       "      <th>2</th>\n",
       "      <td>1903</td>\n",
       "      <td>1</td>\n",
       "      <td>in recognition of the extraordinary services h...</td>\n",
       "    </tr>\n",
       "    <tr>\n",
       "      <th>3</th>\n",
       "      <td>1904</td>\n",
       "      <td>1</td>\n",
       "      <td>in recognition of his services in the discover...</td>\n",
       "    </tr>\n",
       "    <tr>\n",
       "      <th>4</th>\n",
       "      <td>1905</td>\n",
       "      <td>1</td>\n",
       "      <td>in recognition of his services in the advancem...</td>\n",
       "    </tr>\n",
       "  </tbody>\n",
       "</table>\n",
       "</div>"
      ],
      "text/plain": [
       "   year  number-of-laureates  \\\n",
       "0  1901                    1   \n",
       "1  1902                    1   \n",
       "2  1903                    1   \n",
       "3  1904                    1   \n",
       "4  1905                    1   \n",
       "\n",
       "                                          motivation  \n",
       "0  in recognition of the extraordinary services h...  \n",
       "1  in recognition of the extraordinary services h...  \n",
       "2  in recognition of the extraordinary services h...  \n",
       "3  in recognition of his services in the discover...  \n",
       "4  in recognition of his services in the advancem...  "
      ]
     },
     "execution_count": 34,
     "metadata": {},
     "output_type": "execute_result"
    }
   ],
   "source": [
    "chemistry_df.head()"
   ]
  },
  {
   "cell_type": "code",
   "execution_count": 35,
   "metadata": {},
   "outputs": [],
   "source": [
    "chemistry_df.to_csv('data/chemistry-motivations.csv', index=False)"
   ]
  },
  {
   "cell_type": "code",
   "execution_count": 36,
   "metadata": {},
   "outputs": [],
   "source": [
    "physiology_df = get_category_data(data, 'Physiology or Medicine')"
   ]
  },
  {
   "cell_type": "code",
   "execution_count": 38,
   "metadata": {},
   "outputs": [
    {
     "data": {
      "text/html": [
       "<div>\n",
       "<style scoped>\n",
       "    .dataframe tbody tr th:only-of-type {\n",
       "        vertical-align: middle;\n",
       "    }\n",
       "\n",
       "    .dataframe tbody tr th {\n",
       "        vertical-align: top;\n",
       "    }\n",
       "\n",
       "    .dataframe thead th {\n",
       "        text-align: right;\n",
       "    }\n",
       "</style>\n",
       "<table border=\"1\" class=\"dataframe\">\n",
       "  <thead>\n",
       "    <tr style=\"text-align: right;\">\n",
       "      <th></th>\n",
       "      <th>year</th>\n",
       "      <th>number-of-laureates</th>\n",
       "      <th>motivation</th>\n",
       "    </tr>\n",
       "  </thead>\n",
       "  <tbody>\n",
       "    <tr>\n",
       "      <th>0</th>\n",
       "      <td>1901</td>\n",
       "      <td>1</td>\n",
       "      <td>for his work on serum therapy, especially its ...</td>\n",
       "    </tr>\n",
       "    <tr>\n",
       "      <th>1</th>\n",
       "      <td>1902</td>\n",
       "      <td>1</td>\n",
       "      <td>for his work on malaria, by which he has shown...</td>\n",
       "    </tr>\n",
       "    <tr>\n",
       "      <th>2</th>\n",
       "      <td>1903</td>\n",
       "      <td>1</td>\n",
       "      <td>in recognition of his contribution to the trea...</td>\n",
       "    </tr>\n",
       "    <tr>\n",
       "      <th>3</th>\n",
       "      <td>1904</td>\n",
       "      <td>1</td>\n",
       "      <td>in recognition of his work on the physiology o...</td>\n",
       "    </tr>\n",
       "    <tr>\n",
       "      <th>4</th>\n",
       "      <td>1905</td>\n",
       "      <td>1</td>\n",
       "      <td>for his investigations and discoveries in rela...</td>\n",
       "    </tr>\n",
       "  </tbody>\n",
       "</table>\n",
       "</div>"
      ],
      "text/plain": [
       "   year  number-of-laureates  \\\n",
       "0  1901                    1   \n",
       "1  1902                    1   \n",
       "2  1903                    1   \n",
       "3  1904                    1   \n",
       "4  1905                    1   \n",
       "\n",
       "                                          motivation  \n",
       "0  for his work on serum therapy, especially its ...  \n",
       "1  for his work on malaria, by which he has shown...  \n",
       "2  in recognition of his contribution to the trea...  \n",
       "3  in recognition of his work on the physiology o...  \n",
       "4  for his investigations and discoveries in rela...  "
      ]
     },
     "execution_count": 38,
     "metadata": {},
     "output_type": "execute_result"
    }
   ],
   "source": [
    "physiology_df.head()"
   ]
  },
  {
   "cell_type": "code",
   "execution_count": 39,
   "metadata": {},
   "outputs": [],
   "source": [
    "physiology_df.to_csv('data/physiology-or-biology-motivations.csv', index=False)"
   ]
  },
  {
   "cell_type": "code",
   "execution_count": null,
   "metadata": {},
   "outputs": [],
   "source": []
  }
 ],
 "metadata": {
  "kernelspec": {
   "display_name": "nobels-environment",
   "language": "python",
   "name": "python3"
  },
  "language_info": {
   "codemirror_mode": {
    "name": "ipython",
    "version": 3
   },
   "file_extension": ".py",
   "mimetype": "text/x-python",
   "name": "python",
   "nbconvert_exporter": "python",
   "pygments_lexer": "ipython3",
   "version": "3.12.3"
  }
 },
 "nbformat": 4,
 "nbformat_minor": 2
}
