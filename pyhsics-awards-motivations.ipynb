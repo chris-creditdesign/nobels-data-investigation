{
 "cells": [
  {
   "cell_type": "code",
   "execution_count": 3,
   "metadata": {},
   "outputs": [],
   "source": [
    "import pandas as pd\n",
    "from collections import Counter\n",
    "import re\n",
    "from nltk.corpus import stopwords\n",
    "from nltk.tokenize import word_tokenize\n",
    "import nltk\n",
    "import json"
   ]
  },
  {
   "cell_type": "code",
   "execution_count": 2,
   "metadata": {},
   "outputs": [
    {
     "name": "stderr",
     "output_type": "stream",
     "text": [
      "[nltk_data] Downloading package punkt to /Users/c.ryan/nltk_data...\n",
      "[nltk_data]   Package punkt is already up-to-date!\n",
      "[nltk_data] Downloading package stopwords to\n",
      "[nltk_data]     /Users/c.ryan/nltk_data...\n",
      "[nltk_data]   Package stopwords is already up-to-date!\n"
     ]
    },
    {
     "data": {
      "text/plain": [
       "True"
      ]
     },
     "execution_count": 2,
     "metadata": {},
     "output_type": "execute_result"
    }
   ],
   "source": [
    "# Ensure the necessary NLTK data is downloaded\n",
    "nltk.download('punkt')\n",
    "nltk.download('stopwords')"
   ]
  },
  {
   "cell_type": "code",
   "execution_count": 4,
   "metadata": {},
   "outputs": [],
   "source": [
    "file_path = \"data/prizes-1000.json\""
   ]
  },
  {
   "cell_type": "code",
   "execution_count": 6,
   "metadata": {},
   "outputs": [],
   "source": [
    "with open(file_path, 'r') as file:\n",
    "    data = json.load(file)"
   ]
  },
  {
   "cell_type": "code",
   "execution_count": 11,
   "metadata": {},
   "outputs": [
    {
     "data": {
      "text/plain": [
       "[{'awardYear': '1901',\n",
       "  'category': {'en': 'Chemistry', 'no': 'Kjemi', 'se': 'Kemi'},\n",
       "  'categoryFullName': {'en': 'The Nobel Prize in Chemistry',\n",
       "   'no': 'Nobelprisen i kjemi',\n",
       "   'se': 'Nobelpriset i kemi'},\n",
       "  'dateAwarded': '1901-11-12',\n",
       "  'prizeAmount': 150782,\n",
       "  'prizeAmountAdjusted': 10531894,\n",
       "  'links': [{'rel': 'nobelPrize',\n",
       "    'href': 'https://api.nobelprize.org/2/nobelPrize/che/1901',\n",
       "    'action': 'GET',\n",
       "    'types': 'application/json'}],\n",
       "  'laureates': [{'id': '160',\n",
       "    'knownName': {'en': \"Jacobus H. van 't Hoff\"},\n",
       "    'fullName': {'en': \"Jacobus Henricus van 't Hoff\"},\n",
       "    'portion': '1',\n",
       "    'sortOrder': '1',\n",
       "    'motivation': {'en': 'in recognition of the extraordinary services he has rendered by the discovery of the laws of chemical dynamics and osmotic pressure in solutions',\n",
       "     'se': 'såsom ett erkännande av den utomordentliga förtjänst han inlagt genom upptäckten av lagarna för den kemiska dynamiken och för det osmotiska trycket i lösningar'},\n",
       "    'links': [{'rel': 'laureate',\n",
       "      'href': 'https://api.nobelprize.org/2/laureate/160',\n",
       "      'action': 'GET',\n",
       "      'types': 'application/json'}]}]}]"
      ]
     },
     "execution_count": 11,
     "metadata": {},
     "output_type": "execute_result"
    }
   ],
   "source": [
    "data['nobelPrizes'][:1]"
   ]
  },
  {
   "cell_type": "code",
   "execution_count": 9,
   "metadata": {},
   "outputs": [],
   "source": [
    "prizes = pd.DataFrame(data['nobelPrizes'])"
   ]
  },
  {
   "cell_type": "code",
   "execution_count": 10,
   "metadata": {},
   "outputs": [
    {
     "data": {
      "text/html": [
       "<div>\n",
       "<style scoped>\n",
       "    .dataframe tbody tr th:only-of-type {\n",
       "        vertical-align: middle;\n",
       "    }\n",
       "\n",
       "    .dataframe tbody tr th {\n",
       "        vertical-align: top;\n",
       "    }\n",
       "\n",
       "    .dataframe thead th {\n",
       "        text-align: right;\n",
       "    }\n",
       "</style>\n",
       "<table border=\"1\" class=\"dataframe\">\n",
       "  <thead>\n",
       "    <tr style=\"text-align: right;\">\n",
       "      <th></th>\n",
       "      <th>awardYear</th>\n",
       "      <th>category</th>\n",
       "      <th>categoryFullName</th>\n",
       "      <th>dateAwarded</th>\n",
       "      <th>prizeAmount</th>\n",
       "      <th>prizeAmountAdjusted</th>\n",
       "      <th>links</th>\n",
       "      <th>laureates</th>\n",
       "      <th>topMotivation</th>\n",
       "    </tr>\n",
       "  </thead>\n",
       "  <tbody>\n",
       "    <tr>\n",
       "      <th>0</th>\n",
       "      <td>1901</td>\n",
       "      <td>{'en': 'Chemistry', 'no': 'Kjemi', 'se': 'Kemi'}</td>\n",
       "      <td>{'en': 'The Nobel Prize in Chemistry', 'no': '...</td>\n",
       "      <td>1901-11-12</td>\n",
       "      <td>150782</td>\n",
       "      <td>10531894</td>\n",
       "      <td>[{'rel': 'nobelPrize', 'href': 'https://api.no...</td>\n",
       "      <td>[{'id': '160', 'knownName': {'en': 'Jacobus H....</td>\n",
       "      <td>NaN</td>\n",
       "    </tr>\n",
       "    <tr>\n",
       "      <th>1</th>\n",
       "      <td>1901</td>\n",
       "      <td>{'en': 'Literature', 'no': 'Litteratur', 'se':...</td>\n",
       "      <td>{'en': 'The Nobel Prize in Literature', 'no': ...</td>\n",
       "      <td>1901-11-14</td>\n",
       "      <td>150782</td>\n",
       "      <td>10531894</td>\n",
       "      <td>[{'rel': 'nobelPrize', 'href': 'https://api.no...</td>\n",
       "      <td>[{'id': '569', 'knownName': {'en': 'Sully Prud...</td>\n",
       "      <td>NaN</td>\n",
       "    </tr>\n",
       "    <tr>\n",
       "      <th>2</th>\n",
       "      <td>1901</td>\n",
       "      <td>{'en': 'Peace', 'no': 'Fred', 'se': 'Fred'}</td>\n",
       "      <td>{'en': 'The Nobel Peace Prize', 'no': 'Nobels ...</td>\n",
       "      <td>1901-12-10</td>\n",
       "      <td>150782</td>\n",
       "      <td>10531894</td>\n",
       "      <td>[{'rel': 'nobelPrize', 'href': 'https://api.no...</td>\n",
       "      <td>[{'id': '462', 'knownName': {'en': 'Henry Duna...</td>\n",
       "      <td>NaN</td>\n",
       "    </tr>\n",
       "    <tr>\n",
       "      <th>3</th>\n",
       "      <td>1901</td>\n",
       "      <td>{'en': 'Physics', 'no': 'Fysikk', 'se': 'Fysik'}</td>\n",
       "      <td>{'en': 'The Nobel Prize in Physics', 'no': 'No...</td>\n",
       "      <td>1901-11-12</td>\n",
       "      <td>150782</td>\n",
       "      <td>10531894</td>\n",
       "      <td>[{'rel': 'nobelPrize', 'href': 'https://api.no...</td>\n",
       "      <td>[{'id': '1', 'knownName': {'en': 'Wilhelm Conr...</td>\n",
       "      <td>NaN</td>\n",
       "    </tr>\n",
       "    <tr>\n",
       "      <th>4</th>\n",
       "      <td>1901</td>\n",
       "      <td>{'en': 'Physiology or Medicine', 'no': 'Fysiol...</td>\n",
       "      <td>{'en': 'The Nobel Prize in Physiology or Medic...</td>\n",
       "      <td>1901-10-30</td>\n",
       "      <td>150782</td>\n",
       "      <td>10531894</td>\n",
       "      <td>[{'rel': 'nobelPrize', 'href': 'https://api.no...</td>\n",
       "      <td>[{'id': '293', 'knownName': {'en': 'Emil von B...</td>\n",
       "      <td>NaN</td>\n",
       "    </tr>\n",
       "  </tbody>\n",
       "</table>\n",
       "</div>"
      ],
      "text/plain": [
       "  awardYear                                           category  \\\n",
       "0      1901   {'en': 'Chemistry', 'no': 'Kjemi', 'se': 'Kemi'}   \n",
       "1      1901  {'en': 'Literature', 'no': 'Litteratur', 'se':...   \n",
       "2      1901        {'en': 'Peace', 'no': 'Fred', 'se': 'Fred'}   \n",
       "3      1901   {'en': 'Physics', 'no': 'Fysikk', 'se': 'Fysik'}   \n",
       "4      1901  {'en': 'Physiology or Medicine', 'no': 'Fysiol...   \n",
       "\n",
       "                                    categoryFullName dateAwarded  prizeAmount  \\\n",
       "0  {'en': 'The Nobel Prize in Chemistry', 'no': '...  1901-11-12       150782   \n",
       "1  {'en': 'The Nobel Prize in Literature', 'no': ...  1901-11-14       150782   \n",
       "2  {'en': 'The Nobel Peace Prize', 'no': 'Nobels ...  1901-12-10       150782   \n",
       "3  {'en': 'The Nobel Prize in Physics', 'no': 'No...  1901-11-12       150782   \n",
       "4  {'en': 'The Nobel Prize in Physiology or Medic...  1901-10-30       150782   \n",
       "\n",
       "   prizeAmountAdjusted                                              links  \\\n",
       "0             10531894  [{'rel': 'nobelPrize', 'href': 'https://api.no...   \n",
       "1             10531894  [{'rel': 'nobelPrize', 'href': 'https://api.no...   \n",
       "2             10531894  [{'rel': 'nobelPrize', 'href': 'https://api.no...   \n",
       "3             10531894  [{'rel': 'nobelPrize', 'href': 'https://api.no...   \n",
       "4             10531894  [{'rel': 'nobelPrize', 'href': 'https://api.no...   \n",
       "\n",
       "                                           laureates topMotivation  \n",
       "0  [{'id': '160', 'knownName': {'en': 'Jacobus H....           NaN  \n",
       "1  [{'id': '569', 'knownName': {'en': 'Sully Prud...           NaN  \n",
       "2  [{'id': '462', 'knownName': {'en': 'Henry Duna...           NaN  \n",
       "3  [{'id': '1', 'knownName': {'en': 'Wilhelm Conr...           NaN  \n",
       "4  [{'id': '293', 'knownName': {'en': 'Emil von B...           NaN  "
      ]
     },
     "execution_count": 10,
     "metadata": {},
     "output_type": "execute_result"
    }
   ],
   "source": [
    "prizes.head()"
   ]
  },
  {
   "cell_type": "code",
   "execution_count": 51,
   "metadata": {},
   "outputs": [],
   "source": [
    "nan_entries = prizes[prizes['laureates'].apply(lambda x: isinstance(x, float))]"
   ]
  },
  {
   "cell_type": "code",
   "execution_count": 53,
   "metadata": {},
   "outputs": [
    {
     "data": {
      "text/html": [
       "<div>\n",
       "<style scoped>\n",
       "    .dataframe tbody tr th:only-of-type {\n",
       "        vertical-align: middle;\n",
       "    }\n",
       "\n",
       "    .dataframe tbody tr th {\n",
       "        vertical-align: top;\n",
       "    }\n",
       "\n",
       "    .dataframe thead th {\n",
       "        text-align: right;\n",
       "    }\n",
       "</style>\n",
       "<table border=\"1\" class=\"dataframe\">\n",
       "  <thead>\n",
       "    <tr style=\"text-align: right;\">\n",
       "      <th></th>\n",
       "      <th>awardYear</th>\n",
       "      <th>category</th>\n",
       "      <th>categoryFullName</th>\n",
       "      <th>dateAwarded</th>\n",
       "      <th>prizeAmount</th>\n",
       "      <th>prizeAmountAdjusted</th>\n",
       "      <th>links</th>\n",
       "      <th>laureates</th>\n",
       "      <th>topMotivation</th>\n",
       "    </tr>\n",
       "  </thead>\n",
       "  <tbody>\n",
       "    <tr>\n",
       "      <th>66</th>\n",
       "      <td>1914</td>\n",
       "      <td>{'en': 'Literature', 'no': 'Litteratur', 'se':...</td>\n",
       "      <td>{'en': 'The Nobel Prize in Literature', 'no': ...</td>\n",
       "      <td>NaN</td>\n",
       "      <td>146900</td>\n",
       "      <td>8682167</td>\n",
       "      <td>[{'rel': 'nobelPrize', 'href': 'https://api.no...</td>\n",
       "      <td>NaN</td>\n",
       "      <td>{'en': 'No Nobel Prize was awarded this year. ...</td>\n",
       "    </tr>\n",
       "  </tbody>\n",
       "</table>\n",
       "</div>"
      ],
      "text/plain": [
       "   awardYear                                           category  \\\n",
       "66      1914  {'en': 'Literature', 'no': 'Litteratur', 'se':...   \n",
       "\n",
       "                                     categoryFullName dateAwarded  \\\n",
       "66  {'en': 'The Nobel Prize in Literature', 'no': ...         NaN   \n",
       "\n",
       "    prizeAmount  prizeAmountAdjusted  \\\n",
       "66       146900              8682167   \n",
       "\n",
       "                                                links laureates  \\\n",
       "66  [{'rel': 'nobelPrize', 'href': 'https://api.no...       NaN   \n",
       "\n",
       "                                        topMotivation  \n",
       "66  {'en': 'No Nobel Prize was awarded this year. ...  "
      ]
     },
     "execution_count": 53,
     "metadata": {},
     "output_type": "execute_result"
    }
   ],
   "source": [
    "nan_entries.head(1)"
   ]
  },
  {
   "cell_type": "code",
   "execution_count": 80,
   "metadata": {},
   "outputs": [],
   "source": [
    "# Remove the entires with no laureates\n",
    "prizes_no_nan = prizes.dropna(subset=['laureates'])"
   ]
  },
  {
   "cell_type": "code",
   "execution_count": 81,
   "metadata": {},
   "outputs": [
    {
     "data": {
      "text/html": [
       "<div>\n",
       "<style scoped>\n",
       "    .dataframe tbody tr th:only-of-type {\n",
       "        vertical-align: middle;\n",
       "    }\n",
       "\n",
       "    .dataframe tbody tr th {\n",
       "        vertical-align: top;\n",
       "    }\n",
       "\n",
       "    .dataframe thead th {\n",
       "        text-align: right;\n",
       "    }\n",
       "</style>\n",
       "<table border=\"1\" class=\"dataframe\">\n",
       "  <thead>\n",
       "    <tr style=\"text-align: right;\">\n",
       "      <th></th>\n",
       "      <th>awardYear</th>\n",
       "      <th>category</th>\n",
       "      <th>categoryFullName</th>\n",
       "      <th>dateAwarded</th>\n",
       "      <th>prizeAmount</th>\n",
       "      <th>prizeAmountAdjusted</th>\n",
       "      <th>links</th>\n",
       "      <th>laureates</th>\n",
       "      <th>topMotivation</th>\n",
       "    </tr>\n",
       "  </thead>\n",
       "  <tbody>\n",
       "    <tr>\n",
       "      <th>0</th>\n",
       "      <td>1901</td>\n",
       "      <td>{'en': 'Chemistry', 'no': 'Kjemi', 'se': 'Kemi'}</td>\n",
       "      <td>{'en': 'The Nobel Prize in Chemistry', 'no': '...</td>\n",
       "      <td>1901-11-12</td>\n",
       "      <td>150782</td>\n",
       "      <td>10531894</td>\n",
       "      <td>[{'rel': 'nobelPrize', 'href': 'https://api.no...</td>\n",
       "      <td>[{'id': '160', 'knownName': {'en': 'Jacobus H....</td>\n",
       "      <td>NaN</td>\n",
       "    </tr>\n",
       "    <tr>\n",
       "      <th>1</th>\n",
       "      <td>1901</td>\n",
       "      <td>{'en': 'Literature', 'no': 'Litteratur', 'se':...</td>\n",
       "      <td>{'en': 'The Nobel Prize in Literature', 'no': ...</td>\n",
       "      <td>1901-11-14</td>\n",
       "      <td>150782</td>\n",
       "      <td>10531894</td>\n",
       "      <td>[{'rel': 'nobelPrize', 'href': 'https://api.no...</td>\n",
       "      <td>[{'id': '569', 'knownName': {'en': 'Sully Prud...</td>\n",
       "      <td>NaN</td>\n",
       "    </tr>\n",
       "    <tr>\n",
       "      <th>2</th>\n",
       "      <td>1901</td>\n",
       "      <td>{'en': 'Peace', 'no': 'Fred', 'se': 'Fred'}</td>\n",
       "      <td>{'en': 'The Nobel Peace Prize', 'no': 'Nobels ...</td>\n",
       "      <td>1901-12-10</td>\n",
       "      <td>150782</td>\n",
       "      <td>10531894</td>\n",
       "      <td>[{'rel': 'nobelPrize', 'href': 'https://api.no...</td>\n",
       "      <td>[{'id': '462', 'knownName': {'en': 'Henry Duna...</td>\n",
       "      <td>NaN</td>\n",
       "    </tr>\n",
       "    <tr>\n",
       "      <th>3</th>\n",
       "      <td>1901</td>\n",
       "      <td>{'en': 'Physics', 'no': 'Fysikk', 'se': 'Fysik'}</td>\n",
       "      <td>{'en': 'The Nobel Prize in Physics', 'no': 'No...</td>\n",
       "      <td>1901-11-12</td>\n",
       "      <td>150782</td>\n",
       "      <td>10531894</td>\n",
       "      <td>[{'rel': 'nobelPrize', 'href': 'https://api.no...</td>\n",
       "      <td>[{'id': '1', 'knownName': {'en': 'Wilhelm Conr...</td>\n",
       "      <td>NaN</td>\n",
       "    </tr>\n",
       "    <tr>\n",
       "      <th>4</th>\n",
       "      <td>1901</td>\n",
       "      <td>{'en': 'Physiology or Medicine', 'no': 'Fysiol...</td>\n",
       "      <td>{'en': 'The Nobel Prize in Physiology or Medic...</td>\n",
       "      <td>1901-10-30</td>\n",
       "      <td>150782</td>\n",
       "      <td>10531894</td>\n",
       "      <td>[{'rel': 'nobelPrize', 'href': 'https://api.no...</td>\n",
       "      <td>[{'id': '293', 'knownName': {'en': 'Emil von B...</td>\n",
       "      <td>NaN</td>\n",
       "    </tr>\n",
       "  </tbody>\n",
       "</table>\n",
       "</div>"
      ],
      "text/plain": [
       "  awardYear                                           category  \\\n",
       "0      1901   {'en': 'Chemistry', 'no': 'Kjemi', 'se': 'Kemi'}   \n",
       "1      1901  {'en': 'Literature', 'no': 'Litteratur', 'se':...   \n",
       "2      1901        {'en': 'Peace', 'no': 'Fred', 'se': 'Fred'}   \n",
       "3      1901   {'en': 'Physics', 'no': 'Fysikk', 'se': 'Fysik'}   \n",
       "4      1901  {'en': 'Physiology or Medicine', 'no': 'Fysiol...   \n",
       "\n",
       "                                    categoryFullName dateAwarded  prizeAmount  \\\n",
       "0  {'en': 'The Nobel Prize in Chemistry', 'no': '...  1901-11-12       150782   \n",
       "1  {'en': 'The Nobel Prize in Literature', 'no': ...  1901-11-14       150782   \n",
       "2  {'en': 'The Nobel Peace Prize', 'no': 'Nobels ...  1901-12-10       150782   \n",
       "3  {'en': 'The Nobel Prize in Physics', 'no': 'No...  1901-11-12       150782   \n",
       "4  {'en': 'The Nobel Prize in Physiology or Medic...  1901-10-30       150782   \n",
       "\n",
       "   prizeAmountAdjusted                                              links  \\\n",
       "0             10531894  [{'rel': 'nobelPrize', 'href': 'https://api.no...   \n",
       "1             10531894  [{'rel': 'nobelPrize', 'href': 'https://api.no...   \n",
       "2             10531894  [{'rel': 'nobelPrize', 'href': 'https://api.no...   \n",
       "3             10531894  [{'rel': 'nobelPrize', 'href': 'https://api.no...   \n",
       "4             10531894  [{'rel': 'nobelPrize', 'href': 'https://api.no...   \n",
       "\n",
       "                                           laureates topMotivation  \n",
       "0  [{'id': '160', 'knownName': {'en': 'Jacobus H....           NaN  \n",
       "1  [{'id': '569', 'knownName': {'en': 'Sully Prud...           NaN  \n",
       "2  [{'id': '462', 'knownName': {'en': 'Henry Duna...           NaN  \n",
       "3  [{'id': '1', 'knownName': {'en': 'Wilhelm Conr...           NaN  \n",
       "4  [{'id': '293', 'knownName': {'en': 'Emil von B...           NaN  "
      ]
     },
     "execution_count": 81,
     "metadata": {},
     "output_type": "execute_result"
    }
   ],
   "source": [
    "prizes_no_nan.head()"
   ]
  },
  {
   "cell_type": "code",
   "execution_count": 56,
   "metadata": {},
   "outputs": [
    {
     "name": "stdout",
     "output_type": "stream",
     "text": [
      "3\n"
     ]
    }
   ],
   "source": [
    "max_length = prizes_no_nan['laureates'].apply(len).max()\n",
    "print(max_length)"
   ]
  },
  {
   "cell_type": "code",
   "execution_count": 70,
   "metadata": {},
   "outputs": [
    {
     "data": {
      "text/plain": [
       "'in recognition of the extraordinary services he has rendered by the discovery of the laws of chemical dynamics and osmotic pressure in solutions'"
      ]
     },
     "execution_count": 70,
     "metadata": {},
     "output_type": "execute_result"
    }
   ],
   "source": [
    "prizes_no_nan['laureates'].iloc[0][0].get('motivation').get('en')"
   ]
  },
  {
   "cell_type": "code",
   "execution_count": 83,
   "metadata": {},
   "outputs": [
    {
     "data": {
      "text/plain": [
       "{'en': 'Chemistry', 'no': 'Kjemi', 'se': 'Kemi'}"
      ]
     },
     "execution_count": 83,
     "metadata": {},
     "output_type": "execute_result"
    }
   ],
   "source": [
    "prizes_no_nan['category'].iloc[0]"
   ]
  },
  {
   "cell_type": "code",
   "execution_count": 84,
   "metadata": {},
   "outputs": [],
   "source": [
    "prizes_no_nan.loc[:, 'simple_category'] = prizes_no_nan['category'].apply(lambda x: x.get('en'))"
   ]
  },
  {
   "cell_type": "code",
   "execution_count": 86,
   "metadata": {},
   "outputs": [
    {
     "data": {
      "text/html": [
       "<div>\n",
       "<style scoped>\n",
       "    .dataframe tbody tr th:only-of-type {\n",
       "        vertical-align: middle;\n",
       "    }\n",
       "\n",
       "    .dataframe tbody tr th {\n",
       "        vertical-align: top;\n",
       "    }\n",
       "\n",
       "    .dataframe thead th {\n",
       "        text-align: right;\n",
       "    }\n",
       "</style>\n",
       "<table border=\"1\" class=\"dataframe\">\n",
       "  <thead>\n",
       "    <tr style=\"text-align: right;\">\n",
       "      <th></th>\n",
       "      <th>awardYear</th>\n",
       "      <th>category</th>\n",
       "      <th>categoryFullName</th>\n",
       "      <th>dateAwarded</th>\n",
       "      <th>prizeAmount</th>\n",
       "      <th>prizeAmountAdjusted</th>\n",
       "      <th>links</th>\n",
       "      <th>laureates</th>\n",
       "      <th>topMotivation</th>\n",
       "      <th>simple_category</th>\n",
       "    </tr>\n",
       "  </thead>\n",
       "  <tbody>\n",
       "    <tr>\n",
       "      <th>0</th>\n",
       "      <td>1901</td>\n",
       "      <td>{'en': 'Chemistry', 'no': 'Kjemi', 'se': 'Kemi'}</td>\n",
       "      <td>{'en': 'The Nobel Prize in Chemistry', 'no': '...</td>\n",
       "      <td>1901-11-12</td>\n",
       "      <td>150782</td>\n",
       "      <td>10531894</td>\n",
       "      <td>[{'rel': 'nobelPrize', 'href': 'https://api.no...</td>\n",
       "      <td>[{'id': '160', 'knownName': {'en': 'Jacobus H....</td>\n",
       "      <td>NaN</td>\n",
       "      <td>Chemistry</td>\n",
       "    </tr>\n",
       "    <tr>\n",
       "      <th>1</th>\n",
       "      <td>1901</td>\n",
       "      <td>{'en': 'Literature', 'no': 'Litteratur', 'se':...</td>\n",
       "      <td>{'en': 'The Nobel Prize in Literature', 'no': ...</td>\n",
       "      <td>1901-11-14</td>\n",
       "      <td>150782</td>\n",
       "      <td>10531894</td>\n",
       "      <td>[{'rel': 'nobelPrize', 'href': 'https://api.no...</td>\n",
       "      <td>[{'id': '569', 'knownName': {'en': 'Sully Prud...</td>\n",
       "      <td>NaN</td>\n",
       "      <td>Literature</td>\n",
       "    </tr>\n",
       "    <tr>\n",
       "      <th>2</th>\n",
       "      <td>1901</td>\n",
       "      <td>{'en': 'Peace', 'no': 'Fred', 'se': 'Fred'}</td>\n",
       "      <td>{'en': 'The Nobel Peace Prize', 'no': 'Nobels ...</td>\n",
       "      <td>1901-12-10</td>\n",
       "      <td>150782</td>\n",
       "      <td>10531894</td>\n",
       "      <td>[{'rel': 'nobelPrize', 'href': 'https://api.no...</td>\n",
       "      <td>[{'id': '462', 'knownName': {'en': 'Henry Duna...</td>\n",
       "      <td>NaN</td>\n",
       "      <td>Peace</td>\n",
       "    </tr>\n",
       "    <tr>\n",
       "      <th>3</th>\n",
       "      <td>1901</td>\n",
       "      <td>{'en': 'Physics', 'no': 'Fysikk', 'se': 'Fysik'}</td>\n",
       "      <td>{'en': 'The Nobel Prize in Physics', 'no': 'No...</td>\n",
       "      <td>1901-11-12</td>\n",
       "      <td>150782</td>\n",
       "      <td>10531894</td>\n",
       "      <td>[{'rel': 'nobelPrize', 'href': 'https://api.no...</td>\n",
       "      <td>[{'id': '1', 'knownName': {'en': 'Wilhelm Conr...</td>\n",
       "      <td>NaN</td>\n",
       "      <td>Physics</td>\n",
       "    </tr>\n",
       "    <tr>\n",
       "      <th>4</th>\n",
       "      <td>1901</td>\n",
       "      <td>{'en': 'Physiology or Medicine', 'no': 'Fysiol...</td>\n",
       "      <td>{'en': 'The Nobel Prize in Physiology or Medic...</td>\n",
       "      <td>1901-10-30</td>\n",
       "      <td>150782</td>\n",
       "      <td>10531894</td>\n",
       "      <td>[{'rel': 'nobelPrize', 'href': 'https://api.no...</td>\n",
       "      <td>[{'id': '293', 'knownName': {'en': 'Emil von B...</td>\n",
       "      <td>NaN</td>\n",
       "      <td>Physiology or Medicine</td>\n",
       "    </tr>\n",
       "  </tbody>\n",
       "</table>\n",
       "</div>"
      ],
      "text/plain": [
       "  awardYear                                           category  \\\n",
       "0      1901   {'en': 'Chemistry', 'no': 'Kjemi', 'se': 'Kemi'}   \n",
       "1      1901  {'en': 'Literature', 'no': 'Litteratur', 'se':...   \n",
       "2      1901        {'en': 'Peace', 'no': 'Fred', 'se': 'Fred'}   \n",
       "3      1901   {'en': 'Physics', 'no': 'Fysikk', 'se': 'Fysik'}   \n",
       "4      1901  {'en': 'Physiology or Medicine', 'no': 'Fysiol...   \n",
       "\n",
       "                                    categoryFullName dateAwarded  prizeAmount  \\\n",
       "0  {'en': 'The Nobel Prize in Chemistry', 'no': '...  1901-11-12       150782   \n",
       "1  {'en': 'The Nobel Prize in Literature', 'no': ...  1901-11-14       150782   \n",
       "2  {'en': 'The Nobel Peace Prize', 'no': 'Nobels ...  1901-12-10       150782   \n",
       "3  {'en': 'The Nobel Prize in Physics', 'no': 'No...  1901-11-12       150782   \n",
       "4  {'en': 'The Nobel Prize in Physiology or Medic...  1901-10-30       150782   \n",
       "\n",
       "   prizeAmountAdjusted                                              links  \\\n",
       "0             10531894  [{'rel': 'nobelPrize', 'href': 'https://api.no...   \n",
       "1             10531894  [{'rel': 'nobelPrize', 'href': 'https://api.no...   \n",
       "2             10531894  [{'rel': 'nobelPrize', 'href': 'https://api.no...   \n",
       "3             10531894  [{'rel': 'nobelPrize', 'href': 'https://api.no...   \n",
       "4             10531894  [{'rel': 'nobelPrize', 'href': 'https://api.no...   \n",
       "\n",
       "                                           laureates topMotivation  \\\n",
       "0  [{'id': '160', 'knownName': {'en': 'Jacobus H....           NaN   \n",
       "1  [{'id': '569', 'knownName': {'en': 'Sully Prud...           NaN   \n",
       "2  [{'id': '462', 'knownName': {'en': 'Henry Duna...           NaN   \n",
       "3  [{'id': '1', 'knownName': {'en': 'Wilhelm Conr...           NaN   \n",
       "4  [{'id': '293', 'knownName': {'en': 'Emil von B...           NaN   \n",
       "\n",
       "          simple_category  \n",
       "0               Chemistry  \n",
       "1              Literature  \n",
       "2                   Peace  \n",
       "3                 Physics  \n",
       "4  Physiology or Medicine  "
      ]
     },
     "execution_count": 86,
     "metadata": {},
     "output_type": "execute_result"
    }
   ],
   "source": [
    "prizes_no_nan.head()"
   ]
  },
  {
   "cell_type": "code",
   "execution_count": 98,
   "metadata": {},
   "outputs": [],
   "source": [
    "prizes_exploded = prizes_no_nan.explode('laureates')"
   ]
  },
  {
   "cell_type": "code",
   "execution_count": 99,
   "metadata": {},
   "outputs": [
    {
     "data": {
      "text/html": [
       "<div>\n",
       "<style scoped>\n",
       "    .dataframe tbody tr th:only-of-type {\n",
       "        vertical-align: middle;\n",
       "    }\n",
       "\n",
       "    .dataframe tbody tr th {\n",
       "        vertical-align: top;\n",
       "    }\n",
       "\n",
       "    .dataframe thead th {\n",
       "        text-align: right;\n",
       "    }\n",
       "</style>\n",
       "<table border=\"1\" class=\"dataframe\">\n",
       "  <thead>\n",
       "    <tr style=\"text-align: right;\">\n",
       "      <th></th>\n",
       "      <th>awardYear</th>\n",
       "      <th>category</th>\n",
       "      <th>categoryFullName</th>\n",
       "      <th>dateAwarded</th>\n",
       "      <th>prizeAmount</th>\n",
       "      <th>prizeAmountAdjusted</th>\n",
       "      <th>links</th>\n",
       "      <th>laureates</th>\n",
       "      <th>topMotivation</th>\n",
       "      <th>simple_category</th>\n",
       "    </tr>\n",
       "  </thead>\n",
       "  <tbody>\n",
       "    <tr>\n",
       "      <th>0</th>\n",
       "      <td>1901</td>\n",
       "      <td>{'en': 'Chemistry', 'no': 'Kjemi', 'se': 'Kemi'}</td>\n",
       "      <td>{'en': 'The Nobel Prize in Chemistry', 'no': '...</td>\n",
       "      <td>1901-11-12</td>\n",
       "      <td>150782</td>\n",
       "      <td>10531894</td>\n",
       "      <td>[{'rel': 'nobelPrize', 'href': 'https://api.no...</td>\n",
       "      <td>{'id': '160', 'knownName': {'en': 'Jacobus H. ...</td>\n",
       "      <td>NaN</td>\n",
       "      <td>Chemistry</td>\n",
       "    </tr>\n",
       "    <tr>\n",
       "      <th>1</th>\n",
       "      <td>1901</td>\n",
       "      <td>{'en': 'Literature', 'no': 'Litteratur', 'se':...</td>\n",
       "      <td>{'en': 'The Nobel Prize in Literature', 'no': ...</td>\n",
       "      <td>1901-11-14</td>\n",
       "      <td>150782</td>\n",
       "      <td>10531894</td>\n",
       "      <td>[{'rel': 'nobelPrize', 'href': 'https://api.no...</td>\n",
       "      <td>{'id': '569', 'knownName': {'en': 'Sully Prudh...</td>\n",
       "      <td>NaN</td>\n",
       "      <td>Literature</td>\n",
       "    </tr>\n",
       "    <tr>\n",
       "      <th>2</th>\n",
       "      <td>1901</td>\n",
       "      <td>{'en': 'Peace', 'no': 'Fred', 'se': 'Fred'}</td>\n",
       "      <td>{'en': 'The Nobel Peace Prize', 'no': 'Nobels ...</td>\n",
       "      <td>1901-12-10</td>\n",
       "      <td>150782</td>\n",
       "      <td>10531894</td>\n",
       "      <td>[{'rel': 'nobelPrize', 'href': 'https://api.no...</td>\n",
       "      <td>{'id': '462', 'knownName': {'en': 'Henry Dunan...</td>\n",
       "      <td>NaN</td>\n",
       "      <td>Peace</td>\n",
       "    </tr>\n",
       "    <tr>\n",
       "      <th>2</th>\n",
       "      <td>1901</td>\n",
       "      <td>{'en': 'Peace', 'no': 'Fred', 'se': 'Fred'}</td>\n",
       "      <td>{'en': 'The Nobel Peace Prize', 'no': 'Nobels ...</td>\n",
       "      <td>1901-12-10</td>\n",
       "      <td>150782</td>\n",
       "      <td>10531894</td>\n",
       "      <td>[{'rel': 'nobelPrize', 'href': 'https://api.no...</td>\n",
       "      <td>{'id': '463', 'knownName': {'en': 'Frédéric Pa...</td>\n",
       "      <td>NaN</td>\n",
       "      <td>Peace</td>\n",
       "    </tr>\n",
       "    <tr>\n",
       "      <th>3</th>\n",
       "      <td>1901</td>\n",
       "      <td>{'en': 'Physics', 'no': 'Fysikk', 'se': 'Fysik'}</td>\n",
       "      <td>{'en': 'The Nobel Prize in Physics', 'no': 'No...</td>\n",
       "      <td>1901-11-12</td>\n",
       "      <td>150782</td>\n",
       "      <td>10531894</td>\n",
       "      <td>[{'rel': 'nobelPrize', 'href': 'https://api.no...</td>\n",
       "      <td>{'id': '1', 'knownName': {'en': 'Wilhelm Conra...</td>\n",
       "      <td>NaN</td>\n",
       "      <td>Physics</td>\n",
       "    </tr>\n",
       "  </tbody>\n",
       "</table>\n",
       "</div>"
      ],
      "text/plain": [
       "  awardYear                                           category  \\\n",
       "0      1901   {'en': 'Chemistry', 'no': 'Kjemi', 'se': 'Kemi'}   \n",
       "1      1901  {'en': 'Literature', 'no': 'Litteratur', 'se':...   \n",
       "2      1901        {'en': 'Peace', 'no': 'Fred', 'se': 'Fred'}   \n",
       "2      1901        {'en': 'Peace', 'no': 'Fred', 'se': 'Fred'}   \n",
       "3      1901   {'en': 'Physics', 'no': 'Fysikk', 'se': 'Fysik'}   \n",
       "\n",
       "                                    categoryFullName dateAwarded  prizeAmount  \\\n",
       "0  {'en': 'The Nobel Prize in Chemistry', 'no': '...  1901-11-12       150782   \n",
       "1  {'en': 'The Nobel Prize in Literature', 'no': ...  1901-11-14       150782   \n",
       "2  {'en': 'The Nobel Peace Prize', 'no': 'Nobels ...  1901-12-10       150782   \n",
       "2  {'en': 'The Nobel Peace Prize', 'no': 'Nobels ...  1901-12-10       150782   \n",
       "3  {'en': 'The Nobel Prize in Physics', 'no': 'No...  1901-11-12       150782   \n",
       "\n",
       "   prizeAmountAdjusted                                              links  \\\n",
       "0             10531894  [{'rel': 'nobelPrize', 'href': 'https://api.no...   \n",
       "1             10531894  [{'rel': 'nobelPrize', 'href': 'https://api.no...   \n",
       "2             10531894  [{'rel': 'nobelPrize', 'href': 'https://api.no...   \n",
       "2             10531894  [{'rel': 'nobelPrize', 'href': 'https://api.no...   \n",
       "3             10531894  [{'rel': 'nobelPrize', 'href': 'https://api.no...   \n",
       "\n",
       "                                           laureates topMotivation  \\\n",
       "0  {'id': '160', 'knownName': {'en': 'Jacobus H. ...           NaN   \n",
       "1  {'id': '569', 'knownName': {'en': 'Sully Prudh...           NaN   \n",
       "2  {'id': '462', 'knownName': {'en': 'Henry Dunan...           NaN   \n",
       "2  {'id': '463', 'knownName': {'en': 'Frédéric Pa...           NaN   \n",
       "3  {'id': '1', 'knownName': {'en': 'Wilhelm Conra...           NaN   \n",
       "\n",
       "  simple_category  \n",
       "0       Chemistry  \n",
       "1      Literature  \n",
       "2           Peace  \n",
       "2           Peace  \n",
       "3         Physics  "
      ]
     },
     "execution_count": 99,
     "metadata": {},
     "output_type": "execute_result"
    }
   ],
   "source": [
    "prizes_exploded.head()"
   ]
  },
  {
   "cell_type": "code",
   "execution_count": 107,
   "metadata": {},
   "outputs": [
    {
     "data": {
      "text/plain": [
       "'in recognition of the extraordinary services he has rendered by the discovery of the laws of chemical dynamics and osmotic pressure in solutions'"
      ]
     },
     "execution_count": 107,
     "metadata": {},
     "output_type": "execute_result"
    }
   ],
   "source": [
    "prizes_exploded['laureates'].iloc[0].get('motivation').get('en')"
   ]
  },
  {
   "cell_type": "code",
   "execution_count": 108,
   "metadata": {},
   "outputs": [],
   "source": [
    "prizes_exploded.loc[:, 'motivation'] = prizes_exploded['laureates'].apply(lambda x: x.get('motivation').get('en'))"
   ]
  },
  {
   "cell_type": "code",
   "execution_count": 109,
   "metadata": {},
   "outputs": [
    {
     "data": {
      "text/html": [
       "<div>\n",
       "<style scoped>\n",
       "    .dataframe tbody tr th:only-of-type {\n",
       "        vertical-align: middle;\n",
       "    }\n",
       "\n",
       "    .dataframe tbody tr th {\n",
       "        vertical-align: top;\n",
       "    }\n",
       "\n",
       "    .dataframe thead th {\n",
       "        text-align: right;\n",
       "    }\n",
       "</style>\n",
       "<table border=\"1\" class=\"dataframe\">\n",
       "  <thead>\n",
       "    <tr style=\"text-align: right;\">\n",
       "      <th></th>\n",
       "      <th>awardYear</th>\n",
       "      <th>category</th>\n",
       "      <th>categoryFullName</th>\n",
       "      <th>dateAwarded</th>\n",
       "      <th>prizeAmount</th>\n",
       "      <th>prizeAmountAdjusted</th>\n",
       "      <th>links</th>\n",
       "      <th>laureates</th>\n",
       "      <th>topMotivation</th>\n",
       "      <th>simple_category</th>\n",
       "      <th>motivation</th>\n",
       "    </tr>\n",
       "  </thead>\n",
       "  <tbody>\n",
       "    <tr>\n",
       "      <th>0</th>\n",
       "      <td>1901</td>\n",
       "      <td>{'en': 'Chemistry', 'no': 'Kjemi', 'se': 'Kemi'}</td>\n",
       "      <td>{'en': 'The Nobel Prize in Chemistry', 'no': '...</td>\n",
       "      <td>1901-11-12</td>\n",
       "      <td>150782</td>\n",
       "      <td>10531894</td>\n",
       "      <td>[{'rel': 'nobelPrize', 'href': 'https://api.no...</td>\n",
       "      <td>{'id': '160', 'knownName': {'en': 'Jacobus H. ...</td>\n",
       "      <td>NaN</td>\n",
       "      <td>Chemistry</td>\n",
       "      <td>in recognition of the extraordinary services h...</td>\n",
       "    </tr>\n",
       "    <tr>\n",
       "      <th>1</th>\n",
       "      <td>1901</td>\n",
       "      <td>{'en': 'Literature', 'no': 'Litteratur', 'se':...</td>\n",
       "      <td>{'en': 'The Nobel Prize in Literature', 'no': ...</td>\n",
       "      <td>1901-11-14</td>\n",
       "      <td>150782</td>\n",
       "      <td>10531894</td>\n",
       "      <td>[{'rel': 'nobelPrize', 'href': 'https://api.no...</td>\n",
       "      <td>{'id': '569', 'knownName': {'en': 'Sully Prudh...</td>\n",
       "      <td>NaN</td>\n",
       "      <td>Literature</td>\n",
       "      <td>in special recognition of his poetic compositi...</td>\n",
       "    </tr>\n",
       "    <tr>\n",
       "      <th>2</th>\n",
       "      <td>1901</td>\n",
       "      <td>{'en': 'Peace', 'no': 'Fred', 'se': 'Fred'}</td>\n",
       "      <td>{'en': 'The Nobel Peace Prize', 'no': 'Nobels ...</td>\n",
       "      <td>1901-12-10</td>\n",
       "      <td>150782</td>\n",
       "      <td>10531894</td>\n",
       "      <td>[{'rel': 'nobelPrize', 'href': 'https://api.no...</td>\n",
       "      <td>{'id': '462', 'knownName': {'en': 'Henry Dunan...</td>\n",
       "      <td>NaN</td>\n",
       "      <td>Peace</td>\n",
       "      <td>for his humanitarian efforts to help wounded s...</td>\n",
       "    </tr>\n",
       "    <tr>\n",
       "      <th>2</th>\n",
       "      <td>1901</td>\n",
       "      <td>{'en': 'Peace', 'no': 'Fred', 'se': 'Fred'}</td>\n",
       "      <td>{'en': 'The Nobel Peace Prize', 'no': 'Nobels ...</td>\n",
       "      <td>1901-12-10</td>\n",
       "      <td>150782</td>\n",
       "      <td>10531894</td>\n",
       "      <td>[{'rel': 'nobelPrize', 'href': 'https://api.no...</td>\n",
       "      <td>{'id': '463', 'knownName': {'en': 'Frédéric Pa...</td>\n",
       "      <td>NaN</td>\n",
       "      <td>Peace</td>\n",
       "      <td>for his lifelong work for international peace ...</td>\n",
       "    </tr>\n",
       "    <tr>\n",
       "      <th>3</th>\n",
       "      <td>1901</td>\n",
       "      <td>{'en': 'Physics', 'no': 'Fysikk', 'se': 'Fysik'}</td>\n",
       "      <td>{'en': 'The Nobel Prize in Physics', 'no': 'No...</td>\n",
       "      <td>1901-11-12</td>\n",
       "      <td>150782</td>\n",
       "      <td>10531894</td>\n",
       "      <td>[{'rel': 'nobelPrize', 'href': 'https://api.no...</td>\n",
       "      <td>{'id': '1', 'knownName': {'en': 'Wilhelm Conra...</td>\n",
       "      <td>NaN</td>\n",
       "      <td>Physics</td>\n",
       "      <td>in recognition of the extraordinary services h...</td>\n",
       "    </tr>\n",
       "  </tbody>\n",
       "</table>\n",
       "</div>"
      ],
      "text/plain": [
       "  awardYear                                           category  \\\n",
       "0      1901   {'en': 'Chemistry', 'no': 'Kjemi', 'se': 'Kemi'}   \n",
       "1      1901  {'en': 'Literature', 'no': 'Litteratur', 'se':...   \n",
       "2      1901        {'en': 'Peace', 'no': 'Fred', 'se': 'Fred'}   \n",
       "2      1901        {'en': 'Peace', 'no': 'Fred', 'se': 'Fred'}   \n",
       "3      1901   {'en': 'Physics', 'no': 'Fysikk', 'se': 'Fysik'}   \n",
       "\n",
       "                                    categoryFullName dateAwarded  prizeAmount  \\\n",
       "0  {'en': 'The Nobel Prize in Chemistry', 'no': '...  1901-11-12       150782   \n",
       "1  {'en': 'The Nobel Prize in Literature', 'no': ...  1901-11-14       150782   \n",
       "2  {'en': 'The Nobel Peace Prize', 'no': 'Nobels ...  1901-12-10       150782   \n",
       "2  {'en': 'The Nobel Peace Prize', 'no': 'Nobels ...  1901-12-10       150782   \n",
       "3  {'en': 'The Nobel Prize in Physics', 'no': 'No...  1901-11-12       150782   \n",
       "\n",
       "   prizeAmountAdjusted                                              links  \\\n",
       "0             10531894  [{'rel': 'nobelPrize', 'href': 'https://api.no...   \n",
       "1             10531894  [{'rel': 'nobelPrize', 'href': 'https://api.no...   \n",
       "2             10531894  [{'rel': 'nobelPrize', 'href': 'https://api.no...   \n",
       "2             10531894  [{'rel': 'nobelPrize', 'href': 'https://api.no...   \n",
       "3             10531894  [{'rel': 'nobelPrize', 'href': 'https://api.no...   \n",
       "\n",
       "                                           laureates topMotivation  \\\n",
       "0  {'id': '160', 'knownName': {'en': 'Jacobus H. ...           NaN   \n",
       "1  {'id': '569', 'knownName': {'en': 'Sully Prudh...           NaN   \n",
       "2  {'id': '462', 'knownName': {'en': 'Henry Dunan...           NaN   \n",
       "2  {'id': '463', 'knownName': {'en': 'Frédéric Pa...           NaN   \n",
       "3  {'id': '1', 'knownName': {'en': 'Wilhelm Conra...           NaN   \n",
       "\n",
       "  simple_category                                         motivation  \n",
       "0       Chemistry  in recognition of the extraordinary services h...  \n",
       "1      Literature  in special recognition of his poetic compositi...  \n",
       "2           Peace  for his humanitarian efforts to help wounded s...  \n",
       "2           Peace  for his lifelong work for international peace ...  \n",
       "3         Physics  in recognition of the extraordinary services h...  "
      ]
     },
     "execution_count": 109,
     "metadata": {},
     "output_type": "execute_result"
    }
   ],
   "source": [
    "prizes_exploded.head()"
   ]
  },
  {
   "cell_type": "code",
   "execution_count": 111,
   "metadata": {},
   "outputs": [],
   "source": [
    "prizes_simple = prizes_exploded[['awardYear', 'simple_category', 'motivation']]"
   ]
  },
  {
   "cell_type": "code",
   "execution_count": 112,
   "metadata": {},
   "outputs": [
    {
     "data": {
      "text/html": [
       "<div>\n",
       "<style scoped>\n",
       "    .dataframe tbody tr th:only-of-type {\n",
       "        vertical-align: middle;\n",
       "    }\n",
       "\n",
       "    .dataframe tbody tr th {\n",
       "        vertical-align: top;\n",
       "    }\n",
       "\n",
       "    .dataframe thead th {\n",
       "        text-align: right;\n",
       "    }\n",
       "</style>\n",
       "<table border=\"1\" class=\"dataframe\">\n",
       "  <thead>\n",
       "    <tr style=\"text-align: right;\">\n",
       "      <th></th>\n",
       "      <th>awardYear</th>\n",
       "      <th>simple_category</th>\n",
       "      <th>motivation</th>\n",
       "    </tr>\n",
       "  </thead>\n",
       "  <tbody>\n",
       "    <tr>\n",
       "      <th>0</th>\n",
       "      <td>1901</td>\n",
       "      <td>Chemistry</td>\n",
       "      <td>in recognition of the extraordinary services h...</td>\n",
       "    </tr>\n",
       "    <tr>\n",
       "      <th>1</th>\n",
       "      <td>1901</td>\n",
       "      <td>Literature</td>\n",
       "      <td>in special recognition of his poetic compositi...</td>\n",
       "    </tr>\n",
       "    <tr>\n",
       "      <th>2</th>\n",
       "      <td>1901</td>\n",
       "      <td>Peace</td>\n",
       "      <td>for his humanitarian efforts to help wounded s...</td>\n",
       "    </tr>\n",
       "    <tr>\n",
       "      <th>2</th>\n",
       "      <td>1901</td>\n",
       "      <td>Peace</td>\n",
       "      <td>for his lifelong work for international peace ...</td>\n",
       "    </tr>\n",
       "    <tr>\n",
       "      <th>3</th>\n",
       "      <td>1901</td>\n",
       "      <td>Physics</td>\n",
       "      <td>in recognition of the extraordinary services h...</td>\n",
       "    </tr>\n",
       "  </tbody>\n",
       "</table>\n",
       "</div>"
      ],
      "text/plain": [
       "  awardYear simple_category                                         motivation\n",
       "0      1901       Chemistry  in recognition of the extraordinary services h...\n",
       "1      1901      Literature  in special recognition of his poetic compositi...\n",
       "2      1901           Peace  for his humanitarian efforts to help wounded s...\n",
       "2      1901           Peace  for his lifelong work for international peace ...\n",
       "3      1901         Physics  in recognition of the extraordinary services h..."
      ]
     },
     "execution_count": 112,
     "metadata": {},
     "output_type": "execute_result"
    }
   ],
   "source": [
    "prizes_simple.head()"
   ]
  },
  {
   "cell_type": "code",
   "execution_count": 113,
   "metadata": {},
   "outputs": [],
   "source": [
    "prizes_simple.to_csv('data/prizes_motivation.csv', index=False)"
   ]
  },
  {
   "cell_type": "markdown",
   "metadata": {},
   "source": [
    "___"
   ]
  },
  {
   "cell_type": "code",
   "execution_count": 87,
   "metadata": {},
   "outputs": [],
   "source": [
    "physics_prizes = prizes_no_nan[prizes_no_nan['simple_category'] == 'Physics']"
   ]
  },
  {
   "cell_type": "code",
   "execution_count": 89,
   "metadata": {},
   "outputs": [
    {
     "data": {
      "text/html": [
       "<div>\n",
       "<style scoped>\n",
       "    .dataframe tbody tr th:only-of-type {\n",
       "        vertical-align: middle;\n",
       "    }\n",
       "\n",
       "    .dataframe tbody tr th {\n",
       "        vertical-align: top;\n",
       "    }\n",
       "\n",
       "    .dataframe thead th {\n",
       "        text-align: right;\n",
       "    }\n",
       "</style>\n",
       "<table border=\"1\" class=\"dataframe\">\n",
       "  <thead>\n",
       "    <tr style=\"text-align: right;\">\n",
       "      <th></th>\n",
       "      <th>awardYear</th>\n",
       "      <th>category</th>\n",
       "      <th>categoryFullName</th>\n",
       "      <th>dateAwarded</th>\n",
       "      <th>prizeAmount</th>\n",
       "      <th>prizeAmountAdjusted</th>\n",
       "      <th>links</th>\n",
       "      <th>laureates</th>\n",
       "      <th>topMotivation</th>\n",
       "      <th>simple_category</th>\n",
       "    </tr>\n",
       "  </thead>\n",
       "  <tbody>\n",
       "    <tr>\n",
       "      <th>3</th>\n",
       "      <td>1901</td>\n",
       "      <td>{'en': 'Physics', 'no': 'Fysikk', 'se': 'Fysik'}</td>\n",
       "      <td>{'en': 'The Nobel Prize in Physics', 'no': 'No...</td>\n",
       "      <td>1901-11-12</td>\n",
       "      <td>150782</td>\n",
       "      <td>10531894</td>\n",
       "      <td>[{'rel': 'nobelPrize', 'href': 'https://api.no...</td>\n",
       "      <td>[{'id': '1', 'knownName': {'en': 'Wilhelm Conr...</td>\n",
       "      <td>NaN</td>\n",
       "      <td>Physics</td>\n",
       "    </tr>\n",
       "    <tr>\n",
       "      <th>8</th>\n",
       "      <td>1902</td>\n",
       "      <td>{'en': 'Physics', 'no': 'Fysikk', 'se': 'Fysik'}</td>\n",
       "      <td>{'en': 'The Nobel Prize in Physics', 'no': 'No...</td>\n",
       "      <td>1902-11-11</td>\n",
       "      <td>141847</td>\n",
       "      <td>9907798</td>\n",
       "      <td>[{'rel': 'nobelPrize', 'href': 'https://api.no...</td>\n",
       "      <td>[{'id': '2', 'knownName': {'en': 'Hendrik A. L...</td>\n",
       "      <td>NaN</td>\n",
       "      <td>Physics</td>\n",
       "    </tr>\n",
       "    <tr>\n",
       "      <th>13</th>\n",
       "      <td>1903</td>\n",
       "      <td>{'en': 'Physics', 'no': 'Fysikk', 'se': 'Fysik'}</td>\n",
       "      <td>{'en': 'The Nobel Prize in Physics', 'no': 'No...</td>\n",
       "      <td>1903-11-12</td>\n",
       "      <td>141358</td>\n",
       "      <td>9583241</td>\n",
       "      <td>[{'rel': 'nobelPrize', 'href': 'https://api.no...</td>\n",
       "      <td>[{'id': '4', 'knownName': {'en': 'Henri Becque...</td>\n",
       "      <td>NaN</td>\n",
       "      <td>Physics</td>\n",
       "    </tr>\n",
       "    <tr>\n",
       "      <th>18</th>\n",
       "      <td>1904</td>\n",
       "      <td>{'en': 'Physics', 'no': 'Fysikk', 'se': 'Fysik'}</td>\n",
       "      <td>{'en': 'The Nobel Prize in Physics', 'no': 'No...</td>\n",
       "      <td>1904-11-08</td>\n",
       "      <td>140859</td>\n",
       "      <td>9549412</td>\n",
       "      <td>[{'rel': 'nobelPrize', 'href': 'https://api.no...</td>\n",
       "      <td>[{'id': '8', 'knownName': {'en': 'Lord Rayleig...</td>\n",
       "      <td>NaN</td>\n",
       "      <td>Physics</td>\n",
       "    </tr>\n",
       "    <tr>\n",
       "      <th>23</th>\n",
       "      <td>1905</td>\n",
       "      <td>{'en': 'Physics', 'no': 'Fysikk', 'se': 'Fysik'}</td>\n",
       "      <td>{'en': 'The Nobel Prize in Physics', 'no': 'No...</td>\n",
       "      <td>NaN</td>\n",
       "      <td>138089</td>\n",
       "      <td>9361622</td>\n",
       "      <td>[{'rel': 'nobelPrize', 'href': 'https://api.no...</td>\n",
       "      <td>[{'id': '9', 'knownName': {'en': 'Philipp Lena...</td>\n",
       "      <td>NaN</td>\n",
       "      <td>Physics</td>\n",
       "    </tr>\n",
       "  </tbody>\n",
       "</table>\n",
       "</div>"
      ],
      "text/plain": [
       "   awardYear                                          category  \\\n",
       "3       1901  {'en': 'Physics', 'no': 'Fysikk', 'se': 'Fysik'}   \n",
       "8       1902  {'en': 'Physics', 'no': 'Fysikk', 'se': 'Fysik'}   \n",
       "13      1903  {'en': 'Physics', 'no': 'Fysikk', 'se': 'Fysik'}   \n",
       "18      1904  {'en': 'Physics', 'no': 'Fysikk', 'se': 'Fysik'}   \n",
       "23      1905  {'en': 'Physics', 'no': 'Fysikk', 'se': 'Fysik'}   \n",
       "\n",
       "                                     categoryFullName dateAwarded  \\\n",
       "3   {'en': 'The Nobel Prize in Physics', 'no': 'No...  1901-11-12   \n",
       "8   {'en': 'The Nobel Prize in Physics', 'no': 'No...  1902-11-11   \n",
       "13  {'en': 'The Nobel Prize in Physics', 'no': 'No...  1903-11-12   \n",
       "18  {'en': 'The Nobel Prize in Physics', 'no': 'No...  1904-11-08   \n",
       "23  {'en': 'The Nobel Prize in Physics', 'no': 'No...         NaN   \n",
       "\n",
       "    prizeAmount  prizeAmountAdjusted  \\\n",
       "3        150782             10531894   \n",
       "8        141847              9907798   \n",
       "13       141358              9583241   \n",
       "18       140859              9549412   \n",
       "23       138089              9361622   \n",
       "\n",
       "                                                links  \\\n",
       "3   [{'rel': 'nobelPrize', 'href': 'https://api.no...   \n",
       "8   [{'rel': 'nobelPrize', 'href': 'https://api.no...   \n",
       "13  [{'rel': 'nobelPrize', 'href': 'https://api.no...   \n",
       "18  [{'rel': 'nobelPrize', 'href': 'https://api.no...   \n",
       "23  [{'rel': 'nobelPrize', 'href': 'https://api.no...   \n",
       "\n",
       "                                            laureates topMotivation  \\\n",
       "3   [{'id': '1', 'knownName': {'en': 'Wilhelm Conr...           NaN   \n",
       "8   [{'id': '2', 'knownName': {'en': 'Hendrik A. L...           NaN   \n",
       "13  [{'id': '4', 'knownName': {'en': 'Henri Becque...           NaN   \n",
       "18  [{'id': '8', 'knownName': {'en': 'Lord Rayleig...           NaN   \n",
       "23  [{'id': '9', 'knownName': {'en': 'Philipp Lena...           NaN   \n",
       "\n",
       "   simple_category  \n",
       "3          Physics  \n",
       "8          Physics  \n",
       "13         Physics  \n",
       "18         Physics  \n",
       "23         Physics  "
      ]
     },
     "execution_count": 89,
     "metadata": {},
     "output_type": "execute_result"
    }
   ],
   "source": [
    "physics_prizes.head()"
   ]
  },
  {
   "cell_type": "code",
   "execution_count": 91,
   "metadata": {},
   "outputs": [
    {
     "data": {
      "text/plain": [
       "[{'id': '1',\n",
       "  'knownName': {'en': 'Wilhelm Conrad Röntgen'},\n",
       "  'fullName': {'en': 'Wilhelm Conrad Röntgen'},\n",
       "  'portion': '1',\n",
       "  'sortOrder': '1',\n",
       "  'motivation': {'en': 'in recognition of the extraordinary services he has rendered by the discovery of the remarkable rays subsequently named after him',\n",
       "   'se': 'såsom ett erkännande av den utomordentliga förtjänst han inlagt genom upptäckten av de egendomliga strålar, som sedermera uppkallats efter honom'},\n",
       "  'links': [{'rel': 'laureate',\n",
       "    'href': 'https://api.nobelprize.org/2/laureate/1',\n",
       "    'action': 'GET',\n",
       "    'types': 'application/json'}]}]"
      ]
     },
     "execution_count": 91,
     "metadata": {},
     "output_type": "execute_result"
    }
   ],
   "source": [
    "physics_prizes.iloc[0]['laureates']"
   ]
  },
  {
   "cell_type": "code",
   "execution_count": 92,
   "metadata": {},
   "outputs": [],
   "source": [
    "physics_motivations = [laureate['motivation']['en'] for laureates in physics_prizes['laureates'] for laureate in laureates if isinstance(laureates, list)]"
   ]
  },
  {
   "cell_type": "code",
   "execution_count": 93,
   "metadata": {},
   "outputs": [
    {
     "data": {
      "text/plain": [
       "['in recognition of the extraordinary services he has rendered by the discovery of the remarkable rays subsequently named after him',\n",
       " 'in recognition of the extraordinary service they rendered by their researches into the influence of magnetism upon radiation phenomena',\n",
       " 'in recognition of the extraordinary service they rendered by their researches into the influence of magnetism upon radiation phenomena',\n",
       " 'in recognition of the extraordinary services he has rendered by his discovery of spontaneous radioactivity',\n",
       " 'in recognition of the extraordinary services they have rendered by their joint researches on the radiation phenomena discovered by Professor Henri Becquerel']"
      ]
     },
     "execution_count": 93,
     "metadata": {},
     "output_type": "execute_result"
    }
   ],
   "source": [
    "physics_motivations[:5]"
   ]
  },
  {
   "cell_type": "code",
   "execution_count": 94,
   "metadata": {},
   "outputs": [
    {
     "name": "stdout",
     "output_type": "stream",
     "text": [
      "225\n",
      "117\n"
     ]
    }
   ],
   "source": [
    "print(len(physics_motivations))\n",
    "print(len(physics_prizes))"
   ]
  },
  {
   "cell_type": "code",
   "execution_count": 95,
   "metadata": {},
   "outputs": [],
   "source": [
    "with open('data/physics_motivations.txt', 'w') as file:\n",
    "    for motivation in physics_motivations:\n",
    "        file.write(motivation + '\\n')"
   ]
  },
  {
   "cell_type": "code",
   "execution_count": null,
   "metadata": {},
   "outputs": [],
   "source": []
  }
 ],
 "metadata": {
  "kernelspec": {
   "display_name": "nobels-environment",
   "language": "python",
   "name": "python3"
  },
  "language_info": {
   "codemirror_mode": {
    "name": "ipython",
    "version": 3
   },
   "file_extension": ".py",
   "mimetype": "text/x-python",
   "name": "python",
   "nbconvert_exporter": "python",
   "pygments_lexer": "ipython3",
   "version": "3.12.3"
  }
 },
 "nbformat": 4,
 "nbformat_minor": 2
}
