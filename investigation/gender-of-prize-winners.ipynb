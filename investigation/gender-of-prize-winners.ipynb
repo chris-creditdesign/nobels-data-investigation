{
 "cells": [
  {
   "cell_type": "code",
   "execution_count": 38,
   "metadata": {},
   "outputs": [],
   "source": [
    "import json\n",
    "import pandas as pd\n",
    "import matplotlib.pyplot as plt\n",
    "import numpy as np"
   ]
  },
  {
   "cell_type": "code",
   "execution_count": 39,
   "metadata": {},
   "outputs": [],
   "source": [
    "file_path = \"data/laureates-1000.json\""
   ]
  },
  {
   "cell_type": "code",
   "execution_count": 40,
   "metadata": {},
   "outputs": [],
   "source": [
    "with open(file_path, 'r') as file:\n",
    "    data = json.load(file)"
   ]
  },
  {
   "cell_type": "code",
   "execution_count": 41,
   "metadata": {},
   "outputs": [],
   "source": [
    "laureates = data['laureates']"
   ]
  },
  {
   "cell_type": "code",
   "execution_count": 42,
   "metadata": {},
   "outputs": [
    {
     "data": {
      "text/plain": [
       "992"
      ]
     },
     "execution_count": 42,
     "metadata": {},
     "output_type": "execute_result"
    }
   ],
   "source": [
    "len(laureates)"
   ]
  },
  {
   "cell_type": "code",
   "execution_count": 43,
   "metadata": {},
   "outputs": [
    {
     "data": {
      "text/plain": [
       "[{'id': '745',\n",
       "  'knownName': {'en': 'A. Michael Spence', 'se': 'A. Michael Spence'},\n",
       "  'givenName': {'en': 'A. Michael', 'se': 'A. Michael'},\n",
       "  'familyName': {'en': 'Spence', 'se': 'Spence'},\n",
       "  'fullName': {'en': 'A. Michael Spence', 'se': 'A. Michael Spence'},\n",
       "  'fileName': 'spence',\n",
       "  'gender': 'male',\n",
       "  'birth': {'date': '1943-00-00',\n",
       "   'place': {'city': {'en': 'Montclair, NJ',\n",
       "     'no': 'Montclair, NJ',\n",
       "     'se': 'Montclair, NJ'},\n",
       "    'country': {'en': 'USA', 'no': 'USA', 'se': 'USA'},\n",
       "    'cityNow': {'en': 'Montclair, NJ',\n",
       "     'no': 'Montclair, NJ',\n",
       "     'se': 'Montclair, NJ',\n",
       "     'sameAs': ['https://www.wikidata.org/wiki/Q678437',\n",
       "      'https://www.wikipedia.org/wiki/Montclair,_New_Jersey'],\n",
       "     'latitude': '40.825930',\n",
       "     'longitude': '-74.209030'},\n",
       "    'countryNow': {'en': 'USA',\n",
       "     'no': 'USA',\n",
       "     'se': 'USA',\n",
       "     'sameAs': ['https://www.wikidata.org/wiki/Q30'],\n",
       "     'latitude': '39.828175',\n",
       "     'longitude': '-98.579500'},\n",
       "    'continent': {'en': 'North America',\n",
       "     'no': 'Nord-Amerika',\n",
       "     'se': 'Nordamerika'},\n",
       "    'locationString': {'en': 'Montclair, NJ, USA',\n",
       "     'no': 'Montclair, NJ, USA',\n",
       "     'se': 'Montclair, NJ, USA'}}},\n",
       "  'wikipedia': {'slug': 'Michael_Spence',\n",
       "   'english': 'https://en.wikipedia.org/wiki/Michael_Spence'},\n",
       "  'wikidata': {'id': 'Q157245',\n",
       "   'url': 'https://www.wikidata.org/wiki/Q157245'},\n",
       "  'sameAs': ['https://www.wikidata.org/wiki/Q157245',\n",
       "   'https://en.wikipedia.org/wiki/Michael_Spence'],\n",
       "  'links': [{'rel': 'laureate',\n",
       "    'href': 'https://api.nobelprize.org/2/laureate/745',\n",
       "    'action': 'GET',\n",
       "    'types': 'application/json'},\n",
       "   {'rel': 'external',\n",
       "    'href': 'https://www.nobelprize.org/laureate/745',\n",
       "    'title': 'A. Michael Spence - Facts',\n",
       "    'action': 'GET',\n",
       "    'types': 'text/html',\n",
       "    'class': ['laureate facts']}],\n",
       "  'nobelPrizes': [{'awardYear': '2001',\n",
       "    'category': {'en': 'Economic Sciences', 'no': 'Økonomi', 'se': 'Ekonomi'},\n",
       "    'categoryFullName': {'en': 'The Sveriges Riksbank Prize in Economic Sciences in Memory of Alfred Nobel',\n",
       "     'no': 'Sveriges Riksbanks pris i økonomisk vitenskap til minne om Alfred Nobel',\n",
       "     'se': 'Sveriges Riksbanks pris i ekonomisk vetenskap till Alfred Nobels minne'},\n",
       "    'sortOrder': '2',\n",
       "    'portion': '1/3',\n",
       "    'dateAwarded': '2001-10-10',\n",
       "    'prizeStatus': 'received',\n",
       "    'motivation': {'en': 'for their analyses of markets with asymmetric information',\n",
       "     'se': 'för deras analys av marknader med assymetrisk informations'},\n",
       "    'prizeAmount': 10000000,\n",
       "    'prizeAmountAdjusted': 13927869,\n",
       "    'affiliations': [{'name': {'en': 'Stanford University',\n",
       "       'no': 'Stanford University',\n",
       "       'se': 'Stanford University'},\n",
       "      'nameNow': {'en': 'Stanford University'},\n",
       "      'city': {'en': 'Stanford, CA',\n",
       "       'no': 'Stanford, CA',\n",
       "       'se': 'Stanford, CA'},\n",
       "      'country': {'en': 'USA', 'no': 'USA', 'se': 'USA'},\n",
       "      'cityNow': {'en': 'Stanford, CA',\n",
       "       'no': 'Stanford, CA',\n",
       "       'se': 'Stanford, CA',\n",
       "       'sameAs': ['https://www.wikidata.org/wiki/Q173813',\n",
       "        'https://www.wikipedia.org/wiki/Stanford,_California'],\n",
       "       'latitude': '37.424734',\n",
       "       'longitude': '-122.163858'},\n",
       "      'countryNow': {'en': 'USA',\n",
       "       'no': 'USA',\n",
       "       'se': 'USA',\n",
       "       'sameAs': ['https://www.wikidata.org/wiki/Q30'],\n",
       "       'latitude': '39.828175',\n",
       "       'longitude': '-98.579500'},\n",
       "      'continent': {'en': 'North America'},\n",
       "      'locationString': {'en': 'Stanford, CA, USA',\n",
       "       'no': 'Stanford, CA, USA',\n",
       "       'se': 'Stanford, CA, USA'}}],\n",
       "    'links': [{'rel': 'nobelPrize',\n",
       "      'href': 'https://api.nobelprize.org/2/nobelPrize/eco/2001',\n",
       "      'action': 'GET',\n",
       "      'types': 'application/json'},\n",
       "     {'rel': 'external',\n",
       "      'href': 'https://www.nobelprize.org/prizes/economic-sciences/2001/spence/facts/',\n",
       "      'title': 'A. Michael Spence - Facts',\n",
       "      'action': 'GET',\n",
       "      'types': 'text/html',\n",
       "      'class': ['laureate facts']},\n",
       "     {'rel': 'external',\n",
       "      'href': 'https://www.nobelprize.org/prizes/economic-sciences/2001/summary/',\n",
       "      'title': 'The Sveriges Riksbank Prize in Economic Sciences in Memory of Alfred Nobel 2001',\n",
       "      'action': 'GET',\n",
       "      'types': 'text/html',\n",
       "      'class': ['prize summary']}]}]}]"
      ]
     },
     "execution_count": 43,
     "metadata": {},
     "output_type": "execute_result"
    }
   ],
   "source": [
    "laureates[:1]"
   ]
  },
  {
   "cell_type": "code",
   "execution_count": 44,
   "metadata": {},
   "outputs": [
    {
     "name": "stdout",
     "output_type": "stream",
     "text": [
      "{'Peace'}\n"
     ]
    }
   ],
   "source": [
    "# Some entries do not have a gender field.\n",
    "# These are prizes awarded to organizations or to multiple people.\n",
    "# Each of these prizes are awarded in the Peace category so will not effect our analysis.\n",
    "laureates_without_gender = [laureate for laureate in laureates if not laureate.get('gender', False) ]\n",
    "prizes = [prize for laureate in laureates_without_gender for prize in laureate['nobelPrizes']]\n",
    "categories = [prize['category'] for prize in prizes]\n",
    "en = [lang['en'] for lang in categories]\n",
    "# Create a set of unique category names\n",
    "category_set = set(en)\n",
    "print(category_set)"
   ]
  },
  {
   "cell_type": "code",
   "execution_count": 45,
   "metadata": {},
   "outputs": [
    {
     "data": {
      "text/plain": [
       "['Peace']"
      ]
     },
     "execution_count": 45,
     "metadata": {},
     "output_type": "execute_result"
    }
   ],
   "source": [
    "list(category_set)"
   ]
  },
  {
   "cell_type": "code",
   "execution_count": 46,
   "metadata": {},
   "outputs": [],
   "source": [
    "# Create a list to hold our extracted data\n",
    "extracted_data = []\n",
    "\n",
    "# Iterate over each laureate to extract gender and awardYear information\n",
    "for laureate in laureates:\n",
    "    gender = laureate.get('gender')\n",
    "    # Remove entries that do not have a gender as these will be a group award\n",
    "    if gender:\n",
    "      knownName = laureate.get('knownName', {})\n",
    "      name = knownName.get('en', 'unknown')\n",
    "      links = laureate.get('links', {})\n",
    "      href = links[0].get('href', 'unknown')\n",
    "      for prize in laureate.get('nobelPrizes', []):\n",
    "          year = prize.get('awardYear')\n",
    "          category = prize.get('category', {})\n",
    "          if category:\n",
    "            category = category.get('en', 'unknown')\n",
    "          if category in ['Literature', 'Peace', 'Economic Sciences']:  # Exclude 'Literature' and 'Peace'\n",
    "            continue\n",
    "          motivation = prize.get('motivation', {})\n",
    "          if motivation:\n",
    "            motivation = motivation.get('en', 'unknown')\n",
    "          if year:\n",
    "              extracted_data.append({'year': int(year), 'gender': gender, 'name': name, 'href': href, 'category': category, 'motivation': motivation})"
   ]
  },
  {
   "cell_type": "code",
   "execution_count": 47,
   "metadata": {},
   "outputs": [
    {
     "data": {
      "text/plain": [
       "646"
      ]
     },
     "execution_count": 47,
     "metadata": {},
     "output_type": "execute_result"
    }
   ],
   "source": [
    "len(extracted_data)"
   ]
  },
  {
   "cell_type": "code",
   "execution_count": 48,
   "metadata": {},
   "outputs": [],
   "source": [
    "# Convert the list to a DataFrame\n",
    "df = pd.DataFrame(extracted_data)"
   ]
  },
  {
   "cell_type": "code",
   "execution_count": 49,
   "metadata": {},
   "outputs": [
    {
     "name": "stdout",
     "output_type": "stream",
     "text": [
      "{'Physiology or Medicine', 'Chemistry', 'Physics'}\n"
     ]
    }
   ],
   "source": [
    "# Extract all unique category names\n",
    "categories = set()\n",
    "for category in df['category']:\n",
    "    categories.add(category)\n",
    "\n",
    "print(categories)"
   ]
  },
  {
   "cell_type": "code",
   "execution_count": 50,
   "metadata": {},
   "outputs": [
    {
     "data": {
      "text/html": [
       "<div>\n",
       "<style scoped>\n",
       "    .dataframe tbody tr th:only-of-type {\n",
       "        vertical-align: middle;\n",
       "    }\n",
       "\n",
       "    .dataframe tbody tr th {\n",
       "        vertical-align: top;\n",
       "    }\n",
       "\n",
       "    .dataframe thead th {\n",
       "        text-align: right;\n",
       "    }\n",
       "</style>\n",
       "<table border=\"1\" class=\"dataframe\">\n",
       "  <thead>\n",
       "    <tr style=\"text-align: right;\">\n",
       "      <th></th>\n",
       "      <th>year</th>\n",
       "      <th>gender</th>\n",
       "      <th>name</th>\n",
       "      <th>href</th>\n",
       "      <th>category</th>\n",
       "      <th>motivation</th>\n",
       "    </tr>\n",
       "  </thead>\n",
       "  <tbody>\n",
       "    <tr>\n",
       "      <th>0</th>\n",
       "      <td>1975</td>\n",
       "      <td>male</td>\n",
       "      <td>Aage N. Bohr</td>\n",
       "      <td>https://api.nobelprize.org/2/laureate/102</td>\n",
       "      <td>Physics</td>\n",
       "      <td>for the discovery of the connection between co...</td>\n",
       "    </tr>\n",
       "    <tr>\n",
       "      <th>1</th>\n",
       "      <td>2004</td>\n",
       "      <td>male</td>\n",
       "      <td>Aaron Ciechanover</td>\n",
       "      <td>https://api.nobelprize.org/2/laureate/779</td>\n",
       "      <td>Chemistry</td>\n",
       "      <td>for the discovery of ubiquitin-mediated protei...</td>\n",
       "    </tr>\n",
       "    <tr>\n",
       "      <th>2</th>\n",
       "      <td>1982</td>\n",
       "      <td>male</td>\n",
       "      <td>Aaron Klug</td>\n",
       "      <td>https://api.nobelprize.org/2/laureate/259</td>\n",
       "      <td>Chemistry</td>\n",
       "      <td>for his development of crystallographic electr...</td>\n",
       "    </tr>\n",
       "    <tr>\n",
       "      <th>3</th>\n",
       "      <td>1979</td>\n",
       "      <td>male</td>\n",
       "      <td>Abdus Salam</td>\n",
       "      <td>https://api.nobelprize.org/2/laureate/114</td>\n",
       "      <td>Physics</td>\n",
       "      <td>for their contributions to the theory of the u...</td>\n",
       "    </tr>\n",
       "    <tr>\n",
       "      <th>4</th>\n",
       "      <td>2009</td>\n",
       "      <td>female</td>\n",
       "      <td>Ada E. Yonath</td>\n",
       "      <td>https://api.nobelprize.org/2/laureate/843</td>\n",
       "      <td>Chemistry</td>\n",
       "      <td>for studies of the structure and function of t...</td>\n",
       "    </tr>\n",
       "    <tr>\n",
       "      <th>...</th>\n",
       "      <td>...</td>\n",
       "      <td>...</td>\n",
       "      <td>...</td>\n",
       "      <td>...</td>\n",
       "      <td>...</td>\n",
       "      <td>...</td>\n",
       "    </tr>\n",
       "    <tr>\n",
       "      <th>641</th>\n",
       "      <td>2008</td>\n",
       "      <td>male</td>\n",
       "      <td>Yoichiro Nambu</td>\n",
       "      <td>https://api.nobelprize.org/2/laureate/826</td>\n",
       "      <td>Physics</td>\n",
       "      <td>for the discovery of the mechanism of spontane...</td>\n",
       "    </tr>\n",
       "    <tr>\n",
       "      <th>642</th>\n",
       "      <td>2016</td>\n",
       "      <td>male</td>\n",
       "      <td>Yoshinori Ohsumi</td>\n",
       "      <td>https://api.nobelprize.org/2/laureate/927</td>\n",
       "      <td>Physiology or Medicine</td>\n",
       "      <td>for his discoveries of mechanisms for autophagy</td>\n",
       "    </tr>\n",
       "    <tr>\n",
       "      <th>643</th>\n",
       "      <td>1986</td>\n",
       "      <td>male</td>\n",
       "      <td>Yuan T. Lee</td>\n",
       "      <td>https://api.nobelprize.org/2/laureate/265</td>\n",
       "      <td>Chemistry</td>\n",
       "      <td>for their contributions concerning the dynamic...</td>\n",
       "    </tr>\n",
       "    <tr>\n",
       "      <th>644</th>\n",
       "      <td>2005</td>\n",
       "      <td>male</td>\n",
       "      <td>Yves Chauvin</td>\n",
       "      <td>https://api.nobelprize.org/2/laureate/794</td>\n",
       "      <td>Chemistry</td>\n",
       "      <td>for the development of the metathesis method i...</td>\n",
       "    </tr>\n",
       "    <tr>\n",
       "      <th>645</th>\n",
       "      <td>2000</td>\n",
       "      <td>male</td>\n",
       "      <td>Zhores Alferov</td>\n",
       "      <td>https://api.nobelprize.org/2/laureate/726</td>\n",
       "      <td>Physics</td>\n",
       "      <td>for developing semiconductor heterostructures ...</td>\n",
       "    </tr>\n",
       "  </tbody>\n",
       "</table>\n",
       "<p>646 rows × 6 columns</p>\n",
       "</div>"
      ],
      "text/plain": [
       "     year  gender               name  \\\n",
       "0    1975    male       Aage N. Bohr   \n",
       "1    2004    male  Aaron Ciechanover   \n",
       "2    1982    male         Aaron Klug   \n",
       "3    1979    male        Abdus Salam   \n",
       "4    2009  female      Ada E. Yonath   \n",
       "..    ...     ...                ...   \n",
       "641  2008    male     Yoichiro Nambu   \n",
       "642  2016    male   Yoshinori Ohsumi   \n",
       "643  1986    male        Yuan T. Lee   \n",
       "644  2005    male       Yves Chauvin   \n",
       "645  2000    male     Zhores Alferov   \n",
       "\n",
       "                                          href                category  \\\n",
       "0    https://api.nobelprize.org/2/laureate/102                 Physics   \n",
       "1    https://api.nobelprize.org/2/laureate/779               Chemistry   \n",
       "2    https://api.nobelprize.org/2/laureate/259               Chemistry   \n",
       "3    https://api.nobelprize.org/2/laureate/114                 Physics   \n",
       "4    https://api.nobelprize.org/2/laureate/843               Chemistry   \n",
       "..                                         ...                     ...   \n",
       "641  https://api.nobelprize.org/2/laureate/826                 Physics   \n",
       "642  https://api.nobelprize.org/2/laureate/927  Physiology or Medicine   \n",
       "643  https://api.nobelprize.org/2/laureate/265               Chemistry   \n",
       "644  https://api.nobelprize.org/2/laureate/794               Chemistry   \n",
       "645  https://api.nobelprize.org/2/laureate/726                 Physics   \n",
       "\n",
       "                                            motivation  \n",
       "0    for the discovery of the connection between co...  \n",
       "1    for the discovery of ubiquitin-mediated protei...  \n",
       "2    for his development of crystallographic electr...  \n",
       "3    for their contributions to the theory of the u...  \n",
       "4    for studies of the structure and function of t...  \n",
       "..                                                 ...  \n",
       "641  for the discovery of the mechanism of spontane...  \n",
       "642    for his discoveries of mechanisms for autophagy  \n",
       "643  for their contributions concerning the dynamic...  \n",
       "644  for the development of the metathesis method i...  \n",
       "645  for developing semiconductor heterostructures ...  \n",
       "\n",
       "[646 rows x 6 columns]"
      ]
     },
     "execution_count": 50,
     "metadata": {},
     "output_type": "execute_result"
    }
   ],
   "source": [
    "df"
   ]
  },
  {
   "cell_type": "code",
   "execution_count": 51,
   "metadata": {},
   "outputs": [
    {
     "data": {
      "text/html": [
       "<div>\n",
       "<style scoped>\n",
       "    .dataframe tbody tr th:only-of-type {\n",
       "        vertical-align: middle;\n",
       "    }\n",
       "\n",
       "    .dataframe tbody tr th {\n",
       "        vertical-align: top;\n",
       "    }\n",
       "\n",
       "    .dataframe thead th {\n",
       "        text-align: right;\n",
       "    }\n",
       "</style>\n",
       "<table border=\"1\" class=\"dataframe\">\n",
       "  <thead>\n",
       "    <tr style=\"text-align: right;\">\n",
       "      <th></th>\n",
       "      <th>year</th>\n",
       "      <th>gender</th>\n",
       "      <th>name</th>\n",
       "      <th>href</th>\n",
       "      <th>category</th>\n",
       "      <th>motivation</th>\n",
       "    </tr>\n",
       "  </thead>\n",
       "  <tbody>\n",
       "    <tr>\n",
       "      <th>0</th>\n",
       "      <td>1975</td>\n",
       "      <td>male</td>\n",
       "      <td>Aage N. Bohr</td>\n",
       "      <td>https://api.nobelprize.org/2/laureate/102</td>\n",
       "      <td>Physics</td>\n",
       "      <td>for the discovery of the connection between co...</td>\n",
       "    </tr>\n",
       "    <tr>\n",
       "      <th>1</th>\n",
       "      <td>2004</td>\n",
       "      <td>male</td>\n",
       "      <td>Aaron Ciechanover</td>\n",
       "      <td>https://api.nobelprize.org/2/laureate/779</td>\n",
       "      <td>Chemistry</td>\n",
       "      <td>for the discovery of ubiquitin-mediated protei...</td>\n",
       "    </tr>\n",
       "    <tr>\n",
       "      <th>2</th>\n",
       "      <td>1982</td>\n",
       "      <td>male</td>\n",
       "      <td>Aaron Klug</td>\n",
       "      <td>https://api.nobelprize.org/2/laureate/259</td>\n",
       "      <td>Chemistry</td>\n",
       "      <td>for his development of crystallographic electr...</td>\n",
       "    </tr>\n",
       "    <tr>\n",
       "      <th>3</th>\n",
       "      <td>1979</td>\n",
       "      <td>male</td>\n",
       "      <td>Abdus Salam</td>\n",
       "      <td>https://api.nobelprize.org/2/laureate/114</td>\n",
       "      <td>Physics</td>\n",
       "      <td>for their contributions to the theory of the u...</td>\n",
       "    </tr>\n",
       "    <tr>\n",
       "      <th>4</th>\n",
       "      <td>2009</td>\n",
       "      <td>female</td>\n",
       "      <td>Ada E. Yonath</td>\n",
       "      <td>https://api.nobelprize.org/2/laureate/843</td>\n",
       "      <td>Chemistry</td>\n",
       "      <td>for studies of the structure and function of t...</td>\n",
       "    </tr>\n",
       "  </tbody>\n",
       "</table>\n",
       "</div>"
      ],
      "text/plain": [
       "   year  gender               name                                       href  \\\n",
       "0  1975    male       Aage N. Bohr  https://api.nobelprize.org/2/laureate/102   \n",
       "1  2004    male  Aaron Ciechanover  https://api.nobelprize.org/2/laureate/779   \n",
       "2  1982    male         Aaron Klug  https://api.nobelprize.org/2/laureate/259   \n",
       "3  1979    male        Abdus Salam  https://api.nobelprize.org/2/laureate/114   \n",
       "4  2009  female      Ada E. Yonath  https://api.nobelprize.org/2/laureate/843   \n",
       "\n",
       "    category                                         motivation  \n",
       "0    Physics  for the discovery of the connection between co...  \n",
       "1  Chemistry  for the discovery of ubiquitin-mediated protei...  \n",
       "2  Chemistry  for his development of crystallographic electr...  \n",
       "3    Physics  for their contributions to the theory of the u...  \n",
       "4  Chemistry  for studies of the structure and function of t...  "
      ]
     },
     "execution_count": 51,
     "metadata": {},
     "output_type": "execute_result"
    }
   ],
   "source": [
    "df.head()"
   ]
  },
  {
   "cell_type": "code",
   "execution_count": 52,
   "metadata": {},
   "outputs": [
    {
     "data": {
      "text/html": [
       "<div>\n",
       "<style scoped>\n",
       "    .dataframe tbody tr th:only-of-type {\n",
       "        vertical-align: middle;\n",
       "    }\n",
       "\n",
       "    .dataframe tbody tr th {\n",
       "        vertical-align: top;\n",
       "    }\n",
       "\n",
       "    .dataframe thead th {\n",
       "        text-align: right;\n",
       "    }\n",
       "</style>\n",
       "<table border=\"1\" class=\"dataframe\">\n",
       "  <thead>\n",
       "    <tr style=\"text-align: right;\">\n",
       "      <th></th>\n",
       "      <th>year</th>\n",
       "      <th>gender</th>\n",
       "      <th>name</th>\n",
       "      <th>href</th>\n",
       "      <th>category</th>\n",
       "      <th>motivation</th>\n",
       "    </tr>\n",
       "  </thead>\n",
       "  <tbody>\n",
       "    <tr>\n",
       "      <th>0</th>\n",
       "      <td>1975</td>\n",
       "      <td>male</td>\n",
       "      <td>Aage N. Bohr</td>\n",
       "      <td>https://api.nobelprize.org/2/laureate/102</td>\n",
       "      <td>Physics</td>\n",
       "      <td>for the discovery of the connection between co...</td>\n",
       "    </tr>\n",
       "    <tr>\n",
       "      <th>1</th>\n",
       "      <td>2004</td>\n",
       "      <td>male</td>\n",
       "      <td>Aaron Ciechanover</td>\n",
       "      <td>https://api.nobelprize.org/2/laureate/779</td>\n",
       "      <td>Chemistry</td>\n",
       "      <td>for the discovery of ubiquitin-mediated protei...</td>\n",
       "    </tr>\n",
       "    <tr>\n",
       "      <th>2</th>\n",
       "      <td>1982</td>\n",
       "      <td>male</td>\n",
       "      <td>Aaron Klug</td>\n",
       "      <td>https://api.nobelprize.org/2/laureate/259</td>\n",
       "      <td>Chemistry</td>\n",
       "      <td>for his development of crystallographic electr...</td>\n",
       "    </tr>\n",
       "    <tr>\n",
       "      <th>3</th>\n",
       "      <td>1979</td>\n",
       "      <td>male</td>\n",
       "      <td>Abdus Salam</td>\n",
       "      <td>https://api.nobelprize.org/2/laureate/114</td>\n",
       "      <td>Physics</td>\n",
       "      <td>for their contributions to the theory of the u...</td>\n",
       "    </tr>\n",
       "    <tr>\n",
       "      <th>4</th>\n",
       "      <td>2009</td>\n",
       "      <td>female</td>\n",
       "      <td>Ada E. Yonath</td>\n",
       "      <td>https://api.nobelprize.org/2/laureate/843</td>\n",
       "      <td>Chemistry</td>\n",
       "      <td>for studies of the structure and function of t...</td>\n",
       "    </tr>\n",
       "    <tr>\n",
       "      <th>...</th>\n",
       "      <td>...</td>\n",
       "      <td>...</td>\n",
       "      <td>...</td>\n",
       "      <td>...</td>\n",
       "      <td>...</td>\n",
       "      <td>...</td>\n",
       "    </tr>\n",
       "    <tr>\n",
       "      <th>631</th>\n",
       "      <td>1949</td>\n",
       "      <td>male</td>\n",
       "      <td>William F. Giauque</td>\n",
       "      <td>https://api.nobelprize.org/2/laureate/209</td>\n",
       "      <td>Chemistry</td>\n",
       "      <td>for his contributions in the field of chemical...</td>\n",
       "    </tr>\n",
       "    <tr>\n",
       "      <th>635</th>\n",
       "      <td>1976</td>\n",
       "      <td>male</td>\n",
       "      <td>William Lipscomb</td>\n",
       "      <td>https://api.nobelprize.org/2/laureate/249</td>\n",
       "      <td>Chemistry</td>\n",
       "      <td>for his studies on the structure of boranes il...</td>\n",
       "    </tr>\n",
       "    <tr>\n",
       "      <th>636</th>\n",
       "      <td>1934</td>\n",
       "      <td>male</td>\n",
       "      <td>William P. Murphy</td>\n",
       "      <td>https://api.nobelprize.org/2/laureate/328</td>\n",
       "      <td>Physiology or Medicine</td>\n",
       "      <td>for their discoveries concerning liver therapy...</td>\n",
       "    </tr>\n",
       "    <tr>\n",
       "      <th>637</th>\n",
       "      <td>1955</td>\n",
       "      <td>male</td>\n",
       "      <td>Willis E. Lamb</td>\n",
       "      <td>https://api.nobelprize.org/2/laureate/63</td>\n",
       "      <td>Physics</td>\n",
       "      <td>for his discoveries concerning the fine struct...</td>\n",
       "    </tr>\n",
       "    <tr>\n",
       "      <th>640</th>\n",
       "      <td>1945</td>\n",
       "      <td>male</td>\n",
       "      <td>Wolfgang Pauli</td>\n",
       "      <td>https://api.nobelprize.org/2/laureate/50</td>\n",
       "      <td>Physics</td>\n",
       "      <td>for the discovery of the Exclusion Principle, ...</td>\n",
       "    </tr>\n",
       "  </tbody>\n",
       "</table>\n",
       "<p>537 rows × 6 columns</p>\n",
       "</div>"
      ],
      "text/plain": [
       "     year  gender                name  \\\n",
       "0    1975    male        Aage N. Bohr   \n",
       "1    2004    male   Aaron Ciechanover   \n",
       "2    1982    male          Aaron Klug   \n",
       "3    1979    male         Abdus Salam   \n",
       "4    2009  female       Ada E. Yonath   \n",
       "..    ...     ...                 ...   \n",
       "631  1949    male  William F. Giauque   \n",
       "635  1976    male    William Lipscomb   \n",
       "636  1934    male   William P. Murphy   \n",
       "637  1955    male      Willis E. Lamb   \n",
       "640  1945    male      Wolfgang Pauli   \n",
       "\n",
       "                                          href                category  \\\n",
       "0    https://api.nobelprize.org/2/laureate/102                 Physics   \n",
       "1    https://api.nobelprize.org/2/laureate/779               Chemistry   \n",
       "2    https://api.nobelprize.org/2/laureate/259               Chemistry   \n",
       "3    https://api.nobelprize.org/2/laureate/114                 Physics   \n",
       "4    https://api.nobelprize.org/2/laureate/843               Chemistry   \n",
       "..                                         ...                     ...   \n",
       "631  https://api.nobelprize.org/2/laureate/209               Chemistry   \n",
       "635  https://api.nobelprize.org/2/laureate/249               Chemistry   \n",
       "636  https://api.nobelprize.org/2/laureate/328  Physiology or Medicine   \n",
       "637   https://api.nobelprize.org/2/laureate/63                 Physics   \n",
       "640   https://api.nobelprize.org/2/laureate/50                 Physics   \n",
       "\n",
       "                                            motivation  \n",
       "0    for the discovery of the connection between co...  \n",
       "1    for the discovery of ubiquitin-mediated protei...  \n",
       "2    for his development of crystallographic electr...  \n",
       "3    for their contributions to the theory of the u...  \n",
       "4    for studies of the structure and function of t...  \n",
       "..                                                 ...  \n",
       "631  for his contributions in the field of chemical...  \n",
       "635  for his studies on the structure of boranes il...  \n",
       "636  for their discoveries concerning liver therapy...  \n",
       "637  for his discoveries concerning the fine struct...  \n",
       "640  for the discovery of the Exclusion Principle, ...  \n",
       "\n",
       "[537 rows x 6 columns]"
      ]
     },
     "execution_count": 52,
     "metadata": {},
     "output_type": "execute_result"
    }
   ],
   "source": [
    "# Group by year and gender, and count the occurrences\n",
    "gender_distribution = df.groupby(by=['year', 'gender'])\n",
    "gender_distribution.head()"
   ]
  },
  {
   "cell_type": "code",
   "execution_count": 53,
   "metadata": {},
   "outputs": [
    {
     "data": {
      "text/plain": [
       "year  gender\n",
       "1901  male      3\n",
       "1902  male      4\n",
       "1903  female    1\n",
       "      male      4\n",
       "1904  male      3\n",
       "dtype: int64"
      ]
     },
     "execution_count": 53,
     "metadata": {},
     "output_type": "execute_result"
    }
   ],
   "source": [
    "gender_size = gender_distribution.size()\n",
    "gender_size.head()"
   ]
  },
  {
   "cell_type": "code",
   "execution_count": 54,
   "metadata": {},
   "outputs": [
    {
     "data": {
      "text/html": [
       "<div>\n",
       "<style scoped>\n",
       "    .dataframe tbody tr th:only-of-type {\n",
       "        vertical-align: middle;\n",
       "    }\n",
       "\n",
       "    .dataframe tbody tr th {\n",
       "        vertical-align: top;\n",
       "    }\n",
       "\n",
       "    .dataframe thead th {\n",
       "        text-align: right;\n",
       "    }\n",
       "</style>\n",
       "<table border=\"1\" class=\"dataframe\">\n",
       "  <thead>\n",
       "    <tr style=\"text-align: right;\">\n",
       "      <th>gender</th>\n",
       "      <th>female</th>\n",
       "      <th>male</th>\n",
       "    </tr>\n",
       "    <tr>\n",
       "      <th>year</th>\n",
       "      <th></th>\n",
       "      <th></th>\n",
       "    </tr>\n",
       "  </thead>\n",
       "  <tbody>\n",
       "    <tr>\n",
       "      <th>1901</th>\n",
       "      <td>0</td>\n",
       "      <td>3</td>\n",
       "    </tr>\n",
       "    <tr>\n",
       "      <th>1902</th>\n",
       "      <td>0</td>\n",
       "      <td>4</td>\n",
       "    </tr>\n",
       "    <tr>\n",
       "      <th>1903</th>\n",
       "      <td>1</td>\n",
       "      <td>4</td>\n",
       "    </tr>\n",
       "    <tr>\n",
       "      <th>1904</th>\n",
       "      <td>0</td>\n",
       "      <td>3</td>\n",
       "    </tr>\n",
       "    <tr>\n",
       "      <th>1905</th>\n",
       "      <td>0</td>\n",
       "      <td>3</td>\n",
       "    </tr>\n",
       "  </tbody>\n",
       "</table>\n",
       "</div>"
      ],
      "text/plain": [
       "gender  female  male\n",
       "year                \n",
       "1901         0     3\n",
       "1902         0     4\n",
       "1903         1     4\n",
       "1904         0     3\n",
       "1905         0     3"
      ]
     },
     "execution_count": 54,
     "metadata": {},
     "output_type": "execute_result"
    }
   ],
   "source": [
    "gender_unstack = gender_size.unstack(fill_value=0)\n",
    "gender_unstack.head()"
   ]
  },
  {
   "cell_type": "code",
   "execution_count": 55,
   "metadata": {},
   "outputs": [],
   "source": [
    "# Add a column for the total number of laureates\n",
    "gender_unstack['total'] = gender_unstack.sum(axis=1)"
   ]
  },
  {
   "cell_type": "code",
   "execution_count": 56,
   "metadata": {},
   "outputs": [
    {
     "data": {
      "text/html": [
       "<div>\n",
       "<style scoped>\n",
       "    .dataframe tbody tr th:only-of-type {\n",
       "        vertical-align: middle;\n",
       "    }\n",
       "\n",
       "    .dataframe tbody tr th {\n",
       "        vertical-align: top;\n",
       "    }\n",
       "\n",
       "    .dataframe thead th {\n",
       "        text-align: right;\n",
       "    }\n",
       "</style>\n",
       "<table border=\"1\" class=\"dataframe\">\n",
       "  <thead>\n",
       "    <tr style=\"text-align: right;\">\n",
       "      <th>gender</th>\n",
       "      <th>female</th>\n",
       "      <th>male</th>\n",
       "      <th>total</th>\n",
       "    </tr>\n",
       "    <tr>\n",
       "      <th>year</th>\n",
       "      <th></th>\n",
       "      <th></th>\n",
       "      <th></th>\n",
       "    </tr>\n",
       "  </thead>\n",
       "  <tbody>\n",
       "    <tr>\n",
       "      <th>1901</th>\n",
       "      <td>0</td>\n",
       "      <td>3</td>\n",
       "      <td>3</td>\n",
       "    </tr>\n",
       "    <tr>\n",
       "      <th>1902</th>\n",
       "      <td>0</td>\n",
       "      <td>4</td>\n",
       "      <td>4</td>\n",
       "    </tr>\n",
       "    <tr>\n",
       "      <th>1903</th>\n",
       "      <td>1</td>\n",
       "      <td>4</td>\n",
       "      <td>5</td>\n",
       "    </tr>\n",
       "    <tr>\n",
       "      <th>1904</th>\n",
       "      <td>0</td>\n",
       "      <td>3</td>\n",
       "      <td>3</td>\n",
       "    </tr>\n",
       "    <tr>\n",
       "      <th>1905</th>\n",
       "      <td>0</td>\n",
       "      <td>3</td>\n",
       "      <td>3</td>\n",
       "    </tr>\n",
       "  </tbody>\n",
       "</table>\n",
       "</div>"
      ],
      "text/plain": [
       "gender  female  male  total\n",
       "year                       \n",
       "1901         0     3      3\n",
       "1902         0     4      4\n",
       "1903         1     4      5\n",
       "1904         0     3      3\n",
       "1905         0     3      3"
      ]
     },
     "execution_count": 56,
     "metadata": {},
     "output_type": "execute_result"
    }
   ],
   "source": [
    "gender_unstack.head()"
   ]
  },
  {
   "cell_type": "code",
   "execution_count": 57,
   "metadata": {},
   "outputs": [],
   "source": [
    "# Add a new column for the percentage of winners which are male per year\n",
    "gender_unstack[\"male_percentage\"] = gender_unstack[\"male\"] / gender_unstack[\"total\"]\n",
    "gender_unstack[\"female_percentage\"] = gender_unstack[\"female\"] / gender_unstack[\"total\"]"
   ]
  },
  {
   "cell_type": "code",
   "execution_count": 58,
   "metadata": {},
   "outputs": [],
   "source": [
    "gender_unstack.sort_index(inplace=True)"
   ]
  },
  {
   "cell_type": "code",
   "execution_count": 59,
   "metadata": {},
   "outputs": [
    {
     "data": {
      "text/html": [
       "<div>\n",
       "<style scoped>\n",
       "    .dataframe tbody tr th:only-of-type {\n",
       "        vertical-align: middle;\n",
       "    }\n",
       "\n",
       "    .dataframe tbody tr th {\n",
       "        vertical-align: top;\n",
       "    }\n",
       "\n",
       "    .dataframe thead th {\n",
       "        text-align: right;\n",
       "    }\n",
       "</style>\n",
       "<table border=\"1\" class=\"dataframe\">\n",
       "  <thead>\n",
       "    <tr style=\"text-align: right;\">\n",
       "      <th>gender</th>\n",
       "      <th>female</th>\n",
       "      <th>male</th>\n",
       "      <th>total</th>\n",
       "      <th>male_percentage</th>\n",
       "      <th>female_percentage</th>\n",
       "    </tr>\n",
       "    <tr>\n",
       "      <th>year</th>\n",
       "      <th></th>\n",
       "      <th></th>\n",
       "      <th></th>\n",
       "      <th></th>\n",
       "      <th></th>\n",
       "    </tr>\n",
       "  </thead>\n",
       "  <tbody>\n",
       "    <tr>\n",
       "      <th>1901</th>\n",
       "      <td>0</td>\n",
       "      <td>3</td>\n",
       "      <td>3</td>\n",
       "      <td>1.0</td>\n",
       "      <td>0.0</td>\n",
       "    </tr>\n",
       "    <tr>\n",
       "      <th>1902</th>\n",
       "      <td>0</td>\n",
       "      <td>4</td>\n",
       "      <td>4</td>\n",
       "      <td>1.0</td>\n",
       "      <td>0.0</td>\n",
       "    </tr>\n",
       "    <tr>\n",
       "      <th>1903</th>\n",
       "      <td>1</td>\n",
       "      <td>4</td>\n",
       "      <td>5</td>\n",
       "      <td>0.8</td>\n",
       "      <td>0.2</td>\n",
       "    </tr>\n",
       "    <tr>\n",
       "      <th>1904</th>\n",
       "      <td>0</td>\n",
       "      <td>3</td>\n",
       "      <td>3</td>\n",
       "      <td>1.0</td>\n",
       "      <td>0.0</td>\n",
       "    </tr>\n",
       "    <tr>\n",
       "      <th>1905</th>\n",
       "      <td>0</td>\n",
       "      <td>3</td>\n",
       "      <td>3</td>\n",
       "      <td>1.0</td>\n",
       "      <td>0.0</td>\n",
       "    </tr>\n",
       "  </tbody>\n",
       "</table>\n",
       "</div>"
      ],
      "text/plain": [
       "gender  female  male  total  male_percentage  female_percentage\n",
       "year                                                           \n",
       "1901         0     3      3              1.0                0.0\n",
       "1902         0     4      4              1.0                0.0\n",
       "1903         1     4      5              0.8                0.2\n",
       "1904         0     3      3              1.0                0.0\n",
       "1905         0     3      3              1.0                0.0"
      ]
     },
     "execution_count": 59,
     "metadata": {},
     "output_type": "execute_result"
    }
   ],
   "source": [
    "gender_unstack.head()"
   ]
  },
  {
   "cell_type": "code",
   "execution_count": 60,
   "metadata": {},
   "outputs": [],
   "source": [
    "# Count the number of male and female laureates per decade\n",
    "gender_unstack['decade'] = (gender_unstack.index // 10) * 10\n"
   ]
  },
  {
   "cell_type": "code",
   "execution_count": 61,
   "metadata": {},
   "outputs": [
    {
     "data": {
      "text/html": [
       "<div>\n",
       "<style scoped>\n",
       "    .dataframe tbody tr th:only-of-type {\n",
       "        vertical-align: middle;\n",
       "    }\n",
       "\n",
       "    .dataframe tbody tr th {\n",
       "        vertical-align: top;\n",
       "    }\n",
       "\n",
       "    .dataframe thead th {\n",
       "        text-align: right;\n",
       "    }\n",
       "</style>\n",
       "<table border=\"1\" class=\"dataframe\">\n",
       "  <thead>\n",
       "    <tr style=\"text-align: right;\">\n",
       "      <th>gender</th>\n",
       "      <th>female</th>\n",
       "      <th>male</th>\n",
       "      <th>total</th>\n",
       "      <th>male_percentage</th>\n",
       "      <th>female_percentage</th>\n",
       "      <th>decade</th>\n",
       "    </tr>\n",
       "    <tr>\n",
       "      <th>year</th>\n",
       "      <th></th>\n",
       "      <th></th>\n",
       "      <th></th>\n",
       "      <th></th>\n",
       "      <th></th>\n",
       "      <th></th>\n",
       "    </tr>\n",
       "  </thead>\n",
       "  <tbody>\n",
       "    <tr>\n",
       "      <th>1901</th>\n",
       "      <td>0</td>\n",
       "      <td>3</td>\n",
       "      <td>3</td>\n",
       "      <td>1.0</td>\n",
       "      <td>0.0</td>\n",
       "      <td>1900</td>\n",
       "    </tr>\n",
       "    <tr>\n",
       "      <th>1902</th>\n",
       "      <td>0</td>\n",
       "      <td>4</td>\n",
       "      <td>4</td>\n",
       "      <td>1.0</td>\n",
       "      <td>0.0</td>\n",
       "      <td>1900</td>\n",
       "    </tr>\n",
       "    <tr>\n",
       "      <th>1903</th>\n",
       "      <td>1</td>\n",
       "      <td>4</td>\n",
       "      <td>5</td>\n",
       "      <td>0.8</td>\n",
       "      <td>0.2</td>\n",
       "      <td>1900</td>\n",
       "    </tr>\n",
       "    <tr>\n",
       "      <th>1904</th>\n",
       "      <td>0</td>\n",
       "      <td>3</td>\n",
       "      <td>3</td>\n",
       "      <td>1.0</td>\n",
       "      <td>0.0</td>\n",
       "      <td>1900</td>\n",
       "    </tr>\n",
       "    <tr>\n",
       "      <th>1905</th>\n",
       "      <td>0</td>\n",
       "      <td>3</td>\n",
       "      <td>3</td>\n",
       "      <td>1.0</td>\n",
       "      <td>0.0</td>\n",
       "      <td>1900</td>\n",
       "    </tr>\n",
       "  </tbody>\n",
       "</table>\n",
       "</div>"
      ],
      "text/plain": [
       "gender  female  male  total  male_percentage  female_percentage  decade\n",
       "year                                                                   \n",
       "1901         0     3      3              1.0                0.0    1900\n",
       "1902         0     4      4              1.0                0.0    1900\n",
       "1903         1     4      5              0.8                0.2    1900\n",
       "1904         0     3      3              1.0                0.0    1900\n",
       "1905         0     3      3              1.0                0.0    1900"
      ]
     },
     "execution_count": 61,
     "metadata": {},
     "output_type": "execute_result"
    }
   ],
   "source": [
    "gender_unstack.head()"
   ]
  },
  {
   "cell_type": "code",
   "execution_count": 62,
   "metadata": {},
   "outputs": [
    {
     "data": {
      "text/html": [
       "<div>\n",
       "<style scoped>\n",
       "    .dataframe tbody tr th:only-of-type {\n",
       "        vertical-align: middle;\n",
       "    }\n",
       "\n",
       "    .dataframe tbody tr th {\n",
       "        vertical-align: top;\n",
       "    }\n",
       "\n",
       "    .dataframe thead th {\n",
       "        text-align: right;\n",
       "    }\n",
       "</style>\n",
       "<table border=\"1\" class=\"dataframe\">\n",
       "  <thead>\n",
       "    <tr style=\"text-align: right;\">\n",
       "      <th>gender</th>\n",
       "      <th>female</th>\n",
       "      <th>male</th>\n",
       "    </tr>\n",
       "    <tr>\n",
       "      <th>decade</th>\n",
       "      <th></th>\n",
       "      <th></th>\n",
       "    </tr>\n",
       "  </thead>\n",
       "  <tbody>\n",
       "    <tr>\n",
       "      <th>1900</th>\n",
       "      <td>1</td>\n",
       "      <td>32</td>\n",
       "    </tr>\n",
       "    <tr>\n",
       "      <th>1910</th>\n",
       "      <td>1</td>\n",
       "      <td>23</td>\n",
       "    </tr>\n",
       "    <tr>\n",
       "      <th>1920</th>\n",
       "      <td>0</td>\n",
       "      <td>33</td>\n",
       "    </tr>\n",
       "    <tr>\n",
       "      <th>1930</th>\n",
       "      <td>1</td>\n",
       "      <td>37</td>\n",
       "    </tr>\n",
       "    <tr>\n",
       "      <th>1940</th>\n",
       "      <td>1</td>\n",
       "      <td>29</td>\n",
       "    </tr>\n",
       "    <tr>\n",
       "      <th>1950</th>\n",
       "      <td>0</td>\n",
       "      <td>54</td>\n",
       "    </tr>\n",
       "    <tr>\n",
       "      <th>1960</th>\n",
       "      <td>2</td>\n",
       "      <td>55</td>\n",
       "    </tr>\n",
       "    <tr>\n",
       "      <th>1970</th>\n",
       "      <td>1</td>\n",
       "      <td>64</td>\n",
       "    </tr>\n",
       "    <tr>\n",
       "      <th>1980</th>\n",
       "      <td>3</td>\n",
       "      <td>63</td>\n",
       "    </tr>\n",
       "    <tr>\n",
       "      <th>1990</th>\n",
       "      <td>1</td>\n",
       "      <td>59</td>\n",
       "    </tr>\n",
       "    <tr>\n",
       "      <th>2000</th>\n",
       "      <td>5</td>\n",
       "      <td>74</td>\n",
       "    </tr>\n",
       "    <tr>\n",
       "      <th>2010</th>\n",
       "      <td>4</td>\n",
       "      <td>73</td>\n",
       "    </tr>\n",
       "    <tr>\n",
       "      <th>2020</th>\n",
       "      <td>6</td>\n",
       "      <td>24</td>\n",
       "    </tr>\n",
       "  </tbody>\n",
       "</table>\n",
       "</div>"
      ],
      "text/plain": [
       "gender  female  male\n",
       "decade              \n",
       "1900         1    32\n",
       "1910         1    23\n",
       "1920         0    33\n",
       "1930         1    37\n",
       "1940         1    29\n",
       "1950         0    54\n",
       "1960         2    55\n",
       "1970         1    64\n",
       "1980         3    63\n",
       "1990         1    59\n",
       "2000         5    74\n",
       "2010         4    73\n",
       "2020         6    24"
      ]
     },
     "execution_count": 62,
     "metadata": {},
     "output_type": "execute_result"
    }
   ],
   "source": [
    "gender_decade_count = gender_unstack.groupby('decade')[['female', 'male']].sum()\n",
    "gender_decade_count"
   ]
  },
  {
   "cell_type": "code",
   "execution_count": 63,
   "metadata": {},
   "outputs": [
    {
     "data": {
      "image/png": "[encoded data removed]",
      "text/plain": [
       "<Figure size 1000x600 with 1 Axes>"
      ]
     },
     "metadata": {},
     "output_type": "display_data"
    }
   ],
   "source": [
    "# Plot the percentage\n",
    "plt.figure(figsize=(10, 6))\n",
    "plt.bar(gender_unstack.index, gender_unstack['female_percentage'], label='Female %')\n",
    "plt.bar(gender_unstack.index, gender_unstack['male_percentage'], bottom=gender_unstack['female_percentage'], label='Male %')\n",
    "\n",
    "plt.xlabel('Year')\n",
    "plt.ylabel('Percentage')\n",
    "plt.title('Gender of prize winners by year')\n",
    "plt.legend(loc='upper left')\n",
    "\n",
    "plt.show()"
   ]
  },
  {
   "cell_type": "code",
   "execution_count": 64,
   "metadata": {},
   "outputs": [
    {
     "data": {
      "image/png": "[encoded data removed]",
      "text/plain": [
       "<Figure size 1000x600 with 1 Axes>"
      ]
     },
     "metadata": {},
     "output_type": "display_data"
    }
   ],
   "source": [
    "# Plot the percentage\n",
    "plt.figure(figsize=(10, 6))\n",
    "plt.bar(gender_unstack.index, gender_unstack['female'], label='Female winners')\n",
    "\n",
    "plt.xlabel('Year')\n",
    "plt.ylabel('Number of winners')\n",
    "plt.title('Number of female prize winners by year')\n",
    "plt.legend(loc='upper left')\n",
    "\n",
    "plt.show()"
   ]
  },
  {
   "cell_type": "code",
   "execution_count": 65,
   "metadata": {},
   "outputs": [
    {
     "data": {
      "image/png": "[encoded data removed]",
      "text/plain": [
       "<Figure size 1000x600 with 1 Axes>"
      ]
     },
     "metadata": {},
     "output_type": "display_data"
    }
   ],
   "source": [
    "# Plot the percentage\n",
    "plt.figure(figsize=(10, 6))\n",
    "plt.bar(gender_unstack.index, gender_unstack['female_percentage'], label='Female %')\n",
    "\n",
    "plt.xlabel('Year')\n",
    "plt.ylabel('Percentage')\n",
    "plt.title('Percentage of female of prize winners by year')\n",
    "plt.legend(loc='upper left')\n",
    "\n",
    "plt.show()"
   ]
  },
  {
   "cell_type": "code",
   "execution_count": 66,
   "metadata": {},
   "outputs": [],
   "source": [
    "# Save the gendere_unstack data to a CSV file\n",
    "file_path = 'data/gender-unstack.csv'\n",
    "gender_unstack.to_csv(file_path, index=True)"
   ]
  },
  {
   "cell_type": "code",
   "execution_count": 67,
   "metadata": {},
   "outputs": [],
   "source": [
    "female_winners = df[df['gender'] == \"female\"]"
   ]
  },
  {
   "cell_type": "code",
   "execution_count": 68,
   "metadata": {},
   "outputs": [],
   "source": [
    "# Save the gemale_winners data to a CSV file\n",
    "file_path = 'data/female-winners.csv'\n",
    "female_winners.to_csv(file_path, index=False)"
   ]
  },
  {
   "cell_type": "code",
   "execution_count": 69,
   "metadata": {},
   "outputs": [
    {
     "data": {
      "text/plain": [
       "<Axes: title={'center': 'Female prizes by category'}, xlabel='category'>"
      ]
     },
     "execution_count": 69,
     "metadata": {},
     "output_type": "execute_result"
    },
    {
     "data": {
      "image/png": "[encoded data removed]",
      "text/plain": [
       "<Figure size 1000x600 with 1 Axes>"
      ]
     },
     "metadata": {},
     "output_type": "display_data"
    }
   ],
   "source": [
    "female_winners.groupby('category').size().sort_values(ascending=True).plot(kind='bar', figsize=(10, 6), title='Female prizes by category')"
   ]
  },
  {
   "cell_type": "code",
   "execution_count": 70,
   "metadata": {},
   "outputs": [
    {
     "data": {
      "text/plain": [
       "<Axes: title={'center': 'Male prizes by category'}, xlabel='category'>"
      ]
     },
     "execution_count": 70,
     "metadata": {},
     "output_type": "execute_result"
    },
    {
     "data": {
      "image/png": "[encoded data removed]",
      "text/plain": [
       "<Figure size 1000x600 with 1 Axes>"
      ]
     },
     "metadata": {},
     "output_type": "display_data"
    }
   ],
   "source": [
    "df[df['gender'] == \"male\"].groupby('category').size().sort_values(ascending=True).plot(kind='bar', figsize=(10, 6), title='Male prizes by category')"
   ]
  },
  {
   "cell_type": "code",
   "execution_count": 71,
   "metadata": {},
   "outputs": [],
   "source": [
    "# Group by 'gender' and 'category' and calculate the sum\n",
    "category_grouped = df.groupby(['gender', 'category']).size().unstack(fill_value=0)"
   ]
  },
  {
   "cell_type": "code",
   "execution_count": 72,
   "metadata": {},
   "outputs": [
    {
     "data": {
      "text/html": [
       "<div>\n",
       "<style scoped>\n",
       "    .dataframe tbody tr th:only-of-type {\n",
       "        vertical-align: middle;\n",
       "    }\n",
       "\n",
       "    .dataframe tbody tr th {\n",
       "        vertical-align: top;\n",
       "    }\n",
       "\n",
       "    .dataframe thead th {\n",
       "        text-align: right;\n",
       "    }\n",
       "</style>\n",
       "<table border=\"1\" class=\"dataframe\">\n",
       "  <thead>\n",
       "    <tr style=\"text-align: right;\">\n",
       "      <th>category</th>\n",
       "      <th>Chemistry</th>\n",
       "      <th>Physics</th>\n",
       "      <th>Physiology or Medicine</th>\n",
       "    </tr>\n",
       "    <tr>\n",
       "      <th>gender</th>\n",
       "      <th></th>\n",
       "      <th></th>\n",
       "      <th></th>\n",
       "    </tr>\n",
       "  </thead>\n",
       "  <tbody>\n",
       "    <tr>\n",
       "      <th>female</th>\n",
       "      <td>8</td>\n",
       "      <td>5</td>\n",
       "      <td>13</td>\n",
       "    </tr>\n",
       "    <tr>\n",
       "      <th>male</th>\n",
       "      <td>186</td>\n",
       "      <td>220</td>\n",
       "      <td>214</td>\n",
       "    </tr>\n",
       "  </tbody>\n",
       "</table>\n",
       "</div>"
      ],
      "text/plain": [
       "category  Chemistry  Physics  Physiology or Medicine\n",
       "gender                                              \n",
       "female            8        5                      13\n",
       "male            186      220                     214"
      ]
     },
     "execution_count": 72,
     "metadata": {},
     "output_type": "execute_result"
    }
   ],
   "source": [
    "category_grouped.head()"
   ]
  },
  {
   "cell_type": "code",
   "execution_count": 73,
   "metadata": {},
   "outputs": [],
   "source": [
    "# Create an array with the positions of the bars on the x axis\n",
    "x = np.arange(len(category_grouped.columns))"
   ]
  },
  {
   "cell_type": "code",
   "execution_count": 74,
   "metadata": {},
   "outputs": [
    {
     "data": {
      "image/png": "[encoded data removed]",
      "text/plain": [
       "<Figure size 1000x600 with 1 Axes>"
      ]
     },
     "metadata": {},
     "output_type": "display_data"
    }
   ],
   "source": [
    "plt.figure(figsize=(10, 6))\n",
    "# Plot the 'male' bars\n",
    "plt.bar(x - 0.2, category_grouped.loc['male'], width=0.4, label='Male')\n",
    "# Plot the 'female' bars\n",
    "plt.bar(x + 0.2, category_grouped.loc['female'], width=0.4, label='Female')\n",
    "# Replace the x ticks with the category names\n",
    "plt.xticks(x, category_grouped.columns, rotation=45, ha='right')\n",
    "\n",
    "plt.xlabel('Award category')\n",
    "plt.ylabel('Number of winners')\n",
    "plt.title('Number of winners per category by gender')\n",
    "plt.legend(loc='upper left')\n",
    "\n",
    "plt.show()"
   ]
  },
  {
   "cell_type": "code",
   "execution_count": null,
   "metadata": {},
   "outputs": [],
   "source": []
  }
 ],
 "metadata": {
  "kernelspec": {
   "display_name": "nobels-environment",
   "language": "python",
   "name": "python3"
  },
  "language_info": {
   "codemirror_mode": {
    "name": "ipython",
    "version": 3
   },
   "file_extension": ".py",
   "mimetype": "text/x-python",
   "name": "python",
   "nbconvert_exporter": "python",
   "pygments_lexer": "ipython3",
   "version": "3.12.4"
  }
 },
 "nbformat": 4,
 "nbformat_minor": 2
}
