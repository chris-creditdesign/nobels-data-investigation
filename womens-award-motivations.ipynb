{
 "cells": [
  {
   "cell_type": "code",
   "execution_count": 1,
   "metadata": {},
   "outputs": [],
   "source": [
    "import pandas as pd\n",
    "from collections import Counter\n",
    "import re\n",
    "from nltk.corpus import stopwords\n",
    "from nltk.tokenize import word_tokenize\n",
    "import nltk"
   ]
  },
  {
   "cell_type": "code",
   "execution_count": 2,
   "metadata": {},
   "outputs": [
    {
     "name": "stderr",
     "output_type": "stream",
     "text": [
      "[nltk_data] Downloading package punkt to /Users/c.ryan/nltk_data...\n",
      "[nltk_data]   Package punkt is already up-to-date!\n",
      "[nltk_data] Downloading package stopwords to\n",
      "[nltk_data]     /Users/c.ryan/nltk_data...\n",
      "[nltk_data]   Package stopwords is already up-to-date!\n"
     ]
    },
    {
     "data": {
      "text/plain": [
       "True"
      ]
     },
     "execution_count": 2,
     "metadata": {},
     "output_type": "execute_result"
    }
   ],
   "source": [
    "# Ensure the necessary NLTK data is downloaded\n",
    "nltk.download('punkt')\n",
    "nltk.download('stopwords')"
   ]
  },
  {
   "cell_type": "code",
   "execution_count": 3,
   "metadata": {},
   "outputs": [],
   "source": [
    "# Load the CSV file\n",
    "file_path = 'data/female-winners.csv'\n",
    "data = pd.read_csv(file_path)"
   ]
  },
  {
   "cell_type": "code",
   "execution_count": 4,
   "metadata": {},
   "outputs": [
    {
     "data": {
      "text/html": [
       "<div>\n",
       "<style scoped>\n",
       "    .dataframe tbody tr th:only-of-type {\n",
       "        vertical-align: middle;\n",
       "    }\n",
       "\n",
       "    .dataframe tbody tr th {\n",
       "        vertical-align: top;\n",
       "    }\n",
       "\n",
       "    .dataframe thead th {\n",
       "        text-align: right;\n",
       "    }\n",
       "</style>\n",
       "<table border=\"1\" class=\"dataframe\">\n",
       "  <thead>\n",
       "    <tr style=\"text-align: right;\">\n",
       "      <th></th>\n",
       "      <th>year</th>\n",
       "      <th>gender</th>\n",
       "      <th>name</th>\n",
       "      <th>href</th>\n",
       "      <th>category</th>\n",
       "      <th>motivation</th>\n",
       "    </tr>\n",
       "  </thead>\n",
       "  <tbody>\n",
       "    <tr>\n",
       "      <th>0</th>\n",
       "      <td>2009</td>\n",
       "      <td>female</td>\n",
       "      <td>Ada E. Yonath</td>\n",
       "      <td>https://api.nobelprize.org/2/laureate/843</td>\n",
       "      <td>Chemistry</td>\n",
       "      <td>for studies of the structure and function of t...</td>\n",
       "    </tr>\n",
       "    <tr>\n",
       "      <th>1</th>\n",
       "      <td>2013</td>\n",
       "      <td>female</td>\n",
       "      <td>Alice Munro</td>\n",
       "      <td>https://api.nobelprize.org/2/laureate/892</td>\n",
       "      <td>Literature</td>\n",
       "      <td>master of the contemporary short story</td>\n",
       "    </tr>\n",
       "    <tr>\n",
       "      <th>2</th>\n",
       "      <td>1982</td>\n",
       "      <td>female</td>\n",
       "      <td>Alva Myrdal</td>\n",
       "      <td>https://api.nobelprize.org/2/laureate/543</td>\n",
       "      <td>Peace</td>\n",
       "      <td>for their work for disarmament and nuclear and...</td>\n",
       "    </tr>\n",
       "    <tr>\n",
       "      <th>3</th>\n",
       "      <td>2020</td>\n",
       "      <td>female</td>\n",
       "      <td>Andrea Ghez</td>\n",
       "      <td>https://api.nobelprize.org/2/laureate/990</td>\n",
       "      <td>Physics</td>\n",
       "      <td>for the discovery of a supermassive compact ob...</td>\n",
       "    </tr>\n",
       "    <tr>\n",
       "      <th>4</th>\n",
       "      <td>2023</td>\n",
       "      <td>female</td>\n",
       "      <td>Anne L’Huillier</td>\n",
       "      <td>https://api.nobelprize.org/2/laureate/1028</td>\n",
       "      <td>Physics</td>\n",
       "      <td>for experimental methods that generate attosec...</td>\n",
       "    </tr>\n",
       "  </tbody>\n",
       "</table>\n",
       "</div>"
      ],
      "text/plain": [
       "   year  gender             name                                        href  \\\n",
       "0  2009  female    Ada E. Yonath   https://api.nobelprize.org/2/laureate/843   \n",
       "1  2013  female      Alice Munro   https://api.nobelprize.org/2/laureate/892   \n",
       "2  1982  female      Alva Myrdal   https://api.nobelprize.org/2/laureate/543   \n",
       "3  2020  female      Andrea Ghez   https://api.nobelprize.org/2/laureate/990   \n",
       "4  2023  female  Anne L’Huillier  https://api.nobelprize.org/2/laureate/1028   \n",
       "\n",
       "     category                                         motivation  \n",
       "0   Chemistry  for studies of the structure and function of t...  \n",
       "1  Literature             master of the contemporary short story  \n",
       "2       Peace  for their work for disarmament and nuclear and...  \n",
       "3     Physics  for the discovery of a supermassive compact ob...  \n",
       "4     Physics  for experimental methods that generate attosec...  "
      ]
     },
     "execution_count": 4,
     "metadata": {},
     "output_type": "execute_result"
    }
   ],
   "source": [
    "data.head()"
   ]
  },
  {
   "cell_type": "code",
   "execution_count": 5,
   "metadata": {},
   "outputs": [],
   "source": [
    "# Function to clean and tokenize text\n",
    "def preprocess_text(text):\n",
    "    # Remove special characters and numbers\n",
    "    text = re.sub(r'[^a-zA-Z\\s]', '', text)\n",
    "    # Convert to lowercase\n",
    "    text = text.lower()\n",
    "    # Tokenize the text\n",
    "    tokens = word_tokenize(text)\n",
    "    # Remove stop words\n",
    "    stop_words = set(stopwords.words('english'))\n",
    "    tokens = [word for word in tokens if word not in stop_words]\n",
    "    return tokens"
   ]
  },
  {
   "cell_type": "code",
   "execution_count": 6,
   "metadata": {},
   "outputs": [],
   "source": [
    "# Apply preprocessing to the motivation column\n",
    "data['cleaned_motivation'] = data['motivation'].apply(preprocess_text)"
   ]
  },
  {
   "cell_type": "code",
   "execution_count": 7,
   "metadata": {},
   "outputs": [
    {
     "data": {
      "text/html": [
       "<div>\n",
       "<style scoped>\n",
       "    .dataframe tbody tr th:only-of-type {\n",
       "        vertical-align: middle;\n",
       "    }\n",
       "\n",
       "    .dataframe tbody tr th {\n",
       "        vertical-align: top;\n",
       "    }\n",
       "\n",
       "    .dataframe thead th {\n",
       "        text-align: right;\n",
       "    }\n",
       "</style>\n",
       "<table border=\"1\" class=\"dataframe\">\n",
       "  <thead>\n",
       "    <tr style=\"text-align: right;\">\n",
       "      <th></th>\n",
       "      <th>year</th>\n",
       "      <th>gender</th>\n",
       "      <th>name</th>\n",
       "      <th>href</th>\n",
       "      <th>category</th>\n",
       "      <th>motivation</th>\n",
       "      <th>cleaned_motivation</th>\n",
       "    </tr>\n",
       "  </thead>\n",
       "  <tbody>\n",
       "    <tr>\n",
       "      <th>0</th>\n",
       "      <td>2009</td>\n",
       "      <td>female</td>\n",
       "      <td>Ada E. Yonath</td>\n",
       "      <td>https://api.nobelprize.org/2/laureate/843</td>\n",
       "      <td>Chemistry</td>\n",
       "      <td>for studies of the structure and function of t...</td>\n",
       "      <td>[studies, structure, function, ribosome]</td>\n",
       "    </tr>\n",
       "    <tr>\n",
       "      <th>1</th>\n",
       "      <td>2013</td>\n",
       "      <td>female</td>\n",
       "      <td>Alice Munro</td>\n",
       "      <td>https://api.nobelprize.org/2/laureate/892</td>\n",
       "      <td>Literature</td>\n",
       "      <td>master of the contemporary short story</td>\n",
       "      <td>[master, contemporary, short, story]</td>\n",
       "    </tr>\n",
       "    <tr>\n",
       "      <th>2</th>\n",
       "      <td>1982</td>\n",
       "      <td>female</td>\n",
       "      <td>Alva Myrdal</td>\n",
       "      <td>https://api.nobelprize.org/2/laureate/543</td>\n",
       "      <td>Peace</td>\n",
       "      <td>for their work for disarmament and nuclear and...</td>\n",
       "      <td>[work, disarmament, nuclear, weaponfree, zones]</td>\n",
       "    </tr>\n",
       "    <tr>\n",
       "      <th>3</th>\n",
       "      <td>2020</td>\n",
       "      <td>female</td>\n",
       "      <td>Andrea Ghez</td>\n",
       "      <td>https://api.nobelprize.org/2/laureate/990</td>\n",
       "      <td>Physics</td>\n",
       "      <td>for the discovery of a supermassive compact ob...</td>\n",
       "      <td>[discovery, supermassive, compact, object, cen...</td>\n",
       "    </tr>\n",
       "    <tr>\n",
       "      <th>4</th>\n",
       "      <td>2023</td>\n",
       "      <td>female</td>\n",
       "      <td>Anne L’Huillier</td>\n",
       "      <td>https://api.nobelprize.org/2/laureate/1028</td>\n",
       "      <td>Physics</td>\n",
       "      <td>for experimental methods that generate attosec...</td>\n",
       "      <td>[experimental, methods, generate, attosecond, ...</td>\n",
       "    </tr>\n",
       "  </tbody>\n",
       "</table>\n",
       "</div>"
      ],
      "text/plain": [
       "   year  gender             name                                        href  \\\n",
       "0  2009  female    Ada E. Yonath   https://api.nobelprize.org/2/laureate/843   \n",
       "1  2013  female      Alice Munro   https://api.nobelprize.org/2/laureate/892   \n",
       "2  1982  female      Alva Myrdal   https://api.nobelprize.org/2/laureate/543   \n",
       "3  2020  female      Andrea Ghez   https://api.nobelprize.org/2/laureate/990   \n",
       "4  2023  female  Anne L’Huillier  https://api.nobelprize.org/2/laureate/1028   \n",
       "\n",
       "     category                                         motivation  \\\n",
       "0   Chemistry  for studies of the structure and function of t...   \n",
       "1  Literature             master of the contemporary short story   \n",
       "2       Peace  for their work for disarmament and nuclear and...   \n",
       "3     Physics  for the discovery of a supermassive compact ob...   \n",
       "4     Physics  for experimental methods that generate attosec...   \n",
       "\n",
       "                                  cleaned_motivation  \n",
       "0           [studies, structure, function, ribosome]  \n",
       "1               [master, contemporary, short, story]  \n",
       "2    [work, disarmament, nuclear, weaponfree, zones]  \n",
       "3  [discovery, supermassive, compact, object, cen...  \n",
       "4  [experimental, methods, generate, attosecond, ...  "
      ]
     },
     "execution_count": 7,
     "metadata": {},
     "output_type": "execute_result"
    }
   ],
   "source": [
    "data.head()"
   ]
  },
  {
   "cell_type": "code",
   "execution_count": 8,
   "metadata": {},
   "outputs": [
    {
     "data": {
      "text/plain": [
       "'studies'"
      ]
     },
     "execution_count": 8,
     "metadata": {},
     "output_type": "execute_result"
    }
   ],
   "source": [
    "data[:1]['cleaned_motivation'][0][0]"
   ]
  },
  {
   "cell_type": "code",
   "execution_count": 9,
   "metadata": {},
   "outputs": [],
   "source": [
    "# Combine all tokens into a single list\n",
    "all_tokens = [token for sublist in data['cleaned_motivation'] for token in sublist]"
   ]
  },
  {
   "cell_type": "code",
   "execution_count": 10,
   "metadata": {},
   "outputs": [],
   "source": [
    "# Get the frequency distribution of the words\n",
    "word_freq = Counter(all_tokens)"
   ]
  },
  {
   "cell_type": "code",
   "execution_count": 11,
   "metadata": {},
   "outputs": [
    {
     "data": {
      "text/plain": [
       "[('rights', 8),\n",
       " ('discoveries', 8),\n",
       " ('work', 7),\n",
       " ('discovery', 7),\n",
       " ('struggle', 7),\n",
       " ('development', 7),\n",
       " ('human', 6),\n",
       " ('efforts', 5),\n",
       " ('women', 5),\n",
       " ('peace', 5)]"
      ]
     },
     "execution_count": 11,
     "metadata": {},
     "output_type": "execute_result"
    }
   ],
   "source": [
    "word_freq.most_common(10)"
   ]
  },
  {
   "cell_type": "code",
   "execution_count": null,
   "metadata": {},
   "outputs": [],
   "source": []
  }
 ],
 "metadata": {
  "kernelspec": {
   "display_name": "nobels-environment",
   "language": "python",
   "name": "python3"
  },
  "language_info": {
   "codemirror_mode": {
    "name": "ipython",
    "version": 3
   },
   "file_extension": ".py",
   "mimetype": "text/x-python",
   "name": "python",
   "nbconvert_exporter": "python",
   "pygments_lexer": "ipython3",
   "version": "3.12.3"
  }
 },
 "nbformat": 4,
 "nbformat_minor": 2
}
