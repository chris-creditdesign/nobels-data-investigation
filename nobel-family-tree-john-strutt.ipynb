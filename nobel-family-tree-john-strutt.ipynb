{
 "cells": [
  {
   "cell_type": "code",
   "execution_count": 1,
   "metadata": {},
   "outputs": [],
   "source": [
    "import pandas as pd\n",
    "import re\n",
    "import json\n",
    "import networkx as nx"
   ]
  },
  {
   "cell_type": "code",
   "execution_count": 2,
   "metadata": {},
   "outputs": [],
   "source": [
    "file_path = 'data/re-raleigh/kerri.xlsx'\n",
    "excel_data = pd.ExcelFile(file_path)"
   ]
  },
  {
   "cell_type": "code",
   "execution_count": 3,
   "metadata": {},
   "outputs": [
    {
     "name": "stdout",
     "output_type": "stream",
     "text": [
      "['nodes', 'edges', 'adjacency (sparse)', 'adjacency (full)']\n"
     ]
    }
   ],
   "source": [
    "# Check the sheet names\n",
    "sheet_names = excel_data.sheet_names\n",
    "print(sheet_names)"
   ]
  },
  {
   "cell_type": "code",
   "execution_count": 4,
   "metadata": {},
   "outputs": [],
   "source": [
    "# Load 'edges' sheets\n",
    "edges_excel = pd.read_excel(file_path, sheet_name='edges', header=None)"
   ]
  },
  {
   "cell_type": "code",
   "execution_count": 5,
   "metadata": {},
   "outputs": [
    {
     "data": {
      "text/html": [
       "<div>\n",
       "<style scoped>\n",
       "    .dataframe tbody tr th:only-of-type {\n",
       "        vertical-align: middle;\n",
       "    }\n",
       "\n",
       "    .dataframe tbody tr th {\n",
       "        vertical-align: top;\n",
       "    }\n",
       "\n",
       "    .dataframe thead th {\n",
       "        text-align: right;\n",
       "    }\n",
       "</style>\n",
       "<table border=\"1\" class=\"dataframe\">\n",
       "  <thead>\n",
       "    <tr style=\"text-align: right;\">\n",
       "      <th></th>\n",
       "      <th>0</th>\n",
       "      <th>1</th>\n",
       "    </tr>\n",
       "  </thead>\n",
       "  <tbody>\n",
       "    <tr>\n",
       "      <th>0</th>\n",
       "      <td>'John Strutt (P1904)'</td>\n",
       "      <td>'Joseph Thomson (P1906)'</td>\n",
       "    </tr>\n",
       "    <tr>\n",
       "      <th>1</th>\n",
       "      <td>'Joseph Thomson (P1906)'</td>\n",
       "      <td>'Lawrence Bragg (P1915)'</td>\n",
       "    </tr>\n",
       "    <tr>\n",
       "      <th>2</th>\n",
       "      <td>'Joseph Thomson (P1906)'</td>\n",
       "      <td>'Charles Barkla (P1917)'</td>\n",
       "    </tr>\n",
       "    <tr>\n",
       "      <th>3</th>\n",
       "      <td>'Joseph Thomson (P1906)'</td>\n",
       "      <td>'Niels Bohr (P1922)'</td>\n",
       "    </tr>\n",
       "    <tr>\n",
       "      <th>4</th>\n",
       "      <td>'Joseph Thomson (P1906)'</td>\n",
       "      <td>'Ernst Rutherford (C1908)'</td>\n",
       "    </tr>\n",
       "  </tbody>\n",
       "</table>\n",
       "</div>"
      ],
      "text/plain": [
       "                          0                           1\n",
       "0     'John Strutt (P1904)'    'Joseph Thomson (P1906)'\n",
       "1  'Joseph Thomson (P1906)'    'Lawrence Bragg (P1915)'\n",
       "2  'Joseph Thomson (P1906)'    'Charles Barkla (P1917)'\n",
       "3  'Joseph Thomson (P1906)'        'Niels Bohr (P1922)'\n",
       "4  'Joseph Thomson (P1906)'  'Ernst Rutherford (C1908)'"
      ]
     },
     "execution_count": 5,
     "metadata": {},
     "output_type": "execute_result"
    }
   ],
   "source": [
    "edges_excel[:5]"
   ]
  },
  {
   "cell_type": "code",
   "execution_count": 6,
   "metadata": {},
   "outputs": [],
   "source": [
    "# For each value in edges_excel remove the speach marks around the value\n",
    "edges = edges_excel.map(lambda x: x.strip('\\''))"
   ]
  },
  {
   "cell_type": "code",
   "execution_count": 7,
   "metadata": {},
   "outputs": [
    {
     "data": {
      "text/html": [
       "<div>\n",
       "<style scoped>\n",
       "    .dataframe tbody tr th:only-of-type {\n",
       "        vertical-align: middle;\n",
       "    }\n",
       "\n",
       "    .dataframe tbody tr th {\n",
       "        vertical-align: top;\n",
       "    }\n",
       "\n",
       "    .dataframe thead th {\n",
       "        text-align: right;\n",
       "    }\n",
       "</style>\n",
       "<table border=\"1\" class=\"dataframe\">\n",
       "  <thead>\n",
       "    <tr style=\"text-align: right;\">\n",
       "      <th></th>\n",
       "      <th>0</th>\n",
       "      <th>1</th>\n",
       "    </tr>\n",
       "  </thead>\n",
       "  <tbody>\n",
       "    <tr>\n",
       "      <th>0</th>\n",
       "      <td>John Strutt (P1904)</td>\n",
       "      <td>Joseph Thomson (P1906)</td>\n",
       "    </tr>\n",
       "    <tr>\n",
       "      <th>1</th>\n",
       "      <td>Joseph Thomson (P1906)</td>\n",
       "      <td>Lawrence Bragg (P1915)</td>\n",
       "    </tr>\n",
       "    <tr>\n",
       "      <th>2</th>\n",
       "      <td>Joseph Thomson (P1906)</td>\n",
       "      <td>Charles Barkla (P1917)</td>\n",
       "    </tr>\n",
       "    <tr>\n",
       "      <th>3</th>\n",
       "      <td>Joseph Thomson (P1906)</td>\n",
       "      <td>Niels Bohr (P1922)</td>\n",
       "    </tr>\n",
       "    <tr>\n",
       "      <th>4</th>\n",
       "      <td>Joseph Thomson (P1906)</td>\n",
       "      <td>Ernst Rutherford (C1908)</td>\n",
       "    </tr>\n",
       "  </tbody>\n",
       "</table>\n",
       "</div>"
      ],
      "text/plain": [
       "                        0                         1\n",
       "0     John Strutt (P1904)    Joseph Thomson (P1906)\n",
       "1  Joseph Thomson (P1906)    Lawrence Bragg (P1915)\n",
       "2  Joseph Thomson (P1906)    Charles Barkla (P1917)\n",
       "3  Joseph Thomson (P1906)        Niels Bohr (P1922)\n",
       "4  Joseph Thomson (P1906)  Ernst Rutherford (C1908)"
      ]
     },
     "execution_count": 7,
     "metadata": {},
     "output_type": "execute_result"
    }
   ],
   "source": [
    "edges.head()"
   ]
  },
  {
   "cell_type": "code",
   "execution_count": 8,
   "metadata": {},
   "outputs": [],
   "source": [
    "# Match names with a Nobel prize annotation\n",
    "# strings that end with parenthesis, followed by either P, C, M or E and then a four digit year.\n",
    "nobel_pattern = re.compile(r'^(.*)\\s\\(([PCME])(\\d{4})\\)')"
   ]
  },
  {
   "cell_type": "code",
   "execution_count": 9,
   "metadata": {},
   "outputs": [],
   "source": [
    "# Create a directed graph\n",
    "academic_tree = nx.DiGraph()"
   ]
  },
  {
   "cell_type": "code",
   "execution_count": 10,
   "metadata": {},
   "outputs": [],
   "source": [
    "for index, row in edges.iterrows():\n",
    "    source = row[0]\n",
    "    target = row[1]\n",
    "    academic_tree.add_edge(source, target)"
   ]
  },
  {
   "cell_type": "code",
   "execution_count": 11,
   "metadata": {},
   "outputs": [
    {
     "data": {
      "text/plain": [
       "['John Strutt (P1904)',\n",
       " 'Joseph Thomson (P1906)',\n",
       " 'Lawrence Bragg (P1915)',\n",
       " 'Charles Barkla (P1917)',\n",
       " 'Niels Bohr (P1922)']"
      ]
     },
     "execution_count": 11,
     "metadata": {},
     "output_type": "execute_result"
    }
   ],
   "source": [
    "list(academic_tree.nodes())[:5]"
   ]
  },
  {
   "cell_type": "code",
   "execution_count": 12,
   "metadata": {},
   "outputs": [
    {
     "data": {
      "text/plain": [
       "[('John Strutt (P1904)', 'Joseph Thomson (P1906)'),\n",
       " ('Joseph Thomson (P1906)', 'Lawrence Bragg (P1915)'),\n",
       " ('Joseph Thomson (P1906)', 'Charles Barkla (P1917)'),\n",
       " ('Joseph Thomson (P1906)', 'Niels Bohr (P1922)'),\n",
       " ('Joseph Thomson (P1906)', 'Ernst Rutherford (C1908)')]"
      ]
     },
     "execution_count": 12,
     "metadata": {},
     "output_type": "execute_result"
    }
   ],
   "source": [
    "list(academic_tree.edges())[:5]"
   ]
  },
  {
   "cell_type": "code",
   "execution_count": 13,
   "metadata": {},
   "outputs": [],
   "source": [
    "# Add Nobel Prize attribute\n",
    "for node in academic_tree.nodes:\n",
    "    academic_tree.nodes[node]['nobel'] = {}\n",
    "    # If the name matches the Nobel pattern, add the Nobel attribute\n",
    "    match = nobel_pattern.match(node)\n",
    "    if match:\n",
    "        academic_tree.nodes[node]['nobel']['award'] = True\n",
    "        academic_tree.nodes[node]['nobel']['category'] = match.group(2)\n",
    "        academic_tree.nodes[node]['nobel']['year'] = int(match.group(3))\n",
    "    else:\n",
    "        academic_tree.nodes[node]['nobel']['award'] = False\n",
    "        academic_tree.nodes[node]['nobel']['category'] = 'NA'\n",
    "        academic_tree.nodes[node]['nobel']['year'] = 0"
   ]
  },
  {
   "cell_type": "code",
   "execution_count": 14,
   "metadata": {},
   "outputs": [
    {
     "data": {
      "text/plain": [
       "{'nobel': {'award': True, 'category': 'P', 'year': 1904}}"
      ]
     },
     "execution_count": 14,
     "metadata": {},
     "output_type": "execute_result"
    }
   ],
   "source": [
    "# John Strutt is correctly listed as a laureate\n",
    "academic_tree.nodes['John Strutt (P1904)']"
   ]
  },
  {
   "cell_type": "code",
   "execution_count": 15,
   "metadata": {},
   "outputs": [
    {
     "data": {
      "text/plain": [
       "['Joseph Thomson (P1906)']"
      ]
     },
     "execution_count": 15,
     "metadata": {},
     "output_type": "execute_result"
    }
   ],
   "source": [
    "# In fact, Rayleigh only had one Nobellist among his trainees - Joseph Thomson, who won his Nobel in 1906. \n",
    "list(academic_tree.successors('John Strutt (P1904)'))"
   ]
  },
  {
   "cell_type": "code",
   "execution_count": 16,
   "metadata": {},
   "outputs": [
    {
     "data": {
      "text/plain": [
       "['Lawrence Bragg (P1915)',\n",
       " 'Charles Barkla (P1917)',\n",
       " 'Niels Bohr (P1922)',\n",
       " 'Ernst Rutherford (C1908)',\n",
       " 'Owen Richardson (P1928)',\n",
       " 'Hugh Callendar',\n",
       " 'Charles Wilson (P1927)',\n",
       " 'Max Born (P1954)',\n",
       " 'Clinton Davisson (P1937)',\n",
       " 'George Thomson (P1937)',\n",
       " 'Edward Appleton (P1946)',\n",
       " 'Robert Oppenheimer',\n",
       " 'Paul Langevin',\n",
       " 'Eli Burton',\n",
       " 'John Townsend',\n",
       " 'David Keys',\n",
       " 'Thomas Laby',\n",
       " 'Peter Pringsheim',\n",
       " 'Francis Aston (C1922)',\n",
       " 'Reginald James']"
      ]
     },
     "execution_count": 16,
     "metadata": {},
     "output_type": "execute_result"
    }
   ],
   "source": [
    "# Thomson really got the tree going – he trained 7 physics Nobellists and 2 in chemistry. \n",
    "list(academic_tree.successors('Joseph Thomson (P1906)'))"
   ]
  },
  {
   "cell_type": "code",
   "execution_count": 17,
   "metadata": {},
   "outputs": [
    {
     "data": {
      "text/plain": [
       "['Lawrence Bragg (P1915)',\n",
       " 'Charles Barkla (P1917)',\n",
       " 'Niels Bohr (P1922)',\n",
       " 'Ernst Rutherford (C1908)',\n",
       " 'Owen Richardson (P1928)',\n",
       " 'Charles Wilson (P1927)',\n",
       " 'Max Born (P1954)',\n",
       " 'Clinton Davisson (P1937)',\n",
       " 'George Thomson (P1937)',\n",
       " 'Edward Appleton (P1946)',\n",
       " 'Francis Aston (C1922)']"
      ]
     },
     "execution_count": 17,
     "metadata": {},
     "output_type": "execute_result"
    }
   ],
   "source": [
    "# Show a list of Joseph Thomson's Nobel laureate students\n",
    "[node for node in list(academic_tree.successors('Joseph Thomson (P1906)')) if academic_tree.nodes[node]['nobel']['award']]"
   ]
  },
  {
   "cell_type": "code",
   "execution_count": 18,
   "metadata": {},
   "outputs": [],
   "source": [
    "# Apply a level value to each node in the tree to show the distance to the root node\n",
    "levels = nx.shortest_path_length(academic_tree, source='John Strutt (P1904)')\n",
    "for node, level in levels.items():\n",
    "    academic_tree.nodes[node]['level'] = level"
   ]
  },
  {
   "cell_type": "code",
   "execution_count": 19,
   "metadata": {},
   "outputs": [
    {
     "data": {
      "text/plain": [
       "[('John Strutt (P1904)', 0),\n",
       " ('Joseph Thomson (P1906)', 1),\n",
       " ('George Thomson (P1937)', 2),\n",
       " ('Charles Wilson (P1927)', 2),\n",
       " ('Max Born (P1954)', 2)]"
      ]
     },
     "execution_count": 19,
     "metadata": {},
     "output_type": "execute_result"
    }
   ],
   "source": [
    "# Show the first entries in the levels dict\n",
    "list(levels.items())[:5]"
   ]
  },
  {
   "cell_type": "code",
   "execution_count": 20,
   "metadata": {},
   "outputs": [
    {
     "name": "stdout",
     "output_type": "stream",
     "text": [
      "Lawrence Bragg (P1915) {'nobel': {'award': True, 'category': 'P', 'year': 1915}, 'level': 2}\n",
      "Charles Barkla (P1917) {'nobel': {'award': True, 'category': 'P', 'year': 1917}, 'level': 2}\n",
      "Niels Bohr (P1922) {'nobel': {'award': True, 'category': 'P', 'year': 1922}, 'level': 2}\n",
      "Ernst Rutherford (C1908) {'nobel': {'award': True, 'category': 'C', 'year': 1908}, 'level': 2}\n",
      "Owen Richardson (P1928) {'nobel': {'award': True, 'category': 'P', 'year': 1928}, 'level': 2}\n",
      "Hugh Callendar {'nobel': {'award': False, 'category': 'NA', 'year': 0}, 'level': 2}\n",
      "Charles Wilson (P1927) {'nobel': {'award': True, 'category': 'P', 'year': 1927}, 'level': 2}\n",
      "Max Born (P1954) {'nobel': {'award': True, 'category': 'P', 'year': 1954}, 'level': 2}\n",
      "Clinton Davisson (P1937) {'nobel': {'award': True, 'category': 'P', 'year': 1937}, 'level': 2}\n",
      "George Thomson (P1937) {'nobel': {'award': True, 'category': 'P', 'year': 1937}, 'level': 2}\n",
      "Edward Appleton (P1946) {'nobel': {'award': True, 'category': 'P', 'year': 1946}, 'level': 2}\n",
      "Robert Oppenheimer {'nobel': {'award': False, 'category': 'NA', 'year': 0}, 'level': 2}\n",
      "Paul Langevin {'nobel': {'award': False, 'category': 'NA', 'year': 0}, 'level': 2}\n",
      "Eli Burton {'nobel': {'award': False, 'category': 'NA', 'year': 0}, 'level': 2}\n",
      "John Townsend {'nobel': {'award': False, 'category': 'NA', 'year': 0}, 'level': 2}\n",
      "David Keys {'nobel': {'award': False, 'category': 'NA', 'year': 0}, 'level': 2}\n",
      "Thomas Laby {'nobel': {'award': False, 'category': 'NA', 'year': 0}, 'level': 2}\n",
      "Peter Pringsheim {'nobel': {'award': False, 'category': 'NA', 'year': 0}, 'level': 2}\n",
      "Francis Aston (C1922) {'nobel': {'award': True, 'category': 'C', 'year': 1922}, 'level': 2}\n",
      "Reginald James {'nobel': {'award': False, 'category': 'NA', 'year': 0}, 'level': 2}\n"
     ]
    }
   ],
   "source": [
    "for node in academic_tree.successors('Joseph Thomson (P1906)'):\n",
    "    print(node, academic_tree.nodes[node])"
   ]
  },
  {
   "cell_type": "code",
   "execution_count": 21,
   "metadata": {},
   "outputs": [
    {
     "name": "stdout",
     "output_type": "stream",
     "text": [
      "Edward Appleton (P1946) {'nobel': {'award': True, 'category': 'P', 'year': 1946}, 'level': 2}\n",
      "Max Perutz (C1962) {'nobel': {'award': True, 'category': 'C', 'year': 1962}, 'level': 3}\n",
      "John Kendrew (C1962) {'nobel': {'award': True, 'category': 'C', 'year': 1962}, 'level': 3}\n"
     ]
    }
   ],
   "source": [
    "for node in academic_tree.successors('Lawrence Bragg (P1915)'):\n",
    "    print(node, academic_tree.nodes[node])"
   ]
  },
  {
   "cell_type": "code",
   "execution_count": 22,
   "metadata": {},
   "outputs": [],
   "source": [
    "# Extract nodes and links for d3\n",
    "nodes_d3 = [{\"id\": person, \"nobel\": academic_tree.nodes[person].get('nobel', {}), \"level\": academic_tree.nodes[person].get('level')} for person in academic_tree.nodes]\n",
    "links_d3 = [{\"source\": source, \"target\": target} for source, target in academic_tree.edges]"
   ]
  },
  {
   "cell_type": "code",
   "execution_count": 23,
   "metadata": {},
   "outputs": [
    {
     "name": "stdout",
     "output_type": "stream",
     "text": [
      "[\n",
      "  {\n",
      "    \"id\": \"John Strutt (P1904)\",\n",
      "    \"nobel\": {\n",
      "      \"award\": true,\n",
      "      \"category\": \"P\",\n",
      "      \"year\": 1904\n",
      "    },\n",
      "    \"level\": 0\n",
      "  },\n",
      "  {\n",
      "    \"id\": \"Joseph Thomson (P1906)\",\n",
      "    \"nobel\": {\n",
      "      \"award\": true,\n",
      "      \"category\": \"P\",\n",
      "      \"year\": 1906\n",
      "    },\n",
      "    \"level\": 1\n",
      "  },\n",
      "  {\n",
      "    \"id\": \"Lawrence Bragg (P1915)\",\n",
      "    \"nobel\": {\n",
      "      \"award\": true,\n",
      "      \"category\": \"P\",\n",
      "      \"year\": 1915\n",
      "    },\n",
      "    \"level\": 2\n",
      "  },\n",
      "  {\n",
      "    \"id\": \"Charles Barkla (P1917)\",\n",
      "    \"nobel\": {\n",
      "      \"award\": true,\n",
      "      \"category\": \"P\",\n",
      "      \"year\": 1917\n",
      "    },\n",
      "    \"level\": 2\n",
      "  },\n",
      "  {\n",
      "    \"id\": \"Niels Bohr (P1922)\",\n",
      "    \"nobel\": {\n",
      "      \"award\": true,\n",
      "      \"category\": \"P\",\n",
      "      \"year\": 1922\n",
      "    },\n",
      "    \"level\": 2\n",
      "  }\n",
      "]\n"
     ]
    }
   ],
   "source": [
    "print(json.dumps(nodes_d3[:5], indent=2))"
   ]
  },
  {
   "cell_type": "code",
   "execution_count": 24,
   "metadata": {},
   "outputs": [],
   "source": [
    "# Create the final dictionary\n",
    "d3_data = {\n",
    "    \"nodes\": nodes_d3,\n",
    "    \"links\": links_d3\n",
    "}"
   ]
  },
  {
   "cell_type": "code",
   "execution_count": 25,
   "metadata": {},
   "outputs": [],
   "source": [
    "# Save the data to a JSON file\n",
    "d3_file_path = './data/nobel-tree-john-strutt-subgraph.json'"
   ]
  },
  {
   "cell_type": "code",
   "execution_count": 26,
   "metadata": {},
   "outputs": [],
   "source": [
    "with open(d3_file_path, 'w') as file:\n",
    "    json.dump(d3_data, file)"
   ]
  }
 ],
 "metadata": {
  "kernelspec": {
   "display_name": "python-environment",
   "language": "python",
   "name": "python3"
  },
  "language_info": {
   "codemirror_mode": {
    "name": "ipython",
    "version": 3
   },
   "file_extension": ".py",
   "mimetype": "text/x-python",
   "name": "python",
   "nbconvert_exporter": "python",
   "pygments_lexer": "ipython3",
   "version": "3.12.4"
  }
 },
 "nbformat": 4,
 "nbformat_minor": 2
}
