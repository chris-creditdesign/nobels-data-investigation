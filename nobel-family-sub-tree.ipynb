{
 "cells": [
  {
   "cell_type": "code",
   "execution_count": 1,
   "metadata": {},
   "outputs": [],
   "source": [
    "import json\n",
    "import re"
   ]
  },
  {
   "cell_type": "code",
   "execution_count": 2,
   "metadata": {},
   "outputs": [],
   "source": [
    "# Load the data from the JSON file\n",
    "with open('./data/nobel-relationship.json') as f:\n",
    "    relationships = json.load(f)"
   ]
  },
  {
   "cell_type": "code",
   "execution_count": 3,
   "metadata": {},
   "outputs": [],
   "source": [
    "import networkx as nx\n",
    "\n",
    "# Create a directed graph\n",
    "academic_tree = nx.DiGraph()"
   ]
  },
  {
   "cell_type": "code",
   "execution_count": 4,
   "metadata": {},
   "outputs": [
    {
     "data": {
      "text/plain": [
       "[{'teacher': 'Gustav Zeuner', 'pupil': 'Wilhelm Rontgen (P1901)'},\n",
       " {'teacher': 'August Kundt', 'pupil': 'Wilhelm Rontgen (P1901)'},\n",
       " {'teacher': 'Victor Regnault', 'pupil': 'Gustav Zeuner'},\n",
       " {'teacher': 'Julius Weisbach', 'pupil': 'Gustav Zeuner'},\n",
       " {'teacher': 'Pierre Berthier', 'pupil': 'Victor Regnault'}]"
      ]
     },
     "execution_count": 4,
     "metadata": {},
     "output_type": "execute_result"
    }
   ],
   "source": [
    "relationships[:5]"
   ]
  },
  {
   "cell_type": "code",
   "execution_count": 5,
   "metadata": {},
   "outputs": [],
   "source": [
    "# Match names with a Nobel prize annotation\n",
    "# lLines that end with parenthesis, followed by either P, C, M or E and then a four digit year.\n",
    "nobel_pattern = re.compile(r'^.*\\([PCME]\\d{4}\\)')"
   ]
  },
  {
   "cell_type": "code",
   "execution_count": 6,
   "metadata": {},
   "outputs": [
    {
     "name": "stdout",
     "output_type": "stream",
     "text": [
      "\"Hans von Euler-Chelpin (C1929)\" matched\n"
     ]
    }
   ],
   "source": [
    "if nobel_pattern.match('Hans von Euler-Chelpin (C1929)'):\n",
    "    print('\"Hans von Euler-Chelpin (C1929)\" matched')\n",
    "else:\n",
    "    print('\"Hans von Euler-Chelpin (C1929)\" was not matched')"
   ]
  },
  {
   "cell_type": "code",
   "execution_count": 7,
   "metadata": {},
   "outputs": [
    {
     "name": "stdout",
     "output_type": "stream",
     "text": [
      "\"Gustav Zeuner\" was not matched\n"
     ]
    }
   ],
   "source": [
    "if nobel_pattern.match('Gustav Zeuner'):\n",
    "    print('\"Gustav Zeuner\" matched')\n",
    "else:\n",
    "    print('\"Gustav Zeuner\" was not matched')"
   ]
  },
  {
   "cell_type": "code",
   "execution_count": 8,
   "metadata": {},
   "outputs": [],
   "source": [
    "# Add edges to the graph\n",
    "for relationship in relationships:\n",
    "    teacher = relationship['teacher']\n",
    "    pupil = relationship['pupil']\n",
    "    academic_tree.add_edge(teacher, pupil)"
   ]
  },
  {
   "cell_type": "code",
   "execution_count": 9,
   "metadata": {},
   "outputs": [],
   "source": [
    "# Add Nobel Prize attribute\n",
    "for node in academic_tree.nodes:\n",
    "    # If the name matches the Nobel pattern, add the Nobel attribute\n",
    "    if nobel_pattern.match(node):\n",
    "        academic_tree.nodes[node]['nobel'] = True\n",
    "    else:\n",
    "        academic_tree.nodes[node]['nobel'] = False"
   ]
  },
  {
   "cell_type": "code",
   "execution_count": 10,
   "metadata": {},
   "outputs": [
    {
     "data": {
      "text/plain": [
       "{'nobel': True}"
      ]
     },
     "execution_count": 10,
     "metadata": {},
     "output_type": "execute_result"
    }
   ],
   "source": [
    "# Wilhelm Rontgen is incorrectly listed not as a laureate\n",
    "academic_tree.nodes['Wilhelm Rontgen (P1901)']"
   ]
  },
  {
   "cell_type": "markdown",
   "metadata": {},
   "source": [
    "---"
   ]
  },
  {
   "cell_type": "code",
   "execution_count": 18,
   "metadata": {},
   "outputs": [],
   "source": [
    "# Identify 'parent' nodes (nodes with no incoming edges)\n",
    "parent_nodes = [node for node in academic_tree.nodes if academic_tree.in_degree(node) == 0]"
   ]
  },
  {
   "cell_type": "code",
   "execution_count": 21,
   "metadata": {},
   "outputs": [
    {
     "data": {
      "text/plain": [
       "309"
      ]
     },
     "execution_count": 21,
     "metadata": {},
     "output_type": "execute_result"
    }
   ],
   "source": [
    "# Number of parent nodes\n",
    "len(parent_nodes)"
   ]
  },
  {
   "cell_type": "code",
   "execution_count": 22,
   "metadata": {},
   "outputs": [
    {
     "data": {
      "text/plain": [
       "['Johann Schreiber',\n",
       " 'Guillaume-Francoise Rouelle',\n",
       " 'Jean-Etienne Guettard',\n",
       " 'Johann Gmelin',\n",
       " 'Olof Rudbeck']"
      ]
     },
     "execution_count": 22,
     "metadata": {},
     "output_type": "execute_result"
    }
   ],
   "source": [
    "parent_nodes[:5]"
   ]
  },
  {
   "cell_type": "code",
   "execution_count": 23,
   "metadata": {},
   "outputs": [
    {
     "data": {
      "text/plain": [
       "False"
      ]
     },
     "execution_count": 23,
     "metadata": {},
     "output_type": "execute_result"
    }
   ],
   "source": [
    "# Check if the graph is strongly connected\n",
    "nx.is_strongly_connected(academic_tree)"
   ]
  },
  {
   "cell_type": "code",
   "execution_count": 28,
   "metadata": {},
   "outputs": [],
   "source": [
    "# Find all connected components (weakly connected) in the graph\n",
    "connected_components = list(nx.weakly_connected_components(academic_tree))"
   ]
  },
  {
   "cell_type": "code",
   "execution_count": 29,
   "metadata": {},
   "outputs": [
    {
     "data": {
      "text/plain": [
       "17"
      ]
     },
     "execution_count": 29,
     "metadata": {},
     "output_type": "execute_result"
    }
   ],
   "source": [
    "# Number of connected components\n",
    "len(connected_components)"
   ]
  },
  {
   "cell_type": "code",
   "execution_count": 30,
   "metadata": {},
   "outputs": [
    {
     "data": {
      "text/plain": [
       "[3476, 2, 3, 2, 2, 4, 2, 2, 2, 2, 2, 2, 3, 2, 2, 2, 6]"
      ]
     },
     "execution_count": 30,
     "metadata": {},
     "output_type": "execute_result"
    }
   ],
   "source": [
    "# Analyze the size of each connected component\n",
    "[len(component) for component in connected_components]"
   ]
  },
  {
   "cell_type": "markdown",
   "metadata": {},
   "source": [
    "---"
   ]
  },
  {
   "cell_type": "code",
   "execution_count": 11,
   "metadata": {},
   "outputs": [],
   "source": [
    "# Function to get descendants of a node\n",
    "def get_descendants(graph, root):\n",
    "    descendants = set()\n",
    "    queue = [root]\n",
    "\n",
    "    while queue:\n",
    "        current_node = queue.pop(0)\n",
    "        descendants.add(current_node)\n",
    "        for successor in graph.successors(current_node):\n",
    "            if successor not in descendants:\n",
    "                queue.append(successor)\n",
    "                \n",
    "    return descendants"
   ]
  },
  {
   "cell_type": "code",
   "execution_count": 12,
   "metadata": {},
   "outputs": [],
   "source": [
    "def extract_subgraph_to_d3(academic_tree, parent_node, file_path):\n",
    "    \"\"\"\n",
    "    Extracts a subgraph from an academic tree starting from a specified parent node,\n",
    "    formats it for D3.js, and saves the data to a JSON file.\n",
    "\n",
    "    Parameters:\n",
    "    - academic_tree: The full academic tree graph.\n",
    "    - parent_node: The node from which to start the subgraph extraction.\n",
    "    - file_path: The path to the file where the subgraph data will be saved.\n",
    "\n",
    "    Returns:\n",
    "    None\n",
    "    \"\"\"\n",
    "    # Get descendants of the selected parent node\n",
    "    descendants = get_descendants(academic_tree, parent_node)\n",
    "\n",
    "    # Filter the graph to include only the selected parent node and its descendants\n",
    "    subgraph = academic_tree.subgraph(descendants)\n",
    "\n",
    "    # Extract nodes and links for the subgraph\n",
    "    subgraph_nodes = [{\"id\": node, \"nobel\": subgraph.nodes[node].get('nobel', False) } for node in subgraph.nodes]\n",
    "    subgraph_links = [{\"source\": u, \"target\": v} for u, v in subgraph.edges]\n",
    "\n",
    "    # Create the final dictionary for D3.js\n",
    "    subgraph_d3_data = {\n",
    "        \"nodes\": subgraph_nodes,\n",
    "        \"links\": subgraph_links\n",
    "    }\n",
    "\n",
    "    # Save the data to a JSON file\n",
    "    with open(file_path, 'w') as file:\n",
    "        json.dump(subgraph_d3_data, file)"
   ]
  },
  {
   "cell_type": "code",
   "execution_count": 13,
   "metadata": {},
   "outputs": [],
   "source": [
    "extract_subgraph_to_d3(academic_tree, 'Emmanuel Stupanus', 'data/nobel-tree-emmanuel-stupanus-subgraph.json')"
   ]
  },
  {
   "cell_type": "code",
   "execution_count": 31,
   "metadata": {},
   "outputs": [],
   "source": [
    "extract_subgraph_to_d3(academic_tree, 'John Strutt (P1904)', 'data/nobel-tree-john-strutt-subgraph.json')"
   ]
  },
  {
   "cell_type": "markdown",
   "metadata": {},
   "source": [
    "---"
   ]
  },
  {
   "cell_type": "code",
   "execution_count": 14,
   "metadata": {},
   "outputs": [],
   "source": [
    "# Extract nodes and links\n",
    "nodes = [{\"id\": person, \"nobel\": academic_tree.nodes[person].get('nobel', False)} for person in academic_tree.nodes]\n",
    "links = [{\"source\": u, \"target\": v} for u, v in academic_tree.edges]"
   ]
  },
  {
   "cell_type": "code",
   "execution_count": 15,
   "metadata": {},
   "outputs": [],
   "source": [
    "# Create the final dictionary\n",
    "d3_data = {\n",
    "    \"nodes\": nodes,\n",
    "    \"links\": links\n",
    "}"
   ]
  },
  {
   "cell_type": "code",
   "execution_count": 16,
   "metadata": {},
   "outputs": [],
   "source": [
    "# Save the data to a JSON file\n",
    "d3_file_path = './data/nobel-tree-full.json'"
   ]
  },
  {
   "cell_type": "code",
   "execution_count": 17,
   "metadata": {},
   "outputs": [],
   "source": [
    "with open(d3_file_path, 'w') as file:\n",
    "    json.dump(d3_data, file)"
   ]
  },
  {
   "cell_type": "code",
   "execution_count": null,
   "metadata": {},
   "outputs": [],
   "source": []
  }
 ],
 "metadata": {
  "kernelspec": {
   "display_name": "python-environment",
   "language": "python",
   "name": "python3"
  },
  "language_info": {
   "codemirror_mode": {
    "name": "ipython",
    "version": 3
   },
   "file_extension": ".py",
   "mimetype": "text/x-python",
   "name": "python",
   "nbconvert_exporter": "python",
   "pygments_lexer": "ipython3",
   "version": "3.12.4"
  }
 },
 "nbformat": 4,
 "nbformat_minor": 2
}
