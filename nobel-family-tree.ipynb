{
 "cells": [
  {
   "cell_type": "code",
   "execution_count": 1,
   "metadata": {},
   "outputs": [],
   "source": [
    "import re\n",
    "import json\n",
    "import networkx as nx"
   ]
  },
  {
   "cell_type": "code",
   "execution_count": 2,
   "metadata": {},
   "outputs": [],
   "source": [
    "# Read the content of the MATLAB file\n",
    "file_path = './data/NobelTree.m'"
   ]
  },
  {
   "cell_type": "code",
   "execution_count": 3,
   "metadata": {},
   "outputs": [],
   "source": [
    "with open(file_path, 'r') as file:\n",
    "    matlab_script = file.read()"
   ]
  },
  {
   "cell_type": "code",
   "execution_count": 4,
   "metadata": {},
   "outputs": [],
   "source": [
    "# Regular expressions to find the successors (mentees) and predecessors (mentors)\n",
    "# A line which starts with `s0 = {` is pupils / successors\n",
    "# A line which starts with `p0 = {` in teachers / predecessors\n",
    "pupil_pattern = re.compile(r's\\d*\\s*=\\s*\\{([^\\}]+)\\};')\n",
    "teacher_pattern = re.compile(r'p\\d*\\s*=\\s*\\{([^\\}]+)\\};')"
   ]
  },
  {
   "cell_type": "markdown",
   "metadata": {},
   "source": [
    "Line 5470\n",
    "\n",
    "Change: p16 = {'Sophus Jorgensen'};\n",
    "\n",
    "To: s16 = {'Sophus Jorgensen'};\n",
    "\n",
    "---\n",
    "\n",
    "Line 9956\n",
    "\n",
    "Change: s = {'Robin Warren (M2005)' 'Barry Marshall (M2005)'};\n",
    "\n",
    "Change: % = {'Robin Warren (M2005)' 'Barry Marshall (M2005)'};\n",
    "\n",
    "No corresponding p line"
   ]
  },
  {
   "cell_type": "code",
   "execution_count": 5,
   "metadata": {},
   "outputs": [],
   "source": [
    "# Find all successors and predecessors\n",
    "pupils = pupil_pattern.findall(matlab_script)\n",
    "teachers = teacher_pattern.findall(matlab_script)"
   ]
  },
  {
   "cell_type": "code",
   "execution_count": 6,
   "metadata": {},
   "outputs": [
    {
     "name": "stdout",
     "output_type": "stream",
     "text": [
      "Pupil: 'Wilhelm Rontgen (P1901)' 'Wilhelm Rontgen (P1901)'\n",
      "Teacher: 'Gustav Zeuner' 'August Kundt'\n"
     ]
    }
   ],
   "source": [
    "# Spot test to check if the extraction was successful\n",
    "test_index = pupils.index(\"'Wilhelm Rontgen (P1901)' 'Wilhelm Rontgen (P1901)'\")\n",
    "print(f\"Pupil: {pupils[test_index]}\")\n",
    "print(f\"Teacher: {teachers[test_index]}\")"
   ]
  },
  {
   "cell_type": "markdown",
   "metadata": {},
   "source": [
    "In this instance, **Wilhelm Rontgen** is the _pupil_ of **Gustav Zeuner** and **August Kundt**.\n",
    "\n",
    "This is confirmed by [Wilhelm Röntgen's Wikipedia page](https://en.wikipedia.org/wiki/Wilhelm_R%C3%B6ntgen):\n",
    "\n",
    "> he became a favourite student of Professor August Kundt..."
   ]
  },
  {
   "cell_type": "code",
   "execution_count": 7,
   "metadata": {},
   "outputs": [],
   "source": [
    "# Initialize an empty list to hold the relationships\n",
    "relationship_list = []"
   ]
  },
  {
   "cell_type": "code",
   "execution_count": 8,
   "metadata": {},
   "outputs": [],
   "source": [
    "# Extract the relationships from the matches\n",
    "for pupil_string, teacher_string in zip(pupils, teachers):\n",
    "    pupil_list = re.findall(r\"'(.*?)'\", pupil_string)\n",
    "    teacher_list = re.findall(r\"'(.*?)'\", teacher_string)\n",
    "    for pupil, teacher in zip(pupil_list, teacher_list):\n",
    "        new_dict = {}\n",
    "        new_dict['teacher'] = teacher\n",
    "        new_dict['pupil'] = pupil\n",
    "        relationship_list.append(new_dict)"
   ]
  },
  {
   "cell_type": "code",
   "execution_count": 9,
   "metadata": {},
   "outputs": [
    {
     "data": {
      "text/plain": [
       "[{'teacher': 'Gustav Zeuner', 'pupil': 'Wilhelm Rontgen (P1901)'},\n",
       " {'teacher': 'August Kundt', 'pupil': 'Wilhelm Rontgen (P1901)'},\n",
       " {'teacher': 'Victor Regnault', 'pupil': 'Gustav Zeuner'},\n",
       " {'teacher': 'Julius Weisbach', 'pupil': 'Gustav Zeuner'}]"
      ]
     },
     "execution_count": 9,
     "metadata": {},
     "output_type": "execute_result"
    }
   ],
   "source": [
    "relationship_list[:4]"
   ]
  },
  {
   "cell_type": "code",
   "execution_count": 10,
   "metadata": {},
   "outputs": [
    {
     "data": {
      "text/plain": [
       "[{'teacher': 'Elmer Loomis', 'pupil': 'Claude Hudson'},\n",
       " {'teacher': 'Walther Nernst (C1920)', 'pupil': 'Claude Hudson'},\n",
       " {'teacher': 'Jacobus van t Hoff (C1901)', 'pupil': 'Claude Hudson'},\n",
       " {'teacher': 'William Magie', 'pupil': 'Claude Hudson'}]"
      ]
     },
     "execution_count": 10,
     "metadata": {},
     "output_type": "execute_result"
    }
   ],
   "source": [
    "# Spot test to check if the conversion was successful\n",
    "# s25 = {'Claude Hudson' 'Claude Hudson' 'Claude Hudson' 'Claude Hudson'};\n",
    "# p25 = {'Elmer Loomis' 'Walther Nernst (C1920)' 'Jacobus van t Hoff (C1901)' 'William Magie'};\n",
    "\n",
    "[relationship for relationship in relationship_list if relationship['pupil'] == 'Claude Hudson']"
   ]
  },
  {
   "cell_type": "code",
   "execution_count": 11,
   "metadata": {},
   "outputs": [],
   "source": [
    "# Check if each entry in the relationship list is contains both a teacher and a pupil\n",
    "for relationship in relationship_list:\n",
    "    if 'teacher' not in relationship or 'pupil' not in relationship:\n",
    "        print(relationship)"
   ]
  },
  {
   "cell_type": "code",
   "execution_count": 12,
   "metadata": {},
   "outputs": [],
   "source": [
    "# Create a directed graph\n",
    "academic_tree = nx.DiGraph()"
   ]
  },
  {
   "cell_type": "code",
   "execution_count": 13,
   "metadata": {},
   "outputs": [],
   "source": [
    "# Add edges to the graph\n",
    "for relationship in relationship_list:\n",
    "    teacher = relationship['teacher']\n",
    "    pupil = relationship['pupil']\n",
    "    academic_tree.add_edge(teacher, pupil)"
   ]
  },
  {
   "cell_type": "code",
   "execution_count": 14,
   "metadata": {},
   "outputs": [
    {
     "data": {
      "text/plain": [
       "[('Gustav Zeuner', 'Wilhelm Rontgen (P1901)'),\n",
       " ('Wilhelm Rontgen (P1901)', 'Abram Ioffe'),\n",
       " ('Wilhelm Rontgen (P1901)', 'Rudolf Ladenburg'),\n",
       " ('Wilhelm Rontgen (P1901)', 'Max Wien'),\n",
       " ('Wilhelm Rontgen (P1901)', 'David Keys')]"
      ]
     },
     "execution_count": 14,
     "metadata": {},
     "output_type": "execute_result"
    }
   ],
   "source": [
    "# Test that the graph was created successfully\n",
    "list(academic_tree.edges())[:5]"
   ]
  },
  {
   "cell_type": "code",
   "execution_count": 15,
   "metadata": {},
   "outputs": [],
   "source": [
    "# A regular expression to extract the category of nobel prize and the year\n",
    "# A Nobel prize annotation is indicated by:\n",
    "# lines that end with parenthesis, followed by either P, C, M or E and then a four digit year.\n",
    "# If the the string ends with a parenthesis containing C followed by a four digit year, the category is Chemistry\n",
    "# If the the string ends with a parenthesis containing P followed by a four digit year, the category is Physics\n",
    "# If the the string ends with a parenthesis containing M followed by a four digit year, the category is Medicine\n",
    "# If the the string ends with a parenthesis containing E followed by a four digit year, the category is Economics\n",
    "nobel_pattern = re.compile(r'^(.*)\\s\\(([PCME])(\\d{4})\\)')"
   ]
  },
  {
   "cell_type": "code",
   "execution_count": 16,
   "metadata": {},
   "outputs": [
    {
     "name": "stdout",
     "output_type": "stream",
     "text": [
      "Hans von Euler-Chelpin (C1929) has a Nobel prize annotation\n",
      "Name: Hans von Euler-Chelpin, Category: C, Year: 1929\n",
      "Gustav Zeuner does not have a Nobel prize annotation\n"
     ]
    }
   ],
   "source": [
    "# Test the regular expression with some examples\n",
    "test_string = 'Hans von Euler-Chelpin (C1929)'\n",
    "match = nobel_pattern.match(test_string)\n",
    "if match:\n",
    "    print(f\"{test_string} has a Nobel prize annotation\")\n",
    "    name = match.group(1)\n",
    "    category = match.group(2)\n",
    "    year = int(match.group(3))\n",
    "    print(f\"Name: {name}, Category: {category}, Year: {year}\")\n",
    "else:\n",
    "    print(f\"{test_string} does not have a Nobel prize annotation\")\n",
    "\n",
    "test_string = 'Gustav Zeuner'\n",
    "match = nobel_pattern.match(test_string)\n",
    "if match:\n",
    "    print(f\"{test_string} has a Nobel prize annotation\")\n",
    "    name = match.group(1)\n",
    "    category = match.group(2)\n",
    "    year = int(match.group(3))\n",
    "    print(f\"Name: {name}, Category: {category}, Year: {year}\")\n",
    "else:\n",
    "    print(f\"{test_string} does not have a Nobel prize annotation\")"
   ]
  },
  {
   "cell_type": "code",
   "execution_count": 17,
   "metadata": {},
   "outputs": [],
   "source": [
    "# Add Nobel Prize attribute\n",
    "for node in academic_tree.nodes:\n",
    "    academic_tree.nodes[node]['nobel'] = {}\n",
    "    # If the name matches the Nobel pattern, add the Nobel attribute\n",
    "    match = nobel_pattern.match(node)\n",
    "    if match:\n",
    "        academic_tree.nodes[node]['nobel']['award'] = True\n",
    "        academic_tree.nodes[node]['nobel']['category'] = match.group(2)\n",
    "        academic_tree.nodes[node]['nobel']['year'] = int(match.group(3))\n",
    "    else:\n",
    "        academic_tree.nodes[node]['nobel']['award'] = False\n",
    "        academic_tree.nodes[node]['nobel']['category'] = 'NA'\n",
    "        academic_tree.nodes[node]['nobel']['year'] = 0"
   ]
  },
  {
   "cell_type": "code",
   "execution_count": 18,
   "metadata": {},
   "outputs": [
    {
     "data": {
      "text/plain": [
       "{'nobel': {'award': True, 'category': 'P', 'year': 1901}}"
      ]
     },
     "execution_count": 18,
     "metadata": {},
     "output_type": "execute_result"
    }
   ],
   "source": [
    "# Wilhelm Rontgen is correctly listed as a laureate\n",
    "academic_tree.nodes['Wilhelm Rontgen (P1901)']"
   ]
  },
  {
   "cell_type": "code",
   "execution_count": 19,
   "metadata": {},
   "outputs": [
    {
     "data": {
      "text/plain": [
       "{'nobel': {'award': False, 'category': 'NA', 'year': 0}}"
      ]
     },
     "execution_count": 19,
     "metadata": {},
     "output_type": "execute_result"
    }
   ],
   "source": [
    "# 'Victor Regnault' is not a laureate\n",
    "academic_tree.nodes['Victor Regnault']"
   ]
  },
  {
   "cell_type": "code",
   "execution_count": 68,
   "metadata": {},
   "outputs": [
    {
     "name": "stdout",
     "output_type": "stream",
     "text": [
      "3516: scientists in the family tree\n",
      "Of whom, 716 have won a Nobel Prize\n"
     ]
    }
   ],
   "source": [
    "# Print the number of nodes in the family tree where nobel.award is True\n",
    "print(f\"{len(academic_tree.nodes())}: scientists in the family tree\")\n",
    "print(f\"Of whom, {len([node for node in academic_tree.nodes if academic_tree.nodes[node]['nobel']['award']])} have won a Nobel Prize\")\n"
   ]
  },
  {
   "cell_type": "code",
   "execution_count": 20,
   "metadata": {},
   "outputs": [],
   "source": [
    "# Function to get descendants of a node\n",
    "def get_descendants(graph, root):\n",
    "    descendants = set()\n",
    "    queue = [root]\n",
    "\n",
    "    while queue:\n",
    "        current_node = queue.pop(0)\n",
    "        descendants.add(current_node)\n",
    "        for successor in graph.successors(current_node):\n",
    "            if successor not in descendants:\n",
    "                queue.append(successor)\n",
    "                \n",
    "    return descendants"
   ]
  },
  {
   "cell_type": "code",
   "execution_count": 29,
   "metadata": {},
   "outputs": [],
   "source": [
    "# Get descendants of the 'John Strutt (P1904)'\n",
    "jonh_strutt_descendants = get_descendants(academic_tree, 'John Strutt (P1904)')"
   ]
  },
  {
   "cell_type": "code",
   "execution_count": 30,
   "metadata": {},
   "outputs": [
    {
     "data": {
      "text/plain": [
       "['Douglas Hartree',\n",
       " 'Ruby Payne-Scott',\n",
       " 'Chen-Ning Yang (P1957)',\n",
       " 'Wolfgang Pauli (P1945)',\n",
       " 'Martin Kamen']"
      ]
     },
     "execution_count": 30,
     "metadata": {},
     "output_type": "execute_result"
    }
   ],
   "source": [
    "list(jonh_strutt_descendants)[:5]"
   ]
  },
  {
   "cell_type": "code",
   "execution_count": 33,
   "metadata": {},
   "outputs": [
    {
     "data": {
      "text/plain": [
       "True"
      ]
     },
     "execution_count": 33,
     "metadata": {},
     "output_type": "execute_result"
    }
   ],
   "source": [
    "# Test if 'Joseph Thomson (P1906)' is a descendant of 'John Strutt (P1904)'\n",
    "'Joseph Thomson (P1906)' in jonh_strutt_descendants"
   ]
  },
  {
   "cell_type": "code",
   "execution_count": 34,
   "metadata": {},
   "outputs": [
    {
     "data": {
      "text/plain": [
       "False"
      ]
     },
     "execution_count": 34,
     "metadata": {},
     "output_type": "execute_result"
    }
   ],
   "source": [
    "'Galileo Galilei' in jonh_strutt_descendants"
   ]
  },
  {
   "cell_type": "code",
   "execution_count": 35,
   "metadata": {},
   "outputs": [],
   "source": [
    "# Add john_strutt_descendants to the graph\n",
    "for node in academic_tree.nodes:\n",
    "    if node in jonh_strutt_descendants:\n",
    "        academic_tree.nodes[node]['john_strutt_descendants'] = True\n",
    "    else:\n",
    "        academic_tree.nodes[node]['john_strutt_descendants'] = False"
   ]
  },
  {
   "cell_type": "code",
   "execution_count": 37,
   "metadata": {},
   "outputs": [
    {
     "data": {
      "text/plain": [
       "{'nobel': {'award': True, 'category': 'P', 'year': 1906},\n",
       " 'john_strutt_descendants': True}"
      ]
     },
     "execution_count": 37,
     "metadata": {},
     "output_type": "execute_result"
    }
   ],
   "source": [
    "# Joseph Thomson (P1906) is correctly listed as a descendant of John Strutt\n",
    "academic_tree.nodes['Joseph Thomson (P1906)']"
   ]
  },
  {
   "cell_type": "code",
   "execution_count": 38,
   "metadata": {},
   "outputs": [
    {
     "data": {
      "text/plain": [
       "{'nobel': {'award': False, 'category': 'NA', 'year': 0},\n",
       " 'john_strutt_descendants': False}"
      ]
     },
     "execution_count": 38,
     "metadata": {},
     "output_type": "execute_result"
    }
   ],
   "source": [
    "# Galileo Galilei is not a descendant of John Strutt\n",
    "academic_tree.nodes['Galileo Galilei']"
   ]
  },
  {
   "cell_type": "code",
   "execution_count": 52,
   "metadata": {},
   "outputs": [],
   "source": [
    "# Find all connected components (weakly connected) in the graph\n",
    "connected_components = nx.weakly_connected_components(academic_tree)"
   ]
  },
  {
   "cell_type": "code",
   "execution_count": 53,
   "metadata": {},
   "outputs": [],
   "source": [
    "connected_components_list = list(connected_components)"
   ]
  },
  {
   "cell_type": "code",
   "execution_count": 57,
   "metadata": {},
   "outputs": [
    {
     "data": {
      "text/plain": [
       "17"
      ]
     },
     "execution_count": 57,
     "metadata": {},
     "output_type": "execute_result"
    }
   ],
   "source": [
    "len(connected_components_list)"
   ]
  },
  {
   "cell_type": "code",
   "execution_count": 59,
   "metadata": {},
   "outputs": [
    {
     "data": {
      "text/plain": [
       "[3476, 2, 3, 2, 2, 4, 2, 2, 2, 2, 2, 2, 3, 2, 2, 2, 6]"
      ]
     },
     "execution_count": 59,
     "metadata": {},
     "output_type": "execute_result"
    }
   ],
   "source": [
    "# Analyze the size of each connected component\n",
    "[len(component) for component in connected_components_list]"
   ]
  },
  {
   "cell_type": "code",
   "execution_count": 64,
   "metadata": {},
   "outputs": [
    {
     "data": {
      "text/plain": [
       "[{'Aurel Stodola', 'Gustaf Dalen (P1912)'},\n",
       " {'Natalia Sozina', 'Vladimir Tuchkevic', 'Zhores Alferov (P2000)'},\n",
       " {'Hiroshi Amano (P2014)', 'Isamu Nakasaki (P2014)'},\n",
       " {'Jens Skou (C1997)', 'Soren Orskov'},\n",
       " {'Archibald Preece',\n",
       "  'Dan Shechtman (C2011)',\n",
       "  'David Brandon',\n",
       "  'Jack Nutting'},\n",
       " {'Patrick Manson', 'Ronald Ross (M1902)'},\n",
       " {'Frederick Banting (M1923)', 'John MacLeod (M1923)'},\n",
       " {'Henry Christian', 'William Murphy (M1934)'},\n",
       " {'Alexander Fleming (M1945)', 'Almroth Wright'},\n",
       " {'Andre Cournand (M1956)', 'Dickinson Richards'},\n",
       " {'George Hitchings', 'Gertrude Elion (M1988)'},\n",
       " {'James Fairbairn', 'Youyou Tu (M2015)', 'Zhicen Lou'},\n",
       " {'James Chesterton', 'Michael Houghton (M2020)'},\n",
       " {'Gerard Debreu (E1983)', 'Maurice Allais (E1988)'},\n",
       " {'Ragnar Frisch (E1969)', 'Trygve Haavelmo (E1989)'},\n",
       " {'Christopher Pissarides (E2010)',\n",
       "  'Franklin Giddings',\n",
       "  'Gabriel Tarde',\n",
       "  'Michio Morishima',\n",
       "  'Shotaro Yoneda',\n",
       "  'Yasuma Takada'}]"
      ]
     },
     "execution_count": 64,
     "metadata": {},
     "output_type": "execute_result"
    }
   ],
   "source": [
    "# Print the smaller connected components (Excluding the largest component with 3,476 entries)\n",
    "connected_components_list[1:]"
   ]
  },
  {
   "cell_type": "code",
   "execution_count": 72,
   "metadata": {},
   "outputs": [],
   "source": [
    "largest_component = connected_components_list[0]"
   ]
  },
  {
   "cell_type": "code",
   "execution_count": 73,
   "metadata": {},
   "outputs": [
    {
     "data": {
      "text/plain": [
       "3476"
      ]
     },
     "execution_count": 73,
     "metadata": {},
     "output_type": "execute_result"
    }
   ],
   "source": [
    "len(largest_component)"
   ]
  },
  {
   "cell_type": "code",
   "execution_count": 74,
   "metadata": {},
   "outputs": [
    {
     "data": {
      "text/plain": [
       "False"
      ]
     },
     "execution_count": 74,
     "metadata": {},
     "output_type": "execute_result"
    }
   ],
   "source": [
    "'Aurel Stodola' in largest_component"
   ]
  },
  {
   "cell_type": "code",
   "execution_count": 75,
   "metadata": {},
   "outputs": [
    {
     "data": {
      "text/plain": [
       "True"
      ]
     },
     "execution_count": 75,
     "metadata": {},
     "output_type": "execute_result"
    }
   ],
   "source": [
    "'Galileo Galilei' in largest_component"
   ]
  },
  {
   "cell_type": "code",
   "execution_count": 76,
   "metadata": {},
   "outputs": [
    {
     "data": {
      "text/plain": [
       "True"
      ]
     },
     "execution_count": 76,
     "metadata": {},
     "output_type": "execute_result"
    }
   ],
   "source": [
    "'John Strutt (P1904)' in largest_component"
   ]
  },
  {
   "cell_type": "code",
   "execution_count": 77,
   "metadata": {},
   "outputs": [],
   "source": [
    "# Add annotation to nodes in academic_tree to indicate if they are in the largest connected component\n",
    "for node in academic_tree.nodes:\n",
    "    if node in largest_component:\n",
    "        academic_tree.nodes[node]['main_family'] = True\n",
    "    else:\n",
    "        academic_tree.nodes[node]['main_family'] = False"
   ]
  },
  {
   "cell_type": "code",
   "execution_count": 80,
   "metadata": {},
   "outputs": [
    {
     "data": {
      "text/plain": [
       "{'nobel': {'award': True, 'category': 'P', 'year': 1906},\n",
       " 'john_strutt_descendants': True,\n",
       " 'main_family': True}"
      ]
     },
     "execution_count": 80,
     "metadata": {},
     "output_type": "execute_result"
    }
   ],
   "source": [
    "# Joseph Thomson won the Physics Nobel Prize in 1906\n",
    "# He is in the main family\n",
    "# He is a descendant of John Strutt\n",
    "academic_tree.nodes['Joseph Thomson (P1906)']"
   ]
  },
  {
   "cell_type": "code",
   "execution_count": 81,
   "metadata": {},
   "outputs": [
    {
     "data": {
      "text/plain": [
       "{'nobel': {'award': False, 'category': 'NA', 'year': 0},\n",
       " 'john_strutt_descendants': False,\n",
       " 'main_family': False}"
      ]
     },
     "execution_count": 81,
     "metadata": {},
     "output_type": "execute_result"
    }
   ],
   "source": [
    "# 'Jack Nutting' is not in the main family\n",
    "# They are not a descendant of John Strutt\n",
    "# They are not a Nobel laureate\n",
    "academic_tree.nodes['Jack Nutting']\n"
   ]
  },
  {
   "cell_type": "code",
   "execution_count": 82,
   "metadata": {},
   "outputs": [],
   "source": [
    "# Extract nodes and links to print the graph in D3.js\n",
    "nodes = [\n",
    "    {\n",
    "        \"id\": person, \"nobel\": academic_tree.nodes[person].get('nobel', {}), \n",
    "        \"john_strutt_descendants\": academic_tree.nodes[person].get('john_strutt_descendants', False),\n",
    "        \"main_family\": academic_tree.nodes[person].get('main_family', False),\n",
    "    } for person in academic_tree.nodes]\n",
    "links = [{\"source\": source, \"target\": target} for source, target in academic_tree.edges]"
   ]
  },
  {
   "cell_type": "code",
   "execution_count": 83,
   "metadata": {},
   "outputs": [
    {
     "data": {
      "text/plain": [
       "[{'id': 'Gustav Zeuner',\n",
       "  'nobel': {'award': False, 'category': 'NA', 'year': 0},\n",
       "  'john_strutt_descendants': False,\n",
       "  'main_family': True},\n",
       " {'id': 'Wilhelm Rontgen (P1901)',\n",
       "  'nobel': {'award': True, 'category': 'P', 'year': 1901},\n",
       "  'john_strutt_descendants': False,\n",
       "  'main_family': True},\n",
       " {'id': 'August Kundt',\n",
       "  'nobel': {'award': False, 'category': 'NA', 'year': 0},\n",
       "  'john_strutt_descendants': False,\n",
       "  'main_family': True},\n",
       " {'id': 'Victor Regnault',\n",
       "  'nobel': {'award': False, 'category': 'NA', 'year': 0},\n",
       "  'john_strutt_descendants': False,\n",
       "  'main_family': True},\n",
       " {'id': 'Julius Weisbach',\n",
       "  'nobel': {'award': False, 'category': 'NA', 'year': 0},\n",
       "  'john_strutt_descendants': False,\n",
       "  'main_family': True}]"
      ]
     },
     "execution_count": 83,
     "metadata": {},
     "output_type": "execute_result"
    }
   ],
   "source": [
    "nodes[:5]"
   ]
  },
  {
   "cell_type": "code",
   "execution_count": 84,
   "metadata": {},
   "outputs": [
    {
     "data": {
      "text/plain": [
       "[{'source': 'Gustav Zeuner', 'target': 'Wilhelm Rontgen (P1901)'},\n",
       " {'source': 'Wilhelm Rontgen (P1901)', 'target': 'Abram Ioffe'},\n",
       " {'source': 'Wilhelm Rontgen (P1901)', 'target': 'Rudolf Ladenburg'},\n",
       " {'source': 'Wilhelm Rontgen (P1901)', 'target': 'Max Wien'},\n",
       " {'source': 'Wilhelm Rontgen (P1901)', 'target': 'David Keys'}]"
      ]
     },
     "execution_count": 84,
     "metadata": {},
     "output_type": "execute_result"
    }
   ],
   "source": [
    "links[:5]"
   ]
  },
  {
   "cell_type": "code",
   "execution_count": 85,
   "metadata": {},
   "outputs": [],
   "source": [
    "# Create the final dictionary\n",
    "d3_data = {\n",
    "    \"nodes\": nodes,\n",
    "    \"links\": links\n",
    "}"
   ]
  },
  {
   "cell_type": "code",
   "execution_count": 86,
   "metadata": {},
   "outputs": [],
   "source": [
    "# Save the data to a JSON file\n",
    "d3_file_path = './data/nobel-tree-full.json'"
   ]
  },
  {
   "cell_type": "code",
   "execution_count": 87,
   "metadata": {},
   "outputs": [],
   "source": [
    "with open(d3_file_path, 'w') as file:\n",
    "    json.dump(d3_data, file)"
   ]
  }
 ],
 "metadata": {
  "kernelspec": {
   "display_name": "Python 3",
   "language": "python",
   "name": "python3"
  },
  "language_info": {
   "codemirror_mode": {
    "name": "ipython",
    "version": 3
   },
   "file_extension": ".py",
   "mimetype": "text/x-python",
   "name": "python",
   "nbconvert_exporter": "python",
   "pygments_lexer": "ipython3",
   "version": "3.12.4"
  }
 },
 "nbformat": 4,
 "nbformat_minor": 2
}
