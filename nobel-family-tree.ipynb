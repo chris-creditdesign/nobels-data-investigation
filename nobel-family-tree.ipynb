{
 "cells": [
  {
   "cell_type": "code",
   "execution_count": 53,
   "metadata": {},
   "outputs": [],
   "source": [
    "import pandas as pd\n",
    "import re\n",
    "import json\n",
    "import networkx as nx"
   ]
  },
  {
   "cell_type": "code",
   "execution_count": 54,
   "metadata": {},
   "outputs": [],
   "source": [
    "file_path = './data/kerrifull/kerrifull.xlsx'\n",
    "excel_data = pd.ExcelFile(file_path)"
   ]
  },
  {
   "cell_type": "code",
   "execution_count": 55,
   "metadata": {},
   "outputs": [
    {
     "name": "stdout",
     "output_type": "stream",
     "text": [
      "['nodes', 'edges', 'adjacency']\n"
     ]
    }
   ],
   "source": [
    "# Check the sheet names\n",
    "sheet_names = excel_data.sheet_names\n",
    "print(sheet_names)"
   ]
  },
  {
   "cell_type": "code",
   "execution_count": 56,
   "metadata": {},
   "outputs": [],
   "source": [
    "# Load the 'nodes' and 'edges' sheets\n",
    "nodes_excel = pd.read_excel(file_path, sheet_name='nodes', header=None)\n",
    "edges_excel = pd.read_excel(file_path, sheet_name='edges', header=None)"
   ]
  },
  {
   "cell_type": "code",
   "execution_count": 57,
   "metadata": {},
   "outputs": [
    {
     "data": {
      "text/html": [
       "<div>\n",
       "<style scoped>\n",
       "    .dataframe tbody tr th:only-of-type {\n",
       "        vertical-align: middle;\n",
       "    }\n",
       "\n",
       "    .dataframe tbody tr th {\n",
       "        vertical-align: top;\n",
       "    }\n",
       "\n",
       "    .dataframe thead th {\n",
       "        text-align: right;\n",
       "    }\n",
       "</style>\n",
       "<table border=\"1\" class=\"dataframe\">\n",
       "  <thead>\n",
       "    <tr style=\"text-align: right;\">\n",
       "      <th></th>\n",
       "      <th>0</th>\n",
       "    </tr>\n",
       "  </thead>\n",
       "  <tbody>\n",
       "    <tr>\n",
       "      <th>0</th>\n",
       "      <td>'Gustav Zeuner'</td>\n",
       "    </tr>\n",
       "    <tr>\n",
       "      <th>1</th>\n",
       "      <td>'Wilhelm Rontgen (P1901)'</td>\n",
       "    </tr>\n",
       "    <tr>\n",
       "      <th>2</th>\n",
       "      <td>'August Kundt'</td>\n",
       "    </tr>\n",
       "    <tr>\n",
       "      <th>3</th>\n",
       "      <td>'Victor Regnault'</td>\n",
       "    </tr>\n",
       "    <tr>\n",
       "      <th>4</th>\n",
       "      <td>'Julius Weisbach'</td>\n",
       "    </tr>\n",
       "  </tbody>\n",
       "</table>\n",
       "</div>"
      ],
      "text/plain": [
       "                           0\n",
       "0            'Gustav Zeuner'\n",
       "1  'Wilhelm Rontgen (P1901)'\n",
       "2             'August Kundt'\n",
       "3          'Victor Regnault'\n",
       "4          'Julius Weisbach'"
      ]
     },
     "execution_count": 57,
     "metadata": {},
     "output_type": "execute_result"
    }
   ],
   "source": [
    "nodes_excel[:5]"
   ]
  },
  {
   "cell_type": "code",
   "execution_count": 58,
   "metadata": {},
   "outputs": [
    {
     "data": {
      "text/html": [
       "<div>\n",
       "<style scoped>\n",
       "    .dataframe tbody tr th:only-of-type {\n",
       "        vertical-align: middle;\n",
       "    }\n",
       "\n",
       "    .dataframe tbody tr th {\n",
       "        vertical-align: top;\n",
       "    }\n",
       "\n",
       "    .dataframe thead th {\n",
       "        text-align: right;\n",
       "    }\n",
       "</style>\n",
       "<table border=\"1\" class=\"dataframe\">\n",
       "  <thead>\n",
       "    <tr style=\"text-align: right;\">\n",
       "      <th></th>\n",
       "      <th>0</th>\n",
       "      <th>1</th>\n",
       "    </tr>\n",
       "  </thead>\n",
       "  <tbody>\n",
       "    <tr>\n",
       "      <th>0</th>\n",
       "      <td>'Gustav Zeuner'</td>\n",
       "      <td>'Wilhelm Rontgen (P1901)'</td>\n",
       "    </tr>\n",
       "    <tr>\n",
       "      <th>1</th>\n",
       "      <td>'Wilhelm Rontgen (P1901)'</td>\n",
       "      <td>'Abram Ioffe'</td>\n",
       "    </tr>\n",
       "    <tr>\n",
       "      <th>2</th>\n",
       "      <td>'Wilhelm Rontgen (P1901)'</td>\n",
       "      <td>'Rudolf Ladenburg'</td>\n",
       "    </tr>\n",
       "    <tr>\n",
       "      <th>3</th>\n",
       "      <td>'Wilhelm Rontgen (P1901)'</td>\n",
       "      <td>'Max Wien'</td>\n",
       "    </tr>\n",
       "    <tr>\n",
       "      <th>4</th>\n",
       "      <td>'Wilhelm Rontgen (P1901)'</td>\n",
       "      <td>'David Keys'</td>\n",
       "    </tr>\n",
       "  </tbody>\n",
       "</table>\n",
       "</div>"
      ],
      "text/plain": [
       "                           0                          1\n",
       "0            'Gustav Zeuner'  'Wilhelm Rontgen (P1901)'\n",
       "1  'Wilhelm Rontgen (P1901)'              'Abram Ioffe'\n",
       "2  'Wilhelm Rontgen (P1901)'         'Rudolf Ladenburg'\n",
       "3  'Wilhelm Rontgen (P1901)'                 'Max Wien'\n",
       "4  'Wilhelm Rontgen (P1901)'               'David Keys'"
      ]
     },
     "execution_count": 58,
     "metadata": {},
     "output_type": "execute_result"
    }
   ],
   "source": [
    "edges_excel[:5]"
   ]
  },
  {
   "cell_type": "code",
   "execution_count": 59,
   "metadata": {},
   "outputs": [],
   "source": [
    "# For each value in nodes_excel and edges_excel remove the speach marks around the value\n",
    "nodes = nodes_excel.map(lambda x: x.strip('\\''))\n",
    "edges = edges_excel.map(lambda x: x.strip('\\''))"
   ]
  },
  {
   "cell_type": "code",
   "execution_count": 60,
   "metadata": {},
   "outputs": [
    {
     "data": {
      "text/html": [
       "<div>\n",
       "<style scoped>\n",
       "    .dataframe tbody tr th:only-of-type {\n",
       "        vertical-align: middle;\n",
       "    }\n",
       "\n",
       "    .dataframe tbody tr th {\n",
       "        vertical-align: top;\n",
       "    }\n",
       "\n",
       "    .dataframe thead th {\n",
       "        text-align: right;\n",
       "    }\n",
       "</style>\n",
       "<table border=\"1\" class=\"dataframe\">\n",
       "  <thead>\n",
       "    <tr style=\"text-align: right;\">\n",
       "      <th></th>\n",
       "      <th>0</th>\n",
       "      <th>1</th>\n",
       "    </tr>\n",
       "  </thead>\n",
       "  <tbody>\n",
       "    <tr>\n",
       "      <th>0</th>\n",
       "      <td>Gustav Zeuner</td>\n",
       "      <td>Wilhelm Rontgen (P1901)</td>\n",
       "    </tr>\n",
       "    <tr>\n",
       "      <th>1</th>\n",
       "      <td>Wilhelm Rontgen (P1901)</td>\n",
       "      <td>Abram Ioffe</td>\n",
       "    </tr>\n",
       "    <tr>\n",
       "      <th>2</th>\n",
       "      <td>Wilhelm Rontgen (P1901)</td>\n",
       "      <td>Rudolf Ladenburg</td>\n",
       "    </tr>\n",
       "    <tr>\n",
       "      <th>3</th>\n",
       "      <td>Wilhelm Rontgen (P1901)</td>\n",
       "      <td>Max Wien</td>\n",
       "    </tr>\n",
       "    <tr>\n",
       "      <th>4</th>\n",
       "      <td>Wilhelm Rontgen (P1901)</td>\n",
       "      <td>David Keys</td>\n",
       "    </tr>\n",
       "  </tbody>\n",
       "</table>\n",
       "</div>"
      ],
      "text/plain": [
       "                         0                        1\n",
       "0            Gustav Zeuner  Wilhelm Rontgen (P1901)\n",
       "1  Wilhelm Rontgen (P1901)              Abram Ioffe\n",
       "2  Wilhelm Rontgen (P1901)         Rudolf Ladenburg\n",
       "3  Wilhelm Rontgen (P1901)                 Max Wien\n",
       "4  Wilhelm Rontgen (P1901)               David Keys"
      ]
     },
     "execution_count": 60,
     "metadata": {},
     "output_type": "execute_result"
    }
   ],
   "source": [
    "edges.head()"
   ]
  },
  {
   "cell_type": "markdown",
   "metadata": {},
   "source": [
    "---\n",
    "\n",
    "Determine if there are people listed in the nodes list who are not present in the edges list.\n",
    "\n",
    "This would imply that there are people who have won a Nobel prize but are not part of any family tree."
   ]
  },
  {
   "cell_type": "code",
   "execution_count": 61,
   "metadata": {},
   "outputs": [],
   "source": [
    "# Extract each value from column one and two of the edges dataframe\n",
    "# into a new single column dataframe with no duplicates\n",
    "\n",
    "edges_each = pd.concat([edges[0], edges[1]]).drop_duplicates()"
   ]
  },
  {
   "cell_type": "code",
   "execution_count": 62,
   "metadata": {},
   "outputs": [
    {
     "data": {
      "text/plain": [
       "0\n",
       "True     3563\n",
       "False      14\n",
       "Name: count, dtype: int64"
      ]
     },
     "execution_count": 62,
     "metadata": {},
     "output_type": "execute_result"
    }
   ],
   "source": [
    "nodes[0].isin(edges_each).value_counts()"
   ]
  },
  {
   "cell_type": "code",
   "execution_count": 63,
   "metadata": {},
   "outputs": [
    {
     "name": "stdout",
     "output_type": "stream",
     "text": [
      "849              Leo Esaki (P1973)\n",
      "1139            Jack Kilby (P2000)\n",
      "1293        Shuji Nakamura (P2014)\n",
      "1368        Syokuro Manabe (P2021)\n",
      "2014      Hideki Shirakawa (C2000)\n",
      "2053         Koichi Tanaka (C2002)\n",
      "2093          Yves Chauvin (C2005)\n",
      "2389          Niels Finsen (M1903)\n",
      "2521         Antonio Moniz (M1949)\n",
      "2725    Godfrey Hounsfield (M1979)\n",
      "3031          Robin Warren (M2005)\n",
      "3032        Barry Marshall (M2005)\n",
      "3178       Peter Ratcliffe (M2019)\n",
      "3543       Aleksey Yekimov (C2023)\n",
      "Name: 0, dtype: object\n"
     ]
    }
   ],
   "source": [
    "# There are 14 people listed in the nodes column, who are not in the edges column\n",
    "# Create a boolean mask of nodes that are in the edges DataFrame\n",
    "mask = nodes[0].isin(edges_each)\n",
    "\n",
    "# Filter out the nodes that are in the edges DataFrame\n",
    "nodes_not_in_edges = nodes[0][mask.apply(lambda x: not x)]\n",
    "\n",
    "print(nodes_not_in_edges)"
   ]
  },
  {
   "cell_type": "markdown",
   "metadata": {},
   "source": [
    "---\n",
    "\n",
    "## Create the family tree"
   ]
  },
  {
   "cell_type": "code",
   "execution_count": 64,
   "metadata": {},
   "outputs": [],
   "source": [
    "# Create a directed graph\n",
    "academic_tree = nx.DiGraph()"
   ]
  },
  {
   "cell_type": "code",
   "execution_count": 65,
   "metadata": {},
   "outputs": [],
   "source": [
    "for index, row in edges.iterrows():\n",
    "    source = row[0]\n",
    "    target = row[1]\n",
    "    academic_tree.add_edge(source, target)"
   ]
  },
  {
   "cell_type": "code",
   "execution_count": 66,
   "metadata": {},
   "outputs": [
    {
     "data": {
      "text/plain": [
       "[('Gustav Zeuner', 'Wilhelm Rontgen (P1901)'),\n",
       " ('Wilhelm Rontgen (P1901)', 'Abram Ioffe'),\n",
       " ('Wilhelm Rontgen (P1901)', 'Rudolf Ladenburg'),\n",
       " ('Wilhelm Rontgen (P1901)', 'Max Wien'),\n",
       " ('Wilhelm Rontgen (P1901)', 'David Keys')]"
      ]
     },
     "execution_count": 66,
     "metadata": {},
     "output_type": "execute_result"
    }
   ],
   "source": [
    "# Test that the graph was created successfully\n",
    "list(academic_tree.edges())[:5]"
   ]
  },
  {
   "cell_type": "code",
   "execution_count": 67,
   "metadata": {},
   "outputs": [
    {
     "name": "stdout",
     "output_type": "stream",
     "text": [
      "There are 3563 nodes in the graph.\n"
     ]
    }
   ],
   "source": [
    "# Print the number of nodes in the graph\n",
    "print(f\"There are {len(academic_tree.nodes())} nodes in the graph.\")"
   ]
  },
  {
   "cell_type": "code",
   "execution_count": 68,
   "metadata": {},
   "outputs": [],
   "source": [
    "# Add nodes from the nodes_not_in_edges Series to the academic_tree graph\n",
    "academic_tree.add_nodes_from(nodes_not_in_edges)"
   ]
  },
  {
   "cell_type": "code",
   "execution_count": 69,
   "metadata": {},
   "outputs": [
    {
     "name": "stdout",
     "output_type": "stream",
     "text": [
      "There are 3577 nodes in the graph.\n"
     ]
    }
   ],
   "source": [
    "# There should now be 3,563 plus 14 nodes in the graph\n",
    "print(f\"There are {len(academic_tree.nodes())} nodes in the graph.\")"
   ]
  },
  {
   "cell_type": "markdown",
   "metadata": {},
   "source": [
    "---\n",
    "\n",
    "## Determine the year and category of Nobel Prizes"
   ]
  },
  {
   "cell_type": "code",
   "execution_count": 70,
   "metadata": {},
   "outputs": [],
   "source": [
    "# A regular expression to extract the category of nobel prize and the year\n",
    "# A Nobel prize annotation is indicated by:\n",
    "# lines that end with parenthesis, followed by either P, C, M or E and then a four digit year.\n",
    "# If the the string ends with a parenthesis containing C followed by a four digit year, the category is Chemistry\n",
    "# If the the string ends with a parenthesis containing P followed by a four digit year, the category is Physics\n",
    "# If the the string ends with a parenthesis containing M followed by a four digit year, the category is Medicine\n",
    "# If the the string ends with a parenthesis containing E followed by a four digit year, the category is Economics\n",
    "nobel_pattern = re.compile(r'^(.*)\\s\\(([PCME])(\\d{4})\\)')"
   ]
  },
  {
   "cell_type": "code",
   "execution_count": 71,
   "metadata": {},
   "outputs": [
    {
     "name": "stdout",
     "output_type": "stream",
     "text": [
      "Hans von Euler-Chelpin (C1929) has a Nobel prize annotation\n",
      "Name: Hans von Euler-Chelpin, Category: C, Year: 1929\n",
      "Gustav Zeuner does not have a Nobel prize annotation\n"
     ]
    }
   ],
   "source": [
    "# Test the regular expression with some examples\n",
    "test_string = 'Hans von Euler-Chelpin (C1929)'\n",
    "match = nobel_pattern.match(test_string)\n",
    "if match:\n",
    "    print(f\"{test_string} has a Nobel prize annotation\")\n",
    "    name = match.group(1)\n",
    "    category = match.group(2)\n",
    "    year = int(match.group(3))\n",
    "    print(f\"Name: {name}, Category: {category}, Year: {year}\")\n",
    "else:\n",
    "    print(f\"{test_string} does not have a Nobel prize annotation\")\n",
    "\n",
    "test_string = 'Gustav Zeuner'\n",
    "match = nobel_pattern.match(test_string)\n",
    "if match:\n",
    "    print(f\"{test_string} has a Nobel prize annotation\")\n",
    "    name = match.group(1)\n",
    "    category = match.group(2)\n",
    "    year = int(match.group(3))\n",
    "    print(f\"Name: {name}, Category: {category}, Year: {year}\")\n",
    "else:\n",
    "    print(f\"{test_string} does not have a Nobel prize annotation\")"
   ]
  },
  {
   "cell_type": "code",
   "execution_count": 72,
   "metadata": {},
   "outputs": [],
   "source": [
    "# Add Nobel Prize attribute\n",
    "for node in academic_tree.nodes:\n",
    "    academic_tree.nodes[node]['nobel'] = {}\n",
    "    # If the name matches the Nobel pattern, add the Nobel attribute\n",
    "    match = nobel_pattern.match(node)\n",
    "    if match:\n",
    "        academic_tree.nodes[node]['nobel']['award'] = True\n",
    "        academic_tree.nodes[node]['nobel']['category'] = match.group(2)\n",
    "        academic_tree.nodes[node]['nobel']['year'] = int(match.group(3))\n",
    "    else:\n",
    "        academic_tree.nodes[node]['nobel']['award'] = False\n",
    "        academic_tree.nodes[node]['nobel']['category'] = 'NA'\n",
    "        academic_tree.nodes[node]['nobel']['year'] = 0"
   ]
  },
  {
   "cell_type": "code",
   "execution_count": 73,
   "metadata": {},
   "outputs": [
    {
     "data": {
      "text/plain": [
       "{'nobel': {'award': True, 'category': 'P', 'year': 1901}}"
      ]
     },
     "execution_count": 73,
     "metadata": {},
     "output_type": "execute_result"
    }
   ],
   "source": [
    "# Wilhelm Rontgen is correctly listed as a laureate\n",
    "academic_tree.nodes['Wilhelm Rontgen (P1901)']"
   ]
  },
  {
   "cell_type": "code",
   "execution_count": 74,
   "metadata": {},
   "outputs": [
    {
     "data": {
      "text/plain": [
       "{'nobel': {'award': True, 'category': 'C', 'year': 2023}}"
      ]
     },
     "execution_count": 74,
     "metadata": {},
     "output_type": "execute_result"
    }
   ],
   "source": [
    "# Test with a node who is not connected to an edge\n",
    "academic_tree.nodes['Aleksey Yekimov (C2023)']"
   ]
  },
  {
   "cell_type": "code",
   "execution_count": 75,
   "metadata": {},
   "outputs": [
    {
     "data": {
      "text/plain": [
       "{'nobel': {'award': False, 'category': 'NA', 'year': 0}}"
      ]
     },
     "execution_count": 75,
     "metadata": {},
     "output_type": "execute_result"
    }
   ],
   "source": [
    "# 'Victor Regnault' is not a laureate\n",
    "academic_tree.nodes['Victor Regnault']"
   ]
  },
  {
   "cell_type": "code",
   "execution_count": 76,
   "metadata": {},
   "outputs": [
    {
     "name": "stdout",
     "output_type": "stream",
     "text": [
      "3577: scientists in the family tree\n",
      "Of whom, 736 have won a Nobel Prize\n"
     ]
    }
   ],
   "source": [
    "# Print the number of nodes in the family tree where nobel.award is True\n",
    "print(f\"{len(academic_tree.nodes())}: scientists in the family tree\")\n",
    "print(f\"Of whom, {len([node for node in academic_tree.nodes if academic_tree.nodes[node]['nobel']['award']])} have won a Nobel Prize\")"
   ]
  },
  {
   "cell_type": "markdown",
   "metadata": {},
   "source": [
    "---\n",
    "\n",
    "## Get the descendants of John Strutt"
   ]
  },
  {
   "cell_type": "code",
   "execution_count": 77,
   "metadata": {},
   "outputs": [],
   "source": [
    "# Function to get descendants of a node\n",
    "def get_descendants(graph, root):\n",
    "    descendants = set()\n",
    "    queue = [root]\n",
    "\n",
    "    while queue:\n",
    "        current_node = queue.pop(0)\n",
    "        descendants.add(current_node)\n",
    "        for successor in graph.successors(current_node):\n",
    "            if successor not in descendants:\n",
    "                queue.append(successor)\n",
    "                \n",
    "    return descendants"
   ]
  },
  {
   "cell_type": "code",
   "execution_count": 78,
   "metadata": {},
   "outputs": [],
   "source": [
    "# Get descendants of the 'John Strutt (P1904)'\n",
    "jonh_strutt_descendants = get_descendants(academic_tree, 'John Strutt (P1904)')"
   ]
  },
  {
   "cell_type": "code",
   "execution_count": 79,
   "metadata": {},
   "outputs": [
    {
     "data": {
      "text/plain": [
       "['Didier Queloz (P2019)',\n",
       " 'Malcolm Crawford',\n",
       " 'Horace Watson',\n",
       " 'Emilio Segre (P1959)',\n",
       " 'Richard Bersohn']"
      ]
     },
     "execution_count": 79,
     "metadata": {},
     "output_type": "execute_result"
    }
   ],
   "source": [
    "list(jonh_strutt_descendants)[:5]"
   ]
  },
  {
   "cell_type": "code",
   "execution_count": 80,
   "metadata": {},
   "outputs": [
    {
     "data": {
      "text/plain": [
       "True"
      ]
     },
     "execution_count": 80,
     "metadata": {},
     "output_type": "execute_result"
    }
   ],
   "source": [
    "# Test if 'Joseph Thomson (P1906)' is a descendant of 'John Strutt (P1904)'\n",
    "'Joseph Thomson (P1906)' in jonh_strutt_descendants"
   ]
  },
  {
   "cell_type": "code",
   "execution_count": 81,
   "metadata": {},
   "outputs": [
    {
     "data": {
      "text/plain": [
       "False"
      ]
     },
     "execution_count": 81,
     "metadata": {},
     "output_type": "execute_result"
    }
   ],
   "source": [
    "'Galileo Galilei' in jonh_strutt_descendants"
   ]
  },
  {
   "cell_type": "code",
   "execution_count": 82,
   "metadata": {},
   "outputs": [],
   "source": [
    "# Add john_strutt_descendants to the graph\n",
    "for node in academic_tree.nodes:\n",
    "    if node in jonh_strutt_descendants:\n",
    "        academic_tree.nodes[node]['john_strutt_descendants'] = True\n",
    "    else:\n",
    "        academic_tree.nodes[node]['john_strutt_descendants'] = False"
   ]
  },
  {
   "cell_type": "code",
   "execution_count": 83,
   "metadata": {},
   "outputs": [
    {
     "name": "stdout",
     "output_type": "stream",
     "text": [
      "{\n",
      "  \"nobel\": {\n",
      "    \"award\": true,\n",
      "    \"category\": \"P\",\n",
      "    \"year\": 1906\n",
      "  },\n",
      "  \"john_strutt_descendants\": true\n",
      "}\n"
     ]
    }
   ],
   "source": [
    "# Joseph Thomson (P1906) is correctly listed as a descendant of John Strutt\n",
    "print(json.dumps(academic_tree.nodes['Joseph Thomson (P1906)'], indent=2))"
   ]
  },
  {
   "cell_type": "code",
   "execution_count": 84,
   "metadata": {},
   "outputs": [
    {
     "name": "stdout",
     "output_type": "stream",
     "text": [
      "{\n",
      "  \"nobel\": {\n",
      "    \"award\": false,\n",
      "    \"category\": \"NA\",\n",
      "    \"year\": 0\n",
      "  },\n",
      "  \"john_strutt_descendants\": false\n",
      "}\n"
     ]
    }
   ],
   "source": [
    "# Galileo Galilei is not a descendant of John Strutt\n",
    "print(json.dumps(academic_tree.nodes['Galileo Galilei'], indent=2))"
   ]
  },
  {
   "cell_type": "code",
   "execution_count": 85,
   "metadata": {},
   "outputs": [],
   "source": [
    "# Find all connected components (weakly connected) in the graph\n",
    "connected_components = nx.weakly_connected_components(academic_tree)"
   ]
  },
  {
   "cell_type": "code",
   "execution_count": 86,
   "metadata": {},
   "outputs": [],
   "source": [
    "connected_components_list = list(connected_components)"
   ]
  },
  {
   "cell_type": "code",
   "execution_count": 87,
   "metadata": {},
   "outputs": [
    {
     "data": {
      "text/plain": [
       "33"
      ]
     },
     "execution_count": 87,
     "metadata": {},
     "output_type": "execute_result"
    }
   ],
   "source": [
    "len(connected_components_list)"
   ]
  },
  {
   "cell_type": "code",
   "execution_count": 88,
   "metadata": {},
   "outputs": [
    {
     "name": "stdout",
     "output_type": "stream",
     "text": [
      "[3518, 2, 3, 2, 2, 4, 2, 2, 2, 2, 2, 2, 3, 2, 2, 2, 6, 2, 3, 1, 1, 1, 1, 1, 1, 1, 1, 1, 1, 1, 1, 1, 1]\n"
     ]
    }
   ],
   "source": [
    "# Analyze the size of each connected component\n",
    "print([len(component) for component in connected_components_list])"
   ]
  },
  {
   "cell_type": "code",
   "execution_count": 89,
   "metadata": {},
   "outputs": [
    {
     "data": {
      "text/plain": [
       "[{'Aurel Stodola', 'Gustaf Dalen (P1912)'},\n",
       " {'Natalia Sozina', 'Vladimir Tuchkevic', 'Zhores Alferov (P2000)'},\n",
       " {'Hiroshi Amano (P2014)', 'Isamu Nakasaki (P2014)'},\n",
       " {'Jens Skou (C1997)', 'Soren Orskov'},\n",
       " {'Archibald Preece',\n",
       "  'Dan Shechtman (C2011)',\n",
       "  'David Brandon',\n",
       "  'Jack Nutting'},\n",
       " {'Patrick Manson', 'Ronald Ross (M1902)'},\n",
       " {'Frederick Banting (M1923)', 'John MacLeod (M1923)'},\n",
       " {'Henry Christian', 'William Murphy (M1934)'},\n",
       " {'Alexander Fleming (M1945)', 'Almroth Wright'},\n",
       " {'Andre Cournand (M1956)', 'Dickinson Richards'},\n",
       " {'George Hitchings', 'Gertrude Elion (M1988)'},\n",
       " {'James Fairbairn', 'Youyou Tu (M2015)', 'Zhicen Lou'},\n",
       " {'James Chesterton', 'Michael Houghton (M2020)'},\n",
       " {'Ragnar Frisch (E1969)', 'Trygve Haavelmo (E1989)'},\n",
       " {'Gerard Debreu (E1983)', 'Maurice Allais (E1988)'},\n",
       " {'Christopher Pissarides (E2010)',\n",
       "  'Franklin Giddings',\n",
       "  'Gabriel Tarde',\n",
       "  'Michio Morishima',\n",
       "  'Shotaro Yoneda',\n",
       "  'Yasuma Takada'},\n",
       " {'M.M. Bousquet', 'Pierre Agostini (P2023)'},\n",
       " {'Arnold Schmidt', 'Ferenc Krausz (P2023)', 'Karl Koch'},\n",
       " {'Leo Esaki (P1973)'},\n",
       " {'Jack Kilby (P2000)'},\n",
       " {'Shuji Nakamura (P2014)'},\n",
       " {'Syokuro Manabe (P2021)'},\n",
       " {'Hideki Shirakawa (C2000)'},\n",
       " {'Koichi Tanaka (C2002)'},\n",
       " {'Yves Chauvin (C2005)'},\n",
       " {'Niels Finsen (M1903)'},\n",
       " {'Antonio Moniz (M1949)'},\n",
       " {'Godfrey Hounsfield (M1979)'},\n",
       " {'Robin Warren (M2005)'},\n",
       " {'Barry Marshall (M2005)'},\n",
       " {'Peter Ratcliffe (M2019)'},\n",
       " {'Aleksey Yekimov (C2023)'}]"
      ]
     },
     "execution_count": 89,
     "metadata": {},
     "output_type": "execute_result"
    }
   ],
   "source": [
    "# Print the smaller connected components (Excluding the largest component with 3,476 entries)\n",
    "connected_components_list[1:]"
   ]
  },
  {
   "cell_type": "code",
   "execution_count": 90,
   "metadata": {},
   "outputs": [],
   "source": [
    "largest_component = connected_components_list[0]"
   ]
  },
  {
   "cell_type": "code",
   "execution_count": 91,
   "metadata": {},
   "outputs": [
    {
     "data": {
      "text/plain": [
       "3518"
      ]
     },
     "execution_count": 91,
     "metadata": {},
     "output_type": "execute_result"
    }
   ],
   "source": [
    "len(largest_component)"
   ]
  },
  {
   "cell_type": "code",
   "execution_count": 92,
   "metadata": {},
   "outputs": [],
   "source": [
    "# Find isolated nodes in the academic_tree\n",
    "isolated_nodes = list(nx.isolates(academic_tree))"
   ]
  },
  {
   "cell_type": "code",
   "execution_count": 93,
   "metadata": {},
   "outputs": [
    {
     "name": "stdout",
     "output_type": "stream",
     "text": [
      "There are 14 isolated nodes: ['Leo Esaki (P1973)', 'Jack Kilby (P2000)', 'Shuji Nakamura (P2014)', 'Syokuro Manabe (P2021)', 'Hideki Shirakawa (C2000)', 'Koichi Tanaka (C2002)', 'Yves Chauvin (C2005)', 'Niels Finsen (M1903)', 'Antonio Moniz (M1949)', 'Godfrey Hounsfield (M1979)', 'Robin Warren (M2005)', 'Barry Marshall (M2005)', 'Peter Ratcliffe (M2019)', 'Aleksey Yekimov (C2023)']\n"
     ]
    }
   ],
   "source": [
    "# Check if there are any isolated nodes\n",
    "if isolated_nodes:\n",
    "    print(f\"There are {len(isolated_nodes)} isolated nodes: {isolated_nodes}\")\n",
    "else:\n",
    "    print(\"There are no isolated nodes in the academic_tree.\")"
   ]
  },
  {
   "cell_type": "code",
   "execution_count": 94,
   "metadata": {},
   "outputs": [
    {
     "data": {
      "text/plain": [
       "False"
      ]
     },
     "execution_count": 94,
     "metadata": {},
     "output_type": "execute_result"
    }
   ],
   "source": [
    "'Aurel Stodola' in largest_component"
   ]
  },
  {
   "cell_type": "code",
   "execution_count": 95,
   "metadata": {},
   "outputs": [
    {
     "data": {
      "text/plain": [
       "True"
      ]
     },
     "execution_count": 95,
     "metadata": {},
     "output_type": "execute_result"
    }
   ],
   "source": [
    "'Galileo Galilei' in largest_component"
   ]
  },
  {
   "cell_type": "code",
   "execution_count": 96,
   "metadata": {},
   "outputs": [
    {
     "data": {
      "text/plain": [
       "True"
      ]
     },
     "execution_count": 96,
     "metadata": {},
     "output_type": "execute_result"
    }
   ],
   "source": [
    "'John Strutt (P1904)' in largest_component"
   ]
  },
  {
   "cell_type": "markdown",
   "metadata": {},
   "source": [
    "---\n",
    "\n",
    "## Add an annotation to show if a node is in the Main Family tree"
   ]
  },
  {
   "cell_type": "code",
   "execution_count": 97,
   "metadata": {},
   "outputs": [],
   "source": [
    "# Add annotation to nodes in academic_tree to indicate if they are in the largest connected component\n",
    "for node in academic_tree.nodes:\n",
    "    if node in largest_component:\n",
    "        academic_tree.nodes[node]['main_family'] = True\n",
    "    else:\n",
    "        academic_tree.nodes[node]['main_family'] = False"
   ]
  },
  {
   "cell_type": "code",
   "execution_count": 98,
   "metadata": {},
   "outputs": [
    {
     "name": "stdout",
     "output_type": "stream",
     "text": [
      "{\n",
      "  \"nobel\": {\n",
      "    \"award\": true,\n",
      "    \"category\": \"P\",\n",
      "    \"year\": 1906\n",
      "  },\n",
      "  \"john_strutt_descendants\": true,\n",
      "  \"main_family\": true\n",
      "}\n"
     ]
    }
   ],
   "source": [
    "# Joseph Thomson won the Physics Nobel Prize in 1906\n",
    "# He is in the main family\n",
    "# He is a descendant of John Strutt\n",
    "print(json.dumps(academic_tree.nodes['Joseph Thomson (P1906)'], indent=2))"
   ]
  },
  {
   "cell_type": "code",
   "execution_count": 99,
   "metadata": {},
   "outputs": [
    {
     "name": "stdout",
     "output_type": "stream",
     "text": [
      "{\n",
      "  \"nobel\": {\n",
      "    \"award\": true,\n",
      "    \"category\": \"C\",\n",
      "    \"year\": 1997\n",
      "  },\n",
      "  \"john_strutt_descendants\": false,\n",
      "  \"main_family\": false\n",
      "}\n"
     ]
    }
   ],
   "source": [
    "print(json.dumps(academic_tree.nodes['Jens Skou (C1997)'], indent=2))"
   ]
  },
  {
   "cell_type": "markdown",
   "metadata": {},
   "source": [
    "---\n",
    "\n",
    "## Export code to JSON for D3"
   ]
  },
  {
   "cell_type": "code",
   "execution_count": 106,
   "metadata": {},
   "outputs": [],
   "source": [
    "# Generate a new graph for each connected_component and export \n",
    "# nodes and links to a JSON file for each connected_component\n",
    "output = []\n",
    "\n",
    "for i, component in enumerate(connected_components_list):\n",
    "    subgraph = academic_tree.subgraph(component)\n",
    "    nodes = [\n",
    "        {\n",
    "            \"id\": person, \"nobel\": academic_tree.nodes[person].get('nobel', {}), \n",
    "            \"john_strutt_descendants\": academic_tree.nodes[person].get('john_strutt_descendants', False),\n",
    "            \"main_family\": academic_tree.nodes[person].get('main_family', False),\n",
    "        } for person in subgraph.nodes]\n",
    "    links = [{\"source\": source, \"target\": target} for source, target in subgraph.edges]\n",
    "    data = {\"nodes\": nodes, \"links\": links}\n",
    "    output.append(data)"
   ]
  },
  {
   "cell_type": "code",
   "execution_count": 107,
   "metadata": {},
   "outputs": [
    {
     "name": "stdout",
     "output_type": "stream",
     "text": [
      "[\n",
      "  {\n",
      "    \"id\": \"Gustaf Dalen (P1912)\",\n",
      "    \"nobel\": {\n",
      "      \"award\": true,\n",
      "      \"category\": \"P\",\n",
      "      \"year\": 1912\n",
      "    },\n",
      "    \"john_strutt_descendants\": false,\n",
      "    \"main_family\": false\n",
      "  },\n",
      "  {\n",
      "    \"id\": \"Aurel Stodola\",\n",
      "    \"nobel\": {\n",
      "      \"award\": false,\n",
      "      \"category\": \"NA\",\n",
      "      \"year\": 0\n",
      "    },\n",
      "    \"john_strutt_descendants\": false,\n",
      "    \"main_family\": false\n",
      "  }\n",
      "]\n"
     ]
    }
   ],
   "source": [
    "print(json.dumps(output[1]['nodes'], indent=2))"
   ]
  },
  {
   "cell_type": "code",
   "execution_count": 108,
   "metadata": {},
   "outputs": [
    {
     "name": "stdout",
     "output_type": "stream",
     "text": [
      "[\n",
      "  {\n",
      "    \"source\": \"Aurel Stodola\",\n",
      "    \"target\": \"Gustaf Dalen (P1912)\"\n",
      "  }\n",
      "]\n"
     ]
    }
   ],
   "source": [
    "print(json.dumps(output[1]['links'], indent=2))"
   ]
  },
  {
   "cell_type": "code",
   "execution_count": 109,
   "metadata": {},
   "outputs": [],
   "source": [
    "# Save the data to a JSON file\n",
    "d3_file_path = './data/nobel-tree-full.json'"
   ]
  },
  {
   "cell_type": "code",
   "execution_count": 110,
   "metadata": {},
   "outputs": [],
   "source": [
    "with open(d3_file_path, 'w') as file:\n",
    "    json.dump(output, file)"
   ]
  }
 ],
 "metadata": {
  "kernelspec": {
   "display_name": "Python 3",
   "language": "python",
   "name": "python3"
  },
  "language_info": {
   "codemirror_mode": {
    "name": "ipython",
    "version": 3
   },
   "file_extension": ".py",
   "mimetype": "text/x-python",
   "name": "python",
   "nbconvert_exporter": "python",
   "pygments_lexer": "ipython3",
   "version": "3.12.4"
  }
 },
 "nbformat": 4,
 "nbformat_minor": 2
}
