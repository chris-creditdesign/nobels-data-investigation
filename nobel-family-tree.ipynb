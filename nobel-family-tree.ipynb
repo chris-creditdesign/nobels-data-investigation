{
 "cells": [
  {
   "cell_type": "code",
   "execution_count": 3,
   "metadata": {},
   "outputs": [],
   "source": [
    "import re\n",
    "import json"
   ]
  },
  {
   "cell_type": "code",
   "execution_count": 4,
   "metadata": {},
   "outputs": [],
   "source": [
    "# Read the content of the MATLAB file\n",
    "file_path = './data/NobelTree.m'"
   ]
  },
  {
   "cell_type": "code",
   "execution_count": 5,
   "metadata": {},
   "outputs": [],
   "source": [
    "with open(file_path, 'r') as file:\n",
    "    matlab_script = file.read()"
   ]
  },
  {
   "cell_type": "code",
   "execution_count": 6,
   "metadata": {},
   "outputs": [],
   "source": [
    "# Regular expressions to find the successors (mentees) and predecessors (mentors)\n",
    "# A line which starts with `s0 = {` is pupils / successors\n",
    "# A line which starts with `p0 = {` in teachers / predecessors\n",
    "pupil_pattern = re.compile(r's\\d+\\s*=\\s*\\{([^\\}]+)\\};')\n",
    "teacher_pattern = re.compile(r'p\\d+\\s*=\\s*\\{([^\\}]+)\\};')"
   ]
  },
  {
   "cell_type": "code",
   "execution_count": 7,
   "metadata": {},
   "outputs": [],
   "source": [
    "# Find all successors and predecessors\n",
    "pupils = pupil_pattern.findall(matlab_script)\n",
    "teachers = teacher_pattern.findall(matlab_script)"
   ]
  },
  {
   "cell_type": "code",
   "execution_count": 8,
   "metadata": {},
   "outputs": [
    {
     "name": "stdout",
     "output_type": "stream",
     "text": [
      "Pupil: 'Wilhelm Rontgen (P1901)' 'Wilhelm Rontgen (P1901)'\n",
      "Teacher: 'Gustav Zeuner' 'August Kundt'\n"
     ]
    }
   ],
   "source": [
    "# Test the first successor and predecessor entry\n",
    "print(f\"Pupil: {pupils[0]}\")\n",
    "print(f\"Teacher: {teachers[0]}\")"
   ]
  },
  {
   "cell_type": "markdown",
   "metadata": {},
   "source": [
    "In this instance, **Wilhelm Rontgen** is the _pupil_ of **Gustav Zeuner** and **August Kundt**.\n",
    "\n",
    "This is confirmed by [Wilhelm Röntgen's Wikipedia page](https://en.wikipedia.org/wiki/Wilhelm_R%C3%B6ntgen):\n",
    "\n",
    "> he became a favourite student of Professor August Kundt..."
   ]
  },
  {
   "cell_type": "code",
   "execution_count": 15,
   "metadata": {},
   "outputs": [],
   "source": [
    "# Initialize an empty list to hold the relationships\n",
    "relationship_list = []"
   ]
  },
  {
   "cell_type": "code",
   "execution_count": 16,
   "metadata": {},
   "outputs": [],
   "source": [
    "# Extract the relationships from the matches\n",
    "for pupil_string, teacher_string in zip(pupils, teachers):\n",
    "    pupil_list = re.findall(r\"'(.*?)'\", pupil_string)\n",
    "    teacher_list = re.findall(r\"'(.*?)'\", teacher_string)\n",
    "    for pupil, teacher in zip(pupil_list, teacher_list):\n",
    "        new_dict = {}\n",
    "        new_dict['teacher'] = teacher\n",
    "        new_dict['pupil'] = pupil\n",
    "        relationship_list.append(new_dict)"
   ]
  },
  {
   "cell_type": "code",
   "execution_count": 19,
   "metadata": {},
   "outputs": [
    {
     "data": {
      "text/plain": [
       "[{'teacher': 'Gustav Zeuner', 'pupil': 'Wilhelm Rontgen (P1901)'},\n",
       " {'teacher': 'August Kundt', 'pupil': 'Wilhelm Rontgen (P1901)'},\n",
       " {'teacher': 'Victor Regnault', 'pupil': 'Gustav Zeuner'},\n",
       " {'teacher': 'Julius Weisbach', 'pupil': 'Gustav Zeuner'}]"
      ]
     },
     "execution_count": 19,
     "metadata": {},
     "output_type": "execute_result"
    }
   ],
   "source": [
    "relationship_list[:4]"
   ]
  },
  {
   "cell_type": "code",
   "execution_count": 20,
   "metadata": {},
   "outputs": [],
   "source": [
    "# Save the data to a JSON file\n",
    "output_file_path = './data/nobel-relationship.json'"
   ]
  },
  {
   "cell_type": "code",
   "execution_count": 21,
   "metadata": {},
   "outputs": [],
   "source": [
    "with open(output_file_path, 'w') as output_file:\n",
    "    json.dump(relationship_list, output_file, indent=2)"
   ]
  },
  {
   "cell_type": "code",
   "execution_count": 12,
   "metadata": {},
   "outputs": [],
   "source": [
    "# Extract all unique pupils and teachers\n",
    "\n",
    "# Inner loop version\n",
    "# all_pupils = set(individual_pupil for pupil_group in pupils for individual_pupil in re.findall(r\"'(.*?)'\", pupil_group))\n",
    "# all_teachers = set(individual_teacher for teacher_group in teachers for individual_teacher in re.findall(r\"'(.*?)'\", teacher_group))\n",
    "\n",
    "# Initialize an empty set to hold all unique pupils\n",
    "all_pupils = set()\n",
    "\n",
    "# Iterate over each pupil group in the list of pupil strings\n",
    "for pupil_group in pupils:\n",
    "    # Extract individual pupil names from the current pupil group\n",
    "    individual_pupils = re.findall(r\"'(.*?)'\", pupil_group)\n",
    "    \n",
    "    # Add each individual pupil to the set of all pupils\n",
    "    for individual_pupil in individual_pupils:\n",
    "        all_pupils.add(individual_pupil)\n",
    "\n",
    "# Initialize an empty set to hold all unique teachers\n",
    "all_teachers = set()\n",
    "\n",
    "# Iterate over each teacher group in the list of teacher strings\n",
    "for teacher_group in teachers:\n",
    "    # Extract individual teacher names from the current teacher group\n",
    "    individual_teachers = re.findall(r\"'(.*?)'\", teacher_group)\n",
    "    \n",
    "    # Add each individual teacher to the set of all teachers\n",
    "    for individual_teacher in individual_teachers:\n",
    "        all_teachers.add(individual_teacher)"
   ]
  },
  {
   "cell_type": "code",
   "execution_count": 28,
   "metadata": {},
   "outputs": [],
   "source": [
    "# Add any missing nodes to the dictionary\n",
    "all_scientists = all_teachers | all_pupils"
   ]
  },
  {
   "cell_type": "code",
   "execution_count": 29,
   "metadata": {},
   "outputs": [
    {
     "name": "stdout",
     "output_type": "stream",
     "text": [
      "There are 3083 teatchers liste\n",
      "There are 2977 teachers listed\n",
      "There are 3386 individuals listed\n"
     ]
    }
   ],
   "source": [
    "print(f\"There are {len(list(all_pupils))} teatchers liste\")\n",
    "print(f\"There are {len(list(all_teachers))} teachers listed\")\n",
    "print(f\"There are {len(list(all_scientists))} individuals listed\")"
   ]
  },
  {
   "cell_type": "markdown",
   "metadata": {},
   "source": [
    "---"
   ]
  }
 ],
 "metadata": {
  "kernelspec": {
   "display_name": "Python 3",
   "language": "python",
   "name": "python3"
  },
  "language_info": {
   "codemirror_mode": {
    "name": "ipython",
    "version": 3
   },
   "file_extension": ".py",
   "mimetype": "text/x-python",
   "name": "python",
   "nbconvert_exporter": "python",
   "pygments_lexer": "ipython3",
   "version": "3.12.4"
  }
 },
 "nbformat": 4,
 "nbformat_minor": 2
}
