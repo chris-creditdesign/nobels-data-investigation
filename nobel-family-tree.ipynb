{
 "cells": [
  {
   "cell_type": "code",
   "execution_count": 153,
   "metadata": {},
   "outputs": [],
   "source": [
    "import re\n",
    "import json\n",
    "import networkx as nx"
   ]
  },
  {
   "cell_type": "code",
   "execution_count": 280,
   "metadata": {},
   "outputs": [],
   "source": [
    "# Read the content of the MATLAB file\n",
    "file_path = './data/NobelTree.m'"
   ]
  },
  {
   "cell_type": "code",
   "execution_count": 281,
   "metadata": {},
   "outputs": [],
   "source": [
    "with open(file_path, 'r') as file:\n",
    "    matlab_script = file.read()"
   ]
  },
  {
   "cell_type": "code",
   "execution_count": 282,
   "metadata": {},
   "outputs": [],
   "source": [
    "# Regular expressions to find the successors (mentees) and predecessors (mentors)\n",
    "# A line which starts with `s0 = {` is pupils / successors\n",
    "# A line which starts with `p0 = {` in teachers / predecessors\n",
    "pupil_pattern = re.compile(r's\\d*\\s*=\\s*\\{([^\\}]+)\\};')\n",
    "teacher_pattern = re.compile(r'p\\d*\\s*=\\s*\\{([^\\}]+)\\};')"
   ]
  },
  {
   "cell_type": "markdown",
   "metadata": {},
   "source": [
    "Line 5470\n",
    "\n",
    "Change: p16 = {'Sophus Jorgensen'};\n",
    "\n",
    "To: s16 = {'Sophus Jorgensen'};\n",
    "\n",
    "---\n",
    "\n",
    "Line 9956\n",
    "\n",
    "Change: s = {'Robin Warren (M2005)' 'Barry Marshall (M2005)'};\n",
    "\n",
    "Change: % = {'Robin Warren (M2005)' 'Barry Marshall (M2005)'};\n",
    "\n",
    "No corresponding p line"
   ]
  },
  {
   "cell_type": "code",
   "execution_count": 283,
   "metadata": {},
   "outputs": [],
   "source": [
    "# Find all successors and predecessors\n",
    "pupils = pupil_pattern.findall(matlab_script)\n",
    "teachers = teacher_pattern.findall(matlab_script)"
   ]
  },
  {
   "cell_type": "code",
   "execution_count": 288,
   "metadata": {},
   "outputs": [
    {
     "data": {
      "text/plain": [
       "\"'Elmer Loomis' 'Walther Nernst (C1920)' 'Jacobus van t Hoff (C1901)' 'William Magie'\""
      ]
     },
     "execution_count": 288,
     "metadata": {},
     "output_type": "execute_result"
    }
   ],
   "source": [
    "# Spot test to check if the extraction was successful\n",
    "test_index = pupils.index(\"'Claude Hudson' 'Claude Hudson' 'Claude Hudson' 'Claude Hudson'\")\n",
    "teachers[test_index]"
   ]
  },
  {
   "cell_type": "code",
   "execution_count": 289,
   "metadata": {},
   "outputs": [
    {
     "name": "stdout",
     "output_type": "stream",
     "text": [
      "Pupil: 'Claude Hudson' 'Claude Hudson' 'Claude Hudson' 'Claude Hudson'\n",
      "Teacher: 'Elmer Loomis' 'Walther Nernst (C1920)' 'Jacobus van t Hoff (C1901)' 'William Magie'\n"
     ]
    }
   ],
   "source": [
    "# Spot test to check if the extraction was successful\n",
    "print(f\"Pupil: {pupils[test_index]}\")\n",
    "print(f\"Teacher: {teachers[test_index]}\")"
   ]
  },
  {
   "cell_type": "markdown",
   "metadata": {},
   "source": [
    "In this instance, **Wilhelm Rontgen** is the _pupil_ of **Gustav Zeuner** and **August Kundt**.\n",
    "\n",
    "This is confirmed by [Wilhelm Röntgen's Wikipedia page](https://en.wikipedia.org/wiki/Wilhelm_R%C3%B6ntgen):\n",
    "\n",
    "> he became a favourite student of Professor August Kundt..."
   ]
  },
  {
   "cell_type": "code",
   "execution_count": 290,
   "metadata": {},
   "outputs": [],
   "source": [
    "# Initialize an empty list to hold the relationships\n",
    "relationship_list = []"
   ]
  },
  {
   "cell_type": "code",
   "execution_count": 291,
   "metadata": {},
   "outputs": [],
   "source": [
    "# Extract the relationships from the matches\n",
    "for pupil_string, teacher_string in zip(pupils, teachers):\n",
    "    pupil_list = re.findall(r\"'(.*?)'\", pupil_string)\n",
    "    teacher_list = re.findall(r\"'(.*?)'\", teacher_string)\n",
    "    for pupil, teacher in zip(pupil_list, teacher_list):\n",
    "        new_dict = {}\n",
    "        new_dict['teacher'] = teacher\n",
    "        new_dict['pupil'] = pupil\n",
    "        relationship_list.append(new_dict)"
   ]
  },
  {
   "cell_type": "code",
   "execution_count": 292,
   "metadata": {},
   "outputs": [
    {
     "data": {
      "text/plain": [
       "[{'teacher': 'Gustav Zeuner', 'pupil': 'Wilhelm Rontgen (P1901)'},\n",
       " {'teacher': 'August Kundt', 'pupil': 'Wilhelm Rontgen (P1901)'},\n",
       " {'teacher': 'Victor Regnault', 'pupil': 'Gustav Zeuner'},\n",
       " {'teacher': 'Julius Weisbach', 'pupil': 'Gustav Zeuner'}]"
      ]
     },
     "execution_count": 292,
     "metadata": {},
     "output_type": "execute_result"
    }
   ],
   "source": [
    "relationship_list[:4]"
   ]
  },
  {
   "cell_type": "code",
   "execution_count": 295,
   "metadata": {},
   "outputs": [
    {
     "data": {
      "text/plain": [
       "[{'teacher': 'Elmer Loomis', 'pupil': 'Claude Hudson'},\n",
       " {'teacher': 'Walther Nernst (C1920)', 'pupil': 'Claude Hudson'},\n",
       " {'teacher': 'Jacobus van t Hoff (C1901)', 'pupil': 'Claude Hudson'},\n",
       " {'teacher': 'William Magie', 'pupil': 'Claude Hudson'}]"
      ]
     },
     "execution_count": 295,
     "metadata": {},
     "output_type": "execute_result"
    }
   ],
   "source": [
    "# Spot test to check if the conversion was successful\n",
    "# s25 = {'Claude Hudson' 'Claude Hudson' 'Claude Hudson' 'Claude Hudson'};\n",
    "# p25 = {'Elmer Loomis' 'Walther Nernst (C1920)' 'Jacobus van t Hoff (C1901)' 'William Magie'};\n",
    "\n",
    "[relationship for relationship in relationship_list if relationship['pupil'] == 'Claude Hudson']"
   ]
  },
  {
   "cell_type": "code",
   "execution_count": 296,
   "metadata": {},
   "outputs": [],
   "source": [
    "# Check if each entry in the relationship list is contains both a teacher and a pupil\n",
    "for relationship in relationship_list:\n",
    "    if 'teacher' not in relationship or 'pupil' not in relationship:\n",
    "        print(relationship)"
   ]
  },
  {
   "cell_type": "code",
   "execution_count": 297,
   "metadata": {},
   "outputs": [],
   "source": [
    "# Save the data to a JSON file\n",
    "output_file_path = './data/nobel-relationship.json'"
   ]
  },
  {
   "cell_type": "code",
   "execution_count": 298,
   "metadata": {},
   "outputs": [],
   "source": [
    "with open(output_file_path, 'w') as output_file:\n",
    "    json.dump(relationship_list, output_file, indent=2)"
   ]
  }
 ],
 "metadata": {
  "kernelspec": {
   "display_name": "Python 3",
   "language": "python",
   "name": "python3"
  },
  "language_info": {
   "codemirror_mode": {
    "name": "ipython",
    "version": 3
   },
   "file_extension": ".py",
   "mimetype": "text/x-python",
   "name": "python",
   "nbconvert_exporter": "python",
   "pygments_lexer": "ipython3",
   "version": "3.12.4"
  }
 },
 "nbformat": 4,
 "nbformat_minor": 2
}
