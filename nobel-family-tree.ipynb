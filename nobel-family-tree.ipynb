{
 "cells": [
  {
   "cell_type": "code",
   "execution_count": 1,
   "metadata": {},
   "outputs": [],
   "source": [
    "import re\n",
    "import json"
   ]
  },
  {
   "cell_type": "code",
   "execution_count": 41,
   "metadata": {},
   "outputs": [],
   "source": [
    "# Read the content of the MATLAB file\n",
    "file_path = './data/NobelTree-edit.m'"
   ]
  },
  {
   "cell_type": "code",
   "execution_count": 42,
   "metadata": {},
   "outputs": [],
   "source": [
    "with open(file_path, 'r') as file:\n",
    "    matlab_script = file.read()"
   ]
  },
  {
   "cell_type": "code",
   "execution_count": 44,
   "metadata": {},
   "outputs": [],
   "source": [
    "# Regular expressions to find the successors (mentees) and predecessors (mentors)\n",
    "# A line which starts with `s0 = {` is pupils / successors\n",
    "# A line which starts with `p0 = {` in teachers / predecessors\n",
    "pupil_pattern = re.compile(r's\\d+\\s*=\\s*\\{([^\\}]+)\\};')\n",
    "teacher_pattern = re.compile(r'p\\d+\\s*=\\s*\\{([^\\}]+)\\};')"
   ]
  },
  {
   "cell_type": "code",
   "execution_count": 45,
   "metadata": {},
   "outputs": [],
   "source": [
    "# Find all successors and predecessors\n",
    "pupils = pupil_pattern.findall(matlab_script)\n",
    "teachers = teacher_pattern.findall(matlab_script)"
   ]
  },
  {
   "cell_type": "code",
   "execution_count": 47,
   "metadata": {},
   "outputs": [
    {
     "name": "stdout",
     "output_type": "stream",
     "text": [
      "Pupil: 'Wilhelm Rontgen (P1901)' 'Wilhelm Rontgen (P1901)'\n",
      "Teacher: 'Gustav Zeuner' 'August Kundt'\n"
     ]
    }
   ],
   "source": [
    "# Test the first successor and predecessor entry\n",
    "print(f\"Pupil: {pupils[0]}\")\n",
    "print(f\"Teacher: {teachers[0]}\")"
   ]
  },
  {
   "cell_type": "markdown",
   "metadata": {},
   "source": [
    "In this instance, **Wilhelm Rontgen** is the _pupil_ of **Gustav Zeuner** and **August Kundt**.\n",
    "\n",
    "This is confirmed by [Wilhelm Röntgen's Wikipedia page](https://en.wikipedia.org/wiki/Wilhelm_R%C3%B6ntgen):\n",
    "\n",
    "> he became a favourite student of Professor August Kundt..."
   ]
  },
  {
   "cell_type": "code",
   "execution_count": 57,
   "metadata": {},
   "outputs": [],
   "source": [
    "# Extract the nodes and edges\n",
    "# Edges will be a list of each connection between a predecessor and a successor\n",
    "edges = []\n",
    "# Nodes will be a list of each individual person in the network\n",
    "nodes = set()"
   ]
  },
  {
   "cell_type": "code",
   "execution_count": 50,
   "metadata": {},
   "outputs": [
    {
     "name": "stdout",
     "output_type": "stream",
     "text": [
      "Gustav Zeuner is the teacher of Wilhelm Rontgen (P1901)\n",
      "August Kundt is the teacher of Wilhelm Rontgen (P1901)\n",
      "Victor Regnault is the teacher of Gustav Zeuner\n",
      "Julius Weisbach is the teacher of Gustav Zeuner\n",
      "Pierre Berthier is the teacher of Victor Regnault\n",
      "Justus von Liebich is the teacher of Victor Regnault\n",
      "Claude Bertholet is the teacher of Pierre Berthier\n",
      "Johann Schreiber is the teacher of Pierre Berthier\n"
     ]
    }
   ],
   "source": [
    "for pupil_string, teacher_string in zip(pupils[:4], teachers[:4], strict=True):\n",
    "    pupil_list = re.findall(r\"'(.*?)'\", pupil_string)\n",
    "    teacher_list = re.findall(r\"'(.*?)'\", teacher_string)\n",
    "    for pupil, teacher in zip(pupil_list, teacher_list, strict=True):\n",
    "        print(f\"{teacher} is the teacher of {pupil}\")"
   ]
  },
  {
   "cell_type": "code",
   "execution_count": 59,
   "metadata": {},
   "outputs": [],
   "source": [
    "for pupil_string, teacher_string in zip(pupils, teachers, strict=True):\n",
    "    pupil_list = re.findall(r\"'(.*?)'\", pupil_string)\n",
    "    teacher_list = re.findall(r\"'(.*?)'\", teacher_string)\n",
    "    for pupil, teacher in zip(pupil_list, teacher_list, strict=True):\n",
    "        edges.append({'source': teacher, 'target': pupil})\n",
    "        nodes.add(pupil)\n",
    "        nodes.add(teacher)"
   ]
  },
  {
   "cell_type": "code",
   "execution_count": 62,
   "metadata": {},
   "outputs": [
    {
     "name": "stdout",
     "output_type": "stream",
     "text": [
      "['Georg Wedel', 'Guiseppi Biancani', 'Francesco Grimaldi', 'Christian Hausen']\n"
     ]
    }
   ],
   "source": [
    "print(list(nodes)[:4])"
   ]
  },
  {
   "cell_type": "code",
   "execution_count": 67,
   "metadata": {},
   "outputs": [
    {
     "name": "stdout",
     "output_type": "stream",
     "text": [
      "[{'source': 'Gustav Zeuner', 'target': 'Wilhelm Rontgen (P1901)'}, {'source': 'August Kundt', 'target': 'Wilhelm Rontgen (P1901)'}]\n"
     ]
    }
   ],
   "source": [
    "print(edges[:2])"
   ]
  },
  {
   "cell_type": "code",
   "execution_count": 68,
   "metadata": {},
   "outputs": [],
   "source": [
    "# Convert nodes to a list of dictionaries\n",
    "nodes = [{'id': node} for node in nodes]"
   ]
  },
  {
   "cell_type": "code",
   "execution_count": 69,
   "metadata": {},
   "outputs": [],
   "source": [
    "# Prepare the final data structure\n",
    "data = {\n",
    "    'nodes': nodes,\n",
    "    'links': edges\n",
    "}"
   ]
  },
  {
   "cell_type": "code",
   "execution_count": 70,
   "metadata": {},
   "outputs": [],
   "source": [
    "# Save the data to a JSON file\n",
    "output_file_path = './data/nobel-tree-edit.json'"
   ]
  },
  {
   "cell_type": "code",
   "execution_count": 71,
   "metadata": {},
   "outputs": [],
   "source": [
    "with open(output_file_path, 'w') as output_file:\n",
    "    json.dump(data, output_file, indent=2)"
   ]
  }
 ],
 "metadata": {
  "kernelspec": {
   "display_name": "Python 3",
   "language": "python",
   "name": "python3"
  },
  "language_info": {
   "codemirror_mode": {
    "name": "ipython",
    "version": 3
   },
   "file_extension": ".py",
   "mimetype": "text/x-python",
   "name": "python",
   "nbconvert_exporter": "python",
   "pygments_lexer": "ipython3",
   "version": "3.12.4"
  }
 },
 "nbformat": 4,
 "nbformat_minor": 2
}
