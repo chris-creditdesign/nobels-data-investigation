{
 "cells": [
  {
   "cell_type": "code",
   "execution_count": 91,
   "metadata": {},
   "outputs": [],
   "source": [
    "import json\n",
    "import pandas as pd\n",
    "import matplotlib.pyplot as plt\n",
    "import numpy as np"
   ]
  },
  {
   "cell_type": "code",
   "execution_count": 4,
   "metadata": {},
   "outputs": [],
   "source": [
    "file_path = \"data/laureates-1000.json\""
   ]
  },
  {
   "cell_type": "code",
   "execution_count": 5,
   "metadata": {},
   "outputs": [],
   "source": [
    "with open(file_path, 'r') as file:\n",
    "    data = json.load(file)"
   ]
  },
  {
   "cell_type": "code",
   "execution_count": 6,
   "metadata": {},
   "outputs": [],
   "source": [
    "laureates = data['laureates']"
   ]
  },
  {
   "cell_type": "code",
   "execution_count": 88,
   "metadata": {},
   "outputs": [
    {
     "data": {
      "text/plain": [
       "992"
      ]
     },
     "execution_count": 88,
     "metadata": {},
     "output_type": "execute_result"
    }
   ],
   "source": [
    "len(laureates)"
   ]
  },
  {
   "cell_type": "code",
   "execution_count": 66,
   "metadata": {},
   "outputs": [
    {
     "data": {
      "text/plain": [
       "[{'id': '745',\n",
       "  'knownName': {'en': 'A. Michael Spence', 'se': 'A. Michael Spence'},\n",
       "  'givenName': {'en': 'A. Michael', 'se': 'A. Michael'},\n",
       "  'familyName': {'en': 'Spence', 'se': 'Spence'},\n",
       "  'fullName': {'en': 'A. Michael Spence', 'se': 'A. Michael Spence'},\n",
       "  'fileName': 'spence',\n",
       "  'gender': 'male',\n",
       "  'birth': {'date': '1943-00-00',\n",
       "   'place': {'city': {'en': 'Montclair, NJ',\n",
       "     'no': 'Montclair, NJ',\n",
       "     'se': 'Montclair, NJ'},\n",
       "    'country': {'en': 'USA', 'no': 'USA', 'se': 'USA'},\n",
       "    'cityNow': {'en': 'Montclair, NJ',\n",
       "     'no': 'Montclair, NJ',\n",
       "     'se': 'Montclair, NJ',\n",
       "     'sameAs': ['https://www.wikidata.org/wiki/Q678437',\n",
       "      'https://www.wikipedia.org/wiki/Montclair,_New_Jersey'],\n",
       "     'latitude': '40.825930',\n",
       "     'longitude': '-74.209030'},\n",
       "    'countryNow': {'en': 'USA',\n",
       "     'no': 'USA',\n",
       "     'se': 'USA',\n",
       "     'sameAs': ['https://www.wikidata.org/wiki/Q30'],\n",
       "     'latitude': '39.828175',\n",
       "     'longitude': '-98.579500'},\n",
       "    'continent': {'en': 'North America',\n",
       "     'no': 'Nord-Amerika',\n",
       "     'se': 'Nordamerika'},\n",
       "    'locationString': {'en': 'Montclair, NJ, USA',\n",
       "     'no': 'Montclair, NJ, USA',\n",
       "     'se': 'Montclair, NJ, USA'}}},\n",
       "  'wikipedia': {'slug': 'Michael_Spence',\n",
       "   'english': 'https://en.wikipedia.org/wiki/Michael_Spence'},\n",
       "  'wikidata': {'id': 'Q157245',\n",
       "   'url': 'https://www.wikidata.org/wiki/Q157245'},\n",
       "  'sameAs': ['https://www.wikidata.org/wiki/Q157245',\n",
       "   'https://en.wikipedia.org/wiki/Michael_Spence'],\n",
       "  'links': [{'rel': 'laureate',\n",
       "    'href': 'https://api.nobelprize.org/2/laureate/745',\n",
       "    'action': 'GET',\n",
       "    'types': 'application/json'},\n",
       "   {'rel': 'external',\n",
       "    'href': 'https://www.nobelprize.org/laureate/745',\n",
       "    'title': 'A. Michael Spence - Facts',\n",
       "    'action': 'GET',\n",
       "    'types': 'text/html',\n",
       "    'class': ['laureate facts']}],\n",
       "  'nobelPrizes': [{'awardYear': '2001',\n",
       "    'category': {'en': 'Economic Sciences', 'no': 'Økonomi', 'se': 'Ekonomi'},\n",
       "    'categoryFullName': {'en': 'The Sveriges Riksbank Prize in Economic Sciences in Memory of Alfred Nobel',\n",
       "     'no': 'Sveriges Riksbanks pris i økonomisk vitenskap til minne om Alfred Nobel',\n",
       "     'se': 'Sveriges Riksbanks pris i ekonomisk vetenskap till Alfred Nobels minne'},\n",
       "    'sortOrder': '2',\n",
       "    'portion': '1/3',\n",
       "    'dateAwarded': '2001-10-10',\n",
       "    'prizeStatus': 'received',\n",
       "    'motivation': {'en': 'for their analyses of markets with asymmetric information',\n",
       "     'se': 'för deras analys av marknader med assymetrisk informations'},\n",
       "    'prizeAmount': 10000000,\n",
       "    'prizeAmountAdjusted': 13927869,\n",
       "    'affiliations': [{'name': {'en': 'Stanford University',\n",
       "       'no': 'Stanford University',\n",
       "       'se': 'Stanford University'},\n",
       "      'nameNow': {'en': 'Stanford University'},\n",
       "      'city': {'en': 'Stanford, CA',\n",
       "       'no': 'Stanford, CA',\n",
       "       'se': 'Stanford, CA'},\n",
       "      'country': {'en': 'USA', 'no': 'USA', 'se': 'USA'},\n",
       "      'cityNow': {'en': 'Stanford, CA',\n",
       "       'no': 'Stanford, CA',\n",
       "       'se': 'Stanford, CA',\n",
       "       'sameAs': ['https://www.wikidata.org/wiki/Q173813',\n",
       "        'https://www.wikipedia.org/wiki/Stanford,_California'],\n",
       "       'latitude': '37.424734',\n",
       "       'longitude': '-122.163858'},\n",
       "      'countryNow': {'en': 'USA',\n",
       "       'no': 'USA',\n",
       "       'se': 'USA',\n",
       "       'sameAs': ['https://www.wikidata.org/wiki/Q30'],\n",
       "       'latitude': '39.828175',\n",
       "       'longitude': '-98.579500'},\n",
       "      'continent': {'en': 'North America'},\n",
       "      'locationString': {'en': 'Stanford, CA, USA',\n",
       "       'no': 'Stanford, CA, USA',\n",
       "       'se': 'Stanford, CA, USA'}}],\n",
       "    'links': [{'rel': 'nobelPrize',\n",
       "      'href': 'https://api.nobelprize.org/2/nobelPrize/eco/2001',\n",
       "      'action': 'GET',\n",
       "      'types': 'application/json'},\n",
       "     {'rel': 'external',\n",
       "      'href': 'https://www.nobelprize.org/prizes/economic-sciences/2001/spence/facts/',\n",
       "      'title': 'A. Michael Spence - Facts',\n",
       "      'action': 'GET',\n",
       "      'types': 'text/html',\n",
       "      'class': ['laureate facts']},\n",
       "     {'rel': 'external',\n",
       "      'href': 'https://www.nobelprize.org/prizes/economic-sciences/2001/summary/',\n",
       "      'title': 'The Sveriges Riksbank Prize in Economic Sciences in Memory of Alfred Nobel 2001',\n",
       "      'action': 'GET',\n",
       "      'types': 'text/html',\n",
       "      'class': ['prize summary']}]}]}]"
      ]
     },
     "execution_count": 66,
     "metadata": {},
     "output_type": "execute_result"
    }
   ],
   "source": [
    "laureates[:1]"
   ]
  },
  {
   "cell_type": "code",
   "execution_count": 110,
   "metadata": {},
   "outputs": [],
   "source": [
    "# Create a list to hold our extracted data\n",
    "extracted_data = []\n",
    "\n",
    "# Iterate over each laureate to extract gender and awardYear information\n",
    "for laureate in laureates:\n",
    "    gender = laureate.get('gender')\n",
    "    # Remove entries that do not have a gender as these will be a group award\n",
    "    if gender:\n",
    "      knownName = laureate.get('knownName', {})\n",
    "      name = knownName.get('en', 'unknown')\n",
    "      links = laureate.get('links', {})\n",
    "      href = links[0].get('href', 'unknown')\n",
    "      for prize in laureate.get('nobelPrizes', []):\n",
    "          year = prize.get('awardYear')\n",
    "          category = prize.get('category', {})\n",
    "          if category:\n",
    "            category = category.get('en', 'unknown')\n",
    "          motivation = prize.get('motivation', {})\n",
    "          if motivation:\n",
    "            motivation = motivation.get('en', 'unknown')\n",
    "          if year:\n",
    "              extracted_data.append({'year': int(year), 'gender': gender, 'name': name, 'href': href, 'category': category, 'motivation': motivation})"
   ]
  },
  {
   "cell_type": "code",
   "execution_count": 74,
   "metadata": {},
   "outputs": [],
   "source": [
    "# Convert the list to a DataFrame\n",
    "df = pd.DataFrame(extracted_data)"
   ]
  },
  {
   "cell_type": "code",
   "execution_count": 75,
   "metadata": {},
   "outputs": [
    {
     "data": {
      "text/html": [
       "<div>\n",
       "<style scoped>\n",
       "    .dataframe tbody tr th:only-of-type {\n",
       "        vertical-align: middle;\n",
       "    }\n",
       "\n",
       "    .dataframe tbody tr th {\n",
       "        vertical-align: top;\n",
       "    }\n",
       "\n",
       "    .dataframe thead th {\n",
       "        text-align: right;\n",
       "    }\n",
       "</style>\n",
       "<table border=\"1\" class=\"dataframe\">\n",
       "  <thead>\n",
       "    <tr style=\"text-align: right;\">\n",
       "      <th></th>\n",
       "      <th>year</th>\n",
       "      <th>gender</th>\n",
       "      <th>name</th>\n",
       "      <th>href</th>\n",
       "      <th>category</th>\n",
       "      <th>motivation</th>\n",
       "    </tr>\n",
       "  </thead>\n",
       "  <tbody>\n",
       "    <tr>\n",
       "      <th>0</th>\n",
       "      <td>2001</td>\n",
       "      <td>male</td>\n",
       "      <td>A. Michael Spence</td>\n",
       "      <td>https://api.nobelprize.org/2/laureate/745</td>\n",
       "      <td>Economic Sciences</td>\n",
       "      <td>for their analyses of markets with asymmetric ...</td>\n",
       "    </tr>\n",
       "    <tr>\n",
       "      <th>1</th>\n",
       "      <td>1975</td>\n",
       "      <td>male</td>\n",
       "      <td>Aage N. Bohr</td>\n",
       "      <td>https://api.nobelprize.org/2/laureate/102</td>\n",
       "      <td>Physics</td>\n",
       "      <td>for the discovery of the connection between co...</td>\n",
       "    </tr>\n",
       "    <tr>\n",
       "      <th>2</th>\n",
       "      <td>2004</td>\n",
       "      <td>male</td>\n",
       "      <td>Aaron Ciechanover</td>\n",
       "      <td>https://api.nobelprize.org/2/laureate/779</td>\n",
       "      <td>Chemistry</td>\n",
       "      <td>for the discovery of ubiquitin-mediated protei...</td>\n",
       "    </tr>\n",
       "    <tr>\n",
       "      <th>3</th>\n",
       "      <td>1982</td>\n",
       "      <td>male</td>\n",
       "      <td>Aaron Klug</td>\n",
       "      <td>https://api.nobelprize.org/2/laureate/259</td>\n",
       "      <td>Chemistry</td>\n",
       "      <td>for his development of crystallographic electr...</td>\n",
       "    </tr>\n",
       "    <tr>\n",
       "      <th>4</th>\n",
       "      <td>2021</td>\n",
       "      <td>male</td>\n",
       "      <td>Abdulrazak Gurnah</td>\n",
       "      <td>https://api.nobelprize.org/2/laureate/1004</td>\n",
       "      <td>Literature</td>\n",
       "      <td>for his uncompromising and compassionate penet...</td>\n",
       "    </tr>\n",
       "  </tbody>\n",
       "</table>\n",
       "</div>"
      ],
      "text/plain": [
       "   year gender               name                                        href  \\\n",
       "0  2001   male  A. Michael Spence   https://api.nobelprize.org/2/laureate/745   \n",
       "1  1975   male       Aage N. Bohr   https://api.nobelprize.org/2/laureate/102   \n",
       "2  2004   male  Aaron Ciechanover   https://api.nobelprize.org/2/laureate/779   \n",
       "3  1982   male         Aaron Klug   https://api.nobelprize.org/2/laureate/259   \n",
       "4  2021   male  Abdulrazak Gurnah  https://api.nobelprize.org/2/laureate/1004   \n",
       "\n",
       "            category                                         motivation  \n",
       "0  Economic Sciences  for their analyses of markets with asymmetric ...  \n",
       "1            Physics  for the discovery of the connection between co...  \n",
       "2          Chemistry  for the discovery of ubiquitin-mediated protei...  \n",
       "3          Chemistry  for his development of crystallographic electr...  \n",
       "4         Literature  for his uncompromising and compassionate penet...  "
      ]
     },
     "execution_count": 75,
     "metadata": {},
     "output_type": "execute_result"
    }
   ],
   "source": [
    "df.head()"
   ]
  },
  {
   "cell_type": "code",
   "execution_count": 49,
   "metadata": {},
   "outputs": [
    {
     "data": {
      "text/html": [
       "<div>\n",
       "<style scoped>\n",
       "    .dataframe tbody tr th:only-of-type {\n",
       "        vertical-align: middle;\n",
       "    }\n",
       "\n",
       "    .dataframe tbody tr th {\n",
       "        vertical-align: top;\n",
       "    }\n",
       "\n",
       "    .dataframe thead th {\n",
       "        text-align: right;\n",
       "    }\n",
       "</style>\n",
       "<table border=\"1\" class=\"dataframe\">\n",
       "  <thead>\n",
       "    <tr style=\"text-align: right;\">\n",
       "      <th></th>\n",
       "      <th>year</th>\n",
       "      <th>gender</th>\n",
       "      <th>name</th>\n",
       "      <th>href</th>\n",
       "    </tr>\n",
       "  </thead>\n",
       "  <tbody>\n",
       "    <tr>\n",
       "      <th>0</th>\n",
       "      <td>2001</td>\n",
       "      <td>male</td>\n",
       "      <td>A. Michael Spence</td>\n",
       "      <td>https://api.nobelprize.org/2/laureate/745</td>\n",
       "    </tr>\n",
       "    <tr>\n",
       "      <th>1</th>\n",
       "      <td>1975</td>\n",
       "      <td>male</td>\n",
       "      <td>Aage N. Bohr</td>\n",
       "      <td>https://api.nobelprize.org/2/laureate/102</td>\n",
       "    </tr>\n",
       "    <tr>\n",
       "      <th>2</th>\n",
       "      <td>2004</td>\n",
       "      <td>male</td>\n",
       "      <td>Aaron Ciechanover</td>\n",
       "      <td>https://api.nobelprize.org/2/laureate/779</td>\n",
       "    </tr>\n",
       "    <tr>\n",
       "      <th>3</th>\n",
       "      <td>1982</td>\n",
       "      <td>male</td>\n",
       "      <td>Aaron Klug</td>\n",
       "      <td>https://api.nobelprize.org/2/laureate/259</td>\n",
       "    </tr>\n",
       "    <tr>\n",
       "      <th>4</th>\n",
       "      <td>2021</td>\n",
       "      <td>male</td>\n",
       "      <td>Abdulrazak Gurnah</td>\n",
       "      <td>https://api.nobelprize.org/2/laureate/1004</td>\n",
       "    </tr>\n",
       "    <tr>\n",
       "      <th>...</th>\n",
       "      <td>...</td>\n",
       "      <td>...</td>\n",
       "      <td>...</td>\n",
       "      <td>...</td>\n",
       "    </tr>\n",
       "    <tr>\n",
       "      <th>942</th>\n",
       "      <td>1949</td>\n",
       "      <td>male</td>\n",
       "      <td>William F. Giauque</td>\n",
       "      <td>https://api.nobelprize.org/2/laureate/209</td>\n",
       "    </tr>\n",
       "    <tr>\n",
       "      <th>952</th>\n",
       "      <td>1955</td>\n",
       "      <td>male</td>\n",
       "      <td>Willis E. Lamb</td>\n",
       "      <td>https://api.nobelprize.org/2/laureate/63</td>\n",
       "    </tr>\n",
       "    <tr>\n",
       "      <th>955</th>\n",
       "      <td>1996</td>\n",
       "      <td>female</td>\n",
       "      <td>Wisława Szymborska</td>\n",
       "      <td>https://api.nobelprize.org/2/laureate/673</td>\n",
       "    </tr>\n",
       "    <tr>\n",
       "      <th>956</th>\n",
       "      <td>1924</td>\n",
       "      <td>male</td>\n",
       "      <td>Władysław Reymont</td>\n",
       "      <td>https://api.nobelprize.org/2/laureate/594</td>\n",
       "    </tr>\n",
       "    <tr>\n",
       "      <th>961</th>\n",
       "      <td>1919</td>\n",
       "      <td>male</td>\n",
       "      <td>Woodrow Wilson</td>\n",
       "      <td>https://api.nobelprize.org/2/laureate/483</td>\n",
       "    </tr>\n",
       "  </tbody>\n",
       "</table>\n",
       "<p>641 rows × 4 columns</p>\n",
       "</div>"
      ],
      "text/plain": [
       "     year  gender                name  \\\n",
       "0    2001    male   A. Michael Spence   \n",
       "1    1975    male        Aage N. Bohr   \n",
       "2    2004    male   Aaron Ciechanover   \n",
       "3    1982    male          Aaron Klug   \n",
       "4    2021    male   Abdulrazak Gurnah   \n",
       "..    ...     ...                 ...   \n",
       "942  1949    male  William F. Giauque   \n",
       "952  1955    male      Willis E. Lamb   \n",
       "955  1996  female  Wisława Szymborska   \n",
       "956  1924    male   Władysław Reymont   \n",
       "961  1919    male      Woodrow Wilson   \n",
       "\n",
       "                                           href  \n",
       "0     https://api.nobelprize.org/2/laureate/745  \n",
       "1     https://api.nobelprize.org/2/laureate/102  \n",
       "2     https://api.nobelprize.org/2/laureate/779  \n",
       "3     https://api.nobelprize.org/2/laureate/259  \n",
       "4    https://api.nobelprize.org/2/laureate/1004  \n",
       "..                                          ...  \n",
       "942   https://api.nobelprize.org/2/laureate/209  \n",
       "952    https://api.nobelprize.org/2/laureate/63  \n",
       "955   https://api.nobelprize.org/2/laureate/673  \n",
       "956   https://api.nobelprize.org/2/laureate/594  \n",
       "961   https://api.nobelprize.org/2/laureate/483  \n",
       "\n",
       "[641 rows x 4 columns]"
      ]
     },
     "execution_count": 49,
     "metadata": {},
     "output_type": "execute_result"
    }
   ],
   "source": [
    "# Group by year and gender, and count the occurrences\n",
    "gender_distribution = df.groupby(by=['year', 'gender'])\n",
    "gender_distribution.head()"
   ]
  },
  {
   "cell_type": "code",
   "execution_count": 26,
   "metadata": {},
   "outputs": [
    {
     "data": {
      "text/plain": [
       "year  gender\n",
       "1901  male      6\n",
       "1902  male      7\n",
       "1903  female    1\n",
       "      male      6\n",
       "1904  male      5\n",
       "dtype: int64"
      ]
     },
     "execution_count": 26,
     "metadata": {},
     "output_type": "execute_result"
    }
   ],
   "source": [
    "gender_size = gender_distribution.size()\n",
    "gender_size.head()"
   ]
  },
  {
   "cell_type": "code",
   "execution_count": 30,
   "metadata": {},
   "outputs": [
    {
     "data": {
      "text/html": [
       "<div>\n",
       "<style scoped>\n",
       "    .dataframe tbody tr th:only-of-type {\n",
       "        vertical-align: middle;\n",
       "    }\n",
       "\n",
       "    .dataframe tbody tr th {\n",
       "        vertical-align: top;\n",
       "    }\n",
       "\n",
       "    .dataframe thead th {\n",
       "        text-align: right;\n",
       "    }\n",
       "</style>\n",
       "<table border=\"1\" class=\"dataframe\">\n",
       "  <thead>\n",
       "    <tr style=\"text-align: right;\">\n",
       "      <th>gender</th>\n",
       "      <th>female</th>\n",
       "      <th>male</th>\n",
       "    </tr>\n",
       "    <tr>\n",
       "      <th>year</th>\n",
       "      <th></th>\n",
       "      <th></th>\n",
       "    </tr>\n",
       "  </thead>\n",
       "  <tbody>\n",
       "    <tr>\n",
       "      <th>1901</th>\n",
       "      <td>0</td>\n",
       "      <td>6</td>\n",
       "    </tr>\n",
       "    <tr>\n",
       "      <th>1902</th>\n",
       "      <td>0</td>\n",
       "      <td>7</td>\n",
       "    </tr>\n",
       "    <tr>\n",
       "      <th>1903</th>\n",
       "      <td>1</td>\n",
       "      <td>6</td>\n",
       "    </tr>\n",
       "    <tr>\n",
       "      <th>1904</th>\n",
       "      <td>0</td>\n",
       "      <td>5</td>\n",
       "    </tr>\n",
       "    <tr>\n",
       "      <th>1905</th>\n",
       "      <td>1</td>\n",
       "      <td>4</td>\n",
       "    </tr>\n",
       "  </tbody>\n",
       "</table>\n",
       "</div>"
      ],
      "text/plain": [
       "gender  female  male\n",
       "year                \n",
       "1901         0     6\n",
       "1902         0     7\n",
       "1903         1     6\n",
       "1904         0     5\n",
       "1905         1     4"
      ]
     },
     "execution_count": 30,
     "metadata": {},
     "output_type": "execute_result"
    }
   ],
   "source": [
    "gender_unstack = gender_size.unstack(fill_value=0)\n",
    "gender_unstack.head()"
   ]
  },
  {
   "cell_type": "code",
   "execution_count": 34,
   "metadata": {},
   "outputs": [],
   "source": [
    "# Add a column for the total number of laureates\n",
    "gender_unstack['total'] = gender_unstack.sum(axis=1)"
   ]
  },
  {
   "cell_type": "code",
   "execution_count": 39,
   "metadata": {},
   "outputs": [
    {
     "data": {
      "text/html": [
       "<div>\n",
       "<style scoped>\n",
       "    .dataframe tbody tr th:only-of-type {\n",
       "        vertical-align: middle;\n",
       "    }\n",
       "\n",
       "    .dataframe tbody tr th {\n",
       "        vertical-align: top;\n",
       "    }\n",
       "\n",
       "    .dataframe thead th {\n",
       "        text-align: right;\n",
       "    }\n",
       "</style>\n",
       "<table border=\"1\" class=\"dataframe\">\n",
       "  <thead>\n",
       "    <tr style=\"text-align: right;\">\n",
       "      <th>gender</th>\n",
       "      <th>female</th>\n",
       "      <th>male</th>\n",
       "      <th>total</th>\n",
       "    </tr>\n",
       "    <tr>\n",
       "      <th>year</th>\n",
       "      <th></th>\n",
       "      <th></th>\n",
       "      <th></th>\n",
       "    </tr>\n",
       "  </thead>\n",
       "  <tbody>\n",
       "    <tr>\n",
       "      <th>1901</th>\n",
       "      <td>0</td>\n",
       "      <td>6</td>\n",
       "      <td>6</td>\n",
       "    </tr>\n",
       "    <tr>\n",
       "      <th>1902</th>\n",
       "      <td>0</td>\n",
       "      <td>7</td>\n",
       "      <td>7</td>\n",
       "    </tr>\n",
       "    <tr>\n",
       "      <th>1903</th>\n",
       "      <td>1</td>\n",
       "      <td>6</td>\n",
       "      <td>7</td>\n",
       "    </tr>\n",
       "    <tr>\n",
       "      <th>1904</th>\n",
       "      <td>0</td>\n",
       "      <td>5</td>\n",
       "      <td>5</td>\n",
       "    </tr>\n",
       "    <tr>\n",
       "      <th>1905</th>\n",
       "      <td>1</td>\n",
       "      <td>4</td>\n",
       "      <td>5</td>\n",
       "    </tr>\n",
       "  </tbody>\n",
       "</table>\n",
       "</div>"
      ],
      "text/plain": [
       "gender  female  male  total\n",
       "year                       \n",
       "1901         0     6      6\n",
       "1902         0     7      7\n",
       "1903         1     6      7\n",
       "1904         0     5      5\n",
       "1905         1     4      5"
      ]
     },
     "execution_count": 39,
     "metadata": {},
     "output_type": "execute_result"
    }
   ],
   "source": [
    "gender_unstack.head()"
   ]
  },
  {
   "cell_type": "code",
   "execution_count": 42,
   "metadata": {},
   "outputs": [],
   "source": [
    "# Add a new column for the percentage of winners which are male per year\n",
    "gender_unstack[\"male_percentage\"] = gender_unstack[\"male\"] / gender_unstack[\"total\"]\n",
    "gender_unstack[\"female_percentage\"] = gender_unstack[\"female\"] / gender_unstack[\"total\"]"
   ]
  },
  {
   "cell_type": "code",
   "execution_count": 47,
   "metadata": {},
   "outputs": [],
   "source": [
    "gender_unstack.sort_index(inplace=True)"
   ]
  },
  {
   "cell_type": "code",
   "execution_count": 48,
   "metadata": {},
   "outputs": [
    {
     "data": {
      "text/html": [
       "<div>\n",
       "<style scoped>\n",
       "    .dataframe tbody tr th:only-of-type {\n",
       "        vertical-align: middle;\n",
       "    }\n",
       "\n",
       "    .dataframe tbody tr th {\n",
       "        vertical-align: top;\n",
       "    }\n",
       "\n",
       "    .dataframe thead th {\n",
       "        text-align: right;\n",
       "    }\n",
       "</style>\n",
       "<table border=\"1\" class=\"dataframe\">\n",
       "  <thead>\n",
       "    <tr style=\"text-align: right;\">\n",
       "      <th>gender</th>\n",
       "      <th>female</th>\n",
       "      <th>male</th>\n",
       "      <th>total</th>\n",
       "      <th>male_percentage</th>\n",
       "      <th>female_percentage</th>\n",
       "    </tr>\n",
       "    <tr>\n",
       "      <th>year</th>\n",
       "      <th></th>\n",
       "      <th></th>\n",
       "      <th></th>\n",
       "      <th></th>\n",
       "      <th></th>\n",
       "    </tr>\n",
       "  </thead>\n",
       "  <tbody>\n",
       "    <tr>\n",
       "      <th>1901</th>\n",
       "      <td>0</td>\n",
       "      <td>6</td>\n",
       "      <td>6</td>\n",
       "      <td>1.000000</td>\n",
       "      <td>0.000000</td>\n",
       "    </tr>\n",
       "    <tr>\n",
       "      <th>1902</th>\n",
       "      <td>0</td>\n",
       "      <td>7</td>\n",
       "      <td>7</td>\n",
       "      <td>1.000000</td>\n",
       "      <td>0.000000</td>\n",
       "    </tr>\n",
       "    <tr>\n",
       "      <th>1903</th>\n",
       "      <td>1</td>\n",
       "      <td>6</td>\n",
       "      <td>7</td>\n",
       "      <td>0.857143</td>\n",
       "      <td>0.142857</td>\n",
       "    </tr>\n",
       "    <tr>\n",
       "      <th>1904</th>\n",
       "      <td>0</td>\n",
       "      <td>5</td>\n",
       "      <td>5</td>\n",
       "      <td>1.000000</td>\n",
       "      <td>0.000000</td>\n",
       "    </tr>\n",
       "    <tr>\n",
       "      <th>1905</th>\n",
       "      <td>1</td>\n",
       "      <td>4</td>\n",
       "      <td>5</td>\n",
       "      <td>0.800000</td>\n",
       "      <td>0.200000</td>\n",
       "    </tr>\n",
       "  </tbody>\n",
       "</table>\n",
       "</div>"
      ],
      "text/plain": [
       "gender  female  male  total  male_percentage  female_percentage\n",
       "year                                                           \n",
       "1901         0     6      6         1.000000           0.000000\n",
       "1902         0     7      7         1.000000           0.000000\n",
       "1903         1     6      7         0.857143           0.142857\n",
       "1904         0     5      5         1.000000           0.000000\n",
       "1905         1     4      5         0.800000           0.200000"
      ]
     },
     "execution_count": 48,
     "metadata": {},
     "output_type": "execute_result"
    }
   ],
   "source": [
    "gender_unstack.head()"
   ]
  },
  {
   "cell_type": "code",
   "execution_count": 60,
   "metadata": {},
   "outputs": [
    {
     "data": {
      "image/png": "[encoded data removed]",
      "text/plain": [
       "<Figure size 1000x600 with 1 Axes>"
      ]
     },
     "metadata": {},
     "output_type": "display_data"
    }
   ],
   "source": [
    "# Plot the percentage\n",
    "plt.figure(figsize=(10, 6))\n",
    "plt.bar(gender_unstack.index, gender_unstack['female_percentage'], label='Female %')\n",
    "plt.bar(gender_unstack.index, gender_unstack['male_percentage'], bottom=gender_unstack['female_percentage'], label='Male %')\n",
    "\n",
    "plt.xlabel('Year')\n",
    "plt.ylabel('Percentage')\n",
    "plt.title('Gender of prize winners by year')\n",
    "plt.legend(loc='upper left')\n",
    "\n",
    "plt.show()"
   ]
  },
  {
   "cell_type": "code",
   "execution_count": 61,
   "metadata": {},
   "outputs": [
    {
     "data": {
      "image/png": "[encoded data removed]",
      "text/plain": [
       "<Figure size 1000x600 with 1 Axes>"
      ]
     },
     "metadata": {},
     "output_type": "display_data"
    }
   ],
   "source": [
    "# Plot the percentage\n",
    "plt.figure(figsize=(10, 6))\n",
    "plt.bar(gender_unstack.index, gender_unstack['female'], label='Female winners')\n",
    "\n",
    "plt.xlabel('Year')\n",
    "plt.ylabel('Percentage')\n",
    "plt.title('Number of female prize winners by year')\n",
    "plt.legend(loc='upper left')\n",
    "\n",
    "plt.show()"
   ]
  },
  {
   "cell_type": "code",
   "execution_count": 76,
   "metadata": {},
   "outputs": [],
   "source": [
    "female_winners = df[df['gender'] == \"female\"]"
   ]
  },
  {
   "cell_type": "code",
   "execution_count": 108,
   "metadata": {},
   "outputs": [],
   "source": [
    "# Save the gemale_winners data to a CSV file\n",
    "file_path = 'data/female-winners.csv'\n",
    "female_winners.to_csv(file_path, index=False)"
   ]
  },
  {
   "cell_type": "code",
   "execution_count": 86,
   "metadata": {},
   "outputs": [
    {
     "data": {
      "text/plain": [
       "<Axes: title={'center': 'Female prizes by category'}, xlabel='category'>"
      ]
     },
     "execution_count": 86,
     "metadata": {},
     "output_type": "execute_result"
    },
    {
     "data": {
      "image/png": "[encoded data removed]",
      "text/plain": [
       "<Figure size 1000x600 with 1 Axes>"
      ]
     },
     "metadata": {},
     "output_type": "display_data"
    }
   ],
   "source": [
    "female_winners.groupby('category').size().sort_values(ascending=True).plot(kind='bar', figsize=(10, 6), title='Female prizes by category')"
   ]
  },
  {
   "cell_type": "code",
   "execution_count": 87,
   "metadata": {},
   "outputs": [
    {
     "data": {
      "text/plain": [
       "<Axes: title={'center': 'Male prizes by category'}, xlabel='category'>"
      ]
     },
     "execution_count": 87,
     "metadata": {},
     "output_type": "execute_result"
    },
    {
     "data": {
      "image/png": "[encoded data removed]",
      "text/plain": [
       "<Figure size 1000x600 with 1 Axes>"
      ]
     },
     "metadata": {},
     "output_type": "display_data"
    }
   ],
   "source": [
    "df[df['gender'] == \"male\"].groupby('category').size().sort_values(ascending=True).plot(kind='bar', figsize=(10, 6), title='Male prizes by category')"
   ]
  },
  {
   "cell_type": "code",
   "execution_count": 92,
   "metadata": {},
   "outputs": [],
   "source": [
    "# Group by 'gender' and 'category' and calculate the sum\n",
    "category_grouped = df.groupby(['gender', 'category']).size().unstack(fill_value=0)"
   ]
  },
  {
   "cell_type": "code",
   "execution_count": 93,
   "metadata": {},
   "outputs": [
    {
     "data": {
      "text/html": [
       "<div>\n",
       "<style scoped>\n",
       "    .dataframe tbody tr th:only-of-type {\n",
       "        vertical-align: middle;\n",
       "    }\n",
       "\n",
       "    .dataframe tbody tr th {\n",
       "        vertical-align: top;\n",
       "    }\n",
       "\n",
       "    .dataframe thead th {\n",
       "        text-align: right;\n",
       "    }\n",
       "</style>\n",
       "<table border=\"1\" class=\"dataframe\">\n",
       "  <thead>\n",
       "    <tr style=\"text-align: right;\">\n",
       "      <th>category</th>\n",
       "      <th>Chemistry</th>\n",
       "      <th>Economic Sciences</th>\n",
       "      <th>Literature</th>\n",
       "      <th>Peace</th>\n",
       "      <th>Physics</th>\n",
       "      <th>Physiology or Medicine</th>\n",
       "    </tr>\n",
       "    <tr>\n",
       "      <th>gender</th>\n",
       "      <th></th>\n",
       "      <th></th>\n",
       "      <th></th>\n",
       "      <th></th>\n",
       "      <th></th>\n",
       "      <th></th>\n",
       "    </tr>\n",
       "  </thead>\n",
       "  <tbody>\n",
       "    <tr>\n",
       "      <th>female</th>\n",
       "      <td>8</td>\n",
       "      <td>3</td>\n",
       "      <td>17</td>\n",
       "      <td>19</td>\n",
       "      <td>5</td>\n",
       "      <td>13</td>\n",
       "    </tr>\n",
       "    <tr>\n",
       "      <th>male</th>\n",
       "      <td>186</td>\n",
       "      <td>90</td>\n",
       "      <td>103</td>\n",
       "      <td>92</td>\n",
       "      <td>220</td>\n",
       "      <td>214</td>\n",
       "    </tr>\n",
       "  </tbody>\n",
       "</table>\n",
       "</div>"
      ],
      "text/plain": [
       "category  Chemistry  Economic Sciences  Literature  Peace  Physics  \\\n",
       "gender                                                               \n",
       "female            8                  3          17     19        5   \n",
       "male            186                 90         103     92      220   \n",
       "\n",
       "category  Physiology or Medicine  \n",
       "gender                            \n",
       "female                        13  \n",
       "male                         214  "
      ]
     },
     "execution_count": 93,
     "metadata": {},
     "output_type": "execute_result"
    }
   ],
   "source": [
    "category_grouped.head()"
   ]
  },
  {
   "cell_type": "code",
   "execution_count": 94,
   "metadata": {},
   "outputs": [],
   "source": [
    "# Create an array with the positions of the bars on the x axis\n",
    "x = np.arange(len(category_grouped.columns))"
   ]
  },
  {
   "cell_type": "code",
   "execution_count": 107,
   "metadata": {},
   "outputs": [
    {
     "data": {
      "image/png": "[encoded data removed]",
      "text/plain": [
       "<Figure size 1000x600 with 1 Axes>"
      ]
     },
     "metadata": {},
     "output_type": "display_data"
    }
   ],
   "source": [
    "plt.figure(figsize=(10, 6))\n",
    "# Plot the 'male' bars\n",
    "plt.bar(x - 0.2, category_grouped.loc['male'], width=0.4, label='Male')\n",
    "# Plot the 'female' bars\n",
    "plt.bar(x + 0.2, category_grouped.loc['female'], width=0.4, label='Female')\n",
    "# Replace the x ticks with the category names\n",
    "plt.xticks(x, category_grouped.columns, rotation=45, ha='right')\n",
    "\n",
    "plt.xlabel('Award category')\n",
    "plt.ylabel('Number of winners')\n",
    "plt.title('Number of winners per category by gender')\n",
    "plt.legend(loc='upper left')\n",
    "\n",
    "plt.show()"
   ]
  },
  {
   "cell_type": "code",
   "execution_count": null,
   "metadata": {},
   "outputs": [],
   "source": []
  }
 ],
 "metadata": {
  "kernelspec": {
   "display_name": "nobels-environment",
   "language": "python",
   "name": "python3"
  },
  "language_info": {
   "codemirror_mode": {
    "name": "ipython",
    "version": 3
   },
   "file_extension": ".py",
   "mimetype": "text/x-python",
   "name": "python",
   "nbconvert_exporter": "python",
   "pygments_lexer": "ipython3",
   "version": "3.12.3"
  }
 },
 "nbformat": 4,
 "nbformat_minor": 2
}
