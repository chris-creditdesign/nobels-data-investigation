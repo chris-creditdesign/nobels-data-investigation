{
 "cells": [
  {
   "cell_type": "markdown",
   "metadata": {},
   "source": [
    "# Determine if any Nobel prize winners have been born in Egypt"
   ]
  },
  {
   "cell_type": "code",
   "execution_count": 16,
   "metadata": {},
   "outputs": [],
   "source": [
    "import json"
   ]
  },
  {
   "cell_type": "code",
   "execution_count": 17,
   "metadata": {},
   "outputs": [],
   "source": [
    "file_path = \"data/laureates-1000.json\"\n",
    "\n",
    "with open(file_path, 'r') as file:\n",
    "    data = json.load(file)\n",
    "\n",
    "laureates = data['laureates']"
   ]
  },
  {
   "cell_type": "code",
   "execution_count": 18,
   "metadata": {},
   "outputs": [
    {
     "data": {
      "text/plain": [
       "{'city': {'en': 'Montclair, NJ', 'no': 'Montclair, NJ', 'se': 'Montclair, NJ'},\n",
       " 'country': {'en': 'USA', 'no': 'USA', 'se': 'USA'},\n",
       " 'cityNow': {'en': 'Montclair, NJ',\n",
       "  'no': 'Montclair, NJ',\n",
       "  'se': 'Montclair, NJ',\n",
       "  'sameAs': ['https://www.wikidata.org/wiki/Q678437',\n",
       "   'https://www.wikipedia.org/wiki/Montclair,_New_Jersey'],\n",
       "  'latitude': '40.825930',\n",
       "  'longitude': '-74.209030'},\n",
       " 'countryNow': {'en': 'USA',\n",
       "  'no': 'USA',\n",
       "  'se': 'USA',\n",
       "  'sameAs': ['https://www.wikidata.org/wiki/Q30'],\n",
       "  'latitude': '39.828175',\n",
       "  'longitude': '-98.579500'},\n",
       " 'continent': {'en': 'North America',\n",
       "  'no': 'Nord-Amerika',\n",
       "  'se': 'Nordamerika'},\n",
       " 'locationString': {'en': 'Montclair, NJ, USA',\n",
       "  'no': 'Montclair, NJ, USA',\n",
       "  'se': 'Montclair, NJ, USA'}}"
      ]
     },
     "execution_count": 18,
     "metadata": {},
     "output_type": "execute_result"
    }
   ],
   "source": [
    "laureates[0]['birth']['place']"
   ]
  },
  {
   "cell_type": "markdown",
   "metadata": {},
   "source": []
  },
  {
   "cell_type": "code",
   "execution_count": 19,
   "metadata": {},
   "outputs": [],
   "source": [
    "data_country = []\n",
    "data_country_now = []\n",
    "\n",
    "for laureate in laureates:\n",
    "    # NAME\n",
    "    name = laureate.get('knownName', {}).get('en', 'Unknown')\n",
    "    birth_country = laureate.get('birth', {}).get('place', {}).get('country', {}).get('en', 'Unknown')\n",
    "    birth_country_now = laureate.get('birth', {}).get('place', {}).get('countryNow', {}).get('en', 'Unknown')\n",
    "\n",
    "    data_country.append(birth_country)\n",
    "    data_country_now.append(birth_country_now)"
   ]
  },
  {
   "cell_type": "code",
   "execution_count": 20,
   "metadata": {},
   "outputs": [
    {
     "name": "stdout",
     "output_type": "stream",
     "text": [
      "Mecklenburg: 1\n",
      "Poland: 9\n",
      "Romania: 4\n",
      "Gold Coast: 1\n",
      "Peru: 1\n",
      "Scotland: 11\n",
      "USSR: 7\n",
      "Ethiopia: 1\n",
      "Unknown: 28\n",
      "USA: 289\n",
      "Argentina: 4\n",
      "French protectorate of Tunisia: 1\n",
      "Tibet: 1\n",
      "Iceland: 1\n",
      "Taiwan: 1\n",
      "Nigeria: 1\n",
      "Lithuania: 1\n",
      "Guatemala: 2\n",
      "Cyprus: 1\n",
      "Faroe Islands (Denmark): 1\n",
      "the Netherlands: 19\n",
      "Liberia: 2\n",
      "Schleswig: 2\n",
      "Philippines: 1\n",
      "Australia: 10\n",
      "Lebanon: 1\n",
      "Java, Dutch East Indies: 1\n",
      "Hesse-Kassel: 1\n",
      "Denmark: 12\n",
      "Norway: 13\n",
      "Hungary: 9\n",
      "British West Indies: 1\n",
      "Guadeloupe Island: 1\n",
      "East Timor: 2\n",
      "Mexico: 3\n",
      "Colombia: 2\n",
      "New Zealand: 3\n",
      "Venezuela: 1\n",
      "Morocco: 1\n",
      "Saint Lucia: 1\n",
      "Belgian Congo: 1\n",
      "French Algeria: 2\n",
      "German-occupied Poland: 1\n",
      "Bosnia: 1\n",
      "Kenya: 1\n",
      "Egypt: 6\n",
      "Pakistan: 1\n",
      "Germany: 80\n",
      "Madagascar: 1\n",
      "Brazil: 1\n",
      "Northern Ireland: 5\n",
      "Russia: 18\n",
      "Württemberg: 1\n",
      "Vietnam: 1\n",
      "Southern Rhodesia: 1\n",
      "East Friesland: 1\n",
      "Crete: 1\n",
      "Switzerland: 19\n",
      "South Africa: 9\n",
      "Sweden: 30\n",
      "Portugal: 2\n",
      "Ukraine: 1\n",
      "Bavaria: 1\n",
      "West Germany: 5\n",
      "British Mandate of Palestine: 5\n",
      "Free City of Danzig: 1\n",
      "Burma: 1\n",
      "Bulgaria: 1\n",
      "China: 11\n",
      "Italy: 18\n",
      "Iraq: 1\n",
      "India: 10\n",
      "British Protectorate of Palestine: 1\n",
      "Costa Rica: 1\n",
      "Iran: 2\n",
      "Tuscany: 1\n",
      "Yemen: 1\n",
      "France: 58\n",
      "Spain: 7\n",
      "Korea: 2\n",
      "Czechoslovakia: 1\n",
      "Austria: 16\n",
      "Prussia: 13\n",
      "Finland: 2\n",
      "Austria-Hungary: 13\n",
      "Luxembourg: 2\n",
      "British India: 2\n",
      "Austrian Empire: 4\n",
      "Canada: 21\n",
      "Turkey: 2\n",
      "Ireland: 5\n",
      "Persia: 1\n",
      "Japan: 28\n",
      "Belgium: 9\n",
      "Chile: 2\n",
      "Trinidad and Tobago: 1\n",
      "Ottoman Empire: 2\n",
      "United Kingdom: 89\n",
      "Russian Empire: 16\n"
     ]
    }
   ],
   "source": [
    "unique_countries = list(set(data_country))\n",
    "\n",
    "for country in unique_countries:\n",
    "    print(f\"{country}: {data_country.count(country)}\")\n"
   ]
  },
  {
   "cell_type": "code",
   "execution_count": 22,
   "metadata": {},
   "outputs": [
    {
     "name": "stdout",
     "output_type": "stream",
     "text": [
      "North Macedonia: 1\n",
      "Poland: 28\n",
      "Romania: 4\n",
      "Peru: 1\n",
      "Scotland: 11\n",
      "Ethiopia: 1\n",
      "Unknown: 28\n",
      "USA: 289\n",
      "Argentina: 4\n",
      "Taiwan: 1\n",
      "Iceland: 1\n",
      "Nigeria: 1\n",
      "Lithuania: 3\n",
      "Guatemala: 2\n",
      "Myanmar: 1\n",
      "Cyprus: 1\n",
      "Faroe Islands (Denmark): 1\n",
      "Greece: 1\n",
      "the Netherlands: 19\n",
      "Liberia: 2\n",
      "Philippines: 1\n",
      "Australia: 10\n",
      "Lebanon: 1\n",
      "Denmark: 12\n",
      "Norway: 13\n",
      "Hungary: 11\n",
      "Guadeloupe Island: 1\n",
      "East Timor: 2\n",
      "Mexico: 3\n",
      "Colombia: 2\n",
      "New Zealand: 3\n",
      "South Korea: 2\n",
      "Venezuela: 1\n",
      "Azerbaijan: 1\n",
      "Morocco: 1\n",
      "Saint Lucia: 2\n",
      "Indonesia: 1\n",
      "Kenya: 1\n",
      "Egypt: 6\n",
      "Pakistan: 3\n",
      "Germany: 84\n",
      "Madagascar: 1\n",
      "Brazil: 1\n",
      "Northern Ireland: 5\n",
      "Russia: 29\n",
      "Vietnam: 1\n",
      "Israel: 6\n",
      "Slovenia: 1\n",
      "Slovakia: 1\n",
      "Switzerland: 19\n",
      "South Africa: 9\n",
      "Sweden: 30\n",
      "Portugal: 2\n",
      "Ukraine: 5\n",
      "Bosnia and Herzegovina: 2\n",
      "Ghana: 1\n",
      "Bulgaria: 1\n",
      "China: 12\n",
      "Italy: 20\n",
      "Iraq: 1\n",
      "India: 9\n",
      "Belarus: 4\n",
      "Costa Rica: 1\n",
      "Latvia: 1\n",
      "Tunisia: 1\n",
      "Iran: 3\n",
      "Democratic Republic of the Congo: 1\n",
      "Yemen: 1\n",
      "France: 61\n",
      "Spain: 7\n",
      "Czech Republic: 6\n",
      "Zimbabwe: 1\n",
      "Austria: 19\n",
      "Bangladesh: 1\n",
      "Croatia: 1\n",
      "Finland: 5\n",
      "Luxembourg: 2\n",
      "Algeria: 2\n",
      "Canada: 21\n",
      "Turkey: 3\n",
      "Ireland: 5\n",
      "Japan: 28\n",
      "Belgium: 9\n",
      "Chile: 2\n",
      "Trinidad and Tobago: 1\n",
      "United Kingdom: 89\n"
     ]
    }
   ],
   "source": [
    "unique_countries_now = list(set(data_country_now))\n",
    "\n",
    "for country in unique_countries_now:\n",
    "    print(f\"{country}: {data_country_now.count(country)}\")"
   ]
  },
  {
   "cell_type": "code",
   "execution_count": 23,
   "metadata": {},
   "outputs": [
    {
     "data": {
      "text/plain": [
       "True"
      ]
     },
     "execution_count": 23,
     "metadata": {},
     "output_type": "execute_result"
    }
   ],
   "source": [
    "'Egypt' in data_country"
   ]
  },
  {
   "cell_type": "code",
   "execution_count": 37,
   "metadata": {},
   "outputs": [],
   "source": [
    "data = []\n",
    "\n",
    "for laureate in laureates:\n",
    "    # NAME\n",
    "    name = laureate.get('knownName', {}).get('en', 'Unknown')\n",
    "    birth_country = laureate.get('birth', {}).get('place', {}).get('country', {}).get('en', 'Unknown')\n",
    "    birth_country_now = laureate.get('birth', {}).get('place', {}).get('countryNow', {}).get('en', 'Unknown')\n",
    "\n",
    "    my_dict = {\n",
    "        'name': name,\n",
    "        'birth_country': birth_country,\n",
    "        'birth_country_now': birth_country_now,\n",
    "        'prizes': []\n",
    "    }\n",
    "\n",
    "    nobelPrizes = laureate.get('nobelPrizes', [])\n",
    "    for prize in nobelPrizes:\n",
    "        year = prize.get('awardYear', 'Unknown')\n",
    "        category = prize.get('category', {}).get('en', 'Unknown')\n",
    "        my_dict['prizes'].append({\n",
    "            'year': year,\n",
    "            'category': category\n",
    "        })\n",
    "    \n",
    "    data.append(my_dict)\n"
   ]
  },
  {
   "cell_type": "code",
   "execution_count": 26,
   "metadata": {},
   "outputs": [
    {
     "data": {
      "text/plain": [
       "{'name': 'A. Michael Spence',\n",
       " 'birth_country': 'USA',\n",
       " 'prizes': [{'year': '2001', 'category': 'Economic Sciences'}]}"
      ]
     },
     "execution_count": 26,
     "metadata": {},
     "output_type": "execute_result"
    }
   ],
   "source": [
    "data[0]"
   ]
  },
  {
   "cell_type": "code",
   "execution_count": 31,
   "metadata": {},
   "outputs": [],
   "source": [
    "turkey_entries = [entry for entry in data if entry['birth_country'] == 'Turkey']"
   ]
  },
  {
   "cell_type": "code",
   "execution_count": 33,
   "metadata": {},
   "outputs": [
    {
     "name": "stdout",
     "output_type": "stream",
     "text": [
      "Aziz Sancar\n",
      "  - Chemistry in 2015\n",
      "Orhan Pamuk\n",
      "  - Literature in 2006\n"
     ]
    }
   ],
   "source": [
    "for entry in turkey_entries:\n",
    "    print(f\"{entry['name']}\")\n",
    "    for prize in entry['prizes']:\n",
    "        print(f\"  - {prize['category']} in {prize['year']}\")"
   ]
  },
  {
   "cell_type": "code",
   "execution_count": 34,
   "metadata": {},
   "outputs": [],
   "source": [
    "ottoman_entries = [entry for entry in data if entry['birth_country'] == 'Ottoman Empire']"
   ]
  },
  {
   "cell_type": "code",
   "execution_count": 35,
   "metadata": {},
   "outputs": [
    {
     "name": "stdout",
     "output_type": "stream",
     "text": [
      "Giorgos Seferis\n",
      "  - Literature in 1963\n",
      "Mother Teresa\n",
      "  - Peace in 1979\n"
     ]
    }
   ],
   "source": [
    "for entry in ottoman_entries:\n",
    "    print(f\"{entry['name']}\")\n",
    "    for prize in entry['prizes']:\n",
    "        print(f\"  - {prize['category']} in {prize['year']}\")"
   ]
  },
  {
   "cell_type": "code",
   "execution_count": 38,
   "metadata": {},
   "outputs": [],
   "source": [
    "turkey_entries = [entry for entry in data if entry['birth_country_now'] == 'Turkey']"
   ]
  },
  {
   "cell_type": "code",
   "execution_count": 39,
   "metadata": {},
   "outputs": [
    {
     "name": "stdout",
     "output_type": "stream",
     "text": [
      "[\n",
      "  {\n",
      "    \"name\": \"Aziz Sancar\",\n",
      "    \"birth_country\": \"Turkey\",\n",
      "    \"birth_country_now\": \"Turkey\",\n",
      "    \"prizes\": [\n",
      "      {\n",
      "        \"year\": \"2015\",\n",
      "        \"category\": \"Chemistry\"\n",
      "      }\n",
      "    ]\n",
      "  },\n",
      "  {\n",
      "    \"name\": \"Giorgos Seferis\",\n",
      "    \"birth_country\": \"Ottoman Empire\",\n",
      "    \"birth_country_now\": \"Turkey\",\n",
      "    \"prizes\": [\n",
      "      {\n",
      "        \"year\": \"1963\",\n",
      "        \"category\": \"Literature\"\n",
      "      }\n",
      "    ]\n",
      "  },\n",
      "  {\n",
      "    \"name\": \"Orhan Pamuk\",\n",
      "    \"birth_country\": \"Turkey\",\n",
      "    \"birth_country_now\": \"Turkey\",\n",
      "    \"prizes\": [\n",
      "      {\n",
      "        \"year\": \"2006\",\n",
      "        \"category\": \"Literature\"\n",
      "      }\n",
      "    ]\n",
      "  }\n",
      "]\n"
     ]
    }
   ],
   "source": [
    "print(json.dumps(turkey_entries, indent=2))"
   ]
  },
  {
   "cell_type": "code",
   "execution_count": null,
   "metadata": {},
   "outputs": [],
   "source": []
  }
 ],
 "metadata": {
  "kernelspec": {
   "display_name": "python-environment",
   "language": "python",
   "name": "python3"
  },
  "language_info": {
   "codemirror_mode": {
    "name": "ipython",
    "version": 3
   },
   "file_extension": ".py",
   "mimetype": "text/x-python",
   "name": "python",
   "nbconvert_exporter": "python",
   "pygments_lexer": "ipython3",
   "version": "3.12.4"
  }
 },
 "nbformat": 4,
 "nbformat_minor": 2
}
