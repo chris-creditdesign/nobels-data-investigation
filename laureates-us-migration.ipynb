{
 "cells": [
  {
   "cell_type": "markdown",
   "metadata": {},
   "source": [
    "# Number of laureates who receive their award in the US who where born elsewhere"
   ]
  },
  {
   "cell_type": "code",
   "execution_count": 1,
   "metadata": {},
   "outputs": [],
   "source": [
    "import json\n",
    "import pandas as pd"
   ]
  },
  {
   "cell_type": "code",
   "execution_count": 5,
   "metadata": {},
   "outputs": [],
   "source": [
    "file_path = \"data/laureates-2024.json\"\n",
    "\n",
    "with open(file_path, 'r') as file:\n",
    "    laureates = json.load(file)"
   ]
  },
  {
   "cell_type": "code",
   "execution_count": 9,
   "metadata": {},
   "outputs": [
    {
     "name": "stdout",
     "output_type": "stream",
     "text": [
      "Number of laureates: 1004\n"
     ]
    }
   ],
   "source": [
    "# 1. How many laureates are there in the dataset?\n",
    "# Prior to the 2024 awards, there were 992 laureates listed.\n",
    "print(f\"Number of laureates: {len(laureates)}\")"
   ]
  },
  {
   "cell_type": "code",
   "execution_count": null,
   "metadata": {},
   "outputs": [
    {
     "name": "stdout",
     "output_type": "stream",
     "text": [
      "USA\n"
     ]
    }
   ],
   "source": [
    "# Birth country\n",
    "print(laureates[0][\"birth\"][\"place\"][\"country\"][\"en\"])"
   ]
  },
  {
   "cell_type": "code",
   "execution_count": 17,
   "metadata": {},
   "outputs": [
    {
     "name": "stdout",
     "output_type": "stream",
     "text": [
      "USA\n"
     ]
    }
   ],
   "source": [
    "# Birth country now\n",
    "print(laureates[0][\"birth\"][\"place\"][\"countryNow\"][\"en\"])"
   ]
  },
  {
   "cell_type": "code",
   "execution_count": 19,
   "metadata": {},
   "outputs": [
    {
     "name": "stdout",
     "output_type": "stream",
     "text": [
      "[\n",
      "  {\n",
      "    \"awardYear\": \"2001\",\n",
      "    \"category\": {\n",
      "      \"en\": \"Economic Sciences\",\n",
      "      \"no\": \"\\u00d8konomi\",\n",
      "      \"se\": \"Ekonomi\"\n",
      "    },\n",
      "    \"categoryFullName\": {\n",
      "      \"en\": \"The Sveriges Riksbank Prize in Economic Sciences in Memory of Alfred Nobel\",\n",
      "      \"no\": \"Sveriges Riksbanks pris i \\u00f8konomisk vitenskap til minne om Alfred Nobel\",\n",
      "      \"se\": \"Sveriges Riksbanks pris i ekonomisk vetenskap till Alfred Nobels minne\"\n",
      "    },\n",
      "    \"sortOrder\": \"2\",\n",
      "    \"portion\": \"1/3\",\n",
      "    \"dateAwarded\": \"2001-10-10\",\n",
      "    \"prizeStatus\": \"received\",\n",
      "    \"motivation\": {\n",
      "      \"en\": \"for their analyses of markets with asymmetric information\",\n",
      "      \"se\": \"f\\u00f6r deras analys av marknader med assymetrisk informations\"\n",
      "    },\n",
      "    \"prizeAmount\": 10000000,\n",
      "    \"prizeAmountAdjusted\": 13927869,\n",
      "    \"affiliations\": [\n",
      "      {\n",
      "        \"name\": {\n",
      "          \"en\": \"Stanford University\",\n",
      "          \"no\": \"Stanford University\",\n",
      "          \"se\": \"Stanford University\"\n",
      "        },\n",
      "        \"nameNow\": {\n",
      "          \"en\": \"Stanford University\"\n",
      "        },\n",
      "        \"city\": {\n",
      "          \"en\": \"Stanford, CA\",\n",
      "          \"no\": \"Stanford, CA\",\n",
      "          \"se\": \"Stanford, CA\"\n",
      "        },\n",
      "        \"country\": {\n",
      "          \"en\": \"USA\",\n",
      "          \"no\": \"USA\",\n",
      "          \"se\": \"USA\"\n",
      "        },\n",
      "        \"cityNow\": {\n",
      "          \"en\": \"Stanford, CA\",\n",
      "          \"no\": \"Stanford, CA\",\n",
      "          \"se\": \"Stanford, CA\",\n",
      "          \"sameAs\": [\n",
      "            \"https://www.wikidata.org/wiki/Q173813\",\n",
      "            \"https://www.wikipedia.org/wiki/Stanford,_California\"\n",
      "          ],\n",
      "          \"latitude\": \"37.424734\",\n",
      "          \"longitude\": \"-122.163858\"\n",
      "        },\n",
      "        \"countryNow\": {\n",
      "          \"en\": \"USA\",\n",
      "          \"no\": \"USA\",\n",
      "          \"se\": \"USA\",\n",
      "          \"sameAs\": [\n",
      "            \"https://www.wikidata.org/wiki/Q30\"\n",
      "          ],\n",
      "          \"latitude\": \"39.828175\",\n",
      "          \"longitude\": \"-98.579500\"\n",
      "        },\n",
      "        \"continent\": {\n",
      "          \"en\": \"North America\"\n",
      "        },\n",
      "        \"locationString\": {\n",
      "          \"en\": \"Stanford, CA, USA\",\n",
      "          \"no\": \"Stanford, CA, USA\",\n",
      "          \"se\": \"Stanford, CA, USA\"\n",
      "        }\n",
      "      }\n",
      "    ],\n",
      "    \"links\": [\n",
      "      {\n",
      "        \"rel\": \"nobelPrize\",\n",
      "        \"href\": \"https://api.nobelprize.org/2/nobelPrize/eco/2001\",\n",
      "        \"action\": \"GET\",\n",
      "        \"types\": \"application/json\"\n",
      "      },\n",
      "      {\n",
      "        \"rel\": \"external\",\n",
      "        \"href\": \"https://www.nobelprize.org/prizes/economic-sciences/2001/spence/facts/\",\n",
      "        \"title\": \"A. Michael Spence - Facts\",\n",
      "        \"action\": \"GET\",\n",
      "        \"types\": \"text/html\",\n",
      "        \"class\": [\n",
      "          \"laureate facts\"\n",
      "        ]\n",
      "      },\n",
      "      {\n",
      "        \"rel\": \"external\",\n",
      "        \"href\": \"https://www.nobelprize.org/prizes/economic-sciences/2001/summary/\",\n",
      "        \"title\": \"The Sveriges Riksbank Prize in Economic Sciences in Memory of Alfred Nobel 2001\",\n",
      "        \"action\": \"GET\",\n",
      "        \"types\": \"text/html\",\n",
      "        \"class\": [\n",
      "          \"prize summary\"\n",
      "        ]\n",
      "      }\n",
      "    ]\n",
      "  }\n",
      "]\n"
     ]
    }
   ],
   "source": [
    "print(json.dumps(laureates[0][\"nobelPrizes\"], indent=2))"
   ]
  },
  {
   "cell_type": "code",
   "execution_count": 24,
   "metadata": {},
   "outputs": [
    {
     "name": "stdout",
     "output_type": "stream",
     "text": [
      "USA\n"
     ]
    }
   ],
   "source": [
    "for prize in laureates[0][\"nobelPrizes\"]:\n",
    "    # print(json.dumps(prize[\"affiliations\"], indent=2))\n",
    "    for affiliation in prize[\"affiliations\"]:\n",
    "        print(affiliation[\"country\"][\"en\"])"
   ]
  },
  {
   "cell_type": "code",
   "execution_count": 61,
   "metadata": {},
   "outputs": [
    {
     "name": "stdout",
     "output_type": "stream",
     "text": [
      "[\n",
      "  {\n",
      "    \"name\": {\n",
      "      \"en\": \"LIGO/VIRGO Collaboration\",\n",
      "      \"no\": \"LIGO/VIRGO Collaboration\",\n",
      "      \"se\": \"LIGO/VIRGO Collaboration\"\n",
      "    },\n",
      "    \"nameNow\": {\n",
      "      \"en\": \"LIGO/VIRGO Collaboration\"\n",
      "    },\n",
      "    \"locationString\": {\n",
      "      \"en\": \"\",\n",
      "      \"no\": \"\",\n",
      "      \"se\": \"\"\n",
      "    }\n",
      "  },\n",
      "  {\n",
      "    \"name\": {\n",
      "      \"en\": \"California Institute of Technology (Caltech)\",\n",
      "      \"no\": \"California Institute of Technology (Caltech)\",\n",
      "      \"se\": \"California Institute of Technology (Caltech)\"\n",
      "    },\n",
      "    \"nameNow\": {\n",
      "      \"en\": \"California Institute of Technology (Caltech)\"\n",
      "    },\n",
      "    \"city\": {\n",
      "      \"en\": \"Pasadena, CA\",\n",
      "      \"no\": \"Pasadena, CA\",\n",
      "      \"se\": \"Pasadena, CA\"\n",
      "    },\n",
      "    \"country\": {\n",
      "      \"en\": \"USA\",\n",
      "      \"no\": \"USA\",\n",
      "      \"se\": \"USA\"\n",
      "    },\n",
      "    \"cityNow\": {\n",
      "      \"en\": \"Pasadena, CA\",\n",
      "      \"no\": \"Pasadena, CA\",\n",
      "      \"se\": \"Pasadena, CA\",\n",
      "      \"sameAs\": [\n",
      "        \"https://www.wikidata.org/wiki/Q485176\",\n",
      "        \"https://www.wikipedia.org/wiki/Pasadena,_California\"\n",
      "      ],\n",
      "      \"latitude\": \"34.150071\",\n",
      "      \"longitude\": \"-118.142111\"\n",
      "    },\n",
      "    \"countryNow\": {\n",
      "      \"en\": \"USA\",\n",
      "      \"no\": \"USA\",\n",
      "      \"se\": \"USA\",\n",
      "      \"sameAs\": [\n",
      "        \"https://www.wikidata.org/wiki/Q30\"\n",
      "      ],\n",
      "      \"latitude\": \"39.828175\",\n",
      "      \"longitude\": \"-98.579500\"\n",
      "    },\n",
      "    \"continent\": {\n",
      "      \"en\": \"North America\"\n",
      "    },\n",
      "    \"locationString\": {\n",
      "      \"en\": \"Pasadena, CA, USA\",\n",
      "      \"no\": \"Pasadena, CA, USA\",\n",
      "      \"se\": \"Pasadena, CA, USA\"\n",
      "    }\n",
      "  }\n",
      "]\n"
     ]
    }
   ],
   "source": [
    "barish_raw= [laureate for laureate in laureates if laureate.get('knownName', {}).get('en') == 'Barry C. Barish']\n",
    "print(json.dumps(barish_raw[0][\"nobelPrizes\"][0]['affiliations'], indent=2))"
   ]
  },
  {
   "cell_type": "code",
   "execution_count": null,
   "metadata": {},
   "outputs": [],
   "source": [
    "data = []\n",
    "\n",
    "for laureate in laureates:\n",
    "    # NAME\n",
    "    name = laureate.get('knownName', {}).get('en', 'Unknown')\n",
    "\n",
    "    prizes = laureate.get('nobelPrizes', [])\n",
    "\n",
    "    categories = []\n",
    "    affiliation_countries = []\n",
    "\n",
    "    for prize in prizes:\n",
    "        # CATEGORY\n",
    "        category = prize.get('category', {}).get('en', \"Unknown\")\n",
    "        categories.append(category)\n",
    "\n",
    "        # AFFILIATION\n",
    "        affiliations = prize.get('affiliations', [])\n",
    "        for affiliation in affiliations:\n",
    "            country = affiliation.get('country', {}).get('en', \"Unknown\")\n",
    "            affiliation_countries.append(country)\n",
    "\n",
    "    # If the categories contains 'Literature' or 'Peace' or 'Economic Sciences' skip the laureate\n",
    "    if 'Literature' in categories or 'Peace' in categories or 'Economic Sciences' in categories:\n",
    "        continue\n",
    "\n",
    "    # If the affiliation_countries list does not contain 'USA' skip the laureate\n",
    "    if 'USA' not in affiliation_countries:\n",
    "        continue\n",
    "\n",
    "    # BIRTH PLACE\n",
    "    birth_place = laureate.get('birth', {}).get('place', {})\n",
    "    birth_country = birth_place.get('country', {}).get('en', \"Unknown\")\n",
    "    birth_country_now = birth_place.get('countryNow', {}).get('en', \"Unknown\")\n",
    "\n",
    "    data.append({\n",
    "        'name': name,\n",
    "        'birth_country': birth_country,\n",
    "        'birth_country_now': birth_country_now,\n",
    "        'category': categories,\n",
    "        'affiliation_countries': affiliation_countries\n",
    "    })"
   ]
  },
  {
   "cell_type": "code",
   "execution_count": 65,
   "metadata": {},
   "outputs": [
    {
     "name": "stdout",
     "output_type": "stream",
     "text": [
      "{\n",
      "  \"name\": \"Barry C. Barish\",\n",
      "  \"birth_country\": \"USA\",\n",
      "  \"birth_country_now\": \"USA\",\n",
      "  \"categories\": \"Physics\",\n",
      "  \"affiliation_countries\": [\n",
      "    \"Unknown\",\n",
      "    \"USA\"\n",
      "  ]\n",
      "}\n"
     ]
    }
   ],
   "source": [
    "barish_data= [laureate for laureate in data if laureate['name'] == 'Barry C. Barish']\n",
    "print(json.dumps(barish_data[0], indent=2))"
   ]
  },
  {
   "cell_type": "code",
   "execution_count": 67,
   "metadata": {},
   "outputs": [],
   "source": [
    "df = pd.DataFrame(data)"
   ]
  },
  {
   "cell_type": "code",
   "execution_count": 69,
   "metadata": {},
   "outputs": [
    {
     "data": {
      "text/html": [
       "<div>\n",
       "<style scoped>\n",
       "    .dataframe tbody tr th:only-of-type {\n",
       "        vertical-align: middle;\n",
       "    }\n",
       "\n",
       "    .dataframe tbody tr th {\n",
       "        vertical-align: top;\n",
       "    }\n",
       "\n",
       "    .dataframe thead th {\n",
       "        text-align: right;\n",
       "    }\n",
       "</style>\n",
       "<table border=\"1\" class=\"dataframe\">\n",
       "  <thead>\n",
       "    <tr style=\"text-align: right;\">\n",
       "      <th></th>\n",
       "      <th>name</th>\n",
       "      <th>birth_country</th>\n",
       "      <th>birth_country_now</th>\n",
       "      <th>category</th>\n",
       "      <th>affiliation_countries</th>\n",
       "    </tr>\n",
       "  </thead>\n",
       "  <tbody>\n",
       "    <tr>\n",
       "      <th>0</th>\n",
       "      <td>Adam G. Riess</td>\n",
       "      <td>USA</td>\n",
       "      <td>USA</td>\n",
       "      <td>[Physics]</td>\n",
       "      <td>[USA, USA]</td>\n",
       "    </tr>\n",
       "    <tr>\n",
       "      <th>1</th>\n",
       "      <td>Ahmed Zewail</td>\n",
       "      <td>Egypt</td>\n",
       "      <td>Egypt</td>\n",
       "      <td>[Chemistry]</td>\n",
       "      <td>[USA]</td>\n",
       "    </tr>\n",
       "    <tr>\n",
       "      <th>2</th>\n",
       "      <td>Alan Heeger</td>\n",
       "      <td>USA</td>\n",
       "      <td>USA</td>\n",
       "      <td>[Chemistry]</td>\n",
       "      <td>[USA]</td>\n",
       "    </tr>\n",
       "    <tr>\n",
       "      <th>3</th>\n",
       "      <td>Alan MacDiarmid</td>\n",
       "      <td>New Zealand</td>\n",
       "      <td>New Zealand</td>\n",
       "      <td>[Chemistry]</td>\n",
       "      <td>[USA]</td>\n",
       "    </tr>\n",
       "    <tr>\n",
       "      <th>4</th>\n",
       "      <td>Albert A. Michelson</td>\n",
       "      <td>Prussia</td>\n",
       "      <td>Poland</td>\n",
       "      <td>[Physics]</td>\n",
       "      <td>[USA]</td>\n",
       "    </tr>\n",
       "  </tbody>\n",
       "</table>\n",
       "</div>"
      ],
      "text/plain": [
       "                  name birth_country birth_country_now     category  \\\n",
       "0        Adam G. Riess           USA               USA    [Physics]   \n",
       "1         Ahmed Zewail         Egypt             Egypt  [Chemistry]   \n",
       "2          Alan Heeger           USA               USA  [Chemistry]   \n",
       "3      Alan MacDiarmid   New Zealand       New Zealand  [Chemistry]   \n",
       "4  Albert A. Michelson       Prussia            Poland    [Physics]   \n",
       "\n",
       "  affiliation_countries  \n",
       "0            [USA, USA]  \n",
       "1                 [USA]  \n",
       "2                 [USA]  \n",
       "3                 [USA]  \n",
       "4                 [USA]  "
      ]
     },
     "execution_count": 69,
     "metadata": {},
     "output_type": "execute_result"
    }
   ],
   "source": [
    "df.head()"
   ]
  },
  {
   "cell_type": "code",
   "execution_count": 73,
   "metadata": {},
   "outputs": [],
   "source": [
    "# Calculate the proportion of entries where birth_country_now is not 'USA'\n",
    "non_usa_birth_country_now = df[df['birth_country_now'] != 'USA']"
   ]
  },
  {
   "cell_type": "code",
   "execution_count": 75,
   "metadata": {},
   "outputs": [
    {
     "data": {
      "text/plain": [
       "113"
      ]
     },
     "execution_count": 75,
     "metadata": {},
     "output_type": "execute_result"
    }
   ],
   "source": [
    "total_non_usa_born_laureates = len(non_usa_birth_country_now)\n",
    "total_non_usa_born_laureates"
   ]
  },
  {
   "cell_type": "code",
   "execution_count": 74,
   "metadata": {},
   "outputs": [
    {
     "data": {
      "text/plain": [
       "318"
      ]
     },
     "execution_count": 74,
     "metadata": {},
     "output_type": "execute_result"
    }
   ],
   "source": [
    "total_usa_laureates = len(df)\n",
    "total_usa_laureates"
   ]
  },
  {
   "cell_type": "code",
   "execution_count": 76,
   "metadata": {},
   "outputs": [
    {
     "name": "stdout",
     "output_type": "stream",
     "text": [
      "Proportion of entries with birth_country_now not 'USA': 0.36\n"
     ]
    }
   ],
   "source": [
    "proportion_non_usa = total_non_usa_born_laureates / total_usa_laureates\n",
    "print(f\"Proportion of entries with birth_country_now not 'USA': {proportion_non_usa:.2f}\")"
   ]
  },
  {
   "cell_type": "code",
   "execution_count": 71,
   "metadata": {},
   "outputs": [
    {
     "data": {
      "text/html": [
       "<div>\n",
       "<style scoped>\n",
       "    .dataframe tbody tr th:only-of-type {\n",
       "        vertical-align: middle;\n",
       "    }\n",
       "\n",
       "    .dataframe tbody tr th {\n",
       "        vertical-align: top;\n",
       "    }\n",
       "\n",
       "    .dataframe thead th {\n",
       "        text-align: right;\n",
       "    }\n",
       "</style>\n",
       "<table border=\"1\" class=\"dataframe\">\n",
       "  <thead>\n",
       "    <tr style=\"text-align: right;\">\n",
       "      <th></th>\n",
       "      <th>name</th>\n",
       "      <th>birth_country</th>\n",
       "      <th>birth_country_now</th>\n",
       "      <th>category</th>\n",
       "      <th>affiliation_countries</th>\n",
       "    </tr>\n",
       "  </thead>\n",
       "  <tbody>\n",
       "    <tr>\n",
       "      <th>count</th>\n",
       "      <td>318</td>\n",
       "      <td>318</td>\n",
       "      <td>318</td>\n",
       "      <td>318</td>\n",
       "      <td>318</td>\n",
       "    </tr>\n",
       "    <tr>\n",
       "      <th>unique</th>\n",
       "      <td>318</td>\n",
       "      <td>38</td>\n",
       "      <td>36</td>\n",
       "      <td>5</td>\n",
       "      <td>13</td>\n",
       "    </tr>\n",
       "    <tr>\n",
       "      <th>top</th>\n",
       "      <td>Adam G. Riess</td>\n",
       "      <td>USA</td>\n",
       "      <td>USA</td>\n",
       "      <td>[Physiology or Medicine]</td>\n",
       "      <td>[USA]</td>\n",
       "    </tr>\n",
       "    <tr>\n",
       "      <th>freq</th>\n",
       "      <td>1</td>\n",
       "      <td>205</td>\n",
       "      <td>205</td>\n",
       "      <td>121</td>\n",
       "      <td>276</td>\n",
       "    </tr>\n",
       "  </tbody>\n",
       "</table>\n",
       "</div>"
      ],
      "text/plain": [
       "                 name birth_country birth_country_now  \\\n",
       "count             318           318               318   \n",
       "unique            318            38                36   \n",
       "top     Adam G. Riess           USA               USA   \n",
       "freq                1           205               205   \n",
       "\n",
       "                        category affiliation_countries  \n",
       "count                        318                   318  \n",
       "unique                         5                    13  \n",
       "top     [Physiology or Medicine]                 [USA]  \n",
       "freq                         121                   276  "
      ]
     },
     "execution_count": 71,
     "metadata": {},
     "output_type": "execute_result"
    }
   ],
   "source": [
    "df.describe()"
   ]
  },
  {
   "cell_type": "code",
   "execution_count": 72,
   "metadata": {},
   "outputs": [],
   "source": [
    "df.to_csv('data/laureates-awarded-in-usa-data.csv', index=False)"
   ]
  },
  {
   "cell_type": "code",
   "execution_count": null,
   "metadata": {},
   "outputs": [],
   "source": []
  }
 ],
 "metadata": {
  "kernelspec": {
   "display_name": "python-environment",
   "language": "python",
   "name": "python3"
  },
  "language_info": {
   "codemirror_mode": {
    "name": "ipython",
    "version": 3
   },
   "file_extension": ".py",
   "mimetype": "text/x-python",
   "name": "python",
   "nbconvert_exporter": "python",
   "pygments_lexer": "ipython3",
   "version": "3.12.4"
  }
 },
 "nbformat": 4,
 "nbformat_minor": 2
}
