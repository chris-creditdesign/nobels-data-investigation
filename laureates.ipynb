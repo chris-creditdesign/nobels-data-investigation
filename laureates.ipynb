{
 "cells": [
  {
   "cell_type": "code",
   "execution_count": 4,
   "metadata": {},
   "outputs": [],
   "source": [
    "import json\n",
    "from datetime import datetime"
   ]
  },
  {
   "cell_type": "code",
   "execution_count": 5,
   "metadata": {},
   "outputs": [],
   "source": [
    "file_path = \"data/laureates-1000.json\"\n",
    "\n",
    "with open(file_path, 'r') as file:\n",
    "    data = json.load(file)\n",
    "\n",
    "laureates = data['laureates']"
   ]
  },
  {
   "cell_type": "code",
   "execution_count": 6,
   "metadata": {},
   "outputs": [],
   "source": [
    "\"\"\"\n",
    "Calculate the age of a Nobel Prize laureate when they were awarded the prize.\n",
    "\"\"\"\n",
    "def calculate_nobel_age(birth_date: str, award_year: str) -> int:\n",
    "    # Check if the birth_date includes month and day\n",
    "    if \"-00-00\" in birth_date:\n",
    "        # Extract only the year and assume the earliest possible birth date (January 1st)\n",
    "        birth_year = int(birth_date[:4])\n",
    "        birth_date = datetime(year=birth_year, month=1, day=1)\n",
    "        # We'll have to assume that they were at least born in that year,\n",
    "        # so the calculated age will be the maximum possible given the information.\n",
    "        incomplete_date = True\n",
    "    else:\n",
    "        # Convert the birth_date string to a datetime object\n",
    "        birth_date = datetime.strptime(birth_date, \"%Y-%m-%d\")\n",
    "        incomplete_date = False\n",
    "    \n",
    "    # Create a datetime object for December 10th of the award year\n",
    "    award_date = datetime(year=int(award_year), month=12, day=10)\n",
    "    \n",
    "    # Calculate the difference in years\n",
    "    age = award_date.year - birth_date.year\n",
    "    \n",
    "    if not incomplete_date:\n",
    "        # If the award date is before the laureate's birthday in that year, subtract 1 from the age\n",
    "        if (award_date.month, award_date.day) < (birth_date.month, birth_date.day):\n",
    "            age -= 1\n",
    "    \n",
    "    return age"
   ]
  },
  {
   "cell_type": "code",
   "execution_count": 36,
   "metadata": {},
   "outputs": [],
   "source": [
    "data = []\n",
    "\n",
    "for laureate in laureates:\n",
    "    # NAME\n",
    "    name = laureate.get('knownName', {}).get('en', 'Unknown')\n",
    "    # BIRTH DATE\n",
    "    birth_date = laureate.get('birth', {}).get('date')\n",
    "    if not birth_date or birth_date.startswith('0000'):  # Skip entries with missing or invalid birth dates\n",
    "        continue\n",
    "    \n",
    "    prizes = laureate.get('nobelPrizes', [])\n",
    "    if not prizes:  # Skip entries with missing prizes\n",
    "        continue\n",
    "    \n",
    "    # Sort the prizes by year of award\n",
    "    prizes_sorted = sorted(prizes, key=lambda x: int(x['awardYear']))\n",
    "\n",
    "    first_prize = prizes_sorted[0]\n",
    "\n",
    "    # CATEGORY Get the category of the first prize\n",
    "    category = first_prize.get('category', {}).get('en')\n",
    "    if category in ['Literature', 'Peace']:  # Exclude 'Literature' and 'Peace' prizes\n",
    "        continue\n",
    "\n",
    "    award_year = first_prize['awardYear']\n",
    "\n",
    "    # Calculate the age of the laureate at the time of the first prize\n",
    "    if award_year and birth_date:\n",
    "        age_at_award = calculate_nobel_age(birth_date, award_year)\n",
    "\n",
    "    affiliations = first_prize.get('affiliations', [])\n",
    "    if not affiliations:  # Skip entries with missing affiliations\n",
    "        continue\n",
    "\n",
    "    first_affiliation = affiliations[0]\n",
    "\n",
    "    # AFFILIATION\n",
    "    affil_city = first_affiliation.get('cityNow', {})\n",
    "    if not affil_city:  # Skip entries with missing city information\n",
    "        continue\n",
    "\n",
    "    affil_lat = affil_city.get('latitude')\n",
    "    affil_lon = affil_city.get('longitude')\n",
    "    if not affil_lat or not affil_lon:  # Skip entries with missing coordinates\n",
    "        continue\n",
    "\n",
    "\n",
    "    # GENDER\n",
    "    gender = laureate.get('gender', 'Unknown')\n",
    "\n",
    "    # BIRTH PLACE\n",
    "    birth_place = laureate.get('birth', {}).get('place', {})\n",
    "    birth_city = birth_place.get('cityNow', {})\n",
    "    if not birth_city:  # Skip entries with missing birth city information\n",
    "        continue\n",
    "    \n",
    "    birth_lat = birth_city.get('latitude')\n",
    "    birth_lon = birth_city.get('longitude')\n",
    "\n",
    "    if not birth_lat or not birth_lon:\n",
    "        continue\n",
    "\n",
    "    award = {\n",
    "        'category': category,\n",
    "        'data': f\"{award_year}-12-10\",\n",
    "        'lat': float(affil_lat),\n",
    "        'lon': float(affil_lon),\n",
    "        'age': age_at_award\n",
    "    }\n",
    "\n",
    "    birth = {\n",
    "        'date': birth_date,\n",
    "        'lat': float(birth_lat),\n",
    "        'lon': float(birth_lon)\n",
    "    }\n",
    "\n",
    "    data.append({\n",
    "        'name': name,\n",
    "        'gender': gender,\n",
    "        'award': award,\n",
    "        'birth': birth\n",
    "    })\n"
   ]
  },
  {
   "cell_type": "code",
   "execution_count": 37,
   "metadata": {},
   "outputs": [
    {
     "name": "stdout",
     "output_type": "stream",
     "text": [
      "{\n",
      "  \"name\": \"A. Michael Spence\",\n",
      "  \"gender\": \"male\",\n",
      "  \"award\": {\n",
      "    \"category\": \"Economic Sciences\",\n",
      "    \"data\": \"2001-12-10\",\n",
      "    \"lat\": 37.424734,\n",
      "    \"lon\": -122.163858,\n",
      "    \"age\": 58\n",
      "  },\n",
      "  \"birth\": {\n",
      "    \"date\": \"1943-00-00\",\n",
      "    \"lat\": 40.82593,\n",
      "    \"lon\": -74.20903\n",
      "  }\n",
      "}\n"
     ]
    }
   ],
   "source": [
    "print(json.dumps(data[0], indent=2))"
   ]
  },
  {
   "cell_type": "code",
   "execution_count": 38,
   "metadata": {},
   "outputs": [],
   "source": [
    "# Save the data to a JSON file\n",
    "file_path = './data/laureates-data.json'"
   ]
  },
  {
   "cell_type": "code",
   "execution_count": 39,
   "metadata": {},
   "outputs": [],
   "source": [
    "with open(file_path, 'w') as file:\n",
    "    json.dump(data, file)"
   ]
  }
 ],
 "metadata": {
  "kernelspec": {
   "display_name": "python-environment",
   "language": "python",
   "name": "python3"
  },
  "language_info": {
   "codemirror_mode": {
    "name": "ipython",
    "version": 3
   },
   "file_extension": ".py",
   "mimetype": "text/x-python",
   "name": "python",
   "nbconvert_exporter": "python",
   "pygments_lexer": "ipython3",
   "version": "3.12.4"
  }
 },
 "nbformat": 4,
 "nbformat_minor": 2
}
