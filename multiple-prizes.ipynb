{
 "cells": [
  {
   "cell_type": "code",
   "execution_count": 2,
   "metadata": {},
   "outputs": [],
   "source": [
    "import json"
   ]
  },
  {
   "cell_type": "code",
   "execution_count": 3,
   "metadata": {},
   "outputs": [],
   "source": [
    "file_path = \"data/laureates-1000.json\"\n",
    "\n",
    "with open(file_path, 'r') as file:\n",
    "    data = json.load(file)\n",
    "\n",
    "laureates = data['laureates']"
   ]
  },
  {
   "cell_type": "code",
   "execution_count": 4,
   "metadata": {},
   "outputs": [],
   "source": [
    "# Create a list contaning the lenght of the nobelPrizes list for each laureate, if the length is greater than 1\n",
    "nobelPrizes_lengths = [len(laureate['nobelPrizes']) for laureate in laureates if len(laureate['nobelPrizes']) > 1]"
   ]
  },
  {
   "cell_type": "code",
   "execution_count": 8,
   "metadata": {},
   "outputs": [
    {
     "name": "stdout",
     "output_type": "stream",
     "text": [
      "[2, 2, 2, 2, 2, 2, 3]\n"
     ]
    }
   ],
   "source": [
    "# Print a sorted list of the lengths\n",
    "print(sorted(nobelPrizes_lengths))"
   ]
  },
  {
   "cell_type": "code",
   "execution_count": 10,
   "metadata": {},
   "outputs": [],
   "source": [
    "# Filter the laureates list to show only the ones with more than 1 nobelPrize\n",
    "laureates_with_more_than_one_nobelPrize = [laureate for laureate in laureates if len(laureate['nobelPrizes']) > 1]"
   ]
  },
  {
   "cell_type": "code",
   "execution_count": 19,
   "metadata": {},
   "outputs": [
    {
     "name": "stdout",
     "output_type": "stream",
     "text": [
      "Frederick Sanger won 2 Nobel Prizes:\n",
      "1958 Chemistry\n",
      "1980 Chemistry\n",
      "\n",
      "International Committee of the Red Cross won 3 Nobel Prizes:\n",
      "1917 Peace\n",
      "1944 Peace\n",
      "1963 Peace\n",
      "\n",
      "John Bardeen won 2 Nobel Prizes:\n",
      "1956 Physics\n",
      "1972 Physics\n",
      "\n",
      "K. Barry Sharpless won 2 Nobel Prizes:\n",
      "2001 Chemistry\n",
      "2022 Chemistry\n",
      "\n",
      "Linus Pauling won 2 Nobel Prizes:\n",
      "1954 Chemistry\n",
      "1962 Peace\n",
      "\n",
      "Marie Curie won 2 Nobel Prizes:\n",
      "1903 Physics\n",
      "1911 Chemistry\n",
      "\n",
      "Office of the United Nations High Commissioner for Refugees won 2 Nobel Prizes:\n",
      "1954 Peace\n",
      "1981 Peace\n",
      "\n"
     ]
    }
   ],
   "source": [
    "for laureate in laureates_with_more_than_one_nobelPrize:\n",
    "    # Name can be laureate['knownName']['en'] or laureate['orgName']['en']\n",
    "    name = laureate['knownName']['en'] if 'knownName' in laureate else laureate['orgName']['en']\n",
    "    print(f\"{name} won {len(laureate['nobelPrizes'])} Nobel Prizes:\")\n",
    "    for prize in laureate['nobelPrizes']:\n",
    "        print(prize['awardYear'], prize['category']['en'])\n",
    "    print()"
   ]
  },
  {
   "cell_type": "markdown",
   "metadata": {},
   "source": [
    "Five people have won two Nobel Prizes:\n",
    "\n",
    "- Frederick Sanger\n",
    "- John Bardeen\n",
    "- K. Barry Sharpless\n",
    "- Linus Pauling\n",
    "- Marie Curie"
   ]
  },
  {
   "cell_type": "code",
   "execution_count": null,
   "metadata": {},
   "outputs": [],
   "source": []
  }
 ],
 "metadata": {
  "kernelspec": {
   "display_name": "python-environment",
   "language": "python",
   "name": "python3"
  },
  "language_info": {
   "codemirror_mode": {
    "name": "ipython",
    "version": 3
   },
   "file_extension": ".py",
   "mimetype": "text/x-python",
   "name": "python",
   "nbconvert_exporter": "python",
   "pygments_lexer": "ipython3",
   "version": "3.12.4"
  }
 },
 "nbformat": 4,
 "nbformat_minor": 2
}
