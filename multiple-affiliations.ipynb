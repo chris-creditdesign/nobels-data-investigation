{
 "cells": [
  {
   "cell_type": "code",
   "execution_count": 33,
   "metadata": {},
   "outputs": [],
   "source": [
    "import json\n",
    "import pandas as pd"
   ]
  },
  {
   "cell_type": "code",
   "execution_count": 2,
   "metadata": {},
   "outputs": [],
   "source": [
    "file_path = \"data/laureates-1000.json\"\n",
    "\n",
    "with open(file_path, 'r') as file:\n",
    "    data = json.load(file)\n",
    "\n",
    "laureates = data['laureates']"
   ]
  },
  {
   "cell_type": "code",
   "execution_count": 27,
   "metadata": {},
   "outputs": [],
   "source": [
    "number_of_affiliations = sorted([len(laureate.get('nobelPrizes', [])[0].get('affiliations', [])) for laureate in laureates if len(laureate.get('nobelPrizes', [])[0].get('affiliations', [])) > 1], reverse=True)"
   ]
  },
  {
   "cell_type": "code",
   "execution_count": 34,
   "metadata": {},
   "outputs": [
    {
     "data": {
      "text/html": [
       "<div>\n",
       "<style scoped>\n",
       "    .dataframe tbody tr th:only-of-type {\n",
       "        vertical-align: middle;\n",
       "    }\n",
       "\n",
       "    .dataframe tbody tr th {\n",
       "        vertical-align: top;\n",
       "    }\n",
       "\n",
       "    .dataframe thead th {\n",
       "        text-align: right;\n",
       "    }\n",
       "</style>\n",
       "<table border=\"1\" class=\"dataframe\">\n",
       "  <thead>\n",
       "    <tr style=\"text-align: right;\">\n",
       "      <th></th>\n",
       "      <th>number_of_affiliations</th>\n",
       "    </tr>\n",
       "  </thead>\n",
       "  <tbody>\n",
       "    <tr>\n",
       "      <th>0</th>\n",
       "      <td>4</td>\n",
       "    </tr>\n",
       "    <tr>\n",
       "      <th>1</th>\n",
       "      <td>3</td>\n",
       "    </tr>\n",
       "    <tr>\n",
       "      <th>2</th>\n",
       "      <td>2</td>\n",
       "    </tr>\n",
       "    <tr>\n",
       "      <th>3</th>\n",
       "      <td>2</td>\n",
       "    </tr>\n",
       "    <tr>\n",
       "      <th>4</th>\n",
       "      <td>2</td>\n",
       "    </tr>\n",
       "  </tbody>\n",
       "</table>\n",
       "</div>"
      ],
      "text/plain": [
       "   number_of_affiliations\n",
       "0                       4\n",
       "1                       3\n",
       "2                       2\n",
       "3                       2\n",
       "4                       2"
      ]
     },
     "execution_count": 34,
     "metadata": {},
     "output_type": "execute_result"
    }
   ],
   "source": [
    "# Convert the extracted information to a DataFrame\n",
    "df = pd.DataFrame(number_of_affiliations, columns=['number_of_affiliations'])\n",
    "df.head()"
   ]
  },
  {
   "cell_type": "code",
   "execution_count": 37,
   "metadata": {},
   "outputs": [
    {
     "data": {
      "text/plain": [
       "number_of_affiliations\n",
       "2    75\n",
       "4     1\n",
       "3     1\n",
       "Name: count, dtype: int64"
      ]
     },
     "execution_count": 37,
     "metadata": {},
     "output_type": "execute_result"
    }
   ],
   "source": [
    "# Count the number of laureates with a given number of affiliations\n",
    "df['number_of_affiliations'].value_counts()"
   ]
  },
  {
   "cell_type": "code",
   "execution_count": 32,
   "metadata": {},
   "outputs": [
    {
     "data": {
      "text/plain": [
       "{2: 75, 3: 1, 4: 1}"
      ]
     },
     "execution_count": 32,
     "metadata": {},
     "output_type": "execute_result"
    }
   ],
   "source": [
    "affiliation_count"
   ]
  },
  {
   "cell_type": "code",
   "execution_count": 38,
   "metadata": {},
   "outputs": [],
   "source": [
    "# From the laureats list, extract the entries with the most affiliations\n",
    "most_affiliations = sorted(laureates, key=lambda x: len(x.get('nobelPrizes', [{}])[0].get('affiliations', [])), reverse=True)"
   ]
  },
  {
   "cell_type": "code",
   "execution_count": 50,
   "metadata": {},
   "outputs": [
    {
     "name": "stdout",
     "output_type": "stream",
     "text": [
      "William G. Kaelin Jr\n",
      "['Harvard Medical School', 'Howard Hughes Medical Institute', 'Dana-Farber Cancer Institute', \"Brigham and Women's Hospital\"]\n"
     ]
    }
   ],
   "source": [
    "print(most_affiliations[0].get('fullName', {}).get('en', ''))\n",
    "print([affiliaton.get('name', {}).get('en', '') for affiliaton in most_affiliations[0].get('nobelPrizes', [{}])[0].get('affiliations', [])])"
   ]
  },
  {
   "cell_type": "code",
   "execution_count": 51,
   "metadata": {},
   "outputs": [
    {
     "name": "stdout",
     "output_type": "stream",
     "text": [
      "Jack W. Szostak\n",
      "['Harvard Medical School', 'Massachusetts General Hospital', 'Howard Hughes Medical Institute']\n"
     ]
    }
   ],
   "source": [
    "print(most_affiliations[1].get('fullName', {}).get('en', ''))\n",
    "print([affiliaton.get('name', {}).get('en', '') for affiliaton in most_affiliations[1].get('nobelPrizes', [{}])[0].get('affiliations', [])])"
   ]
  },
  {
   "cell_type": "code",
   "execution_count": 52,
   "metadata": {},
   "outputs": [
    {
     "name": "stdout",
     "output_type": "stream",
     "text": [
      "Abdus Salam\n",
      "['International Centre for Theoretical Physics', 'Imperial College']\n"
     ]
    }
   ],
   "source": [
    "print(most_affiliations[2].get('fullName', {}).get('en', ''))\n",
    "print([affiliaton.get('name', {}).get('en', '') for affiliaton in most_affiliations[2].get('nobelPrizes', [{}])[0].get('affiliations', [])])"
   ]
  },
  {
   "cell_type": "code",
   "execution_count": 53,
   "metadata": {},
   "outputs": [
    {
     "name": "stdout",
     "output_type": "stream",
     "text": [
      "Adam G. Riess\n",
      "['Johns Hopkins University', 'Space Telescope Science Institute']\n"
     ]
    }
   ],
   "source": [
    "print(most_affiliations[3].get('fullName', {}).get('en', ''))\n",
    "print([affiliaton.get('name', {}).get('en', '') for affiliaton in most_affiliations[3].get('nobelPrizes', [{}])[0].get('affiliations', [])])"
   ]
  },
  {
   "cell_type": "code",
   "execution_count": null,
   "metadata": {},
   "outputs": [],
   "source": []
  }
 ],
 "metadata": {
  "kernelspec": {
   "display_name": "python-environment",
   "language": "python",
   "name": "python3"
  },
  "language_info": {
   "codemirror_mode": {
    "name": "ipython",
    "version": 3
   },
   "file_extension": ".py",
   "mimetype": "text/x-python",
   "name": "python",
   "nbconvert_exporter": "python",
   "pygments_lexer": "ipython3",
   "version": "3.12.4"
  }
 },
 "nbformat": 4,
 "nbformat_minor": 2
}
